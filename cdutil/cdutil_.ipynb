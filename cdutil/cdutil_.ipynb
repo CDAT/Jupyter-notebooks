{
 "cells": [
  {
   "cell_type": "markdown",
   "metadata": {},
   "source": [
    "# UV CDAT Utilities Manual - Chapter 1 Climate Data Specific Utilities: The cdutil Package\n",
    "\n",
    "\n",
    "\n",
    "The CDAT software was developed by LLNL. This tutorial was written by Charles Doutriaux. This work was performed under the auspices of the U.S. Department of Energy by Lawrence Livermore National Laboratory under Contract DE-AC52-07NA27344.\n",
    "\n",
    "\n",
    "[Download the Jupyter Notebook](uv-cdat_chapter1.ipynb)"
   ]
  },
  {
   "cell_type": "markdown",
   "metadata": {
    "toc": true
   },
   "source": [
    "<h1>Table of Contents<span class=\"tocSkip\"></span></h1>\n",
    "<div class=\"toc\"><ul class=\"toc-item\"><li><span><a href=\"#Overview\" data-toc-modified-id=\"Overview-1\">Overview</a></span></li><li><span><a href=\"#Spatial-Averaging,-Area-weighting,-domain-definition\" data-toc-modified-id=\"Spatial-Averaging,-Area-weighting,-domain-definition-2\">Spatial Averaging, Area weighting, domain definition</a></span><ul class=\"toc-item\"><li><span><a href=\"#Spatial-averaging-using-the-averager-function\" data-toc-modified-id=\"Spatial-averaging-using-the-averager-function-2.1\">Spatial averaging using the averager function</a></span><ul class=\"toc-item\"><li><span><a href=\"#axisoptions\" data-toc-modified-id=\"axisoptions-2.1.1\">axisoptions</a></span></li><li><span><a href=\"#weightoptions\" data-toc-modified-id=\"weightoptions-2.1.2\">weightoptions</a></span></li><li><span><a href=\"#actionoptions\" data-toc-modified-id=\"actionoptions-2.1.3\">actionoptions</a></span></li><li><span><a href=\"#returnedoptions\" data-toc-modified-id=\"returnedoptions-2.1.4\">returnedoptions</a></span></li><li><span><a href=\"#combinewtsoption\" data-toc-modified-id=\"combinewtsoption-2.1.5\">combinewtsoption</a></span></li><li><span><a href=\"#Examples:\" data-toc-modified-id=\"Examples:-2.1.6\">Examples:</a></span></li></ul></li><li><span><a href=\"#Computing-Weights-using-area-weights.\" data-toc-modified-id=\"Computing-Weights-using-area-weights.-2.2\">Computing Weights using area weights.</a></span></li><li><span><a href=\"#Defining-precise-domains:\" data-toc-modified-id=\"Defining-precise-domains:-2.3\">Defining precise domains:</a></span></li></ul></li><li><span><a href=\"#Temporal-Averaging\" data-toc-modified-id=\"Temporal-Averaging-3\">Temporal Averaging</a></span><ul class=\"toc-item\"><li><span><a href=\"#Predefined-time-averaging-functions\" data-toc-modified-id=\"Predefined-time-averaging-functions-3.1\">Predefined time averaging functions</a></span></li><li><span><a href=\"#Creating-Custom-Seasons\" data-toc-modified-id=\"Creating-Custom-Seasons-3.2\">Creating Custom Seasons</a></span></li><li><span><a href=\"#Specifying-time-periods-for-climatologies.\" data-toc-modified-id=\"Specifying-time-periods-for-climatologies.-3.3\">Specifying time periods for climatologies.</a></span></li><li><span><a href=\"#Specifying-Data-Coverage-Criteria\" data-toc-modified-id=\"Specifying-Data-Coverage-Criteria-3.4\">Specifying Data Coverage Criteria</a></span></li></ul></li><li><span><a href=\"#Preparing-Datasets-for-Comparison-(VariableConditioner-and-VariablesMatcher)\" data-toc-modified-id=\"Preparing-Datasets-for-Comparison-(VariableConditioner-and-VariablesMatcher)-4\">Preparing Datasets for Comparison (VariableConditioner and VariablesMatcher)</a></span><ul class=\"toc-item\"><li><span><a href=\"#Introduction\" data-toc-modified-id=\"Introduction-4.1\">Introduction</a></span></li><li><span><a href=\"#Description-of-supporting-objects.\" data-toc-modified-id=\"Description-of-supporting-objects.-4.2\">Description of supporting objects.</a></span><ul class=\"toc-item\"><li><span><a href=\"#WeightsMaker-Object\" data-toc-modified-id=\"WeightsMaker-Object-4.2.1\">WeightsMaker Object</a></span></li><li><span><a href=\"#Definition\" data-toc-modified-id=\"Definition-4.2.2\">Definition</a></span></li><li><span><a href=\"#WeightedGridMaker-Object\" data-toc-modified-id=\"WeightedGridMaker-Object-4.2.3\">WeightedGridMaker Object</a></span></li><li><span><a href=\"#VariableConditioner-Object\" data-toc-modified-id=\"VariableConditioner-Object-4.2.4\">VariableConditioner Object</a></span></li><li><span><a href=\"#VariablesMatcher-Object\" data-toc-modified-id=\"VariablesMatcher-Object-4.2.5\">VariablesMatcher Object</a></span></li></ul></li><li><span><a href=\"#Examples\" data-toc-modified-id=\"Examples-4.3\">Examples</a></span><ul class=\"toc-item\"><li><span><a href=\"#A-Simple-Example\" data-toc-modified-id=\"A-Simple-Example-4.3.1\">A Simple Example</a></span></li><li><span><a href=\"#A-More-Complicated-Example\" data-toc-modified-id=\"A-More-Complicated-Example-4.3.2\">A More Complicated Example</a></span></li><li><span><a href=\"#A-Very-Complicated-Example\" data-toc-modified-id=\"A-Very-Complicated-Example-4.3.3\">A Very Complicated Example</a></span></li></ul></li></ul></li></ul></div>"
   ]
  },
  {
   "cell_type": "markdown",
   "metadata": {},
   "source": [
    "# Introduction \n",
    "\n",
    "## Overview\n",
    "[Back to Top](#top)"
   ]
  },
  {
   "cell_type": "markdown",
   "metadata": {},
   "source": [
    "## Spatial Averaging, Area weighting, domain definition"
   ]
  },
  {
   "cell_type": "markdown",
   "metadata": {},
   "source": [
    "### Spatial averaging using the averager function\n",
    "\n",
    "Area averaging is one of the most common data reduction procedures used in climate data analysis. The cdutil \n",
    "package has a powerful area averaging function. The averager() function provides a convenient way of averaging\n",
    "your data giving you control over the order of operations (i.e which dimensions are averaged over first) and \n",
    "also the weighting for the different axes. You can pass your own array of weights for each dimension or use\n",
    "the default (grid) weights or specify equal weighting.\n",
    "\n",
    "[Back to Top](#top)"
   ]
  },
  {
   "cell_type": "markdown",
   "metadata": {},
   "source": [
    "Usage:"
   ]
  },
  {
   "cell_type": "markdown",
   "metadata": {
    "scrolled": true
   },
   "source": [
    "result = averager ( V, axis= axisoptions , weights= weightoptions , action= actionoptions , returned= returnedoptions , combinewts=combinewtsoptions )"
   ]
  },
  {
   "cell_type": "markdown",
   "metadata": {},
   "source": []
  },
  {
   "cell_type": "markdown",
   "metadata": {},
   "source": [
    "#### axisoptions\n",
    "[Back to Top](#top)\n",
    "\n",
    "    Default: 0 (the first dimension in the data you pass to the function).\n",
    "        Restrictions: axisoptions has to be a string. You can pass axis='tyx', or '123', or 'x (plev)' etc. the same\n",
    "        way as in order= options for variable operations EXCEPT that '...' (i.e Ellipses) are not allowed. If V is an\n",
    "        array of type Numeric or MA, the axisoptions can only be of the form '123'."
   ]
  },
  {
   "cell_type": "markdown",
   "metadata": {},
   "source": [
    "#### weightoptions\n",
    "[Back to Top](#top)\n",
    "\n",
    "'generate' | 'weighted' | 'equal' | 'unweighted' | array | Masked Variable\n",
    "\n",
    "    Default:\n",
    "\n",
    "    'weighted' for Transient Variables (MVs)\n",
    "    'unweighted' for MA or Numeric arrays.\n",
    "\n",
    "Note that depending on the array being operated on by averager, the default weights change!\n",
    "'weighted' or 'generate' means the averaging uses the grid information to generate weights for that dimension.\n",
    "'equal' or 'unweighted' means use equal weights for all the grid points in that axis.\n",
    "array is an array of weights (of the same shape as the dimension being averaged over or same shape as V) can be passed.\n",
    "\n",
    "Masked Variable means an MV of the same shape as V can be passed.\n",
    "\n",
    "Additional Notes:\n",
    "\n",
    "    'generate' or 'weighted':\n",
    "        The weights are generated using the bounds for the specified axis. For latitude and longitude, the weights \n",
    "        are calculated using the area (see the cdms manual grid.getWeights() for more details) whereas for the other\n",
    "        weights are the difference between the bounds (when the bounds are available). If the bounds are stored in\n",
    "        the file being read in, then those values are used. Otherwise, bounds are generated as long as\n",
    "        cdms.setAutoBounds ('on') is set. If cdms.setAutoBounds() is set to 'off', then an Error is raised."
   ]
  },
  {
   "cell_type": "markdown",
   "metadata": {},
   "source": [
    "#### actionoptions\n",
    "[Back to Top](#top)\n",
    "\n",
    "'average' | 'sum'\n",
    "\n",
    "    Default: 'average'\n",
    "\n",
    "    You can either return the weighted average or the weighted sum of the data."
   ]
  },
  {
   "cell_type": "markdown",
   "metadata": {},
   "source": [
    "#### returnedoptions\n",
    "[Back to Top](#top)\n",
    "\n",
    "0 | 1\n",
    "\n",
    "    Default: 0\n",
    "\n",
    "    0 implies that the sum of weights are not returned after averaging operation).\n",
    "\n",
    "    1 implies that the sum of weights after the average operation is returned.\n"
   ]
  },
  {
   "cell_type": "markdown",
   "metadata": {},
   "source": [
    "#### combinewtsoption\n",
    "[Back to Top](#top)\n",
    "\n",
    "0 | 1\n",
    "\n",
    "    Default: 0\n",
    "\n",
    "    0 implies weights passed for individual axes are not combined into one weight array for the full variable V before\n",
    "    performing operation.\n",
    "\n",
    "    1 implies weights passed for individual axes are combined into one weight array for the full variable before\n",
    "    performing average or sum operations. One- dimensional weight arrays or key words of ‘weighted’ or ‘unweighted’ \n",
    "    must be passed for the axes over which the operation is to be performed.\n",
    "\n",
    "    Additionally, weights for axes that are not being averaged or summed may also bepassed in the order in which they\n",
    "    appear. If the weights for the other axes are not passed, they are assumed to be equally weighted."
   ]
  },
  {
   "cell_type": "markdown",
   "metadata": {},
   "source": [
    "#### Examples:\n",
    "\n",
    "[Back to Top](#top)"
   ]
  },
  {
   "cell_type": "code",
   "execution_count": null,
   "metadata": {},
   "outputs": [],
   "source": [
    ">>> import cdms, cdutil\n",
    ">>> f = cdms.open('data_file_name')\n",
    ">>> result = cdutil.averager(f('var_name'), axis='1')\n",
    "# extracts the variable 'var_name' from f\n",
    "# and averages over the dimension whose position is 1.\n",
    "# Since no other options are specified,\n",
    "# defaults kick in i.e weights='generate' (same as\n",
    "# weights='weighted') and returned=0\n",
    "# Some ways of using the averager are shown below.\n",
    "#\n",
    "# A quick zonal mean calculation would be:\n",
    ">>> V_zonal_ave = cdutil.averager(V, axis='x')\n",
    "# In the above case, default weights option of\n",
    "# 'generate' (or 'weighted') is implemented\n",
    "#\n",
    "# If you want to average first over the x (longitude)\n",
    "# dimension with area weighting and then over\n",
    "# y (latitude) with equal weighting, then you would:\n",
    ">>> Vavg = cdutil.averager(V, axis='xy', \\ weights=['generate','equal'])\n",
    "# Similarly for equally weighted time averaging:\n",
    ">>> cdutil.averager(V, axis='t', weights='equal')\n",
    "#\n",
    ">>> cdutil.averager(V, axis='x', weights=mywts)\n",
    "# where mywts is an array of shape (len(xaxis))\n",
    "# or shape(V)\n",
    "#\n",
    ">>> cdutil.averager(V, axis='(lon)y', weights=[myxwts, myywts])\n",
    "# where myxwts is of shape len(xaxis) and\n",
    "# myywts is of shape len(yaxis)\n",
    "#\n",
    ">>> cdutil.averager(V, axis='xy', weights=V_wts)\n",
    "# where V_wts is a Masked Variable of shape V\n",
    "# or\n",
    ">>> cdutil.averager(V, axis='x', weights='equal', action='sum')\n",
    "# will return the equally weighted sum\n",
    "# over the x dimension or\n",
    ">>> ywt = cdutil.area_weights(y)\n",
    ">>> fractional_area= cdutil.averager(ywt, axis='xy',\\\n",
    "weights=['equal','equal'],\\\n",
    "action='sum')\n",
    "# is a good way to compute the area fraction that the\n",
    "# data y that is non-missing"
   ]
  },
  {
   "cell_type": "markdown",
   "metadata": {},
   "source": [
    "Note: When averaging data with missing values, extra care needs to be taken. It is recommended that you use the default weights='generate' option. This uses cdutil.area_weights(V) to get the correct weights to pass to the averager."
   ]
  },
  {
   "cell_type": "code",
   "execution_count": null,
   "metadata": {},
   "outputs": [],
   "source": [
    ">>> cdutil.averager(V, axis='xy', weight='generate')\n",
    "# The above is equivalent to:\n",
    ">>> V_wts = cdutil.area_weights(V)\n",
    ">>> result = cdutil.averager(V, axis='xy', weight=V_wts)\n",
    "#\n",
    ">>> result = cdutil.averager(V, axis='xy', weight=cdutil.area_weights(V))"
   ]
  },
  {
   "cell_type": "markdown",
   "metadata": {},
   "source": [
    "However, the area_weights function requires that the axis bounds are stored or can be calculated. In the case that such weights are not stored with the axis specifications (or the user desires to specify weights from another source), the use of combinewts option can produce the same results. In short, the following two are equivalent:"
   ]
  },
  {
   "cell_type": "code",
   "execution_count": null,
   "metadata": {},
   "outputs": [],
   "source": [
    ">>> xavg_1 = averager(X, axis = 'xy', weights = area_weights(X))\n",
    ">>> xavg_2 = averager(X, axis = 'xy', weights = ['weighted', 'weighted', 'weighted'], combinewts=1)"
   ]
  },
  {
   "cell_type": "markdown",
   "metadata": {},
   "source": [
    "Where X is a function of x, y and a third dimension such as time or level. In general, where the 'weighted' keyword appears above, it can be substituted with arrays of weights.\n",
    "\n",
    "The following example will help you see the averager() function in context"
   ]
  },
  {
   "cell_type": "code",
   "execution_count": null,
   "metadata": {},
   "outputs": [],
   "source": [
    ">>> import cdms, cdutil\n",
    ">>> f = cdms.open('file_name')\n",
    "# Extract the variable over the required domain\n",
    ">>> t_nino3 = f('t', latitude=(-5.,5.),\\ longitude=(210.,270.))\n",
    "# Average first over the longitude axis\n",
    "# (denoted by 'x') and then the latitude axis\n",
    "# (denoted by 'y')\n",
    ">>> nino3_avg = cdutil.averager(t_nino3, axis='xy')"
   ]
  },
  {
   "cell_type": "markdown",
   "metadata": {},
   "source": [
    "Axis options can also be specified by name such as axis = '(depth)' or by index such as axis = '20' (note the numbers are enclosed in quotes). By default, the appropriate area weights are generated from the grid information and the result of the averaging is the area weighted value. More control over the weights used is available. It is possible to specify the weights used to average over the longitude and latitude axes seperately."
   ]
  },
  {
   "cell_type": "code",
   "execution_count": null,
   "metadata": {},
   "outputs": [],
   "source": [
    ">>> nino3avg2 = cdutil.averager(t_nino3,\n",
    "axis='yx',weights=['generate','equal'])"
   ]
  },
  {
   "cell_type": "markdown",
   "metadata": {},
   "source": [
    "In the above example, we averaged over the latitude axis first (using generated weights) and then over the longitude axis (using equal weights). The weights can be equal or generate (generates the weights for the grid information contained in the variable) or any array of numbers the user wishes to apply."
   ]
  },
  {
   "cell_type": "markdown",
   "metadata": {},
   "source": [
    "### Computing Weights using area weights.\n",
    "\n",
    "[Back to Top](#top)"
   ]
  },
  {
   "cell_type": "markdown",
   "metadata": {},
   "source": [
    "For most averaging applications, the weights used are critical especially when there are missing data. The cdutil package provides a way of generating the weights using grid information that is tied to the variable. The averager function uses this to generate the weights when the default averaging weights option kicks in. This function is easily called for some variable x in memory:"
   ]
  },
  {
   "cell_type": "code",
   "execution_count": null,
   "metadata": {},
   "outputs": [],
   "source": [
    ">>> gen_weights = cdutil.area_weights(x)"
   ]
  },
  {
   "cell_type": "markdown",
   "metadata": {},
   "source": [
    "The resultant gen_weights is in the same shape as the variable x and has the appropriate area weights set to missing values where data was missing in x."
   ]
  },
  {
   "cell_type": "markdown",
   "metadata": {},
   "source": [
    "### Defining precise domains:\n",
    "\n",
    "[Back to Top](#top)"
   ]
  },
  {
   "cell_type": "markdown",
   "metadata": {},
   "source": [
    "For many applications data extraction needs to be precise and the ability to define the precise regions to extract is one of the strengths of UV-CDAT. This is provided by the cdutil region selector for rectilinear grids (non-rectilinear grid support will be available in a future release). The general form of this region definition is illustrated best by the following example:"
   ]
  },
  {
   "cell_type": "code",
   "execution_count": null,
   "metadata": {},
   "outputs": [],
   "source": [
    ">>> import cdutil\n",
    "#Using cdutil.region.domain to specify the NINO3 region\n",
    ">>> NINO3 = cdutil.region.domain(latitude=(-5.,5.),\\ longitude=(210.,270.)))"
   ]
  },
  {
   "cell_type": "code",
   "execution_count": null,
   "metadata": {},
   "outputs": [],
   "source": [
    "The above definition of NINO3 then allows the user to extract the data so:"
   ]
  },
  {
   "cell_type": "code",
   "execution_count": null,
   "metadata": {},
   "outputs": [],
   "source": [
    ">>> import cdms\n",
    ">>> f = cdms.open('t_file.nc')\n",
    ">>> t_nino3_exact = f('t', NINO3)"
   ]
  },
  {
   "cell_type": "markdown",
   "metadata": {},
   "source": [
    "The data extracted above will have the bounds and weights of the region extracted precisely. Some commonly used domains have been pre-defined for convenience. They are:\n",
    "\n",
    "    NH | NorthernHemisphere\n",
    "    SH | SouthernHemisphere\n",
    "    Tropics : latitude extends from -23.4 to 23.4\n",
    "    NPZ | AZ | ArcticZone : latitude extends from 66.6N to 90.0N\n",
    "    SPZ | AAZ | AntarcticZone : latitude extends from 90.0S to 66.6S\n"
   ]
  },
  {
   "cell_type": "markdown",
   "metadata": {},
   "source": [
    "## Temporal Averaging\n",
    "\n",
    "[Back to Top](#top)"
   ]
  },
  {
   "cell_type": "markdown",
   "metadata": {},
   "source": [
    "### Predefined time averaging functions\n",
    "\n",
    "[Back to Top](#top)"
   ]
  },
  {
   "cell_type": "markdown",
   "metadata": {},
   "source": [
    "Averaging over time is a special problem in climate data analysis. The cdutil package pays special attention to this issue to make the extraction of time averages and climatologies simple. Apart from functions that enable easy computation of annual, seasonal and monthly averages and climatologies, one can also define seasons other than those already available and specify criteria for data availability and temporal distribution to suit individual needs."
   ]
  },
  {
   "cell_type": "markdown",
   "metadata": {},
   "source": [
    "Note: It is essential that the data have an appropriate axis designated as the “time” axis. In addition to this, the results depend on the time axis having correctly set bounds. If bounds are not stored with the data in files, default bounds are generated by the data extraction steps in cdms. However, they are not always correct. The user must take care to verify that the bounds are set correctly. Since the default time bounds set by cdms puts the time point in the middle of the month, (for example time axis values of 0, 1,…. would put the bounds at [-0.5, 0.5], [0.5, 1.5]…. etc.), the user can make use of the setTimeBoundsMonthly function. To use this method to set the bounds for monthly data:"
   ]
  },
  {
   "cell_type": "code",
   "execution_count": null,
   "metadata": {},
   "outputs": [],
   "source": [
    ">>> import cdutil, cdms\n",
    ">>> f = cdms.open('some_monthly_data.nc')\n",
    ">>> x = f('var')\n",
    ">>> cdutil.setTimeBoundsMonthly(x)\n",
    "# The default action of the setTimeBoundsMonthly function assumes that the\n",
    "time point is at the beginning of the month. To compute bounds assuming that\n",
    "the time point at the end of the month,\n",
    ">>> cdutil.setTimeBoundsMonthly(x, 1)"
   ]
  },
  {
   "cell_type": "markdown",
   "metadata": {},
   "source": [
    "The predefined time averaging periods are:\n",
    "\n",
    "    JAN, FEB, MAR, …., DEC (months)\n",
    "    DJF, MAM, JJA, SON (seasons)\n",
    "    YEAR (annual means)\n",
    "    ANNUALCYCLE (monthly means for each month of the year)\n",
    "    SEASONNALCYCLE (means for the 4 predefined seasons)\n",
    "\n",
    "Some simple examples of time averaging operations are shown here."
   ]
  },
  {
   "cell_type": "code",
   "execution_count": null,
   "metadata": {},
   "outputs": [],
   "source": [
    ">>> import cdutil\n",
    "# The individual DJF (December-January-February)\n",
    "# seasons are extracted using\n",
    ">>> djfs = cdutil.DJF(x)\n",
    "# To compute the DJF climatology of a variable x\n",
    ">>> djfclim = cdutil.DJF.climatology(x)\n",
    "# To extract DJF seasonal anomalies (from climatology)\n",
    ">>> djf_anom = cdutil.DJF.departures(x)\n",
    "# The monthly anomalies for x are computed by:\n",
    ">>> x_anom = cdutil.ANNUALCYCLE.departures(x)"
   ]
  },
  {
   "cell_type": "markdown",
   "metadata": {},
   "source": [
    "### Creating Custom Seasons\n",
    "\n",
    "[Back to Top](#top)\n",
    "\n",
    "You can even create your own “custom seasons” beyond the pre-defined seasons listed above. For example:"
   ]
  },
  {
   "cell_type": "code",
   "execution_count": null,
   "metadata": {},
   "outputs": [],
   "source": [
    ">>> JJAS = cdutil.times.Seasons('JJAS')"
   ]
  },
  {
   "cell_type": "markdown",
   "metadata": {},
   "source": [
    "### Specifying time periods for climatologies.\n",
    "[Back to Top](#top)\n",
    "\n",
    "So far we have seen the way to compute the means, climatologies, and anomalies for the entire length of the time-series. The typical application may require specified time intervals over which climatologies are computed and used in calculating departures. For example, to compute the DJF climatology for the time period 1979-1988 we would do the following:\n",
    "\n"
   ]
  },
  {
   "cell_type": "code",
   "execution_count": null,
   "metadata": {},
   "outputs": [],
   "source": [
    ">>> import cdtime\n",
    ">>> start_time = cdtime.comptime(1979)\n",
    ">>> print 'start_time = ', start_time\n",
    ">>> end_time = cdtime.comptime(1989)\n",
    ">>> print 'end_time = ', end_time"
   ]
  },
  {
   "cell_type": "markdown",
   "metadata": {},
   "source": [
    "Note that we created the time point end_time at the begining of 1989 so we can select all the time between start_time and end_time but not including end_time by specifying the option co - shorthand for closed at start_time and open at end_time. More options and details about them can be found in the Climate Data Management System Manual."
   ]
  },
  {
   "cell_type": "code",
   "execution_count": null,
   "metadata": {},
   "outputs": [],
   "source": [
    ">>> djfclim = cdutil.DJF.climatology(x(time= \\ (start_time, end_time, 'co')))"
   ]
  },
  {
   "cell_type": "markdown",
   "metadata": {},
   "source": [
    "Now that we have our climatology over the desired period we can to compute anomalies over the full period relative to that climatology.\n",
    "\n"
   ]
  },
  {
   "cell_type": "code",
   "execution_count": null,
   "metadata": {},
   "outputs": [],
   "source": [
    ">>> djfdep2 = cdutil.DJF.departures(s, ref=djfclim)"
   ]
  },
  {
   "cell_type": "markdown",
   "metadata": {},
   "source": [
    "### Specifying Data Coverage Criteria\n",
    "\n",
    "[Back to Top](#top)\n",
    "\n",
    "The real power of these functions is in the ability to specify minimum data coverage and to also be able to specify the distribution (both in the temporal sense) which are required for the averages to be computed. The default behaviour of the functions that compute seasonal averages, climatologies, etc. is to require that a minimum of 50% of the data be present. Now let’s say you like to extract DJF but without restricting it to 50% of the data being present. You would do:"
   ]
  },
  {
   "cell_type": "code",
   "execution_count": null,
   "metadata": {},
   "outputs": [],
   "source": [
    ">>> djfs = cdutil.DJF(avg, criteriaarg=[0., None])"
   ]
  },
  {
   "cell_type": "markdown",
   "metadata": {},
   "source": [
    "The above statement comutes the DJF average with criteriaarg (passed as a list) which has 2 arguments.\n",
    "\n",
    "    The first argument represents the minimum fraction of time that is required to compute the seasonal mean. So you can pass a fractional value between 0.0 and 1.0 (including both extremes) or even a representation such as 3.0/4.0 (in case you need at least 3 out of 4 months of data in the case of the average JJAS we defined previously).\n",
    "    The second argument in the criteriaarg is None. This implies no “centroid function” is used. In other cases, this argument represents the maximum value of the “centroid function”. A value between 0 and 1 represents the spread of values across the mean time. The centroid value of 0.0 represents a full even distribution of data across the time interval. For example, if you are considering the DJF average, then if data is available for Dec, Jan and Feb months then the centroid is 0.0. On the other hand, the following criteria will “mask” (ignore) a DJF season if there is only a December month with data (and therefore has a centroid value of 1.0). Therefore any seasons resulting in centroid values above 0.5 will result in missing values!\n"
   ]
  },
  {
   "cell_type": "code",
   "execution_count": null,
   "metadata": {},
   "outputs": [],
   "source": [
    ">>> djfs = cdutil.DJF(avg, criteriaarg = [0., .5])"
   ]
  },
  {
   "cell_type": "markdown",
   "metadata": {},
   "source": [
    "n the case of computing an annual mean, having data only in Jan and Dec months leads to a centroid value of 0 for the regular centroid, and the resulting annual mean for the year is biased toward the winter. In this situation, you should use a cyclical centroid where the circular nature of the year is recognised and the centroid is calculated accordingly. Here are some examples of typical usage:"
   ]
  },
  {
   "cell_type": "markdown",
   "metadata": {},
   "source": [
    "1. Default behaviour i.e criteriaarg=[0.5, None]"
   ]
  },
  {
   "cell_type": "code",
   "execution_count": null,
   "metadata": {},
   "outputs": [],
   "source": [
    " >>> annavg_1 = cdutil.YEAR(s_glavg)"
   ]
  },
  {
   "cell_type": "markdown",
   "metadata": {},
   "source": [
    "2. Criteria to say compute annual average for any number of months."
   ]
  },
  {
   "cell_type": "code",
   "execution_count": null,
   "metadata": {},
   "outputs": [],
   "source": [
    ">>> annavg_2 = cdutil.YEAR(s_glavg, criteriaarg = [0.,None])"
   ]
  },
  {
   "cell_type": "markdown",
   "metadata": {},
   "source": [
    "3. Criteria for computing annual average based on the minimum number of months (8 out of 12)."
   ]
  },
  {
   "cell_type": "code",
   "execution_count": null,
   "metadata": {},
   "outputs": [],
   "source": [
    ">>> annavg_3 = cdutil.YEAR(s_glavg, \\ criteriaarg = [8./12., None])"
   ]
  },
  {
   "cell_type": "markdown",
   "metadata": {},
   "source": [
    "4. Same criteria as in 3, but we account for the fact that a year is cyclical i.e Dec and Jan are adjacent months. So the centroid is computed over a circle where Dec and Jan are contiguous."
   ]
  },
  {
   "cell_type": "code",
   "execution_count": null,
   "metadata": {},
   "outputs": [],
   "source": [
    " >>> annavg_4 = cdutil.YEAR(s_glavg, \\ criteriaarg = [8./12., 0.1, 'cyclical'])"
   ]
  },
  {
   "cell_type": "markdown",
   "metadata": {},
   "source": [
    "So far we have the annual means calculated using various criteria. Now if we wish to compute the climatological annual mean, we can average the individual annual means. However, we can apply more criteria to the calculation of that annual mean climatology. Here we simply require 60% of the years to be present, and a criteria on the temporal distribution (i.e the centroid = 0.7) to make sure all of the annual means are not clustered at the end of the record."
   ]
  },
  {
   "cell_type": "code",
   "execution_count": null,
   "metadata": {},
   "outputs": [],
   "source": [
    ">>> annavg_clim = cdutil.YEAR.average(annavg_4,\\ criteriaarg =[.6,.7])"
   ]
  },
  {
   "cell_type": "markdown",
   "metadata": {},
   "source": [
    "The tutorial file times_tutorial.py has detailed examples of time averaging in action. Further documentation is available on the UV-CDAT home page."
   ]
  },
  {
   "cell_type": "markdown",
   "metadata": {},
   "source": [
    "## Preparing Datasets for Comparison (VariableConditioner and VariablesMatcher)\n",
    "\n",
    "[Back to Top](#top)"
   ]
  },
  {
   "cell_type": "markdown",
   "metadata": {},
   "source": [
    "### Introduction\n",
    "\n",
    "[Back to Top](#top)"
   ]
  },
  {
   "cell_type": "markdown",
   "metadata": {},
   "source": [
    "The VariablesMatcher is defined to facilitate comparisons of two different variables by preprocessing them and ensuring that they are expressed in the same units and are placed on a common grid. Preprocessing includes selection of the spatial domain and time-period and provides for various masking and regridding options. We first describe the supporting objects because they may be needed by VariablesMatcher."
   ]
  },
  {
   "cell_type": "markdown",
   "metadata": {},
   "source": [
    "### Description of supporting objects.\n",
    "\n",
    "[Back to Top](#top)"
   ]
  },
  {
   "cell_type": "markdown",
   "metadata": {},
   "source": [
    "The VariablesMatcher relies on three different kinds of supporting objects: the VariableConditioner, the WeightedGridMaker, and the WeightsMaker. The VariableConditioner can modify a field in various ways (applying masks, mapping it to a new grid, applying scale factors, and adding a constant to it—useful in transforming the units). The WeightsMaker defines a mask, and the WeightedGridMaker defines a grid (and possibly associates a WeightsMaker object with it). The WeightsMaker object will be described first, because it may be needed by the other two. The WeightedGridMaker will be described next because it may be needed by the VariableConditioner."
   ]
  },
  {
   "cell_type": "markdown",
   "metadata": {},
   "source": [
    "#### WeightsMaker Object\n",
    "\n",
    "[Back to Top](#top)"
   ]
  },
  {
   "cell_type": "markdown",
   "metadata": {},
   "source": [
    "#### Definition\n",
    "\n",
    "[Back to Top](#top)"
   ]
  },
  {
   "cell_type": "markdown",
   "metadata": {},
   "source": [
    "The WeightsMaker generates a transient variable containing fractions (between 0 and 1), with the value 0 identifying which cells should be excluded from consideration (i.e., masked out). In calculating the mean value of a variable, these fractions are typically used to “weight” grid cells (in addition to possibly weighting by the area of the grid cell). In the simplest case, only 0’s and 1’s will be generated, indicating which cells will be masked or not."
   ]
  },
  {
   "cell_type": "markdown",
   "metadata": {},
   "source": [
    "The WeightsMaker is constructed as follows:"
   ]
  },
  {
   "cell_type": "code",
   "execution_count": null,
   "metadata": {},
   "outputs": [],
   "source": [
    "MM = cdutil.WeightsMaker( source=sourceoptions, var=varoptions,\n",
    "                          actions=actionsoption, values=valuesoption,\n",
    "                          combiningActions=combiningActionsoption)"
   ]
  },
  {
   "cell_type": "markdown",
   "metadata": {},
   "source": [
    "Options:"
   ]
  },
  {
   "cell_type": "markdown",
   "metadata": {},
   "source": [
    "    sourceoptions\n",
    "        Default is None. This is either a file name or a transient variable.\n",
    "\n",
    "    varoptions\n",
    "        Default is None. This is the name of the variable that is needed from the file specified in the source argument (except when source is a transient variable, in which case this argument is ignored).\n",
    "\n",
    "    actionsoption\n",
    "        Default is None. This is a list (or a tuple) of functions that will be used by the WeightsMaker to create the weights. Each of these functions must accept two arguments: the first argument is an array (of the same shape as the mask), and the second is a scalar or a tuple. For example, actions=MV.equal will generate weights with 1’s assigned to cells where elements of the array equal to the scalar specified in values (see below) and 0’s assigned to all other cells. By default the array passed to the function is the one defined by source, but an alternative source can be passed at the time of the mask creation (see the get and values explanations below). The default action (if actions is set to None) is: MV.equal.\n",
    "\n",
    "    valuesoption\n",
    "        Default is None. This is a list (with the same number of elements as the “actions” list) containing the values that will be passed to each function contained in the actions list. If values is defined as a list or tuple whose first element is input, then the variable passed to action is not the one referred to by source but the one sent to the get function (i.e. when the function is executed).\n",
    "\n",
    "    combiningActionsoption\n",
    "\n",
    "        Default is None. This is a list (with one element less than the number of elements in the actions list) containing functions used to combine the actions of the functions specified in the actions list. There is no need to define combiningActions when there is only one action defined. The first combining-action will be used to produce a new temporary mask representing the result of combining the first and second masks generated by the functions specified in the actions list. This result will be used subsequently with the result of action 3 and the second combiningAction, and so on. The default logical action is MV.multiply.\n",
    "\n",
    "        Note that when calling the get function of the WeightsMaker object, the variable being processed may be passed, allowing a mask to be generated based on the data itself. (If, for example, the WeightsMaker is passed values=[\"input\", 273.15] and actions=[MV.less], temperatures below freezing would be masked.)\n"
   ]
  },
  {
   "cell_type": "markdown",
   "metadata": {},
   "source": [
    "Usage:"
   ]
  },
  {
   "cell_type": "markdown",
   "metadata": {},
   "source": [
    "The mask defined by the WeightsMaker object MM can be obtained as follows:"
   ]
  },
  {
   "cell_type": "code",
   "execution_count": null,
   "metadata": {},
   "outputs": [],
   "source": [
    ">>> mask = MM.get()"
   ]
  },
  {
   "cell_type": "markdown",
   "metadata": {},
   "source": [
    "or, alternately,"
   ]
  },
  {
   "cell_type": "code",
   "execution_count": null,
   "metadata": {},
   "outputs": [],
   "source": [
    ">>> mask=MM() or mask=MM(my-variable)"
   ]
  },
  {
   "cell_type": "markdown",
   "metadata": {},
   "source": [
    "Remember that if a variable (e.g., my-variable) is passed as an argument of MM, then this variable would be “acted on” by a function given by the actions argument of WeightsMaker only if the first element of the corresponding values item is input. Otherwise, the variable acted on is defined by source."
   ]
  },
  {
   "cell_type": "markdown",
   "metadata": {},
   "source": [
    "Let’s define a mask that will weight each grid cell by the land fraction and then mask out areas where the values of a user defined (at runtime) variable are greater than a threshold T."
   ]
  },
  {
   "cell_type": "code",
   "execution_count": null,
   "metadata": {},
   "outputs": [],
   "source": [
    ">>> File='string-pointing-to-the-fraction-of-land-expressed-as-a-percent'\n",
    ">>> T=a-threshold-value\n",
    ">>> MM=cdutil.WeightsMaker(source=File,var='sftlf')\n",
    ">>> MM.actions=[MV.divide,MV.greater]\n",
    ">>> MM.values=[100,[\"input\",T]]\n",
    ">>> MM.combiningActions=[MV.multiply]\n",
    "# here would be some line of code creating a variable V\n",
    ">>> M1=MM(V)\n",
    "# This retrieved the first mask, generating weights equal to the fraction of\n",
    "land in each cell, but masking cells where values of V are greater than T)\n",
    ">>> M2=MM(2.*V)\n",
    "# Retrieved another mask, which should be different, since now area where 2*V\n",
    "is greater than T are masked."
   ]
  },
  {
   "cell_type": "markdown",
   "metadata": {},
   "source": [
    "#### WeightedGridMaker Object\n",
    "\n",
    "[Back to Top](#top)"
   ]
  },
  {
   "cell_type": "markdown",
   "metadata": {},
   "source": [
    "Definition"
   ]
  },
  {
   "cell_type": "markdown",
   "metadata": {},
   "source": [
    "The WeightedGridMaker generates a cdms grid object (see cdms documentation for a description) and may also associate a WeightsMaker object with that grid. The WeightedGridMaker object may be used by the VariableConditioner object (see below) to define a “target” grid to which the variable will be mapped. The WeightedGridMaker must be either provided with a cdms grid object or with information needed to generate a grid."
   ]
  },
  {
   "cell_type": "markdown",
   "metadata": {},
   "source": [
    "The WeightedGridMaker is constructed as follows:"
   ]
  },
  {
   "cell_type": "code",
   "execution_count": null,
   "metadata": {},
   "outputs": [],
   "source": [
    "MGM = cdutil.WeightedGridMaker( source=sourceoption, var=varoption, type=typeoption,\n",
    "                                nlat=nlatoption, flat=flatoption, dellat=dellatoption,\n",
    "                nlon=nlonoption, flon=flonoption, dellon=dellonoption,\n",
    "                WeightsMaker=WeightsMakeroption )"
   ]
  },
  {
   "cell_type": "markdown",
   "metadata": {},
   "source": [
    "Options:"
   ]
  },
  {
   "cell_type": "markdown",
   "metadata": {},
   "source": [
    "    sourceoption\n",
    "        Default is None. This is a cdms grid object or a file name (in which case the keyword var \n",
    "        must be defined). Other keywords (except var and WeightsMaker) will be ignored if source is a\n",
    "        file name.\n",
    "\n",
    "    varoption\n",
    "        Default is None. This is the name of the variable that is needed from the file specified in the\n",
    "        source argument (except when source refers directly to a grid object, in which case this argument\n",
    "        is ignored).\n",
    "\n",
    "    typeoption\n",
    "        Default is uniform. This is the type of grid that will be generated. Options include: uniform \n",
    "        (equally spaced), gaussian (for use with spectral models), and equal (for latitude spacing giving \n",
    "        equal area grid cells as in the lmd5 model). This keyword will be ignored if source is a file name.\n",
    "\n",
    "    nlatoption\n",
    "        Default is None. This is the number of latitudes spanning the domain (which is ignored if source \n",
    "        is a file name).\n",
    "\n",
    "    flatoption\n",
    "        Default is None. This is the location of the first latitude (which is ignored if source is a file \n",
    "        name or if type is gaussian or equal).\n",
    "\n",
    "    dellatoption\n",
    "        Default is None. This is the latitude spacing (which is ignored if source is a file name or if type\n",
    "        is gaussian or equal).\n",
    "\n",
    "    nlonoption\n",
    "        Default is None. This is the number of longitudes spanning the domain (which is ignored if source is\n",
    "        a file name).\n",
    "\n",
    "    flonoption\n",
    "        Default is None. This is the location of the first longitude (which by default is set to 0.0 but is\n",
    "        ignored if source is a file name).\n",
    "\n",
    "    dellonoption\n",
    "        Default is None. This is the longitude spacing (which is ignored if the source is a file name).\n",
    "\n",
    "    WeightsMakeroption\n",
    "        Default is None. This is a WeightsMaker object that should occupy the same grid as that returned by\n",
    "        WeightedGridMaker.\n"
   ]
  },
  {
   "cell_type": "markdown",
   "metadata": {},
   "source": [
    "Usage:\n",
    "\n",
    "[Back to Top](#top)"
   ]
  },
  {
   "cell_type": "code",
   "execution_count": null,
   "metadata": {},
   "outputs": [],
   "source": [
    ">>> MGM=cdutil.WeightedGridMaker(grid=mygrid)\n",
    ">>> MGM=cdutil.WeightedGridMaker(nlat=64, type='gaussian', flon=-180., WeightsMaker=mymask)\n",
    ">>> MGM=cdutil.WeightedGridMaker(nlat=50, type='equal', nlon=64, flon=2.8125, dellon=5.625)\n",
    ">>> MGM=cdutil.WeightedGridMaker(nlat=18, dellat=10., flat=-85, nlon=36, dellon=10., flon=0.)"
   ]
  },
  {
   "cell_type": "markdown",
   "metadata": {},
   "source": [
    "Arguments can also be set after construction. For example:"
   ]
  },
  {
   "cell_type": "code",
   "execution_count": null,
   "metadata": {},
   "outputs": [],
   "source": [
    ">>> MGM=cdutil.WeightedGridMaker()\n",
    ">>> MGM.longitude.n=36\n",
    ">>> MGM.longitude.first=0.\n",
    ">>> MGM.longitude.delta=10.\n",
    ">>> MGM.latitude.n=18\n",
    ">>> MGM.latitude.first=-85.\n",
    ">>> MGM.latitude.delta=10.\n",
    ">>> MGM.latitude.type='uniform'"
   ]
  },
  {
   "cell_type": "markdown",
   "metadata": {},
   "source": [
    "To retrieve the grid object, use the get method:"
   ]
  },
  {
   "cell_type": "code",
   "execution_count": null,
   "metadata": {},
   "outputs": [],
   "source": [
    ">>> g=MGM.get()"
   ]
  },
  {
   "cell_type": "markdown",
   "metadata": {},
   "source": [
    "or, alternately,"
   ]
  },
  {
   "cell_type": "code",
   "execution_count": null,
   "metadata": {},
   "outputs": [],
   "source": [
    ">>> g=MGM()"
   ]
  },
  {
   "cell_type": "markdown",
   "metadata": {},
   "source": [
    "The WeightsMaker object associated with the grid can be obtained as follows:"
   ]
  },
  {
   "cell_type": "code",
   "execution_count": null,
   "metadata": {},
   "outputs": [],
   "source": [
    ">>> gm = MGM.WeightsMaker()"
   ]
  },
  {
   "cell_type": "markdown",
   "metadata": {},
   "source": [
    "Note that if a WeightsMaker object has not been passed to the constructor, then the grid object returned by MGM.WeightsMaker() will be: None."
   ]
  },
  {
   "cell_type": "markdown",
   "metadata": {},
   "source": [
    "#### VariableConditioner Object\n",
    "\n",
    "[Back to Top](#top)"
   ]
  },
  {
   "cell_type": "markdown",
   "metadata": {},
   "source": [
    "Definition"
   ]
  },
  {
   "cell_type": "markdown",
   "metadata": {},
   "source": [
    "The VariableConditioner constructor must be provided either with a transient variable or with information that will be used to define a masked variable. Optional, additional information may be provided to indicate how the data should be mapped to a new grid, what masks should be applied, and how to scale and offset the data (to transform, for example, to alternative units).\n",
    "\n",
    "The VariableConditioner is constructed as follows:"
   ]
  },
  {
   "cell_type": "code",
   "execution_count": null,
   "metadata": {},
   "outputs": [],
   "source": [
    "VC=cdutil.VariableConditioner(source, var=varoption, cdmsArguments=cdmsArgumentsoption,\n",
    "                              cdmsKeywords=cdmsKeywordsoption, WeightsMaker=WeightsMakeroption,\n",
    "                              WeightedGridMaker=WeightedGridMakeroption, offset=offsetoption,\n",
    "                              slope=slopeoption, id=idoption)"
   ]
  },
  {
   "cell_type": "markdown",
   "metadata": {},
   "source": [
    "Where:\n",
    "\n",
    "    source\n",
    "        This is either a file name or a transient variable. If an array is passed, a second associated array may \n",
    "        also be passed (in which case source is a tuple), which contains the fraction of each grid cell for which\n",
    "        the data value applies. This fraction will be used if the variable is regridded (see below).\n",
    "\n"
   ]
  },
  {
   "cell_type": "markdown",
   "metadata": {},
   "source": [
    "Options:"
   ]
  },
  {
   "cell_type": "markdown",
   "metadata": {},
   "source": [
    "    varoption\n",
    "        Default is None. This is the name of the variable that is needed from the file specified in the source\n",
    "        argument (except when source refers directly to a variable, in which case this argument is ignored).\n",
    "\n",
    "    cdmsArgumentsoption\n",
    "        Default is []. This is a tuple or list of optional arguments used when retrieving a variable with cdms.\n",
    "        For example, cdmsArguments=(cdutil.region.NH) specifies that data should be retrieved from the Northern \n",
    "        Hemisphere only). See the cdms documentation for more information.\n",
    "\n",
    "    cdmsKeywordsoption\n",
    "        Default is {}. This is a dictionary defining keyword:value pairs used when retrieving a variable with\n",
    "        cdms. For example, cdmsKeywords= {'latitude:(-90.0, 0.0)} specifies that data should be retrieved from \n",
    "        the Southern Hemisphere only. See the cdms documentation for more information.\n",
    "\n",
    "    WeightsMakeroption\n",
    "        Default is None. This is a WeightsMaker object that should be applied to the masked variable (before \n",
    "        any regridding).\n",
    "\n",
    "    WeightedGridMakeroption\n",
    "        Default is None. This is a WeightedGridMaker object that defines the target grid to which the data \n",
    "        should be mapped. (Note, that if a WeightsMaker is associated with the WeightedGridMaker object, then \n",
    "        that mask will be applied to the data after regridding.)\n",
    "\n",
    "    offsetoption and slopeoption\n",
    "        The default values are 0.0 and 1.0 respectively. These are used to change units of the variable by \n",
    "        multiplying the data by slope and adding offset to the result.\n",
    "\n",
    "    idoption\n",
    "        Default is None. This is a string that can be used to identify your VariableConditioner object, but \n",
    "        it is purely informational and not used otherwise.\n"
   ]
  },
  {
   "cell_type": "markdown",
   "metadata": {},
   "source": [
    "Usage:"
   ]
  },
  {
   "cell_type": "code",
   "execution_count": null,
   "metadata": {},
   "outputs": [],
   "source": [
    "VC=cdutil.VariableConditioner( '/pcmdi/obs/mo/tas/jones_amip/tas.jones_amip.ctl', var='tas', id='JONES')"
   ]
  },
  {
   "cell_type": "markdown",
   "metadata": {},
   "source": [
    "Arguments can also be set after construction. For example:"
   ]
  },
  {
   "cell_type": "code",
   "execution_count": null,
   "metadata": {},
   "outputs": [],
   "source": [
    ">>> ref='/pcmdi/obs/mo/tas/jones_amip/tas.jones_amip.ctl'\n",
    ">>> VC = cdutil.VariableConditioner(ref)\n",
    ">>> VC.var='tas'\n",
    ">>> VC.id='JONES'"
   ]
  },
  {
   "cell_type": "markdown",
   "metadata": {},
   "source": [
    "To retrieve the modified variable (i.e., generate a masked variable), use the get method:"
   ]
  },
  {
   "cell_type": "code",
   "execution_count": null,
   "metadata": {},
   "outputs": [],
   "source": [
    ">>> data = VC.get(returnTuple=0)"
   ]
  },
  {
   "cell_type": "markdown",
   "metadata": {},
   "source": [
    "or, alternately,"
   ]
  },
  {
   "cell_type": "code",
   "execution_count": null,
   "metadata": {},
   "outputs": [],
   "source": [
    ">>> data = VC(returnTuple=0)"
   ]
  },
  {
   "cell_type": "markdown",
   "metadata": {},
   "source": [
    "One may additionally wish to retrieve the fraction of each target grid cell where data existed on the original grid (i.e., where data had not been masked). If, for example, 20% of the target grid cell were masked on the original grid (or were flagged as missing data), this fraction is set to 0.8. If the target grid cell itself is masked, this fraction is set to 0. To retrieve these fractions along with the modified variable itself, the keyword returnTuple is set to 1 (or omitted, since 1 is the default):"
   ]
  },
  {
   "cell_type": "code",
   "execution_count": null,
   "metadata": {},
   "outputs": [],
   "source": [
    ">>> data, frac=VC()"
   ]
  },
  {
   "cell_type": "markdown",
   "metadata": {},
   "source": [
    "The order that operations are executed by the get method of the VariableConditioner object is as follows:\n",
    "\n",
    "    If necessary, open the file and retrieve the specified variable (or process the passed “masked variable”) \n",
    "    with the constraints implied by the cdmsArguments and cdmsKeywords.\n",
    "    \n",
    "    If the WeightsMaker keyword is defined, mask the data. Note that after being defined by the WeightsMaker \n",
    "    object, the mask may be “post-processed” by VariableConditioner to make it conform to the dimensions of the\n",
    "    data being “conditioned”. \n",
    "    \n",
    "    For example, a subdomain may be extracted using information supplied in cdmsKeywords and cdmsArguments,\n",
    "    or the mask may be expanded by copying itself to fill a dimension (e.g., time or level) that is found in\n",
    "    the data, but not the mask.\n",
    "    \n",
    "    If the WeightedGridMaker keyword is defined, map the data to the target grid returned by the WeightedGridMaker,\n",
    "    and, if defined, apply the associated target grid mask. \n",
    "    \n",
    "    If required by an input actions specification, the variable (in its latest state) will be used by the \n",
    "    WeightsMaker. \n",
    "    \n",
    "    Again (as in step 2), post-processing will be applied on the returned mask when necessary.\n",
    "    \n",
    "    Apply the slope and offset transformation unless the slope equals 1.0 and the offset equals 0.0.\n"
   ]
  },
  {
   "cell_type": "markdown",
   "metadata": {},
   "source": [
    "#### VariablesMatcher Object\n",
    "\n",
    "[Back to Top](#top)"
   ]
  },
  {
   "cell_type": "markdown",
   "metadata": {},
   "source": [
    "Definition\n",
    "\n",
    "The VariablesMatcher object can be used to facilitate comparison of two different variables. It places these\n",
    "variables on a common grid, allows for application of masks, and optionally indicates the fraction of each grid\n",
    "cell for which information was available (i.e., not missing) when the field was put on its final grid. The VariablesMatcher object processes two VariableConditioner objects (which represent the two variables to be compared).\n",
    "It can also apply a supplied external-data mask and map everything to a new grid. The VariablesMatcher object is constructed as follows:"
   ]
  },
  {
   "cell_type": "code",
   "execution_count": null,
   "metadata": {},
   "outputs": [],
   "source": [
    "VM=cdutil.VariablesMatcher(variableConditioner1=variableConditioner1option,\n",
    "                           variableConditioner2=variableConditioner2option,\n",
    "               cdmsArguments=cdmsArgumentsoption, cdmsKeywords=cdmsKeywordsoption,\n",
    "               externalVariableConditioner=externalVariableConditioneroption,\n",
    "               WeightedGridMaker= WeightedGridMakeroption )"
   ]
  },
  {
   "cell_type": "markdown",
   "metadata": {},
   "source": [
    "Options:"
   ]
  },
  {
   "cell_type": "markdown",
   "metadata": {},
   "source": [
    "    variableConditioner1option\n",
    "        Default is None. This can be a VariableConditioner object or a file name or a transient variable\n",
    "        (from which a VariableConditioner will be constructed). It may also be a tuple comprising a transient \n",
    "        variable plus a fraction associated with each cell (which will be used in constructing “weights”). If \n",
    "        variableConditioner1 is a file name, then the user must also define the name of the variable (e.g., \n",
    "        VM.variableConditioner1.var='tas').\n",
    "        \n",
    "    variableConditioner2option\n",
    "        Default is None. This is a second field treated just like variableConditioner1 except if after all \n",
    "        processing is completed, variable 2 is not on the same grid as variable 1, then it will be mapped to\n",
    "        variable 1’s grid.\n",
    "        \n",
    "    cdmsArgumentsoption\n",
    "        Default is []. This is a tuple of optional arguments used when retrieving a variable with cdms. For \n",
    "        example, cdmsArguments=(cdutil.region.NH) specifies that data should be retrieved from the Northern \n",
    "        Hemisphere only. See the cdms documentation for more information. The cdmsArguments set here will \n",
    "        replace all arguments that might be set for individual VariableConditioner objects (i.e., “1”, “2” and \n",
    "        “external”).\n",
    "        \n",
    "    cdmsKeywordsoption\n",
    "        Default is {}. This is a dictionary defining “keyword:value” pairs used when retrieving a variable with\n",
    "        cdms. For example, cdmsKeywords= {'latitude:(-90.0, 0.0)} specifies that data should be retrieved from \n",
    "        the Southern Hemisphere only. See the cdms documentation for more information. The cdmsKeywords set here\n",
    "        will be appended to or take the place of those that might be set for individual VariableConditioner \n",
    "        objects (i.e., “1”, “2” and “external”).\n",
    "        \n",
    "    externalVariableConditioneroption\n",
    "        Default is None. This is optional and is used to mask both variable 1 and variable 2 with its own mask.\n",
    "        Variable 1 and variable 2 are mapped to the external variable grid before applying the mask. The external\n",
    "        variable weights are applied (except where the weights associated with the variables are zero) The \n",
    "        externalVariableConditioner is generally not needed unless an external time-varying mask is to be applied.\n",
    "        \n",
    "    WeightedGridMakeroption\n",
    "        Default is None. This is an optional WeightedGridMaker object that defines the target grid to which\n",
    "        variable 1 and variable 2 should be mapped as a last step. (Note, that if a WeightsMaker is associated\n",
    "        with the WeightedGridMaker object, then the mask will be applied to the data after regridding.)\n"
   ]
  },
  {
   "cell_type": "markdown",
   "metadata": {},
   "source": [
    "Usage:"
   ]
  },
  {
   "cell_type": "markdown",
   "metadata": {},
   "source": [
    "To retrieve the modified variable (i.e., generate a masked variable), use the get method:"
   ]
  },
  {
   "cell_type": "code",
   "execution_count": null,
   "metadata": {},
   "outputs": [],
   "source": [
    ">>> variable1, variable2 = VM.get(returnTuple=0)"
   ]
  },
  {
   "cell_type": "markdown",
   "metadata": {},
   "source": [
    "or, alternately,"
   ]
  },
  {
   "cell_type": "code",
   "execution_count": null,
   "metadata": {},
   "outputs": [],
   "source": [
    ">>> variable1, variable2 = VM(returnTuple=0)"
   ]
  },
  {
   "cell_type": "markdown",
   "metadata": {},
   "source": [
    "One may additionally wish to retrieve the fraction of each target grid cell where data existed on the original \n",
    "grid (i.e., where data had not been masked). If, for example, 20% of the target grid cell has been masked on \n",
    "the original grid (or has been flagged as missing data), this fraction is set to 0.8. If the target grid cell \n",
    "itself is masked, this fraction is set to 0. To retrieve these fractions along with the modified variable itself, \n",
    "the keyword returnTuple is set to 1 (or omitted, since 1 is the default):"
   ]
  },
  {
   "cell_type": "code",
   "execution_count": null,
   "metadata": {},
   "outputs": [],
   "source": [
    ">>> (variable1, frac1), (variable2, frac2) = VM()"
   ]
  },
  {
   "cell_type": "markdown",
   "metadata": {},
   "source": [
    "The order that operations are executed by the get method of the VariablesMatcher object is as follows:\n",
    "\n",
    "     Append or replace cdms arguments/keywords for variableConditioner1, variableConditioner2, and, if defined, \n",
    "     the externalVariableConditioner.\n",
    "      \n",
    "     Get the variableConditioner1 and variableConditioner2.\n",
    "    \n",
    "     If the length of the time dimensions for the two variables are different, extract the sub-domain the two have\n",
    "     in common.\n",
    "      \n",
    "     If variable 1 and variable 2 do not have the same number of dimensions, make them consistent by adding missing\n",
    "     dimensions. This will be done only in the case of missing singleton dimensions prevents problems with dummy \n",
    "     dimensions. \n",
    "      \n",
    "     If an externalVariableConditioner is defined, get the external variable.\n",
    "    \n",
    "     Get only time-slices in common with variables 1 and 2.\n",
    "    \n",
    "     Map both variable 1 and variable 2 to the grid of the external variable.\n",
    "    \n",
    "     Apply to variables 1 and 2 the mask implied by “missing values” found in the external variable data and/or \n",
    "     the mask associated with the external variable.\n",
    "      \n",
    "     If the WeightedGridMaker keyword is defined, map the data to the target grid, and apply the associated target \n",
    "     grid mask (if defined). \n",
    "      \n",
    "     If required by an ‘input’ actions specification, the variable (in its latest state) will be used by the \n",
    "     WeightsMaker. As in step 2) of section 2.3, post-processing will be applied on the eturned mask when necessary.\n",
    "      \n",
    "     If variable 1 and variable 2 are at this point on different grids, map variable 2 to the grid of variable 1.\n",
    "    \n",
    "     No masking information is transferred from one variable to the other here.\n",
    "\n"
   ]
  },
  {
   "cell_type": "markdown",
   "metadata": {},
   "source": [
    "### Examples\n",
    "\n",
    "[Back to Top](#top)"
   ]
  },
  {
   "cell_type": "markdown",
   "metadata": {},
   "source": [
    "#### A Simple Example\n",
    "\n",
    "[Back to Top](#top)\n",
    "\n",
    "In this example we retrieve data for 2 different variables over the maximum common period, and put them both on a 10x10 degree grid."
   ]
  },
  {
   "cell_type": "code",
   "execution_count": null,
   "metadata": {},
   "outputs": [],
   "source": [
    ">>> import cdutil\n",
    "# Reference\n",
    ">>> ref='/pcmdi/obs/mo/tas/jones_amip/tas.jones_amip.ctl'\n",
    ">>> Ref=cdutil.VariableConditioner(ref)\n",
    ">>> Ref.var='tas'\n",
    ">>> Ref.id='JONES'# optional\n",
    "# Test\n",
    ">>> tst='/pcmdi/obs/mo/tas/rnl_ncep/tas.rnl_ncep.ctl'\n",
    ">>> Tst=cdutil.VariableConditioner(tst)\n",
    ">>> Tst.var='tas'\n",
    ">>> Tst.id='NCEP' #optional\n",
    "# Final Grid\n",
    ">>> FG=cdutil.WeightedGridMaker()\n",
    ">>> FG.longitude.n=36\n",
    ">>> FG.longitude.first=0.\n",
    ">>> FG.longitude.delta=10.\n",
    ">>> FG.latitude.n=18\n",
    ">>> FG.latitude.first=-85.\n",
    ">>> FG.latitude.delta=10.\n",
    "# Now creates the compare object.\n",
    ">>> c=cdutil.VariablesMatcher(Ref, Tst, WeightedGridMaker=FG)\n",
    "# And get it (3 different ways).\n",
    ">>> (ref, ref_frac), (test, test_frac) = c.get()\n",
    ">>> ref, test = c.get(returnTuple=0)\n",
    ">>> ref, test = c(returnTuple=0)"
   ]
  },
  {
   "cell_type": "markdown",
   "metadata": {},
   "source": [
    "#### A More Complicated Example\n",
    "\n",
    "[Back to Top](#top)\n",
    "\n",
    "In this example we\n",
    "\n",
    "    retrieve NCEP and ECMWF for the year 1981,\n",
    "    mask the land area of both fields,\n",
    "    map both fields to the grid of an external data mask (the JONES variable) and apply the mask,\n",
    "    map the fields to a 10x10 degree grid\n",
    "    mask the land area according to a 10x10 degree land/sea mask.\n",
    "\n",
    "Try skipping the final step and note the difference. (Tip: to do so, simply change the definition of FG to: FG=cdutil.WeightedGridMaker(fgmask, var=’sftlf’))"
   ]
  },
  {
   "cell_type": "code",
   "execution_count": null,
   "metadata": {},
   "outputs": [],
   "source": [
    ">>> import cdutil, vcs, sys\n",
    "# First let's creates the mask (it is the same for NCEP and ECMWF since they are on the same grid).\n",
    ">>> refmsk='/pcmdi/obs/etc/sftl.25deg.ctl'\n",
    ">>> M=cdutil.WeightsMaker(refmsk, var='sftl', values=[1.])\n",
    "# Define the \"Reference\" dataset\n",
    ">>> ref='/pcmdi/obs/mo/tas/rnl_ecm/tas.rnl_ecm.sfc.ctl'\n",
    ">>> Ref=cdutil.VariableConditioner(ref, WeightsMaker=M)\n",
    ">>> Ref.var='tas'\n",
    ">>> Ref.id='ECMWF'\n",
    "# Define the \"test\" dataset\n",
    ">>> tst='/pcmdi/obs/mo/tas/rnl_ncep/tas.rnl_ncep.ctl'\n",
    ">>> Tst=cdutil.VariableConditioner(tst, WeightsMaker=M)\n",
    ">>> Tst.var='tas'\n",
    ">>> Tst.id='NCEP'\n",
    "# Define the External data mask\n",
    ">>> ext='/pcmdi/obs/mo/tas/jones_amip/tas.jones_amip.ctl'\n",
    ">>> EV=cdutil.VariableConditioner(ext)\n",
    ">>> EV.var='tas'\n",
    ">>> EV.id='JONES'\n",
    "# Define the Final Grid\n",
    "# We need a mask for the final grid\n",
    ">>> fgmask='/pcmdi/staff/longterm/doutriau/ldseamsk/amipII/pcmdi_sftlf_10x10.nc'\n",
    ">>> M2=cdutil.WeightsMaker(source=fgmask, var='sftlf', actions=MV.greater, values=[50.])\n",
    ">>> FG=cdutil.WeightedGridMaker(fgmask, var='sftlf', WeightsMaker=M2)\n",
    "# Now create the compare object\n",
    ">>> c=cdutil.VariablesMatcher(Ref, Tst, WeightedGridMaker=FG, externalVariableConditioner=EV)\n",
    ">>> c.cdmsKeywords={'time':('1981','1982','co')}\n",
    "# And get it\n",
    ">>> (ref, reffrc), (test, tfrc) = c()\n",
    ">>> print 'Shapes:', test.shape, ref.shape\n",
    "# Plot the difference\n",
    ">>> x=vcs.init()\n",
    ">>> x.plot(test-ref)\n",
    "# Wait for user to press return\n",
    ">>> print \"Press enter\"\n",
    ">>> sys.stdin.readline()"
   ]
  },
  {
   "cell_type": "markdown",
   "metadata": {},
   "source": [
    "#### A Very Complicated Example\n",
    "\n",
    "[Back to Top](#top)\n",
    "\n",
    "This example shows MOST of the options and power of VariablesMatcher. In this example we:\n",
    "\n",
    "    retrieve NCEP and ECMWF for the year 1981,\n",
    "    mask the land area of both fields (on their original grids),\n",
    "    map ECMWF data to a T63 grid and NCEP data to a T42 grid,\n",
    "    mask cells where the temperatures are greater than 280K and less than 300K (two different ways of imposing\n",
    "    the mask are illustrated),\n",
    "    map both fields to the grid of an external data mask (the JONES variable) and apply the mask; also mask \n",
    "    land areas according to a user-supplied land/sea mask on the JONES grid.\n",
    "    map the fields to a 10x10 degree grid\n",
    "    mask the land area according to a 10x10 degree land/sea mask\n",
    "    select only the Northern Hemisphere region using a defined “selector” (see cdutil.region documentation).\n"
   ]
  },
  {
   "cell_type": "code",
   "execution_count": null,
   "metadata": {},
   "outputs": [],
   "source": [
    ">>> import cdutil, MV, vcs, sys\n",
    "# First let us define the mask (it is the same for NCEP and ECMWF since they are on the same grid)\n",
    ">>> refmsk='/pcmdi/obs/etc/sftl.25deg.ctl'\n",
    ">>> M = cdutil.WeightsMaker(refmsk, var='sftl', values=[1.])\n",
    "# Define the \"Reference\" dataset\n",
    ">>> ref='/pcmdi/obs/mo/tas/rnl_ecm/tas.rnl_ecm.sfc.ctl'\n",
    ">>> Ref=cdutil.VariableConditioner(ref, WeightsMaker=M)\n",
    ">>> Ref.var='tas'\n",
    ">>> Ref.id='ECMWF'\n",
    "# Define the grid for this variable to be T63 and mask the data where temperatures are between 280K and 300K. Note that the final grid is defined to be the same as 'sftlf' contained in file pcmdi_sftlf_T63.nc, but the data contained in this file is ignored.\n",
    ">>> ECMWFGrid=cdutil.WeightedGridMaker(source='/pcmdi/staff/longterm/doutriau/ldseamsk/amipII/pcmdi_sftlf_T63.nc',va r='sftlf')\n",
    ">>> ECMWFinalMask=cdutil.WeightsMaker()\n",
    ">>> ECMWFinalMask.values = [('input',280.),('input',300.)]\n",
    ">>> ECMWFinalMask.actions=[MV.greater, MV.less]\n",
    ">>> ECMWFinalMask.combiningActions=[Mv.logical_and]\n",
    "# Associate the mask with the grid\n",
    ">>> ECMWFGrid.WeightsMaker=ECMWFinalMask\n",
    ">>> # Now associates the grid with the variable.\n",
    ">>> Ref.WeightedGridMaker=ECMWFGrid\n",
    "# Define the \"test\" dataset\n",
    ">>> tst='/pcmdi/obs/mo/tas/rnl_ncep/tas.rnl_ncep.ctl'\n",
    ">>> Tst=cdutil.VariableConditioner(tst, WeightsMaker=M)\n",
    ">>> Tst.var='tas'\n",
    ">>> Tst.id='NCEP'\n",
    "# The final grid for this variable will be T42, masked where temperatures are between 280K and 300K\n",
    ">>> NCEPGrid=cdutil.WeightedGridMaker()\n",
    ">>> NCEPGrid.latitude.n=64\n",
    ">>> NCEPGrid.latitude.type='gaussian'\n",
    "# This time let's create a function to return the mask\n",
    ">>> def myMakeMask(array, range):\n",
    "...    \"\"\"Returns the input array masked where the values are between range[0] and range[1]\"\"\"\n",
    "...    m1=MV.greater(array, range[0]) # mask where it is greater than the 1st value\n",
    "...    m2=MV.less(array, range[1]) # mask where it is less than the 2nd value\n",
    "...    return MV.logical_and(m1,m2)\n",
    "# And associate the mask with the grid\n",
    ">>> NCEPGrid.WeightsMaker.values=[('input',(280.,300.))]\n",
    ">>> NCEPGrid.WeightsMaker.actions=[myMakeMask]\n",
    "# Now associates the grid with the variable.\n",
    ">>> Tst.WeightedGridMaker=NCEPGrid\n",
    "# define an External variable. Where this variable has missing data, the reference and test fields will also be masked.\n",
    ">>> ext='/pcmdi/obs/mo/tas/jones_amip/tas.jones_amip.ctl'\n",
    ">>> extmask='/pcmdi/amip/fixed_tmp/sftlf/sftlf_gla-98a.nc'\n",
    ">>> EMask=cdutil.WeightsMaker(source=extmask, var='sftlf')\n",
    ">>> ED=cdutil.VariableConditioner(ext, WeightsMaker=EMask)\n",
    ">>> ED.var='tas'\n",
    ">>> ED.id='JONES'\n",
    "# Define the Final Grid\n",
    "# We need a mask for the final grid\n",
    ">>> fgmask='/pcmdi/staff/longterm/doutriau/ldseamsk/amipII/pcmdi_sftlf_10x10.nc'\n",
    ">>> M2=cdutil.WeightsMaker(source=fgmask, var='sftlf', values=[100.])\n",
    ">>> FG=cdutil.WeightedGridMaker(WeightsMaker=M2)\n",
    ">>> FG.longitude.n=36\n",
    ">>> FG.longitude.first=0.\n",
    ">>> FG.longitude.delta=10.\n",
    ">>> FG.latitude.n=18\n",
    ">>> FG.latitude.first=-85.\n",
    ">>> FG.latitude.delta=10.\n",
    "# Now creates the compare object\n",
    ">>> c=cdutil.VariablesMatcher(Ref, Tst, WeightedGridMaker=FG, externalVariableConditioner=ED)\n",
    ">>> c.cdmsKeywords={'time':('1981','1982','co')}\n",
    "# define a \"selector\" to obtain only the N. Hemisphere\n",
    ">>> c.cdmsArguments=[cdutil.region.NH]\n",
    "# And get it\n",
    ">>> (ref, reffrc), (test, tfrc) = c()\n",
    ">>> print 'Shapes:', test.shape, ref.shape\n",
    "# Plot the difference\n",
    ">>> x=vcs.init()\n",
    ">>> x.plot(test-ref)\n",
    "# Wait for user to press return\n",
    ">>> print \"Press enter\"\n",
    ">>> sys.stdin.readline()"
   ]
  },
  {
   "cell_type": "code",
   "execution_count": null,
   "metadata": {},
   "outputs": [],
   "source": []
  }
 ],
 "metadata": {
  "kernelspec": {
   "display_name": "Python 3",
   "language": "python",
   "name": "python3"
  },
  "language_info": {
   "codemirror_mode": {
    "name": "ipython",
    "version": 3
   },
   "file_extension": ".py",
   "mimetype": "text/x-python",
   "name": "python",
   "nbconvert_exporter": "python",
   "pygments_lexer": "ipython3",
   "version": "3.7.3"
  },
  "toc": {
   "base_numbering": 1,
   "nav_menu": {},
   "number_sections": false,
   "sideBar": true,
   "skip_h1_title": true,
   "title_cell": "Table of Contents",
   "title_sidebar": "Contents",
   "toc_cell": true,
   "toc_position": {},
   "toc_section_display": true,
   "toc_window_display": false
  }
 },
 "nbformat": 4,
 "nbformat_minor": 2
}
