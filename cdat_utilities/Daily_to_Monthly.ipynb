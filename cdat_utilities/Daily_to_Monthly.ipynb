{
 "cells": [
  {
   "cell_type": "markdown",
   "metadata": {},
   "source": [
    "# Converting Daily Data to Monthly\n",
    "\n",
    "## Setting up Notebook"
   ]
  },
  {
   "cell_type": "code",
   "execution_count": 1,
   "metadata": {},
   "outputs": [],
   "source": [
    "# imports\n",
    "from __future__ import print_function  # For py2 compatibility\n",
    "import cdms2, numpy, vcs, cdutil, MV2"
   ]
  },
  {
   "cell_type": "code",
   "execution_count": 2,
   "metadata": {},
   "outputs": [],
   "source": [
    "# Create time axis\n",
    "ndays = 780\n",
    "tim = cdms2.createAxis(range(780))\n",
    "tim.units = 'days since 2015-11-3'\n",
    "tim.id = 'time'\n",
    "tim.designateTime()\n",
    "tim_ac = tim.asComponentTime()\n",
    "# Create daily bounds\n",
    "cdutil.times.setTimeBoundsDaily(tim)"
   ]
  },
  {
   "cell_type": "code",
   "execution_count": 3,
   "metadata": {},
   "outputs": [],
   "source": [
    "# Create a grid\n",
    "grid = cdms2.createGaussianGrid(64)\n",
    "lat, lon = grid.getAxisList()\n",
    "nlat = len(lat)\n",
    "nlon = len(lon)"
   ]
  },
  {
   "cell_type": "code",
   "execution_count": 4,
   "metadata": {},
   "outputs": [],
   "source": [
    "# Create random 3D daily data\n",
    "shape = (ndays, nlat, nlon)\n",
    "# 780 days on T42 Gaussian grid between -25 and 30C\n",
    "data = numpy.random.random(shape) * 55. - 25."
   ]
  },
  {
   "cell_type": "code",
   "execution_count": 5,
   "metadata": {},
   "outputs": [],
   "source": [
    "# Applies random mask, threshold at 85% so only about 15% of data is masked\n",
    "data = MV2.masked_where(numpy.greater(numpy.random.random(shape),.85), data)"
   ]
  },
  {
   "cell_type": "code",
   "execution_count": 6,
   "metadata": {},
   "outputs": [],
   "source": [
    "# Applies axes and attributes\n",
    "data.setAxisList((tim, lat, lon))\n",
    "data.id = 'tas'"
   ]
  },
  {
   "cell_type": "markdown",
   "metadata": {},
   "source": [
    "# Create Monthly Data"
   ]
  },
  {
   "cell_type": "code",
   "execution_count": 7,
   "metadata": {},
   "outputs": [
    {
     "name": "stdout",
     "output_type": "stream",
     "text": [
      "(26, 64, 128)\n",
      "First 2015-11-16 0:0:0.0, and last: 2017-12-16 12:0:0.0\n"
     ]
    }
   ],
   "source": [
    "monthly = cdutil.ANNUALCYCLE(data(latitude=(-90,90)))  # default grid has latitude reverted\n",
    "print(monthly.shape) # 26 months worth of data\n",
    "tim_monthly= monthly.getTime()\n",
    "tim_monthly_comp = tim_monthly.asComponentTime() # for readibiltiy\n",
    "print(\"First {}, and last: {}\".format(tim_monthly_comp[0], tim_monthly_comp[-1]))"
   ]
  },
  {
   "cell_type": "markdown",
   "metadata": {},
   "source": [
    "# How data in each cell?\n",
    "Technically, based on the time axis, we had data ***every*** day.\n",
    "\n",
    "In practice on a ***per cell basis*** the number of days having data varied, let's retrieve how data was actually used for each month"
   ]
  },
  {
   "cell_type": "code",
   "execution_count": 8,
   "metadata": {},
   "outputs": [],
   "source": [
    "selectors = []\n",
    "for month in range(12):  # Loop through all month\n",
    "    selectors.append(cdutil.ANNUALCYCLE.slicer(tim, [month+1]))"
   ]
  },
  {
   "cell_type": "markdown",
   "metadata": {},
   "source": [
    "We retrieve the criterias used for each individual months\n",
    "\n",
    "### indices\n",
    "for each month we get back 3 components, the first the first components contains the indices used for each month of each year"
   ]
  },
  {
   "cell_type": "code",
   "execution_count": 9,
   "metadata": {},
   "outputs": [],
   "source": [
    "# Let's take a look at the januaries and novembers\n",
    "jan = selectors[0]\n",
    "feb = selectors[1]\n",
    "nov = selectors[10]"
   ]
  },
  {
   "cell_type": "code",
   "execution_count": 10,
   "metadata": {},
   "outputs": [
    {
     "name": "stdout",
     "output_type": "stream",
     "text": [
      "2 3\n"
     ]
    }
   ],
   "source": [
    "print(len(jan[0]), len(nov[0])) # We had data for 2 januaries and 3 novembers"
   ]
  },
  {
   "cell_type": "code",
   "execution_count": 11,
   "metadata": {},
   "outputs": [
    {
     "name": "stdout",
     "output_type": "stream",
     "text": [
      "2018: [59, 60, 61, 62, 63, 64, 65, 66, 67, 68, 69, 70, 71, 72, 73, 74, 75, 76, 77, 78, 79, 80, 81, 82, 83, 84, 85, 86, 87, 88, 89]\n",
      "2019: [425, 426, 427, 428, 429, 430, 431, 432, 433, 434, 435, 436, 437, 438, 439, 440, 441, 442, 443, 444, 445, 446, 447, 448, 449, 450, 451, 452, 453, 454, 455]\n"
     ]
    }
   ],
   "source": [
    "# For example the indidces used for January 2018 were:\n",
    "print(\"2018:\", jan[0][0])\n",
    "# while the indices used for jan 2019 were:\n",
    "print(\"2019:\", jan[0][1])"
   ]
  },
  {
   "cell_type": "markdown",
   "metadata": {},
   "source": [
    "### Bounds\n",
    "The second component contains the bounds of each index, this is used to **weight** each slice appropriately. In this caes each days was full, hence every slice is weighted 1.\n",
    "\n",
    "Again these are listed per year"
   ]
  },
  {
   "cell_type": "code",
   "execution_count": 12,
   "metadata": {},
   "outputs": [
    {
     "name": "stdout",
     "output_type": "stream",
     "text": [
      "2018 bounds: [[59.0, 60.0], [60.0, 61.0], [61.0, 62.0], [62.0, 63.0], [63.0, 64.0], [64.0, 65.0], [65.0, 66.0], [66.0, 67.0], [67.0, 68.0], [68.0, 69.0], [69.0, 70.0], [70.0, 71.0], [71.0, 72.0], [72.0, 73.0], [73.0, 74.0], [74.0, 75.0], [75.0, 76.0], [76.0, 77.0], [77.0, 78.0], [78.0, 79.0], [79.0, 80.0], [80.0, 81.0], [81.0, 82.0], [82.0, 83.0], [83.0, 84.0], [84.0, 85.0], [85.0, 86.0], [86.0, 87.0], [87.0, 88.0], [88.0, 89.0], [89.0, 90.0]]\n"
     ]
    }
   ],
   "source": [
    "print('2018 bounds:', jan[1][0])"
   ]
  },
  {
   "cell_type": "markdown",
   "metadata": {},
   "source": [
    "### Summary\n",
    "\n",
    "The last component gives of for each year, the total weight and the start of the first bounds, note thast our first feb has 29 days"
   ]
  },
  {
   "cell_type": "code",
   "execution_count": 13,
   "metadata": {},
   "outputs": [
    {
     "name": "stdout",
     "output_type": "stream",
     "text": [
      "January [[31.0, 59.0], [31.0, 425.0]]\n",
      "February: [[29.0, 90.0], [28.0, 456.0]]\n"
     ]
    }
   ],
   "source": [
    "print('January', jan[2])\n",
    "print('February:', feb[2])"
   ]
  },
  {
   "cell_type": "markdown",
   "metadata": {},
   "source": [
    "Again this is based ***solely** on the time axis, in reality each cell had data on and off, so while the the generated monthly data shows data everywhere we want to know how days were actually used in each cell"
   ]
  },
  {
   "cell_type": "code",
   "execution_count": 14,
   "metadata": {},
   "outputs": [
    {
     "data": {
      "text/plain": [
       "<vcs.displayplot.Dp at 0x7f5a667c2ba8>"
      ]
     },
     "execution_count": 14,
     "metadata": {},
     "output_type": "execute_result"
    }
   ],
   "source": [
    "x = vcs.init(bg=True)\n",
    "gm = vcs.createboxfill()\n",
    "x.plot(monthly, gm)  # data everywhere"
   ]
  },
  {
   "cell_type": "code",
   "execution_count": 15,
   "metadata": {},
   "outputs": [
    {
     "name": "stdout",
     "output_type": "stream",
     "text": [
      "[12.0, 24.0, 13.0, 25.0, 14.0, 26.0, 15.0, 27.0, 16.0, 28.0, 17.0, 29.0, 18.0, 30.0, 19.0, 31.0, 20.0, 32.0, 21.0, 33.0, 10.0, 22.0, 34.0, 11.0, 23.0, 35.0]\n"
     ]
    },
    {
     "data": {
      "text/plain": [
       "<vcs.displayplot.Dp at 0x7f5a667c2d48>"
      ]
     },
     "execution_count": 15,
     "metadata": {},
     "output_type": "execute_result"
    }
   ],
   "source": [
    "out_data = []\n",
    "out_time_values = []\n",
    "for sel in selectors: # Loop through each monthly selection\n",
    "    for year in sel[0]:  # Loop through indices for each year\n",
    "        start = year[0]\n",
    "        end = year[-1]\n",
    "        # We lost the time axis, we need to recreate it\n",
    "        comp_time = tim_ac[start]\n",
    "        #print(\"Dealing with:\", comp_time)\n",
    "        # unifiy units\n",
    "        sub_tim = comp_time.torel(\"months since 2015\")\n",
    "        sub = data(time=slice(start, end+1))\n",
    "        #print(\"Value in file:\", sub_tim[0])\n",
    "        number = MV2.count(sub, axis=0) # This tells us for each cell how many days where available\n",
    "        # Now rshape data\n",
    "        out_data.append(number)\n",
    "        out_time_values.append(sub_tim.value)\n",
    "\n",
    "print(out_time_values) # not ordered\n",
    "\n",
    "x.clear()\n",
    "x.plot(out_data[0])  # First jan"
   ]
  },
  {
   "cell_type": "code",
   "execution_count": 16,
   "metadata": {},
   "outputs": [
    {
     "name": "stdout",
     "output_type": "stream",
     "text": [
      "[20 23  0  2  4  6  8 10 12 14 16 18 21 24  1  3  5  7  9 11 13 15 17 19\n",
      " 22 25]\n"
     ]
    }
   ],
   "source": [
    "indices = numpy.argsort(out_time_values)\n",
    "print(indices)"
   ]
  },
  {
   "cell_type": "code",
   "execution_count": 17,
   "metadata": {},
   "outputs": [
    {
     "name": "stderr",
     "output_type": "stream",
     "text": [
      "/1Tb/miniconda3/envs/jupyter-vcdat/lib/python3.7/site-packages/cdms2/dataset.py:2187: Warning: Files are written with compression and no shuffling\n",
      "You can query different values of compression using the functions:\n",
      "cdms2.getNetcdfShuffleFlag() returning 1 if shuffling is enabled, 0 otherwise\n",
      "cdms2.getNetcdfDeflateFlag() returning 1 if deflate is used, 0 otherwise\n",
      "cdms2.getNetcdfDeflateLevelFlag() returning the level of compression for the deflate method\n",
      "\n",
      "If you want to turn that off or set different values of compression use the functions:\n",
      "value = 0\n",
      "cdms2.setNetcdfShuffleFlag(value) ## where value is either 0 or 1\n",
      "cdms2.setNetcdfDeflateFlag(value) ## where value is either 0 or 1\n",
      "cdms2.setNetcdfDeflateLevelFlag(value) ## where value is a integer between 0 and 9 included\n",
      "\n",
      "To produce NetCDF3 Classic files use:\n",
      "cdms2.useNetCDF3()\n",
      "To Force NetCDF4 output with classic format and no compressing use:\n",
      "cdms2.setNetcdf4Flag(1)\n",
      "NetCDF4 file with no shuffling or deflate and noclassic will be open for parallel i/o\n",
      "  \"for parallel i/o\", Warning)\n"
     ]
    }
   ],
   "source": [
    "f = cdms2.open(\"monthly_number_of_data.nc\",\"w\")\n",
    "sub_time = cdms2.createAxis(out_time_values)\n",
    "sub_time.designateTime()\n",
    "sub_time.units = \"months since 2015\"\n",
    "new =[]\n",
    "for index in indices:\n",
    "    new.append(out_data[index])\n",
    "# You could also do:\n",
    "new = numpy.take(out_data, indices, axis=0)\n",
    "new = MV2.array(new)\n",
    "new.setAxisList((sub_time, lat, lon))\n",
    "\n",
    "f.write(new, id=data.id)\n",
    "f.close()"
   ]
  }
 ],
 "metadata": {
  "kernelspec": {
   "display_name": "Python 3",
   "language": "python",
   "name": "python3"
  },
  "language_info": {
   "codemirror_mode": {
    "name": "ipython",
    "version": 3
   },
   "file_extension": ".py",
   "mimetype": "text/x-python",
   "name": "python",
   "nbconvert_exporter": "python",
   "pygments_lexer": "ipython3",
   "version": "3.7.1"
  }
 },
 "nbformat": 4,
 "nbformat_minor": 2
}
