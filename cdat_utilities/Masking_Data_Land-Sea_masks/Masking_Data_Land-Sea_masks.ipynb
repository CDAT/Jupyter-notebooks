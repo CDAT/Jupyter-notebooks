{
 "cells": [
  {
   "cell_type": "markdown",
   "metadata": {},
   "source": [
    "# Masking Data Land-Sea Masks<a id='top' class=\"tocSkip\"> </a>\n",
    "\n",
    "In this example we will show how to generate masks, including land/sea masks\n",
    "\n",
    "\n",
    "© The CDAT software was developed by LLNL. This tutorial was written by Charles Doutriaux. This work was performed under the auspices of the U.S. Department of Energy by Lawrence Livermore National Laboratory under Contract DE-AC52-07NA27344.\n",
    "\n",
    "[Download the Jupyter Notebook](Masking_Data_Land-Sea_masks.ipynb)"
   ]
  },
  {
   "cell_type": "markdown",
   "metadata": {
    "toc": true
   },
   "source": [
    "<h1>Table of Contents<span class=\"tocSkip\"></span></h1>\n",
    "<div class=\"toc\"><ul class=\"toc-item\"><li><span><a href=\"#Preparing-the-Notebook\" data-toc-modified-id=\"Preparing-the-Notebook-1\">Preparing the Notebook</a></span></li><li><span><a href=\"#Value-based--masks\" data-toc-modified-id=\"Value-based--masks-2\">Value based  masks</a></span></li><li><span><a href=\"#Land-sea-Masks\" data-toc-modified-id=\"Land-sea-Masks-3\">Land-sea Masks</a></span><ul class=\"toc-item\"><li><span><a href=\"#Generating-a-Land-sea-Mask-on-any-grid\" data-toc-modified-id=\"Generating-a-Land-sea-Mask-on-any-grid-3.1\">Generating a Land-sea Mask on any grid</a></span></li><li><span><a href=\"#Surface-type-by-region-masks\" data-toc-modified-id=\"Surface-type-by-region-masks-3.2\">Surface type by region masks</a></span></li></ul></li></ul></div>"
   ]
  },
  {
   "cell_type": "markdown",
   "metadata": {},
   "source": [
    "## Preparing the Notebook\n",
    "[Back to Top](#top)"
   ]
  },
  {
   "cell_type": "code",
   "execution_count": null,
   "metadata": {},
   "outputs": [],
   "source": [
    "import requests\n",
    "r = requests.get(\"https://cdat.llnl.gov/cdat/sample_data/clt.nc\",stream=True)\n",
    "with open(\"clt.nc\",\"wb\") as f:\n",
    "    for chunk in r.iter_content(chunk_size=1024):\n",
    "        if chunk:  # filter local_filename keep-alive new chunks\n",
    "            f.write(chunk)\n",
    "\n",
    "# and load data\n",
    "import cdms2\n",
    "f = cdms2.open(\"clt.nc\")\n",
    "clt = f(\"clt\", time=slice(0,1), squeeze=1) # Get first month\n",
    "u = f(\"u\", level=slice(0,1), squeeze=1)\n",
    "v = f(\"v\", level=slice(0,1), squeeze=1)\n",
    "clt = clt.regrid(u.getGrid(), regridTool=\"regrid2\") # Put data on same grid\n",
    "\n",
    "# computes wind speed\n",
    "import MV2\n",
    "speed = MV2.sqrt(u**2+v**2)\n",
    "print \"Max speed:\", speed.max()\n",
    "print \"Mean speed:\",speed.mean()\n",
    "print \"Min speed:\",speed.min()\n",
    "\n",
    "# Prepare graphics\n",
    "import vcs\n",
    "x=vcs.init()"
   ]
  },
  {
   "cell_type": "markdown",
   "metadata": {},
   "source": [
    "## Value based  masks\n",
    "[Back to Top](#top)"
   ]
  },
  {
   "cell_type": "code",
   "execution_count": null,
   "metadata": {},
   "outputs": [],
   "source": [
    "# Let's mask out area where wind speed is greater than twice mean\n",
    "mask = MV2.greater(speed,speed.mean()*2.)\n",
    "\n",
    "# Let's apply this mask\n",
    "clt_masked = MV2.masked_where(mask,clt)\n",
    "x.plot(clt_masked)"
   ]
  },
  {
   "cell_type": "markdown",
   "metadata": {},
   "source": [
    "## Land-sea Masks\n",
    "[Back to Top](#top)"
   ]
  },
  {
   "cell_type": "markdown",
   "metadata": {},
   "source": [
    "### Generating a Land-sea Mask on any grid\n",
    "\n",
    "Conveniently CDAT can generate masks for you (for regular grids only).\n",
    "\n",
    "The observed data set used here as the basis for creating realistic model land/sea masks was obtained from the U.S. Navy on a 1/6 degree longitude-latitude grid.\n",
    "\n",
    "More on the technique used can be read [here](https://www-pcmdi.llnl.gov/publications/pdf/58.pdf)\n",
    "\n",
    "[Back to Top](#top)"
   ]
  },
  {
   "cell_type": "code",
   "execution_count": null,
   "metadata": {},
   "outputs": [],
   "source": [
    "import cdutil\n",
    "mask = cdutil.generateLandSeaMask(clt)\n",
    "mask2 = MV2.where(mask._mask,1.,mask) # Not needed for cdutil versions >= 2.12.2017.9.25\n",
    "mask2.setAxisList(mask.getAxisList()) # Not needed for cdutil versions >= 2.12.2017.9.25\n",
    "clt_masked = MV2.masked_where(mask2,clt)\n",
    "x.clear()\n",
    "x.plot(clt_masked)"
   ]
  },
  {
   "cell_type": "markdown",
   "metadata": {},
   "source": [
    "### Surface type by region masks\n",
    "\n",
    "CDAT also provide capabilities to mask regions. Original regions and their numbers come from [EzGet](http://github.com/uv-cdat/ezget)\n",
    "\n",
    "The function requires both a land/sea mask and a file reporting \"regions\", default \"region\" mask is as follow:\n",
    "<img src=\"colorgeog.png\">\n",
    "\n",
    "Regions tables is:\n",
    "<img src=\"table.png\">\n",
    "\n",
    "[Back to Top](#top)"
   ]
  },
  {
   "cell_type": "code",
   "execution_count": null,
   "metadata": {
    "scrolled": true
   },
   "outputs": [],
   "source": [
    "regions, guess = cdutil.generateSurfaceTypeByRegionMask(mask2*100., verbose=False)"
   ]
  },
  {
   "cell_type": "code",
   "execution_count": null,
   "metadata": {},
   "outputs": [],
   "source": [
    "# let's take a look\n",
    "x.clear()\n",
    "x.plot(regions)"
   ]
  },
  {
   "cell_type": "code",
   "execution_count": null,
   "metadata": {},
   "outputs": [],
   "source": [
    "# Now let's extract the indian ocean which according to table are area 205 and 206\n",
    "ind1 = MV2.equal(regions,205)\n",
    "ind2 = MV2.equal(regions,206)\n",
    "indian_ocean = MV2.logical_or(ind1,ind2)\n",
    "\n",
    "clt_indian_ocean = MV2.masked_where(MV2.logical_not(indian_ocean),clt)\n",
    "x.clear()\n",
    "x.plot(clt_indian_ocean(longitude=(15,150),latitude=(-90,35)),ratio=\"autot\")"
   ]
  }
 ],
 "metadata": {
  "kernelspec": {
   "display_name": "Python 2",
   "language": "python",
   "name": "python2"
  },
  "language_info": {
   "codemirror_mode": {
    "name": "ipython",
    "version": 2
   },
   "file_extension": ".py",
   "mimetype": "text/x-python",
   "name": "python",
   "nbconvert_exporter": "python",
   "pygments_lexer": "ipython2",
   "version": "2.7.15"
  },
  "toc": {
   "base_numbering": 1,
   "nav_menu": {},
   "number_sections": false,
   "sideBar": true,
   "skip_h1_title": false,
   "title_cell": "Table of Contents",
   "title_sidebar": "Contents",
   "toc_cell": true,
   "toc_position": {},
   "toc_section_display": true,
   "toc_window_display": false
  }
 },
 "nbformat": 4,
 "nbformat_minor": 2
}
