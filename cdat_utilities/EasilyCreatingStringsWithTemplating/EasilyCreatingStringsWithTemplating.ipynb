{
 "cells": [
  {
   "cell_type": "markdown",
   "metadata": {},
   "source": [
    "# Easily Creating Strings with Templating<a id='top' class=\"tocSkip\"> </a>\n",
    "\n",
    "© The CDAT software was developed by LLNL. This tutorial was written by Charles Doutriaux. This work was performed under the auspices of the U.S. Department of Energy by Lawrence Livermore National Laboratory under Contract DE-AC52-07NA27344.\n",
    "\n",
    "\n",
    "\n",
    "[Download the Jupyter Notebook](EasilyCreatingStringsWithTemplating.ipynb)"
   ]
  },
  {
   "cell_type": "markdown",
   "metadata": {
    "toc": true
   },
   "source": [
    "<h1>Table of Contents<span class=\"tocSkip\"></span></h1>\n",
    "<div class=\"toc\"><ul class=\"toc-item\"><li><span><a href=\"#Define-Your-String-Template\" data-toc-modified-id=\"Define-Your-String-Template-1\">Define Your String Template</a></span></li></ul></div>"
   ]
  },
  {
   "cell_type": "markdown",
   "metadata": {},
   "source": [
    "# Define Your String Template\n",
    "\n",
    "[Back to Top](#top)"
   ]
  },
  {
   "cell_type": "code",
   "execution_count": 1,
   "metadata": {},
   "outputs": [
    {
     "name": "stdout",
     "output_type": "stream",
     "text": [
      "My file path is: blah/tas.CNRM.nc\n"
     ]
    }
   ],
   "source": [
    "import genutil\n",
    "# Define your string template\n",
    "file_template = \"%(path)/%(variable).%(model).nc\"\n",
    "# Create a StringConstructor object\n",
    "S = genutil.StringConstructor(file_template)\n",
    "# Fill the StringConstructor with the values for each key\n",
    "S.path = \"blah\"\n",
    "S.variable = \"tas\"\n",
    "S.model= \"CNRM\"\n",
    "my_path = S()\n",
    "print \"My file path is:\",my_path"
   ]
  },
  {
   "cell_type": "code",
   "execution_count": 2,
   "metadata": {},
   "outputs": [
    {
     "name": "stdout",
     "output_type": "stream",
     "text": [
      "My file path for variable 'pr' is: blah/pr.CNRM.nc\n"
     ]
    }
   ],
   "source": [
    "# You can also pass keys at retrieval time\n",
    "print \"My file path for variable 'pr' is:\",S(variable=\"pr\")"
   ]
  },
  {
   "cell_type": "code",
   "execution_count": 3,
   "metadata": {},
   "outputs": [
    {
     "name": "stdout",
     "output_type": "stream",
     "text": [
      "PATH IS: blah/tas.modelA.nc\n",
      "PATH IS: blah/pr.modelA.nc\n",
      "PATH IS: blah/zg.modelA.nc\n",
      "PATH IS: blah/u.modelA.nc\n",
      "PATH IS: blah/v.modelA.nc\n",
      "PATH IS: blah/tas.modelB.nc\n",
      "PATH IS: blah/pr.modelB.nc\n",
      "PATH IS: blah/zg.modelB.nc\n",
      "PATH IS: blah/u.modelB.nc\n",
      "PATH IS: blah/v.modelB.nc\n",
      "PATH IS: blah/tas.modelC.nc\n",
      "PATH IS: blah/pr.modelC.nc\n",
      "PATH IS: blah/zg.modelC.nc\n",
      "PATH IS: blah/u.modelC.nc\n",
      "PATH IS: blah/v.modelC.nc\n"
     ]
    }
   ],
   "source": [
    "# You can easily loop through keys like this:\n",
    "for model in [\"modelA\",\"modelB\",\"modelC\"]:\n",
    "    for variable in [\"tas\",\"pr\",\"zg\",\"u\",\"v\"]:\n",
    "        S.model = model\n",
    "        path = S(variable=variable)\n",
    "        print \"PATH IS:\",path"
   ]
  },
  {
   "cell_type": "code",
   "execution_count": 4,
   "metadata": {},
   "outputs": [
    {
     "name": "stdout",
     "output_type": "stream",
     "text": [
      "key/values pairs: {'variable': 'v', 'path': 'blah', 'model': 'modelC'}\n"
     ]
    }
   ],
   "source": [
    "# in some case you can even reverse ingeneer\n",
    "print \"key/values pairs:\",S.reverse(path)"
   ]
  },
  {
   "cell_type": "code",
   "execution_count": null,
   "metadata": {},
   "outputs": [],
   "source": []
  },
  {
   "cell_type": "code",
   "execution_count": null,
   "metadata": {},
   "outputs": [],
   "source": []
  }
 ],
 "metadata": {
  "anaconda-cloud": {},
  "kernelspec": {
   "display_name": "Python 2",
   "language": "python",
   "name": "python2"
  },
  "language_info": {
   "codemirror_mode": {
    "name": "ipython",
    "version": 2
   },
   "file_extension": ".py",
   "mimetype": "text/x-python",
   "name": "python",
   "nbconvert_exporter": "python",
   "pygments_lexer": "ipython2",
   "version": "2.7.15"
  },
  "toc": {
   "base_numbering": 1,
   "nav_menu": {},
   "number_sections": false,
   "sideBar": true,
   "skip_h1_title": false,
   "title_cell": "Table of Contents",
   "title_sidebar": "Contents",
   "toc_cell": true,
   "toc_position": {},
   "toc_section_display": true,
   "toc_window_display": false
  }
 },
 "nbformat": 4,
 "nbformat_minor": 1
}
