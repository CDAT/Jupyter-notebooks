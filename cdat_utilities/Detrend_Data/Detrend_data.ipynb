{
 "cells": [
  {
   "cell_type": "markdown",
   "metadata": {
    "toc": true
   },
   "source": [
    "<h1>Table of Contents<span class=\"tocSkip\"></span></h1>\n",
    "<div class=\"toc\"><ul class=\"toc-item\"><li><span><a href=\"#Prepare-Notebook\" data-toc-modified-id=\"Prepare-Notebook-1\">Prepare Notebook</a></span></li><li><span><a href=\"#Load-the-Data\" data-toc-modified-id=\"Load-the-Data-2\">Load the Data</a></span></li><li><span><a href=\"#Detrend-Data\" data-toc-modified-id=\"Detrend-Data-3\">Detrend Data</a></span></li><li><span><a href=\"#Plot-Data\" data-toc-modified-id=\"Plot-Data-4\">Plot Data</a></span></li></ul></div>"
   ]
  },
  {
   "cell_type": "markdown",
   "metadata": {},
   "source": [
    "## Prepare Notebook\n",
    "[Back to Top](#top)"
   ]
  },
  {
   "cell_type": "code",
   "execution_count": null,
   "metadata": {},
   "outputs": [],
   "source": [
    "from __future__ import print_function\n",
    "import cdms2\n",
    "import genutil\n",
    "import vcs\n",
    "import requests\n",
    "import os\n",
    "\n",
    "filename = 'tas_Amon_IPSL-CM5A-LR_1pctCO2_r1i1p1_185001-198912.nc'\n",
    "if not os.path.exists(filename):\n",
    "    r = requests.get(\"https://cdat.llnl.gov/cdat/sample_data/notebooks/{}\".format(filename), stream=True)\n",
    "    with open(filename,\"wb\") as f:\n",
    "        for chunk in r.iter_content(chunk_size=1024):\n",
    "            if chunk:  # filter local_filename keep-alive new chunks\n",
    "                f.write(chunk)\n"
   ]
  },
  {
   "cell_type": "markdown",
   "metadata": {},
   "source": [
    "## Load the Data\n",
    "[Back to Top](#top)"
   ]
  },
  {
   "cell_type": "code",
   "execution_count": null,
   "metadata": {},
   "outputs": [],
   "source": [
    "tas_file = cdms2.open(filename)\n",
    "\n",
    "tas = tas_file(\"tas\")\n",
    "print(\"Shape: tas {}\".format(tas.shape))"
   ]
  },
  {
   "cell_type": "markdown",
   "metadata": {},
   "source": [
    "## Detrend Data\n",
    "[Back to Top](#top)"
   ]
  },
  {
   "cell_type": "markdown",
   "metadata": {},
   "source": [
    "First we will compute the trend, other `time` note that the index of time can be anything, `genutil` will determine its index.\n",
    "\n",
    "After computation we lose the time axis, also note the uniots, based on units on time axis"
   ]
  },
  {
   "cell_type": "code",
   "execution_count": null,
   "metadata": {},
   "outputs": [],
   "source": [
    "coeff, intercept = genutil.statistics.linearregression(tas, axis=\"t\")\n",
    "\n",
    "print(\"Shapes: coeff {}, intercept {}\".format(coeff.shape, intercept.shape))\n",
    "print(\"Units: {}\".format(coeff.units))"
   ]
  },
  {
   "cell_type": "markdown",
   "metadata": {},
   "source": [
    "Now we need to remove the trend (detrend)"
   ]
  },
  {
   "cell_type": "code",
   "execution_count": null,
   "metadata": {},
   "outputs": [],
   "source": [
    "detrended = tas - tas*coeff"
   ]
  },
  {
   "cell_type": "markdown",
   "metadata": {},
   "source": [
    "## Plot Data\n",
    "[Back to Top](#top)"
   ]
  },
  {
   "cell_type": "markdown",
   "metadata": {},
   "source": [
    "For clarity we will plot the time series only"
   ]
  },
  {
   "cell_type": "code",
   "execution_count": null,
   "metadata": {},
   "outputs": [],
   "source": [
    "ts = genutil.averager(tas, axis='xy')\n",
    "ts_detrended = genutil.averager(detrended, axis=\"xy\")"
   ]
  },
  {
   "cell_type": "code",
   "execution_count": null,
   "metadata": {
    "scrolled": true
   },
   "outputs": [],
   "source": [
    "x = vcs.init(bg=True,geometry=(600,400))\n",
    "red = vcs.create1d()\n",
    "# Set color\n",
    "red.linecolor = \"red\"\n",
    "# Set y domain\n",
    "red.datawc_y1 = 55\n",
    "red.datawc_y2 = 65\n",
    "# create a copy for blue line\n",
    "blue = vcs.create1d(source=red)\n",
    "# reset the color\n",
    "blue.linecolor = \"blue\"\n",
    "x.plot(ts, red)\n",
    "x.plot(ts_detrended, blue)\n",
    "#x.clear()\n",
    "#x.plot(coeff)"
   ]
  },
  {
   "cell_type": "code",
   "execution_count": null,
   "metadata": {
    "scrolled": true
   },
   "outputs": [],
   "source": [
    "f = cdms2.open(\"https://vesg.ipsl.upmc.fr/thredds/dodsC/cmip5/output1/IPSL/IPSL-CM5A-LR/1pctCO2/mon/atmos/Amon/r1i1p1/v20110427/tas/tas_Amon_IPSL-CM5A-LR_1pctCO2_r1i1p1_185001-198912.nc\")"
   ]
  }
 ],
 "metadata": {
  "kernelspec": {
   "display_name": "Python 2",
   "language": "python",
   "name": "python2"
  },
  "language_info": {
   "codemirror_mode": {
    "name": "ipython",
    "version": 2
   },
   "file_extension": ".py",
   "mimetype": "text/x-python",
   "name": "python",
   "nbconvert_exporter": "python",
   "pygments_lexer": "ipython2",
   "version": "2.7.15"
  },
  "toc": {
   "base_numbering": 1,
   "nav_menu": {},
   "number_sections": false,
   "sideBar": true,
   "skip_h1_title": false,
   "title_cell": "Table of Contents",
   "title_sidebar": "Contents",
   "toc_cell": true,
   "toc_position": {},
   "toc_section_display": true,
   "toc_window_display": false
  }
 },
 "nbformat": 4,
 "nbformat_minor": 2
}
