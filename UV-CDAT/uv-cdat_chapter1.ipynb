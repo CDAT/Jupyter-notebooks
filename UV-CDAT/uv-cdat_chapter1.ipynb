{
 "cells": [
  {
   "cell_type": "markdown",
   "metadata": {},
   "source": [
    "# UV CDAT Utilities Manual - Chapter 1 Climate Data Specific Utilities: The cdutil Package\n",
    "\n",
    "\n",
    "\n",
    "© The CDAT software was developed by LLNL. This tutorial was written by Charles Doutriaux. This work was performed under the auspices of the U.S. Department of Energy by Lawrence Livermore National Laboratory under Contract DE-AC52-07NA27344.\n",
    "\n",
    "\n",
    "[Download the Jupyter Notebook](uv-cdat_chapter1.ipynb)"
   ]
  },
  {
   "cell_type": "markdown",
   "metadata": {
    "toc": true
   },
   "source": [
    "<h1>Table of Contents<span class=\"tocSkip\"></span></h1>\n",
    "<div class=\"toc\"><ul class=\"toc-item\"><li><span><a href=\"#Overview\" data-toc-modified-id=\"Overview-1\"><span class=\"toc-item-num\">1&nbsp;&nbsp;</span>Overview</a></span></li><li><span><a href=\"#Spatial-Averaging,-Area-weighting,-domain-definition\" data-toc-modified-id=\"Spatial-Averaging,-Area-weighting,-domain-definition-2\"><span class=\"toc-item-num\">2&nbsp;&nbsp;</span>Spatial Averaging, Area weighting, domain definition</a></span><ul class=\"toc-item\"><li><span><a href=\"#Usage:\" data-toc-modified-id=\"Usage:-2.1\"><span class=\"toc-item-num\">2.1&nbsp;&nbsp;</span>Usage:</a></span></li><li><span><a href=\"#Options:\" data-toc-modified-id=\"Options:-2.2\"><span class=\"toc-item-num\">2.2&nbsp;&nbsp;</span>Options:</a></span><ul class=\"toc-item\"><li><span><a href=\"#axisoptions\" data-toc-modified-id=\"axisoptions-2.2.1\"><span class=\"toc-item-num\">2.2.1&nbsp;&nbsp;</span>axisoptions</a></span></li><li><span><a href=\"#weightoptions:-'generate'-|-'weighted'-|-'equal'-|-'unweighted'-|-array-|-Masked-Variable\" data-toc-modified-id=\"weightoptions:-'generate'-|-'weighted'-|-'equal'-|-'unweighted'-|-array-|-Masked-Variable-2.2.2\"><span class=\"toc-item-num\">2.2.2&nbsp;&nbsp;</span>weightoptions: 'generate' | 'weighted' | 'equal' | 'unweighted' | array | Masked Variable</a></span></li><li><span><a href=\"#actionoptions:-'average'-|-'sum'\" data-toc-modified-id=\"actionoptions:-'average'-|-'sum'-2.2.3\"><span class=\"toc-item-num\">2.2.3&nbsp;&nbsp;</span>actionoptions: 'average' | 'sum'</a></span></li><li><span><a href=\"#returnedoptions:-0-|-1\" data-toc-modified-id=\"returnedoptions:-0-|-1-2.2.4\"><span class=\"toc-item-num\">2.2.4&nbsp;&nbsp;</span>returnedoptions: 0 | 1</a></span></li><li><span><a href=\"#combinewtsoption:-0-|-1\" data-toc-modified-id=\"combinewtsoption:-0-|-1-2.2.5\"><span class=\"toc-item-num\">2.2.5&nbsp;&nbsp;</span>combinewtsoption: 0 | 1</a></span></li></ul></li><li><span><a href=\"#Examples:\" data-toc-modified-id=\"Examples:-2.3\"><span class=\"toc-item-num\">2.3&nbsp;&nbsp;</span>Examples:</a></span><ul class=\"toc-item\"><li><ul class=\"toc-item\"><li><span><a href=\"#Computing-Weights-using-area-weights.\" data-toc-modified-id=\"Computing-Weights-using-area-weights.-2.3.0.1\"><span class=\"toc-item-num\">2.3.0.1&nbsp;&nbsp;</span>Computing Weights using area weights.</a></span></li><li><span><a href=\"#Defining-precise-domains:\" data-toc-modified-id=\"Defining-precise-domains:-2.3.0.2\"><span class=\"toc-item-num\">2.3.0.2&nbsp;&nbsp;</span>Defining precise domains:</a></span></li></ul></li></ul></li></ul></li><li><span><a href=\"#Temporal-Averaging\" data-toc-modified-id=\"Temporal-Averaging-3\"><span class=\"toc-item-num\">3&nbsp;&nbsp;</span>Temporal Averaging</a></span><ul class=\"toc-item\"><li><span><a href=\"#Predefined-time-averaging-functions\" data-toc-modified-id=\"Predefined-time-averaging-functions-3.1\"><span class=\"toc-item-num\">3.1&nbsp;&nbsp;</span>Predefined time averaging functions</a></span></li><li><span><a href=\"#Creating-Custom-Seasons\" data-toc-modified-id=\"Creating-Custom-Seasons-3.2\"><span class=\"toc-item-num\">3.2&nbsp;&nbsp;</span>Creating Custom Seasons</a></span></li><li><span><a href=\"#Specifying-time-periods-for-climatologies.\" data-toc-modified-id=\"Specifying-time-periods-for-climatologies.-3.3\"><span class=\"toc-item-num\">3.3&nbsp;&nbsp;</span>Specifying time periods for climatologies.</a></span></li><li><span><a href=\"#Specifying-Data-Coverage-Criteria\" data-toc-modified-id=\"Specifying-Data-Coverage-Criteria-3.4\"><span class=\"toc-item-num\">3.4&nbsp;&nbsp;</span>Specifying Data Coverage Criteria</a></span></li></ul></li><li><span><a href=\"#Preparing-Datasets-for-Comparison-(VariableConditioner-and-VariablesMatcher)\" data-toc-modified-id=\"Preparing-Datasets-for-Comparison-(VariableConditioner-and-VariablesMatcher)-4\"><span class=\"toc-item-num\">4&nbsp;&nbsp;</span>Preparing Datasets for Comparison (VariableConditioner and VariablesMatcher)</a></span><ul class=\"toc-item\"><li><span><a href=\"#Introduction\" data-toc-modified-id=\"Introduction-4.1\"><span class=\"toc-item-num\">4.1&nbsp;&nbsp;</span>Introduction</a></span></li><li><span><a href=\"#Description-of-supporting-objects.\" data-toc-modified-id=\"Description-of-supporting-objects.-4.2\"><span class=\"toc-item-num\">4.2&nbsp;&nbsp;</span>Description of supporting objects.</a></span></li><li><span><a href=\"#WeightsMaker-Object\" data-toc-modified-id=\"WeightsMaker-Object-4.3\"><span class=\"toc-item-num\">4.3&nbsp;&nbsp;</span>WeightsMaker Object</a></span><ul class=\"toc-item\"><li><span><a href=\"#Definition\" data-toc-modified-id=\"Definition-4.3.1\"><span class=\"toc-item-num\">4.3.1&nbsp;&nbsp;</span>Definition</a></span></li><li><span><a href=\"#Options:\" data-toc-modified-id=\"Options:-4.3.2\"><span class=\"toc-item-num\">4.3.2&nbsp;&nbsp;</span>Options:</a></span></li><li><span><a href=\"#Usage:\" data-toc-modified-id=\"Usage:-4.3.3\"><span class=\"toc-item-num\">4.3.3&nbsp;&nbsp;</span>Usage:</a></span></li></ul></li><li><span><a href=\"#WeightedGridMaker-Object.\" data-toc-modified-id=\"WeightedGridMaker-Object.-4.4\"><span class=\"toc-item-num\">4.4&nbsp;&nbsp;</span>WeightedGridMaker Object.</a></span><ul class=\"toc-item\"><li><span><a href=\"#Definition\" data-toc-modified-id=\"Definition-4.4.1\"><span class=\"toc-item-num\">4.4.1&nbsp;&nbsp;</span>Definition</a></span></li><li><span><a href=\"#Options:\" data-toc-modified-id=\"Options:-4.4.2\"><span class=\"toc-item-num\">4.4.2&nbsp;&nbsp;</span>Options:</a></span></li><li><span><a href=\"#Usage:\" data-toc-modified-id=\"Usage:-4.4.3\"><span class=\"toc-item-num\">4.4.3&nbsp;&nbsp;</span>Usage:</a></span></li></ul></li><li><span><a href=\"#VariableConditioner-Object\" data-toc-modified-id=\"VariableConditioner-Object-4.5\"><span class=\"toc-item-num\">4.5&nbsp;&nbsp;</span>VariableConditioner Object</a></span><ul class=\"toc-item\"><li><span><a href=\"#Definition\" data-toc-modified-id=\"Definition-4.5.1\"><span class=\"toc-item-num\">4.5.1&nbsp;&nbsp;</span>Definition</a></span></li><li><span><a href=\"#Options:\" data-toc-modified-id=\"Options:-4.5.2\"><span class=\"toc-item-num\">4.5.2&nbsp;&nbsp;</span>Options:</a></span></li><li><span><a href=\"#Usage:\" data-toc-modified-id=\"Usage:-4.5.3\"><span class=\"toc-item-num\">4.5.3&nbsp;&nbsp;</span>Usage:</a></span></li></ul></li><li><span><a href=\"#VariablesMatcher-Object\" data-toc-modified-id=\"VariablesMatcher-Object-4.6\"><span class=\"toc-item-num\">4.6&nbsp;&nbsp;</span>VariablesMatcher Object</a></span><ul class=\"toc-item\"><li><span><a href=\"#Definiation\" data-toc-modified-id=\"Definiation-4.6.1\"><span class=\"toc-item-num\">4.6.1&nbsp;&nbsp;</span>Definiation</a></span></li><li><span><a href=\"#Options:\" data-toc-modified-id=\"Options:-4.6.2\"><span class=\"toc-item-num\">4.6.2&nbsp;&nbsp;</span>Options:</a></span></li><li><span><a href=\"#Usage:\" data-toc-modified-id=\"Usage:-4.6.3\"><span class=\"toc-item-num\">4.6.3&nbsp;&nbsp;</span>Usage:</a></span></li></ul></li><li><span><a href=\"#Examples\" data-toc-modified-id=\"Examples-4.7\"><span class=\"toc-item-num\">4.7&nbsp;&nbsp;</span>Examples</a></span><ul class=\"toc-item\"><li><span><a href=\"#A-simple-example\" data-toc-modified-id=\"A-simple-example-4.7.1\"><span class=\"toc-item-num\">4.7.1&nbsp;&nbsp;</span>A simple example</a></span></li><li><span><a href=\"#A-more-complicated-example\" data-toc-modified-id=\"A-more-complicated-example-4.7.2\"><span class=\"toc-item-num\">4.7.2&nbsp;&nbsp;</span>A more complicated example</a></span></li><li><span><a href=\"#A-very-complicated-example\" data-toc-modified-id=\"A-very-complicated-example-4.7.3\"><span class=\"toc-item-num\">4.7.3&nbsp;&nbsp;</span>A very complicated example</a></span></li></ul></li></ul></li></ul></div>"
   ]
  },
  {
   "cell_type": "markdown",
   "metadata": {},
   "source": [
    "# Introduction \n",
    "\n",
    "## Overview\n",
    "[Back to Top](#top)"
   ]
  },
  {
   "cell_type": "markdown",
   "metadata": {},
   "source": [
    "## Spatial Averaging, Area weighting, domain definition\n",
    "Spatial averaging using the averager function\n",
    "\n",
    "Area averaging is one of the most common data reduction procedures used in climate data analysis. The cdutil package\n",
    "has a powerful area averaging function. The averager() function provides a convenient way of averaging your data giving\n",
    "you control over the order of operations (i.e which dimensions are averaged over first) and also the weighting for the\n",
    "different axes. You can pass your own array of weights for each dimension or use the default (grid) weights or specify\n",
    "equal weighting.\n",
    "\n",
    "[Back to Top](#top)"
   ]
  },
  {
   "cell_type": "markdown",
   "metadata": {},
   "source": [
    "### Usage:"
   ]
  },
  {
   "cell_type": "markdown",
   "metadata": {
    "scrolled": true
   },
   "source": [
    "result = averager ( V, axis= axisoptions , weights= weightoptions , action= actionoptions , returned= returnedoptions , combinewts=combinewtsoptions )\n",
    "\n",
    "[Back to Top](#top)"
   ]
  },
  {
   "cell_type": "markdown",
   "metadata": {},
   "source": [
    "### Options:\n",
    "\n",
    "[Back to Top](#top)"
   ]
  },
  {
   "cell_type": "markdown",
   "metadata": {},
   "source": [
    "#### axisoptions\n",
    "\n",
    "    Default: 0 (the first dimension in the data you pass to the function).\n",
    "        Restrictions: axisoptions has to be a string. You can pass axis='tyx', or '123', or 'x (plev)' etc. the same\n",
    "        way as in order= options for variable operations EXCEPT that '...' (i.e Ellipses) are not allowed. If V is an\n",
    "        array of type Numeric or MA, the axisoptions can only be of the form '123'."
   ]
  },
  {
   "cell_type": "markdown",
   "metadata": {},
   "source": [
    "#### weightoptions: 'generate' | 'weighted' | 'equal' | 'unweighted' | array | Masked Variable\n",
    "    Default:\n",
    "\n",
    "    'weighted' for Transient Variables (MVs)\n",
    "    'unweighted' for MA or Numeric arrays.\n",
    "\n",
    "Note that depending on the array being operated on by averager, the default weights change!\n",
    "'weighted' or 'generate' means the averaging uses the grid information to generate weights for that dimension.\n",
    "'equal' or 'unweighted' means use equal weights for all the grid points in that axis.\n",
    "array is an array of weights (of the same shape as the dimension being averaged over or same shape as V) can be passed.\n",
    "\n",
    "Masked Variable means an MV of the same shape as V can be passed.\n",
    "\n",
    "Additional Notes:\n",
    "\n",
    "    'generate' or 'weighted':\n",
    "        The weights are generated using the bounds for the specified axis. For latitude and longitude, the weights are\n",
    "        calculated using the area (see the cdms manual grid.getWeights() for more details) whereas for the other axes\n",
    "        weights are the difference between the bounds (when the bounds are available). If the bounds are stored in the\n",
    "        file being read in, then those values are used. Otherwise, bounds are generated as long as cdms.setAutoBounds\n",
    "        ('on') is set. If cdms.setAutoBounds() is set to 'off', then an Error is raised."
   ]
  },
  {
   "cell_type": "markdown",
   "metadata": {},
   "source": [
    "#### actionoptions: 'average' | 'sum'\n",
    "\n",
    "    Default: 'average'\n",
    "\n",
    "    You can either return the weighted average or the weighted sum of the data."
   ]
  },
  {
   "cell_type": "markdown",
   "metadata": {},
   "source": [
    "#### returnedoptions: 0 | 1\n",
    "\n",
    "    Default: 0\n",
    "\n",
    "    0 implies that the sum of weights are not returned after averaging operation).\n",
    "\n",
    "    1 implies that the sum of weights after the average operation is returned.\n"
   ]
  },
  {
   "cell_type": "markdown",
   "metadata": {},
   "source": [
    "#### combinewtsoption: 0 | 1\n",
    "\n",
    "    Default: 0\n",
    "\n",
    "    0 implies weights passed for individual axes are not combined into one weight array for the full variable V before\n",
    "    performing operation.\n",
    "\n",
    "    1 implies weights passed for individual axes are combined into one weight array for the full variable before\n",
    "    performing average or sum operations. One- dimensional weight arrays or key words of ‘weighted’ or ‘unweighted’ \n",
    "    must be passed for the axes over which the operation is to be performed.\n",
    "\n",
    "    Additionally, weights for axes that are not being averaged or summed may also bepassed in the order in which they\n",
    "    appear. If the weights for the other axes are not passed, they are assumed to be equally weighted."
   ]
  },
  {
   "cell_type": "markdown",
   "metadata": {},
   "source": [
    "### Examples:\n",
    "\n",
    "[Back to Top](#top)"
   ]
  },
  {
   "cell_type": "code",
   "execution_count": 3,
   "metadata": {},
   "outputs": [
    {
     "ename": "SyntaxError",
     "evalue": "unexpected character after line continuation character (<ipython-input-3-99d3c0ae58ca>, line 19)",
     "output_type": "error",
     "traceback": [
      "\u001b[0;36m  File \u001b[0;32m\"<ipython-input-3-99d3c0ae58ca>\"\u001b[0;36m, line \u001b[0;32m19\u001b[0m\n\u001b[0;31m    Vavg = cdutil.averager(V, axis='xy', \\ weights=['generate','equal'])\u001b[0m\n\u001b[0m                                                                        ^\u001b[0m\n\u001b[0;31mSyntaxError\u001b[0m\u001b[0;31m:\u001b[0m unexpected character after line continuation character\n"
     ]
    }
   ],
   "source": [
    ">>> import cdms, cdutil\n",
    ">>> f = cdms.open('data_file_name')\n",
    ">>> result = cdutil.averager(f('var_name'), axis='1')\n",
    "# extracts the variable 'var_name' from f\n",
    "# and averages over the dimension whose position is 1.\n",
    "# Since no other options are specified,\n",
    "# defaults kick in i.e weights='generate' (same as\n",
    "# weights='weighted') and returned=0\n",
    "# Some ways of using the averager are shown below.\n",
    "#\n",
    "# A quick zonal mean calculation would be:\n",
    ">>> V_zonal_ave = cdutil.averager(V, axis='x')\n",
    "# In the above case, default weights option of\n",
    "# 'generate' (or 'weighted') is implemented\n",
    "#\n",
    "# If you want to average first over the x (longitude)\n",
    "# dimension with area weighting and then over\n",
    "# y (latitude) with equal weighting, then you would:\n",
    ">>> Vavg = cdutil.averager(V, axis='xy', \\ weights=['generate','equal'])\n",
    "# Similarly for equally weighted time averaging:\n",
    ">>> cdutil.averager(V, axis='t', weights='equal')\n",
    "#\n",
    ">>> cdutil.averager(V, axis='x', weights=mywts)\n",
    "# where mywts is an array of shape (len(xaxis))\n",
    "# or shape(V)\n",
    "#\n",
    ">>> cdutil.averager(V, axis='(lon)y', weights=[myxwts, myywts])\n",
    "# where myxwts is of shape len(xaxis) and\n",
    "# myywts is of shape len(yaxis)\n",
    "#\n",
    ">>> cdutil.averager(V, axis='xy', weights=V_wts)\n",
    "# where V_wts is a Masked Variable of shape V\n",
    "# or\n",
    ">>> cdutil.averager(V, axis='x', weights='equal', action='sum')\n",
    "# will return the equally weighted sum\n",
    "# over the x dimension or\n",
    ">>> ywt = cdutil.area_weights(y)\n",
    ">>> fractional_area= cdutil.averager(ywt, axis='xy',\\\n",
    "weights=['equal','equal'],\\\n",
    "action='sum')\n",
    "# is a good way to compute the area fraction that the\n",
    "# data y that is non-missing"
   ]
  },
  {
   "cell_type": "markdown",
   "metadata": {},
   "source": [
    "Note: When averaging data with missing values, extra care needs to be taken. It is recommended that you use the default weights='generate' option. This uses cdutil.area_weights(V) to get the correct weights to pass to the averager."
   ]
  },
  {
   "cell_type": "code",
   "execution_count": 4,
   "metadata": {},
   "outputs": [
    {
     "ename": "NameError",
     "evalue": "name 'cdutil' is not defined",
     "output_type": "error",
     "traceback": [
      "\u001b[0;31m---------------------------------------------------------------------------\u001b[0m",
      "\u001b[0;31mNameError\u001b[0m                                 Traceback (most recent call last)",
      "\u001b[0;32m<ipython-input-4-29d982abe38f>\u001b[0m in \u001b[0;36m<module>\u001b[0;34m()\u001b[0m\n\u001b[0;32m----> 1\u001b[0;31m \u001b[0mcdutil\u001b[0m\u001b[0;34m.\u001b[0m\u001b[0maverager\u001b[0m\u001b[0;34m(\u001b[0m\u001b[0mV\u001b[0m\u001b[0;34m,\u001b[0m \u001b[0maxis\u001b[0m\u001b[0;34m=\u001b[0m\u001b[0;34m'xy'\u001b[0m\u001b[0;34m,\u001b[0m \u001b[0mweight\u001b[0m\u001b[0;34m=\u001b[0m\u001b[0;34m'generate'\u001b[0m\u001b[0;34m)\u001b[0m\u001b[0;34m\u001b[0m\u001b[0m\n\u001b[0m\u001b[1;32m      2\u001b[0m \u001b[0;31m# The above is equivalent to:\u001b[0m\u001b[0;34m\u001b[0m\u001b[0;34m\u001b[0m\u001b[0m\n\u001b[1;32m      3\u001b[0m \u001b[0mV_wts\u001b[0m \u001b[0;34m=\u001b[0m \u001b[0mcdutil\u001b[0m\u001b[0;34m.\u001b[0m\u001b[0marea_weights\u001b[0m\u001b[0;34m(\u001b[0m\u001b[0mV\u001b[0m\u001b[0;34m)\u001b[0m\u001b[0;34m\u001b[0m\u001b[0m\n\u001b[1;32m      4\u001b[0m \u001b[0mresult\u001b[0m \u001b[0;34m=\u001b[0m \u001b[0mcdutil\u001b[0m\u001b[0;34m.\u001b[0m\u001b[0maverager\u001b[0m\u001b[0;34m(\u001b[0m\u001b[0mV\u001b[0m\u001b[0;34m,\u001b[0m \u001b[0maxis\u001b[0m\u001b[0;34m=\u001b[0m\u001b[0;34m'xy'\u001b[0m\u001b[0;34m,\u001b[0m \u001b[0mweight\u001b[0m\u001b[0;34m=\u001b[0m\u001b[0mV_wts\u001b[0m\u001b[0;34m)\u001b[0m\u001b[0;34m\u001b[0m\u001b[0m\n\u001b[1;32m      5\u001b[0m \u001b[0;31m#\u001b[0m\u001b[0;34m\u001b[0m\u001b[0;34m\u001b[0m\u001b[0m\n",
      "\u001b[0;31mNameError\u001b[0m: name 'cdutil' is not defined"
     ]
    }
   ],
   "source": [
    ">>> cdutil.averager(V, axis='xy', weight='generate')\n",
    "# The above is equivalent to:\n",
    ">>> V_wts = cdutil.area_weights(V)\n",
    ">>> result = cdutil.averager(V, axis='xy', weight=V_wts)\n",
    "#\n",
    ">>> result = cdutil.averager(V, axis='xy', weight=cdutil.area_weights(V))"
   ]
  },
  {
   "cell_type": "markdown",
   "metadata": {},
   "source": [
    "However, the area_weights function requires that the axis bounds are stored or can be calculated. In the case that such weights are not stored with the axis specifications (or the user desires to specify weights from another source), the use of combinewts option can produce the same results. In short, the following two are equivalent:"
   ]
  },
  {
   "cell_type": "code",
   "execution_count": 5,
   "metadata": {},
   "outputs": [
    {
     "ename": "NameError",
     "evalue": "name 'averager' is not defined",
     "output_type": "error",
     "traceback": [
      "\u001b[0;31m---------------------------------------------------------------------------\u001b[0m",
      "\u001b[0;31mNameError\u001b[0m                                 Traceback (most recent call last)",
      "\u001b[0;32m<ipython-input-5-fc6dee19bcb0>\u001b[0m in \u001b[0;36m<module>\u001b[0;34m()\u001b[0m\n\u001b[0;32m----> 1\u001b[0;31m \u001b[0mxavg_1\u001b[0m \u001b[0;34m=\u001b[0m \u001b[0maverager\u001b[0m\u001b[0;34m(\u001b[0m\u001b[0mX\u001b[0m\u001b[0;34m,\u001b[0m \u001b[0maxis\u001b[0m \u001b[0;34m=\u001b[0m \u001b[0;34m'xy'\u001b[0m\u001b[0;34m,\u001b[0m \u001b[0mweights\u001b[0m \u001b[0;34m=\u001b[0m \u001b[0marea_weights\u001b[0m\u001b[0;34m(\u001b[0m\u001b[0mX\u001b[0m\u001b[0;34m)\u001b[0m\u001b[0;34m)\u001b[0m\u001b[0;34m\u001b[0m\u001b[0m\n\u001b[0m\u001b[1;32m      2\u001b[0m \u001b[0mxavg_2\u001b[0m \u001b[0;34m=\u001b[0m \u001b[0maverager\u001b[0m\u001b[0;34m(\u001b[0m\u001b[0mX\u001b[0m\u001b[0;34m,\u001b[0m \u001b[0maxis\u001b[0m \u001b[0;34m=\u001b[0m \u001b[0;34m'xy'\u001b[0m\u001b[0;34m,\u001b[0m \u001b[0mweights\u001b[0m \u001b[0;34m=\u001b[0m \u001b[0;34m[\u001b[0m\u001b[0;34m'weighted'\u001b[0m\u001b[0;34m,\u001b[0m \u001b[0;34m'weighted'\u001b[0m\u001b[0;34m,\u001b[0m \u001b[0;34m'weighted'\u001b[0m\u001b[0;34m]\u001b[0m\u001b[0;34m,\u001b[0m \u001b[0mcombinewts\u001b[0m\u001b[0;34m=\u001b[0m\u001b[0;36m1\u001b[0m\u001b[0;34m)\u001b[0m\u001b[0;34m\u001b[0m\u001b[0m\n",
      "\u001b[0;31mNameError\u001b[0m: name 'averager' is not defined"
     ]
    }
   ],
   "source": [
    ">>> xavg_1 = averager(X, axis = 'xy', weights = area_weights(X))\n",
    ">>> xavg_2 = averager(X, axis = 'xy', weights = ['weighted', 'weighted', 'weighted'], combinewts=1)"
   ]
  },
  {
   "cell_type": "markdown",
   "metadata": {},
   "source": [
    "Where X is a function of x, y and a third dimension such as time or level. In general, where the 'weighted' keyword appears above, it can be substituted with arrays of weights.\n",
    "\n",
    "The following example will help you see the averager() function in context"
   ]
  },
  {
   "cell_type": "code",
   "execution_count": 6,
   "metadata": {},
   "outputs": [
    {
     "ename": "SyntaxError",
     "evalue": "unexpected character after line continuation character (<ipython-input-6-404c0c09a505>, line 4)",
     "output_type": "error",
     "traceback": [
      "\u001b[0;36m  File \u001b[0;32m\"<ipython-input-6-404c0c09a505>\"\u001b[0;36m, line \u001b[0;32m4\u001b[0m\n\u001b[0;31m    t_nino3 = f('t', latitude=(-5.,5.),\\ longitude=(210.,270.))\u001b[0m\n\u001b[0m                                                               ^\u001b[0m\n\u001b[0;31mSyntaxError\u001b[0m\u001b[0;31m:\u001b[0m unexpected character after line continuation character\n"
     ]
    }
   ],
   "source": [
    ">>> import cdms, cdutil\n",
    ">>> f = cdms.open('file_name')\n",
    "# Extract the variable over the required domain\n",
    ">>> t_nino3 = f('t', latitude=(-5.,5.),\\ longitude=(210.,270.))\n",
    "# Average first over the longitude axis\n",
    "# (denoted by 'x') and then the latitude axis\n",
    "# (denoted by 'y')\n",
    ">>> nino3_avg = cdutil.averager(t_nino3, axis='xy')"
   ]
  },
  {
   "cell_type": "markdown",
   "metadata": {},
   "source": [
    "Axis options can also be specified by name such as axis = '(depth)' or by index such as axis = '20' (note the numbers are enclosed in quotes). By default, the appropriate area weights are generated from the grid information and the result of the averaging is the area weighted value. More control over the weights used is available. It is possible to specify the weights used to average over the longitude and latitude axes seperately."
   ]
  },
  {
   "cell_type": "code",
   "execution_count": 7,
   "metadata": {},
   "outputs": [
    {
     "ename": "NameError",
     "evalue": "name 'cdutil' is not defined",
     "output_type": "error",
     "traceback": [
      "\u001b[0;31m---------------------------------------------------------------------------\u001b[0m",
      "\u001b[0;31mNameError\u001b[0m                                 Traceback (most recent call last)",
      "\u001b[0;32m<ipython-input-7-81664e2aef65>\u001b[0m in \u001b[0;36m<module>\u001b[0;34m()\u001b[0m\n\u001b[0;32m----> 1\u001b[0;31m nino3avg2 = cdutil.averager(t_nino3,\n\u001b[0m\u001b[1;32m      2\u001b[0m axis='yx',weights=['generate','equal'])\n",
      "\u001b[0;31mNameError\u001b[0m: name 'cdutil' is not defined"
     ]
    }
   ],
   "source": [
    ">>> nino3avg2 = cdutil.averager(t_nino3,\n",
    "axis='yx',weights=['generate','equal'])"
   ]
  },
  {
   "cell_type": "markdown",
   "metadata": {},
   "source": [
    "In the above example, we averaged over the latitude axis first (using generated weights) and then over the longitude axis (using equal weights). The weights can be equal or generate (generates the weights for the grid information contained in the variable) or any array of numbers the user wishes to apply."
   ]
  },
  {
   "cell_type": "markdown",
   "metadata": {},
   "source": [
    "##### Computing Weights using area weights.\n",
    "\n",
    "[Back to Top](#top)"
   ]
  },
  {
   "cell_type": "markdown",
   "metadata": {},
   "source": [
    "For most averaging applications, the weights used are critical especially when there are missing data. The cdutil package provides a way of generating the weights using grid information that is tied to the variable. The averager function uses this to generate the weights when the default averaging weights option kicks in. This function is easily called for some variable x in memory:"
   ]
  },
  {
   "cell_type": "code",
   "execution_count": 8,
   "metadata": {},
   "outputs": [
    {
     "ename": "NameError",
     "evalue": "name 'cdutil' is not defined",
     "output_type": "error",
     "traceback": [
      "\u001b[0;31m---------------------------------------------------------------------------\u001b[0m",
      "\u001b[0;31mNameError\u001b[0m                                 Traceback (most recent call last)",
      "\u001b[0;32m<ipython-input-8-1acfed22ff50>\u001b[0m in \u001b[0;36m<module>\u001b[0;34m()\u001b[0m\n\u001b[0;32m----> 1\u001b[0;31m \u001b[0mgen_weights\u001b[0m \u001b[0;34m=\u001b[0m \u001b[0mcdutil\u001b[0m\u001b[0;34m.\u001b[0m\u001b[0marea_weights\u001b[0m\u001b[0;34m(\u001b[0m\u001b[0mx\u001b[0m\u001b[0;34m)\u001b[0m\u001b[0;34m\u001b[0m\u001b[0m\n\u001b[0m",
      "\u001b[0;31mNameError\u001b[0m: name 'cdutil' is not defined"
     ]
    }
   ],
   "source": [
    ">>> gen_weights = cdutil.area_weights(x)"
   ]
  },
  {
   "cell_type": "markdown",
   "metadata": {},
   "source": [
    "The resultant gen_weights is in the same shape as the variable x and has the appropriate area weights set to missing values where data was missing in x."
   ]
  },
  {
   "cell_type": "markdown",
   "metadata": {},
   "source": [
    "##### Defining precise domains:\n",
    "\n",
    "[Back to Top](#top)"
   ]
  },
  {
   "cell_type": "markdown",
   "metadata": {},
   "source": [
    "For many applications data extraction needs to be precise and the ability to define the precise regions to extract is one of the strengths of UV-CDAT. This is provided by the cdutil region selector for rectilinear grids (non-rectilinear grid support will be available in a future release). The general form of this region definition is illustrated best by the following example:"
   ]
  },
  {
   "cell_type": "code",
   "execution_count": 9,
   "metadata": {},
   "outputs": [
    {
     "ename": "SyntaxError",
     "evalue": "unexpected character after line continuation character (<ipython-input-9-ffc746b4ebda>, line 3)",
     "output_type": "error",
     "traceback": [
      "\u001b[0;36m  File \u001b[0;32m\"<ipython-input-9-ffc746b4ebda>\"\u001b[0;36m, line \u001b[0;32m3\u001b[0m\n\u001b[0;31m    NINO3 = cdutil.region.domain(latitude=(-5.,5.),\\ longitude=(210.,270.)))\u001b[0m\n\u001b[0m                                                                            ^\u001b[0m\n\u001b[0;31mSyntaxError\u001b[0m\u001b[0;31m:\u001b[0m unexpected character after line continuation character\n"
     ]
    }
   ],
   "source": [
    ">>> import cdutil\n",
    "#Using cdutil.region.domain to specify the NINO3 region\n",
    ">>> NINO3 = cdutil.region.domain(latitude=(-5.,5.),\\ longitude=(210.,270.)))"
   ]
  },
  {
   "cell_type": "code",
   "execution_count": 10,
   "metadata": {},
   "outputs": [
    {
     "ename": "SyntaxError",
     "evalue": "invalid syntax (<ipython-input-10-f97485fe5ad0>, line 1)",
     "output_type": "error",
     "traceback": [
      "\u001b[0;36m  File \u001b[0;32m\"<ipython-input-10-f97485fe5ad0>\"\u001b[0;36m, line \u001b[0;32m1\u001b[0m\n\u001b[0;31m    The above definition of NINO3 then allows the user to extract the data so:\u001b[0m\n\u001b[0m            ^\u001b[0m\n\u001b[0;31mSyntaxError\u001b[0m\u001b[0;31m:\u001b[0m invalid syntax\n"
     ]
    }
   ],
   "source": [
    "The above definition of NINO3 then allows the user to extract the data so:"
   ]
  },
  {
   "cell_type": "code",
   "execution_count": 11,
   "metadata": {},
   "outputs": [
    {
     "ename": "ImportError",
     "evalue": "No module named cdms",
     "output_type": "error",
     "traceback": [
      "\u001b[0;31m---------------------------------------------------------------------------\u001b[0m",
      "\u001b[0;31mImportError\u001b[0m                               Traceback (most recent call last)",
      "\u001b[0;32m<ipython-input-11-5fc2e95a41dd>\u001b[0m in \u001b[0;36m<module>\u001b[0;34m()\u001b[0m\n\u001b[0;32m----> 1\u001b[0;31m \u001b[0;32mimport\u001b[0m \u001b[0mcdms\u001b[0m\u001b[0;34m\u001b[0m\u001b[0m\n\u001b[0m\u001b[1;32m      2\u001b[0m \u001b[0mf\u001b[0m \u001b[0;34m=\u001b[0m \u001b[0mcdms\u001b[0m\u001b[0;34m.\u001b[0m\u001b[0mopen\u001b[0m\u001b[0;34m(\u001b[0m\u001b[0;34m't_file.nc'\u001b[0m\u001b[0;34m)\u001b[0m\u001b[0;34m\u001b[0m\u001b[0m\n\u001b[1;32m      3\u001b[0m \u001b[0mt_nino3_exact\u001b[0m \u001b[0;34m=\u001b[0m \u001b[0mf\u001b[0m\u001b[0;34m(\u001b[0m\u001b[0;34m't'\u001b[0m\u001b[0;34m,\u001b[0m \u001b[0mNINO3\u001b[0m\u001b[0;34m)\u001b[0m\u001b[0;34m\u001b[0m\u001b[0m\n",
      "\u001b[0;31mImportError\u001b[0m: No module named cdms"
     ]
    }
   ],
   "source": [
    ">>> import cdms\n",
    ">>> f = cdms.open('t_file.nc')\n",
    ">>> t_nino3_exact = f('t', NINO3)"
   ]
  },
  {
   "cell_type": "markdown",
   "metadata": {},
   "source": [
    "The data extracted above will have the bounds and weights of the region extracted precisely. Some commonly used domains have been pre-defined for convenience. They are:\n",
    "\n",
    "    NH | NorthernHemisphere\n",
    "    SH | SouthernHemisphere\n",
    "    Tropics : latitude extends from -23.4 to 23.4\n",
    "    NPZ | AZ | ArcticZone : latitude extends from 66.6N to 90.0N\n",
    "    SPZ | AAZ | AntarcticZone : latitude extends from 90.0S to 66.6S\n"
   ]
  },
  {
   "cell_type": "markdown",
   "metadata": {},
   "source": [
    "## Temporal Averaging\n",
    "\n",
    "[Back to Top](#top)"
   ]
  },
  {
   "cell_type": "markdown",
   "metadata": {},
   "source": [
    "### Predefined time averaging functions\n",
    "\n",
    "[Back to Top](#top)"
   ]
  },
  {
   "cell_type": "markdown",
   "metadata": {},
   "source": [
    "Averaging over time is a special problem in climate data analysis. The cdutil package pays special attention to this issue to make the extraction of time averages and climatologies simple. Apart from functions that enable easy computation of annual, seasonal and monthly averages and climatologies, one can also define seasons other than those already available and specify criteria for data availability and temporal distribution to suit individual needs."
   ]
  },
  {
   "cell_type": "markdown",
   "metadata": {},
   "source": [
    "Note: It is essential that the data have an appropriate axis designated as the “time” axis. In addition to this, the results depend on the time axis having correctly set bounds. If bounds are not stored with the data in files, default bounds are generated by the data extraction steps in cdms. However, they are not always correct. The user must take care to verify that the bounds are set correctly. Since the default time bounds set by cdms puts the time point in the middle of the month, (for example time axis values of 0, 1,…. would put the bounds at [-0.5, 0.5], [0.5, 1.5]…. etc.), the user can make use of the setTimeBoundsMonthly function. To use this method to set the bounds for monthly data:"
   ]
  },
  {
   "cell_type": "code",
   "execution_count": 12,
   "metadata": {},
   "outputs": [
    {
     "ename": "SyntaxError",
     "evalue": "invalid syntax (<ipython-input-12-51dea43fc11f>, line 6)",
     "output_type": "error",
     "traceback": [
      "\u001b[0;36m  File \u001b[0;32m\"<ipython-input-12-51dea43fc11f>\"\u001b[0;36m, line \u001b[0;32m6\u001b[0m\n\u001b[0;31m    time point is at the beginning of the month. To compute bounds assuming that\u001b[0m\n\u001b[0m             ^\u001b[0m\n\u001b[0;31mSyntaxError\u001b[0m\u001b[0;31m:\u001b[0m invalid syntax\n"
     ]
    }
   ],
   "source": [
    ">>> import cdutil, cdms\n",
    ">>> f = cdms.open('some_monthly_data.nc')\n",
    ">>> x = f('var')\n",
    ">>> cdutil.setTimeBoundsMonthly(x)\n",
    "# The default action of the setTimeBoundsMonthly function assumes that the\n",
    "time point is at the beginning of the month. To compute bounds assuming that\n",
    "the time point at the end of the month,\n",
    ">>> cdutil.setTimeBoundsMonthly(x, 1)"
   ]
  },
  {
   "cell_type": "markdown",
   "metadata": {},
   "source": [
    "The predefined time averaging periods are:\n",
    "\n",
    "    JAN, FEB, MAR, …., DEC (months)\n",
    "    DJF, MAM, JJA, SON (seasons)\n",
    "    YEAR (annual means)\n",
    "    ANNUALCYCLE (monthly means for each month of the year)\n",
    "    SEASONNALCYCLE (means for the 4 predefined seasons)\n",
    "\n",
    "Some simple examples of time averaging operations are shown here."
   ]
  },
  {
   "cell_type": "code",
   "execution_count": 13,
   "metadata": {},
   "outputs": [
    {
     "ename": "NameError",
     "evalue": "name 'x' is not defined",
     "output_type": "error",
     "traceback": [
      "\u001b[0;31m---------------------------------------------------------------------------\u001b[0m",
      "\u001b[0;31mNameError\u001b[0m                                 Traceback (most recent call last)",
      "\u001b[0;32m<ipython-input-13-98b6a424eeea>\u001b[0m in \u001b[0;36m<module>\u001b[0;34m()\u001b[0m\n\u001b[1;32m      2\u001b[0m \u001b[0;31m# The individual DJF (December-January-February)\u001b[0m\u001b[0;34m\u001b[0m\u001b[0;34m\u001b[0m\u001b[0m\n\u001b[1;32m      3\u001b[0m \u001b[0;31m# seasons are extracted using\u001b[0m\u001b[0;34m\u001b[0m\u001b[0;34m\u001b[0m\u001b[0m\n\u001b[0;32m----> 4\u001b[0;31m \u001b[0mdjfs\u001b[0m \u001b[0;34m=\u001b[0m \u001b[0mcdutil\u001b[0m\u001b[0;34m.\u001b[0m\u001b[0mDJF\u001b[0m\u001b[0;34m(\u001b[0m\u001b[0mx\u001b[0m\u001b[0;34m)\u001b[0m\u001b[0;34m\u001b[0m\u001b[0m\n\u001b[0m\u001b[1;32m      5\u001b[0m \u001b[0;31m# To compute the DJF climatology of a variable x\u001b[0m\u001b[0;34m\u001b[0m\u001b[0;34m\u001b[0m\u001b[0m\n\u001b[1;32m      6\u001b[0m \u001b[0mdjfclim\u001b[0m \u001b[0;34m=\u001b[0m \u001b[0mcdutil\u001b[0m\u001b[0;34m.\u001b[0m\u001b[0mDJF\u001b[0m\u001b[0;34m.\u001b[0m\u001b[0mclimatology\u001b[0m\u001b[0;34m(\u001b[0m\u001b[0mx\u001b[0m\u001b[0;34m)\u001b[0m\u001b[0;34m\u001b[0m\u001b[0m\n",
      "\u001b[0;31mNameError\u001b[0m: name 'x' is not defined"
     ]
    }
   ],
   "source": [
    ">>> import cdutil\n",
    "# The individual DJF (December-January-February)\n",
    "# seasons are extracted using\n",
    ">>> djfs = cdutil.DJF(x)\n",
    "# To compute the DJF climatology of a variable x\n",
    ">>> djfclim = cdutil.DJF.climatology(x)\n",
    "# To extract DJF seasonal anomalies (from climatology)\n",
    ">>> djf_anom = cdutil.DJF.departures(x)\n",
    "# The monthly anomalies for x are computed by:\n",
    ">>> x_anom = cdutil.ANNUALCYCLE.departures(x)"
   ]
  },
  {
   "cell_type": "markdown",
   "metadata": {},
   "source": [
    "### Creating Custom Seasons\n",
    "\n",
    "[Back to Top](#top)\n",
    "\n",
    "You can even create your own “custom seasons” beyond the pre-defined seasons listed above. For example:"
   ]
  },
  {
   "cell_type": "code",
   "execution_count": 14,
   "metadata": {},
   "outputs": [],
   "source": [
    ">>> JJAS = cdutil.times.Seasons('JJAS')"
   ]
  },
  {
   "cell_type": "markdown",
   "metadata": {},
   "source": [
    "### Specifying time periods for climatologies.\n",
    "\n",
    "So far we have seen the way to compute the means, climatologies, and anomalies for the entire length of the time-series. The typical application may require specified time intervals over which climatologies are computed and used in calculating departures. For example, to compute the DJF climatology for the time period 1979-1988 we would do the following:\n",
    "\n"
   ]
  },
  {
   "cell_type": "code",
   "execution_count": 15,
   "metadata": {},
   "outputs": [
    {
     "name": "stdout",
     "output_type": "stream",
     "text": [
      "start_time =  1979-1-1 0:0:0.0\n",
      "end_time =  1989-1-1 0:0:0.0\n"
     ]
    }
   ],
   "source": [
    ">>> import cdtime\n",
    ">>> start_time = cdtime.comptime(1979)\n",
    ">>> print 'start_time = ', start_time\n",
    ">>> end_time = cdtime.comptime(1989)\n",
    ">>> print 'end_time = ', end_time"
   ]
  },
  {
   "cell_type": "markdown",
   "metadata": {},
   "source": [
    "Note that we created the time point end_time at the begining of 1989 so we can select all the time between start_time and end_time but not including end_time by specifying the option co - shorthand for closed at start_time and open at end_time. More options and details about them can be found in the Climate Data Management System Manual."
   ]
  },
  {
   "cell_type": "code",
   "execution_count": 16,
   "metadata": {},
   "outputs": [
    {
     "ename": "SyntaxError",
     "evalue": "unexpected character after line continuation character (<ipython-input-16-9185761c6027>, line 1)",
     "output_type": "error",
     "traceback": [
      "\u001b[0;36m  File \u001b[0;32m\"<ipython-input-16-9185761c6027>\"\u001b[0;36m, line \u001b[0;32m1\u001b[0m\n\u001b[0;31m    djfclim = cdutil.DJF.climatology(x(time= \\ (start_time, end_time, 'co')))\u001b[0m\n\u001b[0m                                                                             ^\u001b[0m\n\u001b[0;31mSyntaxError\u001b[0m\u001b[0;31m:\u001b[0m unexpected character after line continuation character\n"
     ]
    }
   ],
   "source": [
    ">>> djfclim = cdutil.DJF.climatology(x(time= \\ (start_time, end_time, 'co')))"
   ]
  },
  {
   "cell_type": "markdown",
   "metadata": {},
   "source": [
    "Now that we have our climatology over the desired period we can to compute anomalies over the full period relative to that climatology.\n",
    "\n"
   ]
  },
  {
   "cell_type": "code",
   "execution_count": 17,
   "metadata": {},
   "outputs": [
    {
     "ename": "NameError",
     "evalue": "name 's' is not defined",
     "output_type": "error",
     "traceback": [
      "\u001b[0;31m---------------------------------------------------------------------------\u001b[0m",
      "\u001b[0;31mNameError\u001b[0m                                 Traceback (most recent call last)",
      "\u001b[0;32m<ipython-input-17-5c55a1079510>\u001b[0m in \u001b[0;36m<module>\u001b[0;34m()\u001b[0m\n\u001b[0;32m----> 1\u001b[0;31m \u001b[0mdjfdep2\u001b[0m \u001b[0;34m=\u001b[0m \u001b[0mcdutil\u001b[0m\u001b[0;34m.\u001b[0m\u001b[0mDJF\u001b[0m\u001b[0;34m.\u001b[0m\u001b[0mdepartures\u001b[0m\u001b[0;34m(\u001b[0m\u001b[0ms\u001b[0m\u001b[0;34m,\u001b[0m \u001b[0mref\u001b[0m\u001b[0;34m=\u001b[0m\u001b[0mdjfclim\u001b[0m\u001b[0;34m)\u001b[0m\u001b[0;34m\u001b[0m\u001b[0m\n\u001b[0m",
      "\u001b[0;31mNameError\u001b[0m: name 's' is not defined"
     ]
    }
   ],
   "source": [
    ">>> djfdep2 = cdutil.DJF.departures(s, ref=djfclim)"
   ]
  },
  {
   "cell_type": "markdown",
   "metadata": {},
   "source": [
    "### Specifying Data Coverage Criteria\n",
    "\n",
    "[Back to Top](#top)\n",
    "\n",
    "The real power of these functions is in the ability to specify minimum data coverage and to also be able to specify the distribution (both in the temporal sense) which are required for the averages to be computed. The default behaviour of the functions that compute seasonal averages, climatologies, etc. is to require that a minimum of 50% of the data be present. Now let’s say you like to extract DJF but without restricting it to 50% of the data being present. You would do:"
   ]
  },
  {
   "cell_type": "code",
   "execution_count": 18,
   "metadata": {},
   "outputs": [
    {
     "ename": "NameError",
     "evalue": "name 'avg' is not defined",
     "output_type": "error",
     "traceback": [
      "\u001b[0;31m---------------------------------------------------------------------------\u001b[0m",
      "\u001b[0;31mNameError\u001b[0m                                 Traceback (most recent call last)",
      "\u001b[0;32m<ipython-input-18-13d603ca8d53>\u001b[0m in \u001b[0;36m<module>\u001b[0;34m()\u001b[0m\n\u001b[0;32m----> 1\u001b[0;31m \u001b[0mdjfs\u001b[0m \u001b[0;34m=\u001b[0m \u001b[0mcdutil\u001b[0m\u001b[0;34m.\u001b[0m\u001b[0mDJF\u001b[0m\u001b[0;34m(\u001b[0m\u001b[0mavg\u001b[0m\u001b[0;34m,\u001b[0m \u001b[0mcriteriaarg\u001b[0m\u001b[0;34m=\u001b[0m\u001b[0;34m[\u001b[0m\u001b[0;36m0.\u001b[0m\u001b[0;34m,\u001b[0m \u001b[0mNone\u001b[0m\u001b[0;34m]\u001b[0m\u001b[0;34m)\u001b[0m\u001b[0;34m\u001b[0m\u001b[0m\n\u001b[0m",
      "\u001b[0;31mNameError\u001b[0m: name 'avg' is not defined"
     ]
    }
   ],
   "source": [
    ">>> djfs = cdutil.DJF(avg, criteriaarg=[0., None])"
   ]
  },
  {
   "cell_type": "markdown",
   "metadata": {},
   "source": [
    "The above statement comutes the DJF average with criteriaarg (passed as a list) which has 2 arguments.\n",
    "\n",
    "    The first argument represents the minimum fraction of time that is required to compute the seasonal mean. So you can pass a fractional value between 0.0 and 1.0 (including both extremes) or even a representation such as 3.0/4.0 (in case you need at least 3 out of 4 months of data in the case of the average JJAS we defined previously).\n",
    "    The second argument in the criteriaarg is None. This implies no “centroid function” is used. In other cases, this argument represents the maximum value of the “centroid function”. A value between 0 and 1 represents the spread of values across the mean time. The centroid value of 0.0 represents a full even distribution of data across the time interval. For example, if you are considering the DJF average, then if data is available for Dec, Jan and Feb months then the centroid is 0.0. On the other hand, the following criteria will “mask” (ignore) a DJF season if there is only a December month with data (and therefore has a centroid value of 1.0). Therefore any seasons resulting in centroid values above 0.5 will result in missing values!\n"
   ]
  },
  {
   "cell_type": "code",
   "execution_count": 19,
   "metadata": {},
   "outputs": [
    {
     "ename": "NameError",
     "evalue": "name 'avg' is not defined",
     "output_type": "error",
     "traceback": [
      "\u001b[0;31m---------------------------------------------------------------------------\u001b[0m",
      "\u001b[0;31mNameError\u001b[0m                                 Traceback (most recent call last)",
      "\u001b[0;32m<ipython-input-19-a4295b0032ab>\u001b[0m in \u001b[0;36m<module>\u001b[0;34m()\u001b[0m\n\u001b[0;32m----> 1\u001b[0;31m \u001b[0mdjfs\u001b[0m \u001b[0;34m=\u001b[0m \u001b[0mcdutil\u001b[0m\u001b[0;34m.\u001b[0m\u001b[0mDJF\u001b[0m\u001b[0;34m(\u001b[0m\u001b[0mavg\u001b[0m\u001b[0;34m,\u001b[0m \u001b[0mcriteriaarg\u001b[0m \u001b[0;34m=\u001b[0m \u001b[0;34m[\u001b[0m\u001b[0;36m0.\u001b[0m\u001b[0;34m,\u001b[0m \u001b[0;36m.5\u001b[0m\u001b[0;34m]\u001b[0m\u001b[0;34m)\u001b[0m\u001b[0;34m\u001b[0m\u001b[0m\n\u001b[0m",
      "\u001b[0;31mNameError\u001b[0m: name 'avg' is not defined"
     ]
    }
   ],
   "source": [
    ">>> djfs = cdutil.DJF(avg, criteriaarg = [0., .5])"
   ]
  },
  {
   "cell_type": "markdown",
   "metadata": {},
   "source": [
    "n the case of computing an annual mean, having data only in Jan and Dec months leads to a centroid value of 0 for the regular centroid, and the resulting annual mean for the year is biased toward the winter. In this situation, you should use a cyclical centroid where the circular nature of the year is recognised and the centroid is calculated accordingly. Here are some examples of typical usage:"
   ]
  },
  {
   "cell_type": "markdown",
   "metadata": {},
   "source": [
    "1. Default behaviour i.e criteriaarg=[0.5, None]"
   ]
  },
  {
   "cell_type": "code",
   "execution_count": 20,
   "metadata": {},
   "outputs": [
    {
     "ename": "NameError",
     "evalue": "name 's_glavg' is not defined",
     "output_type": "error",
     "traceback": [
      "\u001b[0;31m---------------------------------------------------------------------------\u001b[0m",
      "\u001b[0;31mNameError\u001b[0m                                 Traceback (most recent call last)",
      "\u001b[0;32m<ipython-input-20-9c2f39ee7ca0>\u001b[0m in \u001b[0;36m<module>\u001b[0;34m()\u001b[0m\n\u001b[0;32m----> 1\u001b[0;31m \u001b[0mannavg_1\u001b[0m \u001b[0;34m=\u001b[0m \u001b[0mcdutil\u001b[0m\u001b[0;34m.\u001b[0m\u001b[0mYEAR\u001b[0m\u001b[0;34m(\u001b[0m\u001b[0ms_glavg\u001b[0m\u001b[0;34m)\u001b[0m\u001b[0;34m\u001b[0m\u001b[0m\n\u001b[0m",
      "\u001b[0;31mNameError\u001b[0m: name 's_glavg' is not defined"
     ]
    }
   ],
   "source": [
    " >>> annavg_1 = cdutil.YEAR(s_glavg)"
   ]
  },
  {
   "cell_type": "markdown",
   "metadata": {},
   "source": [
    "2. Criteria to say compute annual average for any number of months."
   ]
  },
  {
   "cell_type": "code",
   "execution_count": 21,
   "metadata": {},
   "outputs": [
    {
     "ename": "NameError",
     "evalue": "name 's_glavg' is not defined",
     "output_type": "error",
     "traceback": [
      "\u001b[0;31m---------------------------------------------------------------------------\u001b[0m",
      "\u001b[0;31mNameError\u001b[0m                                 Traceback (most recent call last)",
      "\u001b[0;32m<ipython-input-21-28abb4d7aa83>\u001b[0m in \u001b[0;36m<module>\u001b[0;34m()\u001b[0m\n\u001b[0;32m----> 1\u001b[0;31m \u001b[0mannavg_2\u001b[0m \u001b[0;34m=\u001b[0m \u001b[0mcdutil\u001b[0m\u001b[0;34m.\u001b[0m\u001b[0mYEAR\u001b[0m\u001b[0;34m(\u001b[0m\u001b[0ms_glavg\u001b[0m\u001b[0;34m,\u001b[0m \u001b[0mcriteriaarg\u001b[0m \u001b[0;34m=\u001b[0m \u001b[0;34m[\u001b[0m\u001b[0;36m0.\u001b[0m\u001b[0;34m,\u001b[0m\u001b[0mNone\u001b[0m\u001b[0;34m]\u001b[0m\u001b[0;34m)\u001b[0m\u001b[0;34m\u001b[0m\u001b[0m\n\u001b[0m",
      "\u001b[0;31mNameError\u001b[0m: name 's_glavg' is not defined"
     ]
    }
   ],
   "source": [
    ">>> annavg_2 = cdutil.YEAR(s_glavg, criteriaarg = [0.,None])"
   ]
  },
  {
   "cell_type": "markdown",
   "metadata": {},
   "source": [
    "3. Criteria for computing annual average based on the minimum number of months (8 out of 12)."
   ]
  },
  {
   "cell_type": "code",
   "execution_count": 22,
   "metadata": {},
   "outputs": [
    {
     "ename": "SyntaxError",
     "evalue": "unexpected character after line continuation character (<ipython-input-22-b6e79490117e>, line 1)",
     "output_type": "error",
     "traceback": [
      "\u001b[0;36m  File \u001b[0;32m\"<ipython-input-22-b6e79490117e>\"\u001b[0;36m, line \u001b[0;32m1\u001b[0m\n\u001b[0;31m    annavg_3 = cdutil.YEAR(s_glavg, \\ criteriaarg = [8./12., None])\u001b[0m\n\u001b[0m                                                                   ^\u001b[0m\n\u001b[0;31mSyntaxError\u001b[0m\u001b[0;31m:\u001b[0m unexpected character after line continuation character\n"
     ]
    }
   ],
   "source": [
    ">>> annavg_3 = cdutil.YEAR(s_glavg, \\ criteriaarg = [8./12., None])"
   ]
  },
  {
   "cell_type": "markdown",
   "metadata": {},
   "source": [
    "4. Same criteria as in 3, but we account for the fact that a year is cyclical i.e Dec and Jan are adjacent months. So the centroid is computed over a circle where Dec and Jan are contiguous."
   ]
  },
  {
   "cell_type": "code",
   "execution_count": 23,
   "metadata": {},
   "outputs": [
    {
     "ename": "SyntaxError",
     "evalue": "unexpected character after line continuation character (<ipython-input-23-bf9a2ca3be7f>, line 1)",
     "output_type": "error",
     "traceback": [
      "\u001b[0;36m  File \u001b[0;32m\"<ipython-input-23-bf9a2ca3be7f>\"\u001b[0;36m, line \u001b[0;32m1\u001b[0m\n\u001b[0;31m    annavg_4 = cdutil.YEAR(s_glavg, \\ criteriaarg = [8./12., 0.1, 'cyclical'])\u001b[0m\n\u001b[0m                                                                              ^\u001b[0m\n\u001b[0;31mSyntaxError\u001b[0m\u001b[0;31m:\u001b[0m unexpected character after line continuation character\n"
     ]
    }
   ],
   "source": [
    " >>> annavg_4 = cdutil.YEAR(s_glavg, \\ criteriaarg = [8./12., 0.1, 'cyclical'])"
   ]
  },
  {
   "cell_type": "markdown",
   "metadata": {},
   "source": [
    "So far we have the annual means calculated using various criteria. Now if we wish to compute the climatological annual mean, we can average the individual annual means. However, we can apply more criteria to the calculation of that annual mean climatology. Here we simply require 60% of the years to be present, and a criteria on the temporal distribution (i.e the centroid = 0.7) to make sure all of the annual means are not clustered at the end of the record."
   ]
  },
  {
   "cell_type": "code",
   "execution_count": 24,
   "metadata": {},
   "outputs": [
    {
     "ename": "SyntaxError",
     "evalue": "unexpected character after line continuation character (<ipython-input-24-b9da4f931610>, line 1)",
     "output_type": "error",
     "traceback": [
      "\u001b[0;36m  File \u001b[0;32m\"<ipython-input-24-b9da4f931610>\"\u001b[0;36m, line \u001b[0;32m1\u001b[0m\n\u001b[0;31m    annavg_clim = cdutil.YEAR.average(annavg_4,\\ criteriaarg =[.6,.7])\u001b[0m\n\u001b[0m                                                                      ^\u001b[0m\n\u001b[0;31mSyntaxError\u001b[0m\u001b[0;31m:\u001b[0m unexpected character after line continuation character\n"
     ]
    }
   ],
   "source": [
    ">>> annavg_clim = cdutil.YEAR.average(annavg_4,\\ criteriaarg =[.6,.7])"
   ]
  },
  {
   "cell_type": "markdown",
   "metadata": {},
   "source": [
    "The tutorial file times_tutorial.py has detailed examples of time averaging in action. Further documentation is available on the UV-CDAT home page."
   ]
  },
  {
   "cell_type": "markdown",
   "metadata": {},
   "source": [
    "## Preparing Datasets for Comparison (VariableConditioner and VariablesMatcher)\n",
    "\n",
    "[Back to Top](#top)"
   ]
  },
  {
   "cell_type": "markdown",
   "metadata": {},
   "source": [
    "### Introduction\n",
    "\n",
    "[Back to Top](#top)"
   ]
  },
  {
   "cell_type": "markdown",
   "metadata": {},
   "source": [
    "The VariablesMatcher is defined to facilitate comparisons of two different variables by preprocessing them and ensuring that they are expressed in the same units and are placed on a common grid. Preprocessing includes selection of the spatial domain and time-period and provides for various masking and regridding options. We first describe the supporting objects because they may be needed by VariablesMatcher."
   ]
  },
  {
   "cell_type": "markdown",
   "metadata": {},
   "source": [
    "### Description of supporting objects.\n",
    "\n",
    "[Back to Top](#top)"
   ]
  },
  {
   "cell_type": "markdown",
   "metadata": {},
   "source": [
    "The VariablesMatcher relies on three different kinds of supporting objects: the VariableConditioner, the WeightedGridMaker, and the WeightsMaker. The VariableConditioner can modify a field in various ways (applying masks, mapping it to a new grid, applying scale factors, and adding a constant to it—useful in transforming the units). The WeightsMaker defines a mask, and the WeightedGridMaker defines a grid (and possibly associates a WeightsMaker object with it). The WeightsMaker object will be described first, because it may be needed by the other two. The WeightedGridMaker will be described next because it may be needed by the VariableConditioner."
   ]
  },
  {
   "cell_type": "markdown",
   "metadata": {},
   "source": [
    "### WeightsMaker Object\n",
    "\n",
    "[Back to Top](#top)"
   ]
  },
  {
   "cell_type": "markdown",
   "metadata": {},
   "source": [
    "#### Definition\n",
    "\n",
    "[Back to Top](#top)"
   ]
  },
  {
   "cell_type": "markdown",
   "metadata": {},
   "source": [
    "The WeightsMaker generates a transient variable containing fractions (between 0 and 1), with the value 0 identifying which cells should be excluded from consideration (i.e., masked out). In calculating the mean value of a variable, these fractions are typically used to “weight” grid cells (in addition to possibly weighting by the area of the grid cell). In the simplest case, only 0’s and 1’s will be generated, indicating which cells will be masked or not."
   ]
  },
  {
   "cell_type": "markdown",
   "metadata": {},
   "source": [
    "The WeightsMaker is constructed as follows:"
   ]
  },
  {
   "cell_type": "code",
   "execution_count": 25,
   "metadata": {},
   "outputs": [
    {
     "ename": "NameError",
     "evalue": "name 'sourceoptions' is not defined",
     "output_type": "error",
     "traceback": [
      "\u001b[0;31m---------------------------------------------------------------------------\u001b[0m",
      "\u001b[0;31mNameError\u001b[0m                                 Traceback (most recent call last)",
      "\u001b[0;32m<ipython-input-25-5a66c443bd36>\u001b[0m in \u001b[0;36m<module>\u001b[0;34m()\u001b[0m\n\u001b[0;32m----> 1\u001b[0;31m MM = cdutil.WeightsMaker( source=sourceoptions, var=varoptions,\n\u001b[0m\u001b[1;32m      2\u001b[0m                           \u001b[0mactions\u001b[0m\u001b[0;34m=\u001b[0m\u001b[0mactionsoption\u001b[0m\u001b[0;34m,\u001b[0m \u001b[0mvalues\u001b[0m\u001b[0;34m=\u001b[0m\u001b[0mvaluesoption\u001b[0m\u001b[0;34m,\u001b[0m\u001b[0;34m\u001b[0m\u001b[0m\n\u001b[1;32m      3\u001b[0m                           combiningActions=combiningActionsoption)\n",
      "\u001b[0;31mNameError\u001b[0m: name 'sourceoptions' is not defined"
     ]
    }
   ],
   "source": [
    "MM = cdutil.WeightsMaker( source=sourceoptions, var=varoptions,\n",
    "                          actions=actionsoption, values=valuesoption,\n",
    "                          combiningActions=combiningActionsoption)"
   ]
  },
  {
   "cell_type": "markdown",
   "metadata": {},
   "source": [
    "#### Options:\n",
    "\n",
    "[Back to Top](#top)"
   ]
  },
  {
   "cell_type": "markdown",
   "metadata": {},
   "source": [
    "    sourceoptions\n",
    "        Default is None. This is either a file name or a transient variable.\n",
    "\n",
    "    varoptions\n",
    "        Default is None. This is the name of the variable that is needed from the file specified in the source argument (except when source is a transient variable, in which case this argument is ignored).\n",
    "\n",
    "    actionsoption\n",
    "        Default is None. This is a list (or a tuple) of functions that will be used by the WeightsMaker to create the weights. Each of these functions must accept two arguments: the first argument is an array (of the same shape as the mask), and the second is a scalar or a tuple. For example, actions=MV.equal will generate weights with 1’s assigned to cells where elements of the array equal to the scalar specified in values (see below) and 0’s assigned to all other cells. By default the array passed to the function is the one defined by source, but an alternative source can be passed at the time of the mask creation (see the get and values explanations below). The default action (if actions is set to None) is: MV.equal.\n",
    "\n",
    "    valuesoption\n",
    "        Default is None. This is a list (with the same number of elements as the “actions” list) containing the values that will be passed to each function contained in the actions list. If values is defined as a list or tuple whose first element is input, then the variable passed to action is not the one referred to by source but the one sent to the get function (i.e. when the function is executed).\n",
    "\n",
    "    combiningActionsoption\n",
    "\n",
    "        Default is None. This is a list (with one element less than the number of elements in the actions list) containing functions used to combine the actions of the functions specified in the actions list. There is no need to define combiningActions when there is only one action defined. The first combining-action will be used to produce a new temporary mask representing the result of combining the first and second masks generated by the functions specified in the actions list. This result will be used subsequently with the result of action 3 and the second combiningAction, and so on. The default logical action is MV.multiply.\n",
    "\n",
    "        Note that when calling the get function of the WeightsMaker object, the variable being processed may be passed, allowing a mask to be generated based on the data itself. (If, for example, the WeightsMaker is passed values=[\"input\", 273.15] and actions=[MV.less], temperatures below freezing would be masked.)\n"
   ]
  },
  {
   "cell_type": "markdown",
   "metadata": {},
   "source": [
    "#### Usage:\n",
    "\n",
    "[Back to Top](#top)"
   ]
  },
  {
   "cell_type": "markdown",
   "metadata": {},
   "source": [
    "The mask defined by the WeightsMaker object MM can be obtained as follows:"
   ]
  },
  {
   "cell_type": "code",
   "execution_count": 26,
   "metadata": {},
   "outputs": [
    {
     "ename": "NameError",
     "evalue": "name 'MM' is not defined",
     "output_type": "error",
     "traceback": [
      "\u001b[0;31m---------------------------------------------------------------------------\u001b[0m",
      "\u001b[0;31mNameError\u001b[0m                                 Traceback (most recent call last)",
      "\u001b[0;32m<ipython-input-26-f68ef52184e3>\u001b[0m in \u001b[0;36m<module>\u001b[0;34m()\u001b[0m\n\u001b[0;32m----> 1\u001b[0;31m \u001b[0mmask\u001b[0m \u001b[0;34m=\u001b[0m \u001b[0mMM\u001b[0m\u001b[0;34m.\u001b[0m\u001b[0mget\u001b[0m\u001b[0;34m(\u001b[0m\u001b[0;34m)\u001b[0m\u001b[0;34m\u001b[0m\u001b[0m\n\u001b[0m",
      "\u001b[0;31mNameError\u001b[0m: name 'MM' is not defined"
     ]
    }
   ],
   "source": [
    ">>> mask = MM.get()"
   ]
  },
  {
   "cell_type": "markdown",
   "metadata": {},
   "source": [
    "or, alternately,"
   ]
  },
  {
   "cell_type": "code",
   "execution_count": 27,
   "metadata": {},
   "outputs": [
    {
     "ename": "SyntaxError",
     "evalue": "can't assign to operator (<ipython-input-27-14f9113a05f3>, line 1)",
     "output_type": "error",
     "traceback": [
      "\u001b[0;36m  File \u001b[0;32m\"<ipython-input-27-14f9113a05f3>\"\u001b[0;36m, line \u001b[0;32m1\u001b[0m\n\u001b[0;31m    mask=MM() or mask=MM(my-variable)\u001b[0m\n\u001b[0;31mSyntaxError\u001b[0m\u001b[0;31m:\u001b[0m can't assign to operator\n"
     ]
    }
   ],
   "source": [
    ">>> mask=MM() or mask=MM(my-variable)"
   ]
  },
  {
   "cell_type": "markdown",
   "metadata": {},
   "source": [
    "Remember that if a variable (e.g., my-variable) is passed as an argument of MM, then this variable would be “acted on” by a function given by the actions argument of WeightsMaker only if the first element of the corresponding values item is input. Otherwise, the variable acted on is defined by source."
   ]
  },
  {
   "cell_type": "markdown",
   "metadata": {},
   "source": [
    "Let’s define a mask that will weight each grid cell by the land fraction and then mask out areas where the values of a user defined (at runtime) variable are greater than a threshold T."
   ]
  },
  {
   "cell_type": "code",
   "execution_count": 28,
   "metadata": {},
   "outputs": [
    {
     "ename": "SyntaxError",
     "evalue": "invalid syntax (<ipython-input-28-9ab7d59ada47>, line 10)",
     "output_type": "error",
     "traceback": [
      "\u001b[0;36m  File \u001b[0;32m\"<ipython-input-28-9ab7d59ada47>\"\u001b[0;36m, line \u001b[0;32m10\u001b[0m\n\u001b[0;31m    land in each cell, but masking cells where values of V are greater than T)\u001b[0m\n\u001b[0m                    ^\u001b[0m\n\u001b[0;31mSyntaxError\u001b[0m\u001b[0;31m:\u001b[0m invalid syntax\n"
     ]
    }
   ],
   "source": [
    ">>> File='string-pointing-to-the-fraction-of-land-expressed-as-a-percent'\n",
    ">>> T=a-threshold-value\n",
    ">>> MM=cdutil.WeightsMaker(source=File,var='sftlf')\n",
    ">>> MM.actions=[MV.divide,MV.greater]\n",
    ">>> MM.values=[100,[\"input\",T]]\n",
    ">>> MM.combiningActions=[MV.multiply]\n",
    "# here would be some line of code creating a variable V\n",
    ">>> M1=MM(V)\n",
    "# This retrieved the first mask, generating weights equal to the fraction of\n",
    "land in each cell, but masking cells where values of V are greater than T)\n",
    ">>> M2=MM(2.*V)\n",
    "# Retrieved another mask, which should be different, since now area where 2*V\n",
    "is greater than T are masked."
   ]
  },
  {
   "cell_type": "markdown",
   "metadata": {},
   "source": [
    "### WeightedGridMaker Object.\n",
    "\n",
    "[Back to Top](#top)"
   ]
  },
  {
   "cell_type": "markdown",
   "metadata": {},
   "source": [
    "#### Definition"
   ]
  },
  {
   "cell_type": "markdown",
   "metadata": {},
   "source": [
    "The WeightedGridMaker generates a cdms grid object (see cdms documentation for a description) and may also associate a WeightsMaker object with that grid. The WeightedGridMaker object may be used by the VariableConditioner object (see below) to define a “target” grid to which the variable will be mapped. The WeightedGridMaker must be either provided with a cdms grid object or with information needed to generate a grid."
   ]
  },
  {
   "cell_type": "markdown",
   "metadata": {},
   "source": [
    "The WeightedGridMaker is constructed as follows:"
   ]
  },
  {
   "cell_type": "code",
   "execution_count": 29,
   "metadata": {},
   "outputs": [
    {
     "ename": "NameError",
     "evalue": "name 'sourceoption' is not defined",
     "output_type": "error",
     "traceback": [
      "\u001b[0;31m---------------------------------------------------------------------------\u001b[0m",
      "\u001b[0;31mNameError\u001b[0m                                 Traceback (most recent call last)",
      "\u001b[0;32m<ipython-input-29-fb5dd83b8905>\u001b[0m in \u001b[0;36m<module>\u001b[0;34m()\u001b[0m\n\u001b[0;32m----> 1\u001b[0;31m MGM = cdutil.WeightedGridMaker( source=sourceoption, var=varoption, type=typeoption,\n\u001b[0m\u001b[1;32m      2\u001b[0m                                 \u001b[0mnlat\u001b[0m\u001b[0;34m=\u001b[0m\u001b[0mnlatoption\u001b[0m\u001b[0;34m,\u001b[0m \u001b[0mflat\u001b[0m\u001b[0;34m=\u001b[0m\u001b[0mflatoption\u001b[0m\u001b[0;34m,\u001b[0m \u001b[0mdellat\u001b[0m\u001b[0;34m=\u001b[0m\u001b[0mdellatoption\u001b[0m\u001b[0;34m,\u001b[0m\u001b[0;34m\u001b[0m\u001b[0m\n\u001b[1;32m      3\u001b[0m                 \u001b[0mnlon\u001b[0m\u001b[0;34m=\u001b[0m\u001b[0mnlonoption\u001b[0m\u001b[0;34m,\u001b[0m \u001b[0mflon\u001b[0m\u001b[0;34m=\u001b[0m\u001b[0mflonoption\u001b[0m\u001b[0;34m,\u001b[0m \u001b[0mdellon\u001b[0m\u001b[0;34m=\u001b[0m\u001b[0mdellonoption\u001b[0m\u001b[0;34m,\u001b[0m\u001b[0;34m\u001b[0m\u001b[0m\n\u001b[1;32m      4\u001b[0m                 WeightsMaker=WeightsMakeroption )\n",
      "\u001b[0;31mNameError\u001b[0m: name 'sourceoption' is not defined"
     ]
    }
   ],
   "source": [
    "MGM = cdutil.WeightedGridMaker( source=sourceoption, var=varoption, type=typeoption,\n",
    "                                nlat=nlatoption, flat=flatoption, dellat=dellatoption,\n",
    "                nlon=nlonoption, flon=flonoption, dellon=dellonoption,\n",
    "                WeightsMaker=WeightsMakeroption )"
   ]
  },
  {
   "cell_type": "markdown",
   "metadata": {},
   "source": [
    "#### Options:\n",
    "\n",
    "[Back to Top](#top)"
   ]
  },
  {
   "cell_type": "markdown",
   "metadata": {},
   "source": [
    "    sourceoption\n",
    "        Default is None. This is a cdms grid object or a file name (in which case the keyword var must be defined). Other keywords (except var and WeightsMaker) will be ignored if source is a file name.\n",
    "\n",
    "    varoption\n",
    "        Default is None. This is the name of the variable that is needed from the file specified in the source argument (except when source refers directly to a grid object, in which case this argument is ignored).\n",
    "\n",
    "    typeoption\n",
    "        Default is uniform. This is the type of grid that will be generated. Options include: uniform (equally spaced), gaussian (for use with spectral models), and equal (for latitude spacing giving equal area grid cells as in the lmd5 model). This keyword will be ignored if source is a file name.\n",
    "\n",
    "    nlatoption\n",
    "        Default is None. This is the number of latitudes spanning the domain (which is ignored if source is a file name).\n",
    "\n",
    "    flatoption\n",
    "        Default is None. This is the location of the first latitude (which is ignored if source is a file name or if type is gaussian or equal).\n",
    "\n",
    "    dellatoption\n",
    "        Default is None. This is the latitude spacing (which is ignored if source is a file name or if type is gaussian or equal).\n",
    "\n",
    "    nlonoption\n",
    "        Default is None. This is the number of longitudes spanning the domain (which is ignored if source is a file name).\n",
    "\n",
    "    flonoption\n",
    "        Default is None. This is the location of the first longitude (which by default is set to 0.0 but is ignored if source is a file name).\n",
    "\n",
    "    dellonoption\n",
    "        Default is None. This is the longitude spacing (which is ignored if the source is a file name).\n",
    "\n",
    "    WeightsMakeroption\n",
    "        Default is None. This is a WeightsMaker object that should occupy the same grid as that returned by WeightedGridMaker.\n"
   ]
  },
  {
   "cell_type": "markdown",
   "metadata": {},
   "source": [
    "#### Usage:\n",
    "\n",
    "[Back to Top](#top)"
   ]
  },
  {
   "cell_type": "code",
   "execution_count": 30,
   "metadata": {},
   "outputs": [
    {
     "ename": "NameError",
     "evalue": "name 'mygrid' is not defined",
     "output_type": "error",
     "traceback": [
      "\u001b[0;31m---------------------------------------------------------------------------\u001b[0m",
      "\u001b[0;31mNameError\u001b[0m                                 Traceback (most recent call last)",
      "\u001b[0;32m<ipython-input-30-2975f018ee5b>\u001b[0m in \u001b[0;36m<module>\u001b[0;34m()\u001b[0m\n\u001b[0;32m----> 1\u001b[0;31m \u001b[0mMGM\u001b[0m\u001b[0;34m=\u001b[0m\u001b[0mcdutil\u001b[0m\u001b[0;34m.\u001b[0m\u001b[0mWeightedGridMaker\u001b[0m\u001b[0;34m(\u001b[0m\u001b[0mgrid\u001b[0m\u001b[0;34m=\u001b[0m\u001b[0mmygrid\u001b[0m\u001b[0;34m)\u001b[0m\u001b[0;34m\u001b[0m\u001b[0m\n\u001b[0m\u001b[1;32m      2\u001b[0m \u001b[0mMGM\u001b[0m\u001b[0;34m=\u001b[0m\u001b[0mcdutil\u001b[0m\u001b[0;34m.\u001b[0m\u001b[0mWeightedGridMaker\u001b[0m\u001b[0;34m(\u001b[0m\u001b[0mnlat\u001b[0m\u001b[0;34m=\u001b[0m\u001b[0;36m64\u001b[0m\u001b[0;34m,\u001b[0m \u001b[0mtype\u001b[0m\u001b[0;34m=\u001b[0m\u001b[0;34m'gaussian'\u001b[0m\u001b[0;34m,\u001b[0m \u001b[0mflon\u001b[0m\u001b[0;34m=\u001b[0m\u001b[0;34m-\u001b[0m\u001b[0;36m180.\u001b[0m\u001b[0;34m,\u001b[0m \u001b[0mWeightsMaker\u001b[0m\u001b[0;34m=\u001b[0m\u001b[0mmymask\u001b[0m\u001b[0;34m)\u001b[0m\u001b[0;34m\u001b[0m\u001b[0m\n\u001b[1;32m      3\u001b[0m \u001b[0mMGM\u001b[0m\u001b[0;34m=\u001b[0m\u001b[0mcdutil\u001b[0m\u001b[0;34m.\u001b[0m\u001b[0mWeightedGridMaker\u001b[0m\u001b[0;34m(\u001b[0m\u001b[0mnlat\u001b[0m\u001b[0;34m=\u001b[0m\u001b[0;36m50\u001b[0m\u001b[0;34m,\u001b[0m \u001b[0mtype\u001b[0m\u001b[0;34m=\u001b[0m\u001b[0;34m'equal'\u001b[0m\u001b[0;34m,\u001b[0m \u001b[0mnlon\u001b[0m\u001b[0;34m=\u001b[0m\u001b[0;36m64\u001b[0m\u001b[0;34m,\u001b[0m \u001b[0mflon\u001b[0m\u001b[0;34m=\u001b[0m\u001b[0;36m2.8125\u001b[0m\u001b[0;34m,\u001b[0m \u001b[0mdellon\u001b[0m\u001b[0;34m=\u001b[0m\u001b[0;36m5.625\u001b[0m\u001b[0;34m)\u001b[0m\u001b[0;34m\u001b[0m\u001b[0m\n\u001b[1;32m      4\u001b[0m \u001b[0mMGM\u001b[0m\u001b[0;34m=\u001b[0m\u001b[0mcdutil\u001b[0m\u001b[0;34m.\u001b[0m\u001b[0mWeightedGridMaker\u001b[0m\u001b[0;34m(\u001b[0m\u001b[0mnlat\u001b[0m\u001b[0;34m=\u001b[0m\u001b[0;36m18\u001b[0m\u001b[0;34m,\u001b[0m \u001b[0mdellat\u001b[0m\u001b[0;34m=\u001b[0m\u001b[0;36m10.\u001b[0m\u001b[0;34m,\u001b[0m \u001b[0mflat\u001b[0m\u001b[0;34m=\u001b[0m\u001b[0;34m-\u001b[0m\u001b[0;36m85\u001b[0m\u001b[0;34m,\u001b[0m \u001b[0mnlon\u001b[0m\u001b[0;34m=\u001b[0m\u001b[0;36m36\u001b[0m\u001b[0;34m,\u001b[0m \u001b[0mdellon\u001b[0m\u001b[0;34m=\u001b[0m\u001b[0;36m10.\u001b[0m\u001b[0;34m,\u001b[0m \u001b[0mflon\u001b[0m\u001b[0;34m=\u001b[0m\u001b[0;36m0.\u001b[0m\u001b[0;34m)\u001b[0m\u001b[0;34m\u001b[0m\u001b[0m\n",
      "\u001b[0;31mNameError\u001b[0m: name 'mygrid' is not defined"
     ]
    }
   ],
   "source": [
    ">>> MGM=cdutil.WeightedGridMaker(grid=mygrid)\n",
    ">>> MGM=cdutil.WeightedGridMaker(nlat=64, type='gaussian', flon=-180., WeightsMaker=mymask)\n",
    ">>> MGM=cdutil.WeightedGridMaker(nlat=50, type='equal', nlon=64, flon=2.8125, dellon=5.625)\n",
    ">>> MGM=cdutil.WeightedGridMaker(nlat=18, dellat=10., flat=-85, nlon=36, dellon=10., flon=0.)"
   ]
  },
  {
   "cell_type": "markdown",
   "metadata": {},
   "source": [
    "Arguments can also be set after construction. For example:"
   ]
  },
  {
   "cell_type": "code",
   "execution_count": 31,
   "metadata": {},
   "outputs": [],
   "source": [
    ">>> MGM=cdutil.WeightedGridMaker()\n",
    ">>> MGM.longitude.n=36\n",
    ">>> MGM.longitude.first=0.\n",
    ">>> MGM.longitude.delta=10.\n",
    ">>> MGM.latitude.n=18\n",
    ">>> MGM.latitude.first=-85.\n",
    ">>> MGM.latitude.delta=10.\n",
    ">>> MGM.latitude.type='uniform'"
   ]
  },
  {
   "cell_type": "markdown",
   "metadata": {},
   "source": [
    "To retrieve the grid object, use the get method:"
   ]
  },
  {
   "cell_type": "code",
   "execution_count": 32,
   "metadata": {},
   "outputs": [
    {
     "name": "stderr",
     "output_type": "stream",
     "text": [
      "/export/reshel3/anaconda52/envs/cdms2/lib/python2.7/site-packages/cdms2/axis.py:1683: UserWarning: \n",
      "Your first bounds[0,0] -5.000000000000000 will be corrected to -5.000000000000000\n",
      "Your bounds bounds[-1,1] 355.000000000000000 will be corrected to 355.000000000000000\n",
      "  warnings.warn(msg, UserWarning)\n"
     ]
    }
   ],
   "source": [
    ">>> g=MGM.get()"
   ]
  },
  {
   "cell_type": "markdown",
   "metadata": {},
   "source": [
    "or, alternately,"
   ]
  },
  {
   "cell_type": "code",
   "execution_count": 33,
   "metadata": {},
   "outputs": [],
   "source": [
    ">>> g=MGM()"
   ]
  },
  {
   "cell_type": "markdown",
   "metadata": {},
   "source": [
    "The WeightsMaker object associated with the grid can be obtained as follows:"
   ]
  },
  {
   "cell_type": "code",
   "execution_count": 34,
   "metadata": {},
   "outputs": [
    {
     "ename": "AttributeError",
     "evalue": "'WeightedGridMaker' object has no attribute 'WeightsMaker'",
     "output_type": "error",
     "traceback": [
      "\u001b[0;31m---------------------------------------------------------------------------\u001b[0m",
      "\u001b[0;31mAttributeError\u001b[0m                            Traceback (most recent call last)",
      "\u001b[0;32m<ipython-input-34-73a995ae7764>\u001b[0m in \u001b[0;36m<module>\u001b[0;34m()\u001b[0m\n\u001b[0;32m----> 1\u001b[0;31m \u001b[0mgm\u001b[0m \u001b[0;34m=\u001b[0m \u001b[0mMGM\u001b[0m\u001b[0;34m.\u001b[0m\u001b[0mWeightsMaker\u001b[0m\u001b[0;34m(\u001b[0m\u001b[0;34m)\u001b[0m\u001b[0;34m\u001b[0m\u001b[0m\n\u001b[0m",
      "\u001b[0;31mAttributeError\u001b[0m: 'WeightedGridMaker' object has no attribute 'WeightsMaker'"
     ]
    }
   ],
   "source": [
    ">>> gm = MGM.WeightsMaker()"
   ]
  },
  {
   "cell_type": "markdown",
   "metadata": {},
   "source": [
    "Note that if a WeightsMaker object has not been passed to the constructor, then the grid object returned by MGM.WeightsMaker() will be: None."
   ]
  },
  {
   "cell_type": "markdown",
   "metadata": {},
   "source": [
    "### VariableConditioner Object\n",
    "\n",
    "[Back to Top](#top)"
   ]
  },
  {
   "cell_type": "markdown",
   "metadata": {},
   "source": [
    "#### Definition\n",
    "\n",
    "[Back to Top](#top)"
   ]
  },
  {
   "cell_type": "markdown",
   "metadata": {},
   "source": [
    "The VariableConditioner constructor must be provided either with a transient variable or with information that will be used to define a masked variable. Optional, additional information may be provided to indicate how the data should be mapped to a new grid, what masks should be applied, and how to scale and offset the data (to transform, for example, to alternative units).\n",
    "\n",
    "The VariableConditioner is constructed as follows:"
   ]
  },
  {
   "cell_type": "code",
   "execution_count": 35,
   "metadata": {},
   "outputs": [
    {
     "ename": "NameError",
     "evalue": "name 'source' is not defined",
     "output_type": "error",
     "traceback": [
      "\u001b[0;31m---------------------------------------------------------------------------\u001b[0m",
      "\u001b[0;31mNameError\u001b[0m                                 Traceback (most recent call last)",
      "\u001b[0;32m<ipython-input-35-dc02235048ce>\u001b[0m in \u001b[0;36m<module>\u001b[0;34m()\u001b[0m\n\u001b[0;32m----> 1\u001b[0;31m VC=cdutil.VariableConditioner(source, var=varoption, cdmsArguments=cdmsArgumentsoption,\n\u001b[0m\u001b[1;32m      2\u001b[0m                               \u001b[0mcdmsKeywords\u001b[0m\u001b[0;34m=\u001b[0m\u001b[0mcdmsKeywordsoption\u001b[0m\u001b[0;34m,\u001b[0m \u001b[0mWeightsMaker\u001b[0m\u001b[0;34m=\u001b[0m\u001b[0mWeightsMakeroption\u001b[0m\u001b[0;34m,\u001b[0m\u001b[0;34m\u001b[0m\u001b[0m\n\u001b[1;32m      3\u001b[0m                               \u001b[0mWeightedGridMaker\u001b[0m\u001b[0;34m=\u001b[0m\u001b[0mWeightedGridMakeroption\u001b[0m\u001b[0;34m,\u001b[0m \u001b[0moffset\u001b[0m\u001b[0;34m=\u001b[0m\u001b[0moffsetoption\u001b[0m\u001b[0;34m,\u001b[0m\u001b[0;34m\u001b[0m\u001b[0m\n\u001b[1;32m      4\u001b[0m                               slope=slopeoption, id=idoption)\n",
      "\u001b[0;31mNameError\u001b[0m: name 'source' is not defined"
     ]
    }
   ],
   "source": [
    "VC=cdutil.VariableConditioner(source, var=varoption, cdmsArguments=cdmsArgumentsoption,\n",
    "                              cdmsKeywords=cdmsKeywordsoption, WeightsMaker=WeightsMakeroption,\n",
    "                              WeightedGridMaker=WeightedGridMakeroption, offset=offsetoption,\n",
    "                              slope=slopeoption, id=idoption)"
   ]
  },
  {
   "cell_type": "markdown",
   "metadata": {},
   "source": [
    "Where:\n",
    "\n",
    "    source\n",
    "        This is either a file name or a transient variable. If an array is passed, a second associated array may also be passed (in which case source is a tuple), which contains the fraction of each grid cell for which the data value applies. This fraction will be used if the variable is regridded (see below).\n",
    "\n"
   ]
  },
  {
   "cell_type": "markdown",
   "metadata": {},
   "source": [
    "#### Options:\n",
    "\n",
    "[Back to Top](#top)"
   ]
  },
  {
   "cell_type": "markdown",
   "metadata": {},
   "source": [
    "Options:\n",
    "\n",
    "    varoption\n",
    "        Default is None. This is the name of the variable that is needed from the file specified in the source argument (except when source refers directly to a variable, in which case this argument is ignored).\n",
    "\n",
    "    cdmsArgumentsoption\n",
    "        Default is []. This is a tuple or list of optional arguments used when retrieving a variable with cdms. For example, cdmsArguments=(cdutil.region.NH) specifies that data should be retrieved from the Northern Hemisphere only). See the cdms documentation for more information.\n",
    "\n",
    "    cdmsKeywordsoption\n",
    "        Default is {}. This is a dictionary defining keyword:value pairs used when retrieving a variable with cdms. For example, cdmsKeywords= {'latitude:(-90.0, 0.0)} specifies that data should be retrieved from the Southern Hemisphere only. See the cdms documentation for more information.\n",
    "\n",
    "    WeightsMakeroption\n",
    "        Default is None. This is a WeightsMaker object that should be applied to the masked variable (before any regridding).\n",
    "\n",
    "    WeightedGridMakeroption\n",
    "        Default is None. This is a WeightedGridMaker object that defines the target grid to which the data should be mapped. (Note, that if a WeightsMaker is associated with the WeightedGridMaker object, then that mask will be applied to the data after regridding.)\n",
    "\n",
    "    offsetoption and slopeoption\n",
    "        The default values are 0.0 and 1.0 respectively. These are used to change units of the variable by multiplying the data by slope and adding offset to the result.\n",
    "\n",
    "    idoption\n",
    "        Default is None. This is a string that can be used to identify your VariableConditioner object, but it is purely informational and not used otherwise.\n"
   ]
  },
  {
   "cell_type": "markdown",
   "metadata": {},
   "source": [
    "#### Usage:\n",
    "\n",
    "[Back to Top](#top)"
   ]
  },
  {
   "cell_type": "code",
   "execution_count": 36,
   "metadata": {},
   "outputs": [
    {
     "ename": "ValueError",
     "evalue": "/pcmdi/obs/mo/tas/jones_amip/tas.jones_amip.ctl : file does not exist....",
     "output_type": "error",
     "traceback": [
      "\u001b[0;31m---------------------------------------------------------------------------\u001b[0m",
      "\u001b[0;31mValueError\u001b[0m                                Traceback (most recent call last)",
      "\u001b[0;32m<ipython-input-36-d76abb7d837d>\u001b[0m in \u001b[0;36m<module>\u001b[0;34m()\u001b[0m\n\u001b[0;32m----> 1\u001b[0;31m \u001b[0mVC\u001b[0m\u001b[0;34m=\u001b[0m\u001b[0mcdutil\u001b[0m\u001b[0;34m.\u001b[0m\u001b[0mVariableConditioner\u001b[0m\u001b[0;34m(\u001b[0m \u001b[0;34m'/pcmdi/obs/mo/tas/jones_amip/tas.jones_amip.ctl'\u001b[0m\u001b[0;34m,\u001b[0m \u001b[0mvar\u001b[0m\u001b[0;34m=\u001b[0m\u001b[0;34m'tas'\u001b[0m\u001b[0;34m,\u001b[0m \u001b[0mid\u001b[0m\u001b[0;34m=\u001b[0m\u001b[0;34m'JONES'\u001b[0m\u001b[0;34m)\u001b[0m\u001b[0;34m\u001b[0m\u001b[0m\n\u001b[0m",
      "\u001b[0;32m/export/reshel3/anaconda52/envs/cdms2/lib/python2.7/site-packages/cdutil-v8.0_59_g3bd6383-py3.7.egg/cdutil/retrieve.py\u001b[0m in \u001b[0;36m__init__\u001b[0;34m(self, source, var, weightsMaker, weightedGridMaker, offset, slope, cdmsArguments, cdmsKeywords, id, preprocess, preprocessKeywords, comments)\u001b[0m\n\u001b[1;32m    464\u001b[0m \u001b[0;34m\u001b[0m\u001b[0m\n\u001b[1;32m    465\u001b[0m         \u001b[0;32mif\u001b[0m \u001b[0misinstance\u001b[0m\u001b[0;34m(\u001b[0m\u001b[0msource\u001b[0m\u001b[0;34m,\u001b[0m \u001b[0mbasestring\u001b[0m\u001b[0;34m)\u001b[0m\u001b[0;34m:\u001b[0m\u001b[0;34m\u001b[0m\u001b[0m\n\u001b[0;32m--> 466\u001b[0;31m             \u001b[0mself\u001b[0m\u001b[0;34m.\u001b[0m\u001b[0mfile\u001b[0m \u001b[0;34m=\u001b[0m \u001b[0msource\u001b[0m\u001b[0;34m\u001b[0m\u001b[0m\n\u001b[0m\u001b[1;32m    467\u001b[0m             \u001b[0mself\u001b[0m\u001b[0;34m.\u001b[0m\u001b[0mdata\u001b[0m \u001b[0;34m=\u001b[0m \u001b[0mNone\u001b[0m\u001b[0;34m\u001b[0m\u001b[0m\n\u001b[1;32m    468\u001b[0m         \u001b[0;32melse\u001b[0m\u001b[0;34m:\u001b[0m\u001b[0;34m\u001b[0m\u001b[0m\n",
      "\u001b[0;32m/export/reshel3/anaconda52/envs/cdms2/lib/python2.7/site-packages/cdutil-v8.0_59_g3bd6383-py3.7.egg/cdutil/retrieve.py\u001b[0m in \u001b[0;36m_set_file\u001b[0;34m(self, value)\u001b[0m\n\u001b[1;32m    722\u001b[0m \u001b[0;34m\u001b[0m\u001b[0m\n\u001b[1;32m    723\u001b[0m     \u001b[0;32mdef\u001b[0m \u001b[0m_set_file\u001b[0m\u001b[0;34m(\u001b[0m\u001b[0mself\u001b[0m\u001b[0;34m,\u001b[0m \u001b[0mvalue\u001b[0m\u001b[0;34m)\u001b[0m\u001b[0;34m:\u001b[0m\u001b[0;34m\u001b[0m\u001b[0m\n\u001b[0;32m--> 724\u001b[0;31m         \u001b[0mname\u001b[0m\u001b[0;34m,\u001b[0m \u001b[0mvalue\u001b[0m \u001b[0;34m=\u001b[0m \u001b[0mValidationFunctions\u001b[0m\u001b[0;34m.\u001b[0m\u001b[0msetSlab\u001b[0m\u001b[0;34m(\u001b[0m\u001b[0mself\u001b[0m\u001b[0;34m,\u001b[0m \u001b[0;34m'file'\u001b[0m\u001b[0;34m,\u001b[0m \u001b[0mvalue\u001b[0m\u001b[0;34m)\u001b[0m\u001b[0;34m\u001b[0m\u001b[0m\n\u001b[0m\u001b[1;32m    725\u001b[0m         \u001b[0;32mif\u001b[0m \u001b[0mname\u001b[0m \u001b[0;34m==\u001b[0m \u001b[0;34m'file'\u001b[0m\u001b[0;34m:\u001b[0m\u001b[0;34m\u001b[0m\u001b[0m\n\u001b[1;32m    726\u001b[0m             \u001b[0mself\u001b[0m\u001b[0;34m.\u001b[0m\u001b[0m_file\u001b[0m \u001b[0;34m=\u001b[0m \u001b[0mvalue\u001b[0m\u001b[0;34m\u001b[0m\u001b[0m\n",
      "\u001b[0;32m/export/reshel3/anaconda52/envs/cdms2/lib/python2.7/site-packages/cdutil-v8.0_59_g3bd6383-py3.7.egg/cdutil/ValidationFunctions.py\u001b[0m in \u001b[0;36msetSlab\u001b[0;34m(self, name, value)\u001b[0m\n\u001b[1;32m     66\u001b[0m             \u001b[0;32mreturn\u001b[0m\u001b[0;34m(\u001b[0m\u001b[0;34m'file'\u001b[0m\u001b[0;34m,\u001b[0m \u001b[0mvalue\u001b[0m\u001b[0;34m)\u001b[0m\u001b[0;34m\u001b[0m\u001b[0m\n\u001b[1;32m     67\u001b[0m         \u001b[0;32melse\u001b[0m\u001b[0;34m:\u001b[0m\u001b[0;34m\u001b[0m\u001b[0m\n\u001b[0;32m---> 68\u001b[0;31m             \u001b[0;32mraise\u001b[0m \u001b[0mValueError\u001b[0m\u001b[0;34m(\u001b[0m\u001b[0mvalue\u001b[0m \u001b[0;34m+\u001b[0m \u001b[0;34m\" : file does not exist....\"\u001b[0m\u001b[0;34m)\u001b[0m\u001b[0;34m\u001b[0m\u001b[0m\n\u001b[0m\u001b[1;32m     69\u001b[0m     \u001b[0;32melif\u001b[0m \u001b[0misinstance\u001b[0m\u001b[0;34m(\u001b[0m\u001b[0mvalue\u001b[0m\u001b[0;34m,\u001b[0m \u001b[0mtype\u001b[0m\u001b[0;34m(\u001b[0m\u001b[0mNone\u001b[0m\u001b[0;34m)\u001b[0m\u001b[0;34m)\u001b[0m\u001b[0;34m:\u001b[0m\u001b[0;34m\u001b[0m\u001b[0m\n\u001b[1;32m     70\u001b[0m         \u001b[0;32mreturn\u001b[0m \u001b[0mname\u001b[0m\u001b[0;34m,\u001b[0m \u001b[0mvalue\u001b[0m\u001b[0;34m\u001b[0m\u001b[0m\n",
      "\u001b[0;31mValueError\u001b[0m: /pcmdi/obs/mo/tas/jones_amip/tas.jones_amip.ctl : file does not exist...."
     ]
    }
   ],
   "source": [
    "VC=cdutil.VariableConditioner( '/pcmdi/obs/mo/tas/jones_amip/tas.jones_amip.ctl', var='tas', id='JONES')"
   ]
  },
  {
   "cell_type": "markdown",
   "metadata": {},
   "source": [
    "Arguments can also be set after construction. For example:"
   ]
  },
  {
   "cell_type": "code",
   "execution_count": 37,
   "metadata": {},
   "outputs": [
    {
     "ename": "ValueError",
     "evalue": "/pcmdi/obs/mo/tas/jones_amip/tas.jones_amip.ctl : file does not exist....",
     "output_type": "error",
     "traceback": [
      "\u001b[0;31m---------------------------------------------------------------------------\u001b[0m",
      "\u001b[0;31mValueError\u001b[0m                                Traceback (most recent call last)",
      "\u001b[0;32m<ipython-input-37-ef1ddec53df7>\u001b[0m in \u001b[0;36m<module>\u001b[0;34m()\u001b[0m\n\u001b[1;32m      1\u001b[0m \u001b[0mref\u001b[0m\u001b[0;34m=\u001b[0m\u001b[0;34m'/pcmdi/obs/mo/tas/jones_amip/tas.jones_amip.ctl'\u001b[0m\u001b[0;34m\u001b[0m\u001b[0m\n\u001b[0;32m----> 2\u001b[0;31m \u001b[0mVC\u001b[0m \u001b[0;34m=\u001b[0m \u001b[0mcdutil\u001b[0m\u001b[0;34m.\u001b[0m\u001b[0mVariableConditioner\u001b[0m\u001b[0;34m(\u001b[0m\u001b[0mref\u001b[0m\u001b[0;34m)\u001b[0m\u001b[0;34m\u001b[0m\u001b[0m\n\u001b[0m\u001b[1;32m      3\u001b[0m \u001b[0mVC\u001b[0m\u001b[0;34m.\u001b[0m\u001b[0mvar\u001b[0m\u001b[0;34m=\u001b[0m\u001b[0;34m'tas'\u001b[0m\u001b[0;34m\u001b[0m\u001b[0m\n\u001b[1;32m      4\u001b[0m \u001b[0mVC\u001b[0m\u001b[0;34m.\u001b[0m\u001b[0mid\u001b[0m\u001b[0;34m=\u001b[0m\u001b[0;34m'JONES'\u001b[0m\u001b[0;34m\u001b[0m\u001b[0m\n",
      "\u001b[0;32m/export/reshel3/anaconda52/envs/cdms2/lib/python2.7/site-packages/cdutil-v8.0_59_g3bd6383-py3.7.egg/cdutil/retrieve.py\u001b[0m in \u001b[0;36m__init__\u001b[0;34m(self, source, var, weightsMaker, weightedGridMaker, offset, slope, cdmsArguments, cdmsKeywords, id, preprocess, preprocessKeywords, comments)\u001b[0m\n\u001b[1;32m    464\u001b[0m \u001b[0;34m\u001b[0m\u001b[0m\n\u001b[1;32m    465\u001b[0m         \u001b[0;32mif\u001b[0m \u001b[0misinstance\u001b[0m\u001b[0;34m(\u001b[0m\u001b[0msource\u001b[0m\u001b[0;34m,\u001b[0m \u001b[0mbasestring\u001b[0m\u001b[0;34m)\u001b[0m\u001b[0;34m:\u001b[0m\u001b[0;34m\u001b[0m\u001b[0m\n\u001b[0;32m--> 466\u001b[0;31m             \u001b[0mself\u001b[0m\u001b[0;34m.\u001b[0m\u001b[0mfile\u001b[0m \u001b[0;34m=\u001b[0m \u001b[0msource\u001b[0m\u001b[0;34m\u001b[0m\u001b[0m\n\u001b[0m\u001b[1;32m    467\u001b[0m             \u001b[0mself\u001b[0m\u001b[0;34m.\u001b[0m\u001b[0mdata\u001b[0m \u001b[0;34m=\u001b[0m \u001b[0mNone\u001b[0m\u001b[0;34m\u001b[0m\u001b[0m\n\u001b[1;32m    468\u001b[0m         \u001b[0;32melse\u001b[0m\u001b[0;34m:\u001b[0m\u001b[0;34m\u001b[0m\u001b[0m\n",
      "\u001b[0;32m/export/reshel3/anaconda52/envs/cdms2/lib/python2.7/site-packages/cdutil-v8.0_59_g3bd6383-py3.7.egg/cdutil/retrieve.py\u001b[0m in \u001b[0;36m_set_file\u001b[0;34m(self, value)\u001b[0m\n\u001b[1;32m    722\u001b[0m \u001b[0;34m\u001b[0m\u001b[0m\n\u001b[1;32m    723\u001b[0m     \u001b[0;32mdef\u001b[0m \u001b[0m_set_file\u001b[0m\u001b[0;34m(\u001b[0m\u001b[0mself\u001b[0m\u001b[0;34m,\u001b[0m \u001b[0mvalue\u001b[0m\u001b[0;34m)\u001b[0m\u001b[0;34m:\u001b[0m\u001b[0;34m\u001b[0m\u001b[0m\n\u001b[0;32m--> 724\u001b[0;31m         \u001b[0mname\u001b[0m\u001b[0;34m,\u001b[0m \u001b[0mvalue\u001b[0m \u001b[0;34m=\u001b[0m \u001b[0mValidationFunctions\u001b[0m\u001b[0;34m.\u001b[0m\u001b[0msetSlab\u001b[0m\u001b[0;34m(\u001b[0m\u001b[0mself\u001b[0m\u001b[0;34m,\u001b[0m \u001b[0;34m'file'\u001b[0m\u001b[0;34m,\u001b[0m \u001b[0mvalue\u001b[0m\u001b[0;34m)\u001b[0m\u001b[0;34m\u001b[0m\u001b[0m\n\u001b[0m\u001b[1;32m    725\u001b[0m         \u001b[0;32mif\u001b[0m \u001b[0mname\u001b[0m \u001b[0;34m==\u001b[0m \u001b[0;34m'file'\u001b[0m\u001b[0;34m:\u001b[0m\u001b[0;34m\u001b[0m\u001b[0m\n\u001b[1;32m    726\u001b[0m             \u001b[0mself\u001b[0m\u001b[0;34m.\u001b[0m\u001b[0m_file\u001b[0m \u001b[0;34m=\u001b[0m \u001b[0mvalue\u001b[0m\u001b[0;34m\u001b[0m\u001b[0m\n",
      "\u001b[0;32m/export/reshel3/anaconda52/envs/cdms2/lib/python2.7/site-packages/cdutil-v8.0_59_g3bd6383-py3.7.egg/cdutil/ValidationFunctions.py\u001b[0m in \u001b[0;36msetSlab\u001b[0;34m(self, name, value)\u001b[0m\n\u001b[1;32m     66\u001b[0m             \u001b[0;32mreturn\u001b[0m\u001b[0;34m(\u001b[0m\u001b[0;34m'file'\u001b[0m\u001b[0;34m,\u001b[0m \u001b[0mvalue\u001b[0m\u001b[0;34m)\u001b[0m\u001b[0;34m\u001b[0m\u001b[0m\n\u001b[1;32m     67\u001b[0m         \u001b[0;32melse\u001b[0m\u001b[0;34m:\u001b[0m\u001b[0;34m\u001b[0m\u001b[0m\n\u001b[0;32m---> 68\u001b[0;31m             \u001b[0;32mraise\u001b[0m \u001b[0mValueError\u001b[0m\u001b[0;34m(\u001b[0m\u001b[0mvalue\u001b[0m \u001b[0;34m+\u001b[0m \u001b[0;34m\" : file does not exist....\"\u001b[0m\u001b[0;34m)\u001b[0m\u001b[0;34m\u001b[0m\u001b[0m\n\u001b[0m\u001b[1;32m     69\u001b[0m     \u001b[0;32melif\u001b[0m \u001b[0misinstance\u001b[0m\u001b[0;34m(\u001b[0m\u001b[0mvalue\u001b[0m\u001b[0;34m,\u001b[0m \u001b[0mtype\u001b[0m\u001b[0;34m(\u001b[0m\u001b[0mNone\u001b[0m\u001b[0;34m)\u001b[0m\u001b[0;34m)\u001b[0m\u001b[0;34m:\u001b[0m\u001b[0;34m\u001b[0m\u001b[0m\n\u001b[1;32m     70\u001b[0m         \u001b[0;32mreturn\u001b[0m \u001b[0mname\u001b[0m\u001b[0;34m,\u001b[0m \u001b[0mvalue\u001b[0m\u001b[0;34m\u001b[0m\u001b[0m\n",
      "\u001b[0;31mValueError\u001b[0m: /pcmdi/obs/mo/tas/jones_amip/tas.jones_amip.ctl : file does not exist...."
     ]
    }
   ],
   "source": [
    ">>> ref='/pcmdi/obs/mo/tas/jones_amip/tas.jones_amip.ctl'\n",
    ">>> VC = cdutil.VariableConditioner(ref)\n",
    ">>> VC.var='tas'\n",
    ">>> VC.id='JONES'"
   ]
  },
  {
   "cell_type": "markdown",
   "metadata": {},
   "source": [
    "To retrieve the modified variable (i.e., generate a masked variable), use the get method:"
   ]
  },
  {
   "cell_type": "code",
   "execution_count": 38,
   "metadata": {},
   "outputs": [
    {
     "ename": "NameError",
     "evalue": "name 'VC' is not defined",
     "output_type": "error",
     "traceback": [
      "\u001b[0;31m---------------------------------------------------------------------------\u001b[0m",
      "\u001b[0;31mNameError\u001b[0m                                 Traceback (most recent call last)",
      "\u001b[0;32m<ipython-input-38-65f3af65c988>\u001b[0m in \u001b[0;36m<module>\u001b[0;34m()\u001b[0m\n\u001b[0;32m----> 1\u001b[0;31m \u001b[0mdata\u001b[0m \u001b[0;34m=\u001b[0m \u001b[0mVC\u001b[0m\u001b[0;34m.\u001b[0m\u001b[0mget\u001b[0m\u001b[0;34m(\u001b[0m\u001b[0mreturnTuple\u001b[0m\u001b[0;34m=\u001b[0m\u001b[0;36m0\u001b[0m\u001b[0;34m)\u001b[0m\u001b[0;34m\u001b[0m\u001b[0m\n\u001b[0m",
      "\u001b[0;31mNameError\u001b[0m: name 'VC' is not defined"
     ]
    }
   ],
   "source": [
    ">>> data = VC.get(returnTuple=0)"
   ]
  },
  {
   "cell_type": "markdown",
   "metadata": {},
   "source": [
    "or, alternately,"
   ]
  },
  {
   "cell_type": "code",
   "execution_count": 39,
   "metadata": {},
   "outputs": [
    {
     "ename": "NameError",
     "evalue": "name 'VC' is not defined",
     "output_type": "error",
     "traceback": [
      "\u001b[0;31m---------------------------------------------------------------------------\u001b[0m",
      "\u001b[0;31mNameError\u001b[0m                                 Traceback (most recent call last)",
      "\u001b[0;32m<ipython-input-39-89ea2ecbf165>\u001b[0m in \u001b[0;36m<module>\u001b[0;34m()\u001b[0m\n\u001b[0;32m----> 1\u001b[0;31m \u001b[0mdata\u001b[0m \u001b[0;34m=\u001b[0m \u001b[0mVC\u001b[0m\u001b[0;34m(\u001b[0m\u001b[0mreturnTuple\u001b[0m\u001b[0;34m=\u001b[0m\u001b[0;36m0\u001b[0m\u001b[0;34m)\u001b[0m\u001b[0;34m\u001b[0m\u001b[0m\n\u001b[0m",
      "\u001b[0;31mNameError\u001b[0m: name 'VC' is not defined"
     ]
    }
   ],
   "source": [
    ">>> data = VC(returnTuple=0)"
   ]
  },
  {
   "cell_type": "markdown",
   "metadata": {},
   "source": [
    "One may additionally wish to retrieve the fraction of each target grid cell where data existed on the original grid (i.e., where data had not been masked). If, for example, 20% of the target grid cell were masked on the original grid (or were flagged as missing data), this fraction is set to 0.8. If the target grid cell itself is masked, this fraction is set to 0. To retrieve these fractions along with the modified variable itself, the keyword returnTuple is set to 1 (or omitted, since 1 is the default):"
   ]
  },
  {
   "cell_type": "code",
   "execution_count": 40,
   "metadata": {},
   "outputs": [
    {
     "ename": "NameError",
     "evalue": "name 'VC' is not defined",
     "output_type": "error",
     "traceback": [
      "\u001b[0;31m---------------------------------------------------------------------------\u001b[0m",
      "\u001b[0;31mNameError\u001b[0m                                 Traceback (most recent call last)",
      "\u001b[0;32m<ipython-input-40-d66d78801cfb>\u001b[0m in \u001b[0;36m<module>\u001b[0;34m()\u001b[0m\n\u001b[0;32m----> 1\u001b[0;31m \u001b[0mdata\u001b[0m\u001b[0;34m,\u001b[0m \u001b[0mfrac\u001b[0m\u001b[0;34m=\u001b[0m\u001b[0mVC\u001b[0m\u001b[0;34m(\u001b[0m\u001b[0;34m)\u001b[0m\u001b[0;34m\u001b[0m\u001b[0m\n\u001b[0m",
      "\u001b[0;31mNameError\u001b[0m: name 'VC' is not defined"
     ]
    }
   ],
   "source": [
    ">>> data, frac=VC()"
   ]
  },
  {
   "cell_type": "markdown",
   "metadata": {},
   "source": [
    "The order that operations are executed by the get method of the VariableConditioner object is as follows:\n",
    "\n",
    "    If necessary, open the file and retrieve the specified variable (or process the passed “masked variable”) with the constraints implied by the cdmsArguments and cdmsKeywords.\n",
    "    If the WeightsMaker keyword is defined, mask the data. Note that after being defined by the WeightsMaker object, the mask may be “post-processed” by VariableConditioner to make it conform to the dimensions of the data being “conditioned”. For example, a subdomain may be extracted using information supplied in cdmsKeywords and cdmsArguments, or the mask may be expanded by copying itself to fill a dimension (e.g., time or level) that is found in the data, but not the mask.\n",
    "    If the WeightedGridMaker keyword is defined, map the data to the target grid returned by the WeightedGridMaker, and, if defined, apply the associated target grid mask. If required by an input actions specification, the variable (in its latest state) will be used by the WeightsMaker. Again (as in step 2), post-processing will be applied on the returned mask when necessary.\n",
    "    Apply the slope and offset transformation unless the slope equals 1.0 and the offset equals 0.0.\n"
   ]
  },
  {
   "cell_type": "markdown",
   "metadata": {},
   "source": [
    "### VariablesMatcher Object\n",
    "\n",
    "[Back to Top](#top)"
   ]
  },
  {
   "cell_type": "markdown",
   "metadata": {},
   "source": [
    "#### Definiation\n",
    "\n",
    "[Back to Top](#top)\n",
    "\n",
    "The VariablesMatcher object can be used to facilitate comparison of two different variables. It places these variables on a common grid, allows for application of masks, and optionally indicates the fraction of each grid cell for which information was available (i.e., not missing) when the field was put on its final grid. The VariablesMatcher object processes two VariableConditioner objects (which represent the two variables to be compared). It can also apply a supplied external-data mask and map everything to a new grid. The VariablesMatcher object is constructed as follows:"
   ]
  },
  {
   "cell_type": "code",
   "execution_count": 41,
   "metadata": {},
   "outputs": [
    {
     "ename": "NameError",
     "evalue": "name 'variableConditioner1option' is not defined",
     "output_type": "error",
     "traceback": [
      "\u001b[0;31m---------------------------------------------------------------------------\u001b[0m",
      "\u001b[0;31mNameError\u001b[0m                                 Traceback (most recent call last)",
      "\u001b[0;32m<ipython-input-41-809562cf9526>\u001b[0m in \u001b[0;36m<module>\u001b[0;34m()\u001b[0m\n\u001b[0;32m----> 1\u001b[0;31m VM=cdutil.VariablesMatcher(variableConditioner1=variableConditioner1option,\n\u001b[0m\u001b[1;32m      2\u001b[0m                            \u001b[0mvariableConditioner2\u001b[0m\u001b[0;34m=\u001b[0m\u001b[0mvariableConditioner2option\u001b[0m\u001b[0;34m,\u001b[0m\u001b[0;34m\u001b[0m\u001b[0m\n\u001b[1;32m      3\u001b[0m                \u001b[0mcdmsArguments\u001b[0m\u001b[0;34m=\u001b[0m\u001b[0mcdmsArgumentsoption\u001b[0m\u001b[0;34m,\u001b[0m \u001b[0mcdmsKeywords\u001b[0m\u001b[0;34m=\u001b[0m\u001b[0mcdmsKeywordsoption\u001b[0m\u001b[0;34m,\u001b[0m\u001b[0;34m\u001b[0m\u001b[0m\n\u001b[1;32m      4\u001b[0m                \u001b[0mexternalVariableConditioner\u001b[0m\u001b[0;34m=\u001b[0m\u001b[0mexternalVariableConditioneroption\u001b[0m\u001b[0;34m,\u001b[0m\u001b[0;34m\u001b[0m\u001b[0m\n\u001b[1;32m      5\u001b[0m                WeightedGridMaker= WeightedGridMakeroption )\n",
      "\u001b[0;31mNameError\u001b[0m: name 'variableConditioner1option' is not defined"
     ]
    }
   ],
   "source": [
    "VM=cdutil.VariablesMatcher(variableConditioner1=variableConditioner1option,\n",
    "                           variableConditioner2=variableConditioner2option,\n",
    "               cdmsArguments=cdmsArgumentsoption, cdmsKeywords=cdmsKeywordsoption,\n",
    "               externalVariableConditioner=externalVariableConditioneroption,\n",
    "               WeightedGridMaker= WeightedGridMakeroption )"
   ]
  },
  {
   "cell_type": "markdown",
   "metadata": {},
   "source": [
    "#### Options:\n",
    "\n",
    "[Back to Top](#top)"
   ]
  },
  {
   "cell_type": "markdown",
   "metadata": {},
   "source": [
    "    variableConditioner1option\n",
    "        Default is None. This can be a VariableConditioner object or a file name or a transient variable (from which a VariableConditioner will be constructed). It may also be a tuple comprising a transient variable plus a fraction associated with each cell (which will be used in constructing “weights”). If variableConditioner1 is a file name, then the user must also define the name of the variable (e.g., VM.variableConditioner1.var='tas').\n",
    "\n",
    "    variableConditioner2option\n",
    "        Default is None. This is a second field treated just like variableConditioner1 except if after all processing is completed, variable 2 is not on the same grid as variable 1, then it will be mapped to variable 1’s grid.\n",
    "    cdmsArgumentsoption\n",
    "        Default is []. This is a tuple of optional arguments used when retrieving a variable with cdms. For example, cdmsArguments=(cdutil.region.NH) specifies that data should be retrieved from the Northern Hemisphere only. See the cdms documentation for more information. The cdmsArguments set here will replace all arguments that might be set for individual VariableConditioner objects (i.e., “1”, “2” and “external”).\n",
    "    cdmsKeywordsoption\n",
    "        Default is {}. This is a dictionary defining “keyword:value” pairs used when retrieving a variable with cdms. For example, cdmsKeywords= {'latitude:(-90.0, 0.0)} specifies that data should be retrieved from the Southern Hemisphere only. See the cdms documentation for more information. The cdmsKeywords set here will be appended to or take the place of those that might be set for individual VariableConditioner objects (i.e., “1”, “2” and “external”).\n",
    "    externalVariableConditioneroption\n",
    "        Default is None. This is optional and is used to mask both variable 1 and variable 2 with its own mask. Variable 1 and variable 2 are mapped to the external variable grid before applying the mask. The external variable weights are applied (except where the weights associated with the variables are zero) The externalVariableConditioner is generally not needed unless an external time-varying mask is to be applied.\n",
    "    WeightedGridMakeroption\n",
    "        Default is None. This is an optional WeightedGridMaker object that defines the target grid to which variable 1 and variable 2 should be mapped as a last step. (Note, that if a WeightsMaker is associated with the WeightedGridMaker object, then the mask will be applied to the data after regridding.)\n"
   ]
  },
  {
   "cell_type": "markdown",
   "metadata": {},
   "source": [
    "#### Usage:\n",
    "\n",
    "[Back to Top](#top)"
   ]
  },
  {
   "cell_type": "markdown",
   "metadata": {},
   "source": [
    "To retrieve the modified variable (i.e., generate a masked variable), use the get method:"
   ]
  },
  {
   "cell_type": "code",
   "execution_count": 42,
   "metadata": {},
   "outputs": [
    {
     "ename": "NameError",
     "evalue": "name 'VM' is not defined",
     "output_type": "error",
     "traceback": [
      "\u001b[0;31m---------------------------------------------------------------------------\u001b[0m",
      "\u001b[0;31mNameError\u001b[0m                                 Traceback (most recent call last)",
      "\u001b[0;32m<ipython-input-42-1b2e140fa084>\u001b[0m in \u001b[0;36m<module>\u001b[0;34m()\u001b[0m\n\u001b[0;32m----> 1\u001b[0;31m \u001b[0mvariable1\u001b[0m\u001b[0;34m,\u001b[0m \u001b[0mvariable2\u001b[0m \u001b[0;34m=\u001b[0m \u001b[0mVM\u001b[0m\u001b[0;34m.\u001b[0m\u001b[0mget\u001b[0m\u001b[0;34m(\u001b[0m\u001b[0mreturnTuple\u001b[0m\u001b[0;34m=\u001b[0m\u001b[0;36m0\u001b[0m\u001b[0;34m)\u001b[0m\u001b[0;34m\u001b[0m\u001b[0m\n\u001b[0m",
      "\u001b[0;31mNameError\u001b[0m: name 'VM' is not defined"
     ]
    }
   ],
   "source": [
    ">>> variable1, variable2 = VM.get(returnTuple=0)"
   ]
  },
  {
   "cell_type": "markdown",
   "metadata": {},
   "source": [
    "or, alternately,"
   ]
  },
  {
   "cell_type": "code",
   "execution_count": 43,
   "metadata": {},
   "outputs": [
    {
     "ename": "NameError",
     "evalue": "name 'VM' is not defined",
     "output_type": "error",
     "traceback": [
      "\u001b[0;31m---------------------------------------------------------------------------\u001b[0m",
      "\u001b[0;31mNameError\u001b[0m                                 Traceback (most recent call last)",
      "\u001b[0;32m<ipython-input-43-9afd86c69162>\u001b[0m in \u001b[0;36m<module>\u001b[0;34m()\u001b[0m\n\u001b[0;32m----> 1\u001b[0;31m \u001b[0mvariable1\u001b[0m\u001b[0;34m,\u001b[0m \u001b[0mvariable2\u001b[0m \u001b[0;34m=\u001b[0m \u001b[0mVM\u001b[0m\u001b[0;34m(\u001b[0m\u001b[0mreturnTuple\u001b[0m\u001b[0;34m=\u001b[0m\u001b[0;36m0\u001b[0m\u001b[0;34m)\u001b[0m\u001b[0;34m\u001b[0m\u001b[0m\n\u001b[0m",
      "\u001b[0;31mNameError\u001b[0m: name 'VM' is not defined"
     ]
    }
   ],
   "source": [
    ">>> variable1, variable2 = VM(returnTuple=0)"
   ]
  },
  {
   "cell_type": "markdown",
   "metadata": {},
   "source": [
    "One may additionally wish to retrieve the fraction of each target grid cell where data existed on the original grid (i.e., where data had not been masked). If, for example, 20% of the target grid cell has been masked on the original grid (or has been flagged as missing data), this fraction is set to 0.8. If the target grid cell itself is masked, this fraction is set to 0. To retrieve these fractions along with the modified variable itself, the keyword returnTuple is set to 1 (or omitted, since 1 is the default):"
   ]
  },
  {
   "cell_type": "code",
   "execution_count": 44,
   "metadata": {},
   "outputs": [
    {
     "ename": "NameError",
     "evalue": "name 'VM' is not defined",
     "output_type": "error",
     "traceback": [
      "\u001b[0;31m---------------------------------------------------------------------------\u001b[0m",
      "\u001b[0;31mNameError\u001b[0m                                 Traceback (most recent call last)",
      "\u001b[0;32m<ipython-input-44-1463d94ec51f>\u001b[0m in \u001b[0;36m<module>\u001b[0;34m()\u001b[0m\n\u001b[0;32m----> 1\u001b[0;31m \u001b[0;34m(\u001b[0m\u001b[0mvariable1\u001b[0m\u001b[0;34m,\u001b[0m \u001b[0mfrac1\u001b[0m\u001b[0;34m)\u001b[0m\u001b[0;34m,\u001b[0m \u001b[0;34m(\u001b[0m\u001b[0mvariable2\u001b[0m\u001b[0;34m,\u001b[0m \u001b[0mfrac2\u001b[0m\u001b[0;34m)\u001b[0m \u001b[0;34m=\u001b[0m \u001b[0mVM\u001b[0m\u001b[0;34m(\u001b[0m\u001b[0;34m)\u001b[0m\u001b[0;34m\u001b[0m\u001b[0m\n\u001b[0m",
      "\u001b[0;31mNameError\u001b[0m: name 'VM' is not defined"
     ]
    }
   ],
   "source": [
    ">>> (variable1, frac1), (variable2, frac2) = VM()"
   ]
  },
  {
   "cell_type": "markdown",
   "metadata": {},
   "source": [
    "The order that operations are executed by the get method of the VariablesMatcher object is as follows:\n",
    "\n",
    "    Append or replace cdms arguments/keywords for variableConditioner1, variableConditioner2, and, if defined, the externalVariableConditioner.\n",
    "    Get the variableConditioner1 and variableConditioner2.\n",
    "    If the length of the time dimensions for the two variables are different, extract the sub-domain the two have in common.\n",
    "    If variable 1 and variable 2 do not have the same number of dimensions, make them consistent by adding missing dimensions. This will be done only in the case of missing singleton dimensions prevents problems with dummy dimensions. If an externalVariableConditioner is defined, get the external variable.\n",
    "    Get only time-slices in common with variables 1 and 2.\n",
    "    Map both variable 1 and variable 2 to the grid of the external variable.\n",
    "    Apply to variables 1 and 2 the mask implied by “missing values” found in the external variable data and/or the mask associated with the external variable.\n",
    "    If the WeightedGridMaker keyword is defined, map the data to the target grid, and apply the associated target grid mask (if defined). If required by an ‘input’ actions specification, the variable (in its latest state) will be used by the WeightsMaker. As in step 2) of section 2.3, post-processing will be applied on the returned mask when necessary.\n",
    "    If variable 1 and variable 2 are at this point on different grids, map variable 2 to the grid of variable 1. No masking information is transferred from one variable to the other here.\n",
    "\n"
   ]
  },
  {
   "cell_type": "markdown",
   "metadata": {},
   "source": [
    "### Examples\n",
    "\n",
    "[Back to Top](#top)"
   ]
  },
  {
   "cell_type": "markdown",
   "metadata": {},
   "source": [
    "#### A simple example\n",
    "\n",
    "[Back to Top](#top)\n",
    "\n",
    "In this example we retrieve data for 2 different variables over the maximum common period, and put them both on a 10x10 degree grid."
   ]
  },
  {
   "cell_type": "code",
   "execution_count": 45,
   "metadata": {},
   "outputs": [
    {
     "ename": "ValueError",
     "evalue": "/pcmdi/obs/mo/tas/jones_amip/tas.jones_amip.ctl : file does not exist....",
     "output_type": "error",
     "traceback": [
      "\u001b[0;31m---------------------------------------------------------------------------\u001b[0m",
      "\u001b[0;31mValueError\u001b[0m                                Traceback (most recent call last)",
      "\u001b[0;32m<ipython-input-45-ac3f718ef074>\u001b[0m in \u001b[0;36m<module>\u001b[0;34m()\u001b[0m\n\u001b[1;32m      2\u001b[0m \u001b[0;31m# Reference\u001b[0m\u001b[0;34m\u001b[0m\u001b[0;34m\u001b[0m\u001b[0m\n\u001b[1;32m      3\u001b[0m \u001b[0mref\u001b[0m\u001b[0;34m=\u001b[0m\u001b[0;34m'/pcmdi/obs/mo/tas/jones_amip/tas.jones_amip.ctl'\u001b[0m\u001b[0;34m\u001b[0m\u001b[0m\n\u001b[0;32m----> 4\u001b[0;31m \u001b[0mRef\u001b[0m\u001b[0;34m=\u001b[0m\u001b[0mcdutil\u001b[0m\u001b[0;34m.\u001b[0m\u001b[0mVariableConditioner\u001b[0m\u001b[0;34m(\u001b[0m\u001b[0mref\u001b[0m\u001b[0;34m)\u001b[0m\u001b[0;34m\u001b[0m\u001b[0m\n\u001b[0m\u001b[1;32m      5\u001b[0m \u001b[0mRef\u001b[0m\u001b[0;34m.\u001b[0m\u001b[0mvar\u001b[0m\u001b[0;34m=\u001b[0m\u001b[0;34m'tas'\u001b[0m\u001b[0;34m\u001b[0m\u001b[0m\n\u001b[1;32m      6\u001b[0m \u001b[0mRef\u001b[0m\u001b[0;34m.\u001b[0m\u001b[0mid\u001b[0m\u001b[0;34m=\u001b[0m\u001b[0;34m'JONES'\u001b[0m\u001b[0;31m# optional\u001b[0m\u001b[0;34m\u001b[0m\u001b[0m\n",
      "\u001b[0;32m/export/reshel3/anaconda52/envs/cdms2/lib/python2.7/site-packages/cdutil-v8.0_59_g3bd6383-py3.7.egg/cdutil/retrieve.py\u001b[0m in \u001b[0;36m__init__\u001b[0;34m(self, source, var, weightsMaker, weightedGridMaker, offset, slope, cdmsArguments, cdmsKeywords, id, preprocess, preprocessKeywords, comments)\u001b[0m\n\u001b[1;32m    464\u001b[0m \u001b[0;34m\u001b[0m\u001b[0m\n\u001b[1;32m    465\u001b[0m         \u001b[0;32mif\u001b[0m \u001b[0misinstance\u001b[0m\u001b[0;34m(\u001b[0m\u001b[0msource\u001b[0m\u001b[0;34m,\u001b[0m \u001b[0mbasestring\u001b[0m\u001b[0;34m)\u001b[0m\u001b[0;34m:\u001b[0m\u001b[0;34m\u001b[0m\u001b[0m\n\u001b[0;32m--> 466\u001b[0;31m             \u001b[0mself\u001b[0m\u001b[0;34m.\u001b[0m\u001b[0mfile\u001b[0m \u001b[0;34m=\u001b[0m \u001b[0msource\u001b[0m\u001b[0;34m\u001b[0m\u001b[0m\n\u001b[0m\u001b[1;32m    467\u001b[0m             \u001b[0mself\u001b[0m\u001b[0;34m.\u001b[0m\u001b[0mdata\u001b[0m \u001b[0;34m=\u001b[0m \u001b[0mNone\u001b[0m\u001b[0;34m\u001b[0m\u001b[0m\n\u001b[1;32m    468\u001b[0m         \u001b[0;32melse\u001b[0m\u001b[0;34m:\u001b[0m\u001b[0;34m\u001b[0m\u001b[0m\n",
      "\u001b[0;32m/export/reshel3/anaconda52/envs/cdms2/lib/python2.7/site-packages/cdutil-v8.0_59_g3bd6383-py3.7.egg/cdutil/retrieve.py\u001b[0m in \u001b[0;36m_set_file\u001b[0;34m(self, value)\u001b[0m\n\u001b[1;32m    722\u001b[0m \u001b[0;34m\u001b[0m\u001b[0m\n\u001b[1;32m    723\u001b[0m     \u001b[0;32mdef\u001b[0m \u001b[0m_set_file\u001b[0m\u001b[0;34m(\u001b[0m\u001b[0mself\u001b[0m\u001b[0;34m,\u001b[0m \u001b[0mvalue\u001b[0m\u001b[0;34m)\u001b[0m\u001b[0;34m:\u001b[0m\u001b[0;34m\u001b[0m\u001b[0m\n\u001b[0;32m--> 724\u001b[0;31m         \u001b[0mname\u001b[0m\u001b[0;34m,\u001b[0m \u001b[0mvalue\u001b[0m \u001b[0;34m=\u001b[0m \u001b[0mValidationFunctions\u001b[0m\u001b[0;34m.\u001b[0m\u001b[0msetSlab\u001b[0m\u001b[0;34m(\u001b[0m\u001b[0mself\u001b[0m\u001b[0;34m,\u001b[0m \u001b[0;34m'file'\u001b[0m\u001b[0;34m,\u001b[0m \u001b[0mvalue\u001b[0m\u001b[0;34m)\u001b[0m\u001b[0;34m\u001b[0m\u001b[0m\n\u001b[0m\u001b[1;32m    725\u001b[0m         \u001b[0;32mif\u001b[0m \u001b[0mname\u001b[0m \u001b[0;34m==\u001b[0m \u001b[0;34m'file'\u001b[0m\u001b[0;34m:\u001b[0m\u001b[0;34m\u001b[0m\u001b[0m\n\u001b[1;32m    726\u001b[0m             \u001b[0mself\u001b[0m\u001b[0;34m.\u001b[0m\u001b[0m_file\u001b[0m \u001b[0;34m=\u001b[0m \u001b[0mvalue\u001b[0m\u001b[0;34m\u001b[0m\u001b[0m\n",
      "\u001b[0;32m/export/reshel3/anaconda52/envs/cdms2/lib/python2.7/site-packages/cdutil-v8.0_59_g3bd6383-py3.7.egg/cdutil/ValidationFunctions.py\u001b[0m in \u001b[0;36msetSlab\u001b[0;34m(self, name, value)\u001b[0m\n\u001b[1;32m     66\u001b[0m             \u001b[0;32mreturn\u001b[0m\u001b[0;34m(\u001b[0m\u001b[0;34m'file'\u001b[0m\u001b[0;34m,\u001b[0m \u001b[0mvalue\u001b[0m\u001b[0;34m)\u001b[0m\u001b[0;34m\u001b[0m\u001b[0m\n\u001b[1;32m     67\u001b[0m         \u001b[0;32melse\u001b[0m\u001b[0;34m:\u001b[0m\u001b[0;34m\u001b[0m\u001b[0m\n\u001b[0;32m---> 68\u001b[0;31m             \u001b[0;32mraise\u001b[0m \u001b[0mValueError\u001b[0m\u001b[0;34m(\u001b[0m\u001b[0mvalue\u001b[0m \u001b[0;34m+\u001b[0m \u001b[0;34m\" : file does not exist....\"\u001b[0m\u001b[0;34m)\u001b[0m\u001b[0;34m\u001b[0m\u001b[0m\n\u001b[0m\u001b[1;32m     69\u001b[0m     \u001b[0;32melif\u001b[0m \u001b[0misinstance\u001b[0m\u001b[0;34m(\u001b[0m\u001b[0mvalue\u001b[0m\u001b[0;34m,\u001b[0m \u001b[0mtype\u001b[0m\u001b[0;34m(\u001b[0m\u001b[0mNone\u001b[0m\u001b[0;34m)\u001b[0m\u001b[0;34m)\u001b[0m\u001b[0;34m:\u001b[0m\u001b[0;34m\u001b[0m\u001b[0m\n\u001b[1;32m     70\u001b[0m         \u001b[0;32mreturn\u001b[0m \u001b[0mname\u001b[0m\u001b[0;34m,\u001b[0m \u001b[0mvalue\u001b[0m\u001b[0;34m\u001b[0m\u001b[0m\n",
      "\u001b[0;31mValueError\u001b[0m: /pcmdi/obs/mo/tas/jones_amip/tas.jones_amip.ctl : file does not exist...."
     ]
    }
   ],
   "source": [
    ">>> import cdutil\n",
    "# Reference\n",
    ">>> ref='/pcmdi/obs/mo/tas/jones_amip/tas.jones_amip.ctl'\n",
    ">>> Ref=cdutil.VariableConditioner(ref)\n",
    ">>> Ref.var='tas'\n",
    ">>> Ref.id='JONES'# optional\n",
    "# Test\n",
    ">>> tst='/pcmdi/obs/mo/tas/rnl_ncep/tas.rnl_ncep.ctl'\n",
    ">>> Tst=cdutil.VariableConditioner(tst)\n",
    ">>> Tst.var='tas'\n",
    ">>> Tst.id='NCEP' #optional\n",
    "# Final Grid\n",
    ">>> FG=cdutil.WeightedGridMaker()\n",
    ">>> FG.longitude.n=36\n",
    ">>> FG.longitude.first=0.\n",
    ">>> FG.longitude.delta=10.\n",
    ">>> FG.latitude.n=18\n",
    ">>> FG.latitude.first=-85.\n",
    ">>> FG.latitude.delta=10.\n",
    "# Now creates the compare object.\n",
    ">>> c=cdutil.VariablesMatcher(Ref, Tst, WeightedGridMaker=FG)\n",
    "# And get it (3 different ways).\n",
    ">>> (ref, ref_frac), (test, test_frac) = c.get()\n",
    ">>> ref, test = c.get(returnTuple=0)\n",
    ">>> ref, test = c(returnTuple=0)"
   ]
  },
  {
   "cell_type": "markdown",
   "metadata": {},
   "source": [
    "#### A more complicated example\n",
    "\n",
    "[Back to Top](#top)\n",
    "\n",
    "In this example we\n",
    "\n",
    "    retrieve NCEP and ECMWF for the year 1981,\n",
    "    mask the land area of both fields,\n",
    "    map both fields to the grid of an external data mask (the JONES variable) and apply the mask,\n",
    "    map the fields to a 10x10 degree grid\n",
    "    mask the land area according to a 10x10 degree land/sea mask.\n",
    "\n",
    "Try skipping the final step and note the difference. (Tip: to do so, simply change the definition of FG to: FG=cdutil.WeightedGridMaker(fgmask, var=’sftlf’))"
   ]
  },
  {
   "cell_type": "code",
   "execution_count": 46,
   "metadata": {},
   "outputs": [
    {
     "ename": "TypeError",
     "evalue": "__init__() got an unexpected keyword argument 'WeightsMaker'",
     "output_type": "error",
     "traceback": [
      "\u001b[0;31m---------------------------------------------------------------------------\u001b[0m",
      "\u001b[0;31mTypeError\u001b[0m                                 Traceback (most recent call last)",
      "\u001b[0;32m<ipython-input-46-15203f93712c>\u001b[0m in \u001b[0;36m<module>\u001b[0;34m()\u001b[0m\n\u001b[1;32m      5\u001b[0m \u001b[0;31m# Define the \"Reference\" dataset\u001b[0m\u001b[0;34m\u001b[0m\u001b[0;34m\u001b[0m\u001b[0m\n\u001b[1;32m      6\u001b[0m \u001b[0mref\u001b[0m\u001b[0;34m=\u001b[0m\u001b[0;34m'/pcmdi/obs/mo/tas/rnl_ecm/tas.rnl_ecm.sfc.ctl'\u001b[0m\u001b[0;34m\u001b[0m\u001b[0m\n\u001b[0;32m----> 7\u001b[0;31m \u001b[0mRef\u001b[0m\u001b[0;34m=\u001b[0m\u001b[0mcdutil\u001b[0m\u001b[0;34m.\u001b[0m\u001b[0mVariableConditioner\u001b[0m\u001b[0;34m(\u001b[0m\u001b[0mref\u001b[0m\u001b[0;34m,\u001b[0m \u001b[0mWeightsMaker\u001b[0m\u001b[0;34m=\u001b[0m\u001b[0mM\u001b[0m\u001b[0;34m)\u001b[0m\u001b[0;34m\u001b[0m\u001b[0m\n\u001b[0m\u001b[1;32m      8\u001b[0m \u001b[0mRef\u001b[0m\u001b[0;34m.\u001b[0m\u001b[0mvar\u001b[0m\u001b[0;34m=\u001b[0m\u001b[0;34m'tas'\u001b[0m\u001b[0;34m\u001b[0m\u001b[0m\n\u001b[1;32m      9\u001b[0m \u001b[0mRef\u001b[0m\u001b[0;34m.\u001b[0m\u001b[0mid\u001b[0m\u001b[0;34m=\u001b[0m\u001b[0;34m'ECMWF'\u001b[0m\u001b[0;34m\u001b[0m\u001b[0m\n",
      "\u001b[0;31mTypeError\u001b[0m: __init__() got an unexpected keyword argument 'WeightsMaker'"
     ]
    }
   ],
   "source": [
    ">>> import cdutil, vcs, sys\n",
    "# First let's creates the mask (it is the same for NCEP and ECMWF since they are on the same grid).\n",
    ">>> refmsk='/pcmdi/obs/etc/sftl.25deg.ctl'\n",
    ">>> M=cdutil.WeightsMaker(refmsk, var='sftl', values=[1.])\n",
    "# Define the \"Reference\" dataset\n",
    ">>> ref='/pcmdi/obs/mo/tas/rnl_ecm/tas.rnl_ecm.sfc.ctl'\n",
    ">>> Ref=cdutil.VariableConditioner(ref, WeightsMaker=M)\n",
    ">>> Ref.var='tas'\n",
    ">>> Ref.id='ECMWF'\n",
    "# Define the \"test\" dataset\n",
    ">>> tst='/pcmdi/obs/mo/tas/rnl_ncep/tas.rnl_ncep.ctl'\n",
    ">>> Tst=cdutil.VariableConditioner(tst, WeightsMaker=M)\n",
    ">>> Tst.var='tas'\n",
    ">>> Tst.id='NCEP'\n",
    "# Define the External data mask\n",
    ">>> ext='/pcmdi/obs/mo/tas/jones_amip/tas.jones_amip.ctl'\n",
    ">>> EV=cdutil.VariableConditioner(ext)\n",
    ">>> EV.var='tas'\n",
    ">>> EV.id='JONES'\n",
    "# Define the Final Grid\n",
    "# We need a mask for the final grid\n",
    ">>> fgmask='/pcmdi/staff/longterm/doutriau/ldseamsk/amipII/pcmdi_sftlf_10x10.nc'\n",
    ">>> M2=cdutil.WeightsMaker(source=fgmask, var='sftlf', actions=MV.greater, values=[50.])\n",
    ">>> FG=cdutil.WeightedGridMaker(fgmask, var='sftlf', WeightsMaker=M2)\n",
    "# Now create the compare object\n",
    ">>> c=cdutil.VariablesMatcher(Ref, Tst, WeightedGridMaker=FG, externalVariableConditioner=EV)\n",
    ">>> c.cdmsKeywords={'time':('1981','1982','co')}\n",
    "# And get it\n",
    ">>> (ref, reffrc), (test, tfrc) = c()\n",
    ">>> print 'Shapes:', test.shape, ref.shape\n",
    "# Plot the difference\n",
    ">>> x=vcs.init()\n",
    ">>> x.plot(test-ref)\n",
    "# Wait for user to press return\n",
    ">>> print \"Press enter\"\n",
    ">>> sys.stdin.readline()"
   ]
  },
  {
   "cell_type": "markdown",
   "metadata": {},
   "source": [
    "#### A very complicated example\n",
    "\n",
    "[Back to Top](#top)\n",
    "\n",
    "This example shows MOST of the options and power of VariablesMatcher. In this example we:\n",
    "\n",
    "    retrieve NCEP and ECMWF for the year 1981,\n",
    "    mask the land area of both fields (on their original grids),\n",
    "    map ECMWF data to a T63 grid and NCEP data to a T42 grid,\n",
    "    mask cells where the temperatures are greater than 280K and less than 300K (two different ways of imposing the mask are illustrated),\n",
    "    map both fields to the grid of an external data mask (the JONES variable) and apply the mask; also mask land areas according to a user-supplied land/sea mask on the JONES grid.\n",
    "    map the fields to a 10x10 degree grid\n",
    "    mask the land area according to a 10x10 degree land/sea mask\n",
    "    select only the Northern Hemisphere region using a defined “selector” (see cdutil.region documentation).\n"
   ]
  },
  {
   "cell_type": "code",
   "execution_count": null,
   "metadata": {},
   "outputs": [],
   "source": [
    ">>> import cdutil, MV, vcs, sys\n",
    "# First let us define the mask (it is the same for NCEP and ECMWF since they are on the same grid)\n",
    ">>> refmsk='/pcmdi/obs/etc/sftl.25deg.ctl'\n",
    ">>> M = cdutil.WeightsMaker(refmsk, var='sftl', values=[1.])\n",
    "# Define the \"Reference\" dataset\n",
    ">>> ref='/pcmdi/obs/mo/tas/rnl_ecm/tas.rnl_ecm.sfc.ctl'\n",
    ">>> Ref=cdutil.VariableConditioner(ref, WeightsMaker=M)\n",
    ">>> Ref.var='tas'\n",
    ">>> Ref.id='ECMWF'\n",
    "# Define the grid for this variable to be T63 and mask the data where temperatures are between 280K and 300K. Note that the final grid is defined to be the same as 'sftlf' contained in file pcmdi_sftlf_T63.nc, but the data contained in this file is ignored.\n",
    ">>> ECMWFGrid=cdutil.WeightedGridMaker(source='/pcmdi/staff/longterm/doutriau/ldseamsk/amipII/pcmdi_sftlf_T63.nc',va r='sftlf')\n",
    ">>> ECMWFinalMask=cdutil.WeightsMaker()\n",
    ">>> ECMWFinalMask.values = [('input',280.),('input',300.)]\n",
    ">>> ECMWFinalMask.actions=[MV.greater, MV.less]\n",
    ">>> ECMWFinalMask.combiningActions=[Mv.logical_and]\n",
    "# Associate the mask with the grid\n",
    ">>> ECMWFGrid.WeightsMaker=ECMWFinalMask\n",
    ">>> # Now associates the grid with the variable.\n",
    ">>> Ref.WeightedGridMaker=ECMWFGrid\n",
    "# Define the \"test\" dataset\n",
    ">>> tst='/pcmdi/obs/mo/tas/rnl_ncep/tas.rnl_ncep.ctl'\n",
    ">>> Tst=cdutil.VariableConditioner(tst, WeightsMaker=M)\n",
    ">>> Tst.var='tas'\n",
    ">>> Tst.id='NCEP'\n",
    "# The final grid for this variable will be T42, masked where temperatures are between 280K and 300K\n",
    ">>> NCEPGrid=cdutil.WeightedGridMaker()\n",
    ">>> NCEPGrid.latitude.n=64\n",
    ">>> NCEPGrid.latitude.type='gaussian'\n",
    "# This time let's create a function to return the mask\n",
    ">>> def myMakeMask(array, range):\n",
    "...    \"\"\"Returns the input array masked where the values are between range[0] and range[1]\"\"\"\n",
    "...    m1=MV.greater(array, range[0]) # mask where it is greater than the 1st value\n",
    "...    m2=MV.less(array, range[1]) # mask where it is less than the 2nd value\n",
    "...    return MV.logical_and(m1,m2)\n",
    "# And associate the mask with the grid\n",
    ">>> NCEPGrid.WeightsMaker.values=[('input',(280.,300.))]\n",
    ">>> NCEPGrid.WeightsMaker.actions=[myMakeMask]\n",
    "# Now associates the grid with the variable.\n",
    ">>> Tst.WeightedGridMaker=NCEPGrid\n",
    "# define an External variable. Where this variable has missing data, the reference and test fields will also be masked.\n",
    ">>> ext='/pcmdi/obs/mo/tas/jones_amip/tas.jones_amip.ctl'\n",
    ">>> extmask='/pcmdi/amip/fixed_tmp/sftlf/sftlf_gla-98a.nc'\n",
    ">>> EMask=cdutil.WeightsMaker(source=extmask, var='sftlf')\n",
    ">>> ED=cdutil.VariableConditioner(ext, WeightsMaker=EMask)\n",
    ">>> ED.var='tas'\n",
    ">>> ED.id='JONES'\n",
    "# Define the Final Grid\n",
    "# We need a mask for the final grid\n",
    ">>> fgmask='/pcmdi/staff/longterm/doutriau/ldseamsk/amipII/pcmdi_sftlf_10x10.nc'\n",
    ">>> M2=cdutil.WeightsMaker(source=fgmask, var='sftlf', values=[100.])\n",
    ">>> FG=cdutil.WeightedGridMaker(WeightsMaker=M2)\n",
    ">>> FG.longitude.n=36\n",
    ">>> FG.longitude.first=0.\n",
    ">>> FG.longitude.delta=10.\n",
    ">>> FG.latitude.n=18\n",
    ">>> FG.latitude.first=-85.\n",
    ">>> FG.latitude.delta=10.\n",
    "# Now creates the compare object\n",
    ">>> c=cdutil.VariablesMatcher(Ref, Tst, WeightedGridMaker=FG, externalVariableConditioner=ED)\n",
    ">>> c.cdmsKeywords={'time':('1981','1982','co')}\n",
    "# define a \"selector\" to obtain only the N. Hemisphere\n",
    ">>> c.cdmsArguments=[cdutil.region.NH]\n",
    "# And get it\n",
    ">>> (ref, reffrc), (test, tfrc) = c()\n",
    ">>> print 'Shapes:', test.shape, ref.shape\n",
    "# Plot the difference\n",
    ">>> x=vcs.init()\n",
    ">>> x.plot(test-ref)\n",
    "# Wait for user to press return\n",
    ">>> print \"Press enter\"\n",
    ">>> sys.stdin.readline()"
   ]
  },
  {
   "cell_type": "code",
   "execution_count": null,
   "metadata": {},
   "outputs": [],
   "source": []
  },
  {
   "cell_type": "code",
   "execution_count": null,
   "metadata": {},
   "outputs": [],
   "source": []
  }
 ],
 "metadata": {
  "kernelspec": {
   "display_name": "Python 2",
   "language": "python",
   "name": "python2"
  },
  "language_info": {
   "codemirror_mode": {
    "name": "ipython",
    "version": 2
   },
   "file_extension": ".py",
   "mimetype": "text/x-python",
   "name": "python",
   "nbconvert_exporter": "python",
   "pygments_lexer": "ipython2",
   "version": "2.7.15"
  },
  "toc": {
   "base_numbering": 1,
   "nav_menu": {},
   "number_sections": true,
   "sideBar": true,
   "skip_h1_title": true,
   "title_cell": "Table of Contents",
   "title_sidebar": "Contents",
   "toc_cell": true,
   "toc_position": {},
   "toc_section_display": true,
   "toc_window_display": false
  }
 },
 "nbformat": 4,
 "nbformat_minor": 2
}
