{
 "cells": [
  {
   "cell_type": "markdown",
   "metadata": {},
   "source": [
    "# UV CDAT Utilities Manual Chapter 2 General Utilities : The genutil Package\n",
    "\n",
    "The functions in the genutil package are written to be general purpose functions that are useful to a broader community and not restricted to climate data applications.\n",
    "\n",
    "© The CDAT software was developed by LLNL. This tutorial was written by Charles Doutriaux. This work was performed under the auspices of the U.S. Department of Energy by Lawrence Livermore National Laboratory under Contract DE-AC52-07NA27344.\n",
    "\n",
    "\n",
    "[Download the Jupyter Notebook](uv-cdat_chapter2.ipynb)"
   ]
  },
  {
   "cell_type": "markdown",
   "metadata": {
    "toc": true
   },
   "source": [
    "<h1>Table of Contents<span class=\"tocSkip\"></span></h1>\n",
    "<div class=\"toc\"><ul class=\"toc-item\"><li><span><a href=\"#Statistics-Functions\" data-toc-modified-id=\"Statistics-Functions-1\">Statistics Functions</a></span><ul class=\"toc-item\"><li><span><a href=\"#correlation\" data-toc-modified-id=\"correlation-1.1\">correlation</a></span></li><li><span><a href=\"#covariance\" data-toc-modified-id=\"covariance-1.2\">covariance</a></span></li><li><span><a href=\"#autocorrelation\" data-toc-modified-id=\"autocorrelation-1.3\">autocorrelation</a></span></li><li><span><a href=\"#autocovariance\" data-toc-modified-id=\"autocovariance-1.4\">autocovariance</a></span></li><li><span><a href=\"#laggedcorrelation\" data-toc-modified-id=\"laggedcorrelation-1.5\">laggedcorrelation</a></span></li><li><span><a href=\"#laggedcovariance\" data-toc-modified-id=\"laggedcovariance-1.6\">laggedcovariance</a></span></li><li><span><a href=\"#meanabsdiff\" data-toc-modified-id=\"meanabsdiff-1.7\">meanabsdiff</a></span></li><li><span><a href=\"#rms\" data-toc-modified-id=\"rms-1.8\">rms</a></span></li><li><span><a href=\"#std\" data-toc-modified-id=\"std-1.9\">std</a></span></li><li><span><a href=\"#variance\" data-toc-modified-id=\"variance-1.10\">variance</a></span></li><li><span><a href=\"#geometricmean\" data-toc-modified-id=\"geometricmean-1.11\">geometricmean</a></span></li><li><span><a href=\"#percentiles\" data-toc-modified-id=\"percentiles-1.12\">percentiles</a></span></li><li><span><a href=\"#median\" data-toc-modified-id=\"median-1.13\">median</a></span></li><li><span><a href=\"#linearregression\" data-toc-modified-id=\"linearregression-1.14\">linearregression</a></span></li></ul></li><li><span><a href=\"#The-xmgrace-module\" data-toc-modified-id=\"The-xmgrace-module-2\">The xmgrace module</a></span></li><li><span><a href=\"#Additional-convenience-functions\" data-toc-modified-id=\"Additional-convenience-functions-3\">Additional convenience functions</a></span><ul class=\"toc-item\"><li><span><a href=\"#minmax\" data-toc-modified-id=\"minmax-3.1\">minmax</a></span></li><li><span><a href=\"#grower\" data-toc-modified-id=\"grower-3.2\">grower</a></span></li><li><span><a href=\"#rgb2str\" data-toc-modified-id=\"rgb2str-3.3\">rgb2str</a></span></li><li><span><a href=\"#str2rgb\" data-toc-modified-id=\"str2rgb-3.4\">str2rgb</a></span></li></ul></li></ul></div>"
   ]
  },
  {
   "cell_type": "markdown",
   "metadata": {},
   "source": [
    "## Statistics Functions\n",
    "\n",
    "Statistics functions available in this package include commonly used functions to compute correlation, covariance, auto-correlation, auto-covariance, lagged correlation, lagged covariance, mean absolute difference, root mean square, standard deviation, variance, geometric mean, median, percentiles and linear regression."
   ]
  },
  {
   "cell_type": "markdown",
   "metadata": {},
   "source": [
    "### correlation\n",
    "\n",
    "Returns the correlation between 2 slabs. By default on the first dimension, centered and biased by default.\n"
   ]
  },
  {
   "cell_type": "markdown",
   "metadata": {},
   "source": [
    "Usage:\n",
    "\n",
    "result = correlation(x, y, weights = weightoptions, axis = axisoptions, centered = centeredoptions, biased = biasedoptions )\n"
   ]
  },
  {
   "cell_type": "markdown",
   "metadata": {},
   "source": [
    "Options:\n",
    "\n",
    "weightoptions\n",
    "\n",
    "default = None. If you want to compute the weighted correlation, provide the weights here.\n",
    "\n",
    "axisoptions: ‘x’ | ‘y’ | ‘z’ | ‘t’ | ‘(dimension_name)’ | 0 | 1 … | n\n",
    "\n",
    "default value = 0. You can pass the name of the dimension or index (integer value 0…n) over which you want to compute the statistic.\n",
    "\n",
    "centeredoptions: None | 0 | 1\n",
    "\n",
    "default value = 1 removes the mean first. Set to 0 or None for uncentered.\n",
    "\n",
    "biasedoptions: None | 0 | 1\n",
    "\n",
    "default value = 1 returns biased statistic. If want to compute an unbiased statistic pass anything but 1.\n"
   ]
  },
  {
   "cell_type": "markdown",
   "metadata": {},
   "source": [
    "Example:"
   ]
  },
  {
   "cell_type": "code",
   "execution_count": 7,
   "metadata": {},
   "outputs": [
    {
     "ename": "SyntaxError",
     "evalue": "invalid syntax (<ipython-input-7-07d624a62d82>, line 5)",
     "output_type": "error",
     "traceback": [
      "\u001b[0;36m  File \u001b[0;32m\"<ipython-input-7-07d624a62d82>\"\u001b[0;36m, line \u001b[0;32m5\u001b[0m\n\u001b[0;31m    >>> import cdms\u001b[0m\n\u001b[0m     ^\u001b[0m\n\u001b[0;31mSyntaxError\u001b[0m\u001b[0;31m:\u001b[0m invalid syntax\n"
     ]
    }
   ],
   "source": [
    "# Let us try an example where we want to look at a\n",
    "# variable 'tas' from the NCEP reanalysis and compute\n",
    "# some spatial statistics between data slices for time\n",
    "# periods from 1960-1970 and 1980-1990.\n",
    ">>> import cdms\n",
    ">>> from genutil import statistics\n",
    ">>> f = cdms.open('tas.rnl_ncep.nc')\n",
    ">>> ncep1 = f('tas',time=('1960-1-1', '1970-1-1', 'co'))\n",
    ">>> ncep2 = f('tas',time=('1980-1-1', '1990-1-1', 'co'))\n",
    "# We have the two time periods extracted.\n",
    "# Now let us compute the correlation.\n",
    ">>> cor = statistics.correlation(ncep1, ncep2,\\ axis='xy')\n",
    "# We could compute the spatial correlation weighted by\n",
    "# area. To accomplish this we can use the 'generate'\n",
    "# option for weights.\n",
    ">>> wcor = statistics.correlation(ncep1, ncep2,\\ weights='generate', axis='xy')"
   ]
  },
  {
   "cell_type": "markdown",
   "metadata": {},
   "source": [
    "### covariance\n",
    "\n",
    "Returns the covariance between 2 slabs. By default on the first dimension, centered and biased by default.\n",
    "\n",
    "Usage:"
   ]
  },
  {
   "cell_type": "markdown",
   "metadata": {},
   "source": [
    "cov = covariance(x, y, weights = weightoptions, axis = axisoptions, centered = centeredoptions, biased = biasedoptions )"
   ]
  },
  {
   "cell_type": "markdown",
   "metadata": {},
   "source": [
    "Options:\n",
    "\n",
    "weightoptions\n",
    "\n",
    "default = None. If you want to compute the weighted covariance, provide the weights here.\n",
    "\n",
    "axisoptions ‘x’ | ‘y’ | ‘z’ | ‘t’ | ‘(dimension_name)’ | 0 | 1 … | n\n",
    "\n",
    "default value = 0. You can pass the name of the dimension or index (integer value 0…n) over which you want to compute the statistic.\n",
    "\n",
    "centeredoptions None | 0 | 1\n",
    "\n",
    "default value = 1 removes the mean first. Set to 0 or None for uncentered.\n",
    "\n",
    "biasedoptions None | 0 | 1\n",
    "\n",
    "default value = 1 If want to compute an unbiased variance pass anything but 1."
   ]
  },
  {
   "cell_type": "markdown",
   "metadata": {},
   "source": [
    "### autocorrelation\n",
    "\n",
    "Returns the autocorrelation of a slab at lag k centered,partial and “biased” by default\n",
    "\n",
    "Usage:"
   ]
  },
  {
   "cell_type": "markdown",
   "metadata": {},
   "source": [
    "result = autocorrelation(x, lag = lagoptions, axis = axisoptions,centered = centeredoptions, partial = partialoptions, biased = biasedoptions, noloop = noloopoptions )"
   ]
  },
  {
   "cell_type": "markdown",
   "metadata": {},
   "source": [
    "Options:\n",
    "\n",
    "lagoptions None | n | (n1, n2, n3…) | [n1, n2, n3 ….]\n",
    "\n",
    "default value = None the maximum possible lags for specified axis is used.You can pass an integer, list of integers, or tuple of integers.\n",
    "\n",
    "axisoptions ‘x’ | ‘y’ | ‘z’ | ‘t’ | ‘(dimension_name)’ | 0 | 1 … | n\n",
    "\n",
    "default value = 0. You can pass the name of the dimension or index (integer value 0…n) over which you want to compute the statistic.\n",
    "\n",
    "centeredoptions None | 0 | 1\n",
    "\n",
    "default value = 1 removes the mean first. Set to 0 or None for uncentered\n",
    "\n",
    "partialoptions None | 0 | 1\n",
    "\n",
    "default value = 1 uses only common time for means.\n",
    "\n",
    "biasedoptions None | 0 | 1\n",
    "\n",
    "default value = 1 computes the biased statistic. If want to compute an unbiased statistic pass anything but 1.\n",
    "\n",
    "noloopoptions None | 0 | 1\n",
    "\n",
    "default value = 0 computes statistic at all lags upto ‘lag’. If you set noloop=1 statistic is computed at lag only (not up to lag)."
   ]
  },
  {
   "cell_type": "markdown",
   "metadata": {},
   "source": [
    "### autocovariance\n",
    "\n",
    "Returns the autocovariance of a slab. By default over the first dimension, centered, and partial.\n",
    "\n",
    "Usage:"
   ]
  },
  {
   "cell_type": "markdown",
   "metadata": {},
   "source": [
    "result = autocovariance(x, lag = lagoptions, axis = axisoptions, centered = centeredoptions, partial = partialoptions, noloop = noloopoptions )"
   ]
  },
  {
   "cell_type": "markdown",
   "metadata": {},
   "source": [
    "Options:\n",
    "\n",
    "lagoptions None | n | (n1, n2, n3…) | [n1, n2, n3 ….]\n",
    "\n",
    "default value = None the maximum possible lags for specified axis is used. You can pass an integer, list of integers, or tuple of integers.\n",
    "\n",
    "axisoptions ‘x’ | ‘y’ | ‘z’ | ‘t’ | ‘(dimension_name)’ | 0 | 1 … | n\n",
    "\n",
    "default value = 0. You can pass the name of the dimension or index (integer value 0…n) over which you want to compute the statistic.\n",
    "\n",
    "centeredoptions None | 0 | 1\n",
    "\n",
    "default value = 1 removes the mean first. Set to 0 or None for uncentered\n",
    "\n",
    "partialoptions None | 0 | 1\n",
    "\n",
    "default value = 1 uses only common time for means.\n",
    "\n",
    "noloopoptions None | 0 | 1\n",
    "\n",
    "default value = 0 computes statistic at all lags upto ‘lag’. If you set noloop=1 statistic is computed at lag only (not up to lag)."
   ]
  },
  {
   "cell_type": "markdown",
   "metadata": {},
   "source": [
    "### laggedcorrelation\n",
    "\n",
    "Returns the correlation between 2 slabs at lag k centered, partial and “biased” by default.\n",
    "\n",
    "Usage:"
   ]
  },
  {
   "cell_type": "markdown",
   "metadata": {},
   "source": [
    "result = laggedcorrelation(x,y, lag = lagoptions, axis = axisoptions, centered = centeredoptions, partial = partialoptions, biased = biasedoptions, noloop = noloopoptions ) "
   ]
  },
  {
   "cell_type": "markdown",
   "metadata": {},
   "source": [
    "Returns value for x lags y by lag\n",
    "\n",
    "Options:\n",
    "\n",
    "lagoptions None | n | (n1, n2, n3…) | [n1, n2, n3 ….]\n",
    "\n",
    "default value = None the maximum possible lags for specified axis is used.You can pass an integer, list of integers, or tuple of integers.\n",
    "\n",
    "axisoptions ‘x’ | ‘y’ | ‘z’ | ‘t’ | ‘(dimension_name)’ | 0 | 1 … | n\n",
    "\n",
    "default value = 0. You can pass the name of the dimension or index (integer value 0…n) over which you want to compute the statistic.\n",
    "\n",
    "centeredoptions\n",
    "\n",
    "default value = 1 removes the mean first. Set to 0 or None for uncentered\n",
    "\n",
    "partialoptions None | 0 | 1\n",
    "\n",
    "default value = 1 uses only common time for means.\n",
    "\n",
    "biasedoptions None | 0 | 1\n",
    "\n",
    "default value = 1 If want to compute an unbiased variance pass anything but 1.\n",
    "\n",
    "noloopoptions None | 0 | 1\n",
    "\n",
    "default value = 0 computes statistic at all lags upto ‘lag’. If you set noloop=1 statistic is computed at lag only (not up to lag)."
   ]
  },
  {
   "cell_type": "markdown",
   "metadata": {},
   "source": [
    "### laggedcovariance\n",
    "\n",
    "Returns the covariance between 2 slabs at lag k centered and partial by default\n",
    "\n",
    "Usage:"
   ]
  },
  {
   "cell_type": "markdown",
   "metadata": {},
   "source": [
    "result = laggedcovariance(x, y, lag = lagoptions, axis = axisoptions, centered = centeredoptions, partial = partialoptions, noloop = noloopoptions)"
   ]
  },
  {
   "cell_type": "markdown",
   "metadata": {},
   "source": [
    "Returns value for x lags y by lag (integer)\n",
    "\n",
    "Options:\n",
    "\n",
    "lagoptions None | n | (n1, n2, n3…) | [n1, n2, n3 ….]\n",
    "\n",
    "default value = None the maximum possible lags for specified axis is used.You can pass an integer, list of integers, or tuple of integers.\n",
    "\n",
    "axisoptions ‘x’ | ‘y’ | ‘z’ | ‘t’ | ‘(dimension_name)’ | 0 | 1 … | n\n",
    "\n",
    "default value = 0. You can pass the name of the dimension or index (integer value 0…n) over which you want to compute the statistic.\n",
    "\n",
    "centeredoptions\n",
    "\n",
    "default value = 1 removes the mean first. Set to 0 or None for uncentered\n",
    "\n",
    "partialoptions None | 0 | 1\n",
    "\n",
    "default value = 1 uses only common time for means.\n",
    "\n",
    "noloopoptions None | 0 | 1\n",
    "\n",
    "default value = 0 computes statistic at all lags upto ‘lag’. If you set noloop=1 statistic is computed at lag only (not up to lag).\n"
   ]
  },
  {
   "cell_type": "markdown",
   "metadata": {},
   "source": [
    "### meanabsdiff\n",
    "\n",
    "Returns the mean absolute difference between 2 slabs x and y. By default on the first dimension and centered\n",
    "\n",
    "Usage:"
   ]
  },
  {
   "cell_type": "markdown",
   "metadata": {},
   "source": [
    "result = meanabsdiff(x, y, weights = weightoptions, axis = axisoptions, centered = centeredoptions)"
   ]
  },
  {
   "cell_type": "markdown",
   "metadata": {},
   "source": [
    "Options:\n",
    "\n",
    "weightoptions\n",
    "\n",
    "default = None returns equally weighted statistic. If you want to compute the weighted statistic, provide weights here.\n",
    "\n",
    "axisoptions ‘x’ | ‘y’ | ‘z’ | ‘t’ | ‘(dimension_name)’ | 0 | 1 … | n\n",
    "\n",
    "default value = 0. You can pass the name of the dimension or index (integer value 0…n) over which you want to compute the statistic.\n",
    "\n",
    "centeredoptions None | 0 | 1\n",
    "\n",
    "default value = 1 removes the mean first. Set to 0 or None for uncentered.\n",
    "\n",
    "Example:"
   ]
  },
  {
   "cell_type": "code",
   "execution_count": 13,
   "metadata": {},
   "outputs": [
    {
     "ename": "SyntaxError",
     "evalue": "unexpected character after line continuation character (<ipython-input-13-be781331fe17>, line 2)",
     "output_type": "error",
     "traceback": [
      "\u001b[0;36m  File \u001b[0;32m\"<ipython-input-13-be781331fe17>\"\u001b[0;36m, line \u001b[0;32m2\u001b[0m\n\u001b[0;31m    absd = statistics.meanabsdiff(ncep1, \\ ncep2,axis='xy')\u001b[0m\n\u001b[0m                                                           ^\u001b[0m\n\u001b[0;31mSyntaxError\u001b[0m\u001b[0;31m:\u001b[0m unexpected character after line continuation character\n"
     ]
    }
   ],
   "source": [
    "# To compute the mean absolute difference between ncep1 and ncep2.\n",
    ">>> absd = statistics.meanabsdiff(ncep1, \\ ncep2,axis='xy')"
   ]
  },
  {
   "cell_type": "markdown",
   "metadata": {},
   "source": [
    "### rms\n",
    "\n",
    "Returns the root mean square difference between 2 slabs. By default from a slab (on first dimension) “uncentered” and “biased” by default\n",
    "\n",
    "Usage:"
   ]
  },
  {
   "cell_type": "markdown",
   "metadata": {},
   "source": [
    "result = rms(x, y, weights = weightoptions, axis = axisoptions, centered = centeredoptions, biased = biasedoptions )"
   ]
  },
  {
   "cell_type": "markdown",
   "metadata": {},
   "source": [
    "Options:\n",
    "\n",
    "weightoptions\n",
    "\n",
    "default = None returns equally weighted statistic. If you want to compute the weighted statistic, provide weights here.\n",
    "\n",
    "axisoptions ‘x’ | ‘y’ | ‘z’ | ‘t’ | ‘(dimension_name)’ | 0 | 1 … | n\n",
    "\n",
    "default value = 0. You can pass the name of the dimension or index (integer value 0…n) over which you want to compute the statistic.\n",
    "\n",
    "centeredoptions None | 0 | 1\n",
    "\n",
    "default value = 0 returns uncentered statistic (same as None). To remove the mean first (i.e centered statistic) set to 1. NOTE: Most other statistic functions return a centered statistic by default.\n",
    "\n",
    "biasedoptions None | 0 | 1\n",
    "\n",
    "default value = 1 If want to compute an unbiased variance pass anything but 1.\n",
    "\n",
    "Example:"
   ]
  },
  {
   "cell_type": "markdown",
   "metadata": {},
   "source": [
    "### std\n",
    "\n",
    "Returns the standard deviation from a slab. By default on first dimension, centered, and biased.\n",
    "\n",
    "Usage:"
   ]
  },
  {
   "cell_type": "markdown",
   "metadata": {},
   "source": [
    "result = std(x, weights = weightoptions, axis = axisoptions, centered = centeredoptions, biased = b iasedoptions )"
   ]
  },
  {
   "cell_type": "markdown",
   "metadata": {},
   "source": [
    "Options:\n",
    "\n",
    "weightoptions\n",
    "\n",
    "If you want to compute the weighted statistic, provide weights here.\n",
    "\n",
    "axisoptions ‘x’ | ‘y’ | ‘z’ | ‘t’ | ‘(dimension_name)’ | 0 | 1 … | n\n",
    "\n",
    "default value = 0. You can pass the name of the dimension or index (integer value 0…n) over which you want to compute the statistic.\n",
    "\n",
    "centeredoptions None | 0 | 1\n",
    "\n",
    "default value = 1 removes the mean first. Set to 0 or None for uncentered.\n",
    "\n",
    "biasedoptions None | 0 | 1\n",
    "\n",
    "default value = 1 If want to compute an unbiased variance pass anything but 1."
   ]
  },
  {
   "cell_type": "markdown",
   "metadata": {},
   "source": [
    "### variance\n",
    "\n",
    "Returns the variance from a slab. By default on first dimension, centered, and biased.\n",
    "\n",
    "Usage:"
   ]
  },
  {
   "cell_type": "markdown",
   "metadata": {},
   "source": [
    "result = variance(x, weights = weightoptions, axis = axisoptions, centered = centeredoptions, biased = biasedoptions )"
   ]
  },
  {
   "cell_type": "markdown",
   "metadata": {},
   "source": [
    "Options:\n",
    "\n",
    "weightoptions\n",
    "\n",
    "If you want to compute the weighted variance, provide weights here.\n",
    "\n",
    "axisoptions ‘x’ | ‘y’ | ‘z’ | ‘t’ | ‘(dimension_name)’ | 0 | 1 … | n\n",
    "\n",
    "default value = 0. You can pass the name of the dimension or index (integer value 0…n) over which you want to compute the statistic.\n",
    "\n",
    "centeredoptions None | 0 | 1\n",
    "\n",
    "default value = 1 removes the mean first. Set to 0 or None for uncentered.\n",
    "\n",
    "biasedoptions None | 0 | 1\n",
    "\n",
    "default value = 1 If want to compute an unbiased variance pass anything but 1."
   ]
  },
  {
   "cell_type": "markdown",
   "metadata": {},
   "source": [
    "### geometricmean\n",
    "\n",
    "Returns the geometric mean over a sepcified axis.\n",
    "\n",
    "Usage:"
   ]
  },
  {
   "cell_type": "markdown",
   "metadata": {},
   "source": [
    "result = geometricmean(x, axis = axisoptions )"
   ]
  },
  {
   "cell_type": "markdown",
   "metadata": {},
   "source": [
    "Options:\n",
    "\n",
    "axisoptions ‘x’ | ‘y’ | ‘z’ | ‘t’ | ‘(dimension_name)’ | 0 | 1 … | n\n",
    "\n",
    "default value = 0. You can pass the name of the dimension or index (integer value 0…n) over which you want to compute the statistic."
   ]
  },
  {
   "cell_type": "markdown",
   "metadata": {},
   "source": [
    "### percentiles\n",
    "\n",
    "Returns values at the defined percentiles for an array.\n",
    "\n",
    "Usage:"
   ]
  },
  {
   "cell_type": "markdown",
   "metadata": {},
   "source": [
    "result = percentiles(x, percentiles = percentilesoptions, axis = axisoptions )"
   ]
  },
  {
   "cell_type": "markdown",
   "metadata": {},
   "source": [
    "Options:\n",
    "\n",
    "percentilesoptions A python list of values\n",
    "\n",
    "Default = [50.] (the 50th percentile i.e the median value)\n",
    "\n",
    "axisoptions ‘x’ | ‘y’ | ‘z’ | ‘t’ | ‘(dimension_name)’ | 0 | 1 … | n\n",
    "\n",
    "default value = 0. You can pass the name of the dimension or index (integer value 0…n) over which you want to compute the statistic."
   ]
  },
  {
   "cell_type": "markdown",
   "metadata": {},
   "source": [
    "### median\n",
    "\n",
    "Returns the median value of an array.\n",
    "\n",
    "Usage:"
   ]
  },
  {
   "cell_type": "markdown",
   "metadata": {},
   "source": [
    "result = median(x, axis = axisoptions )"
   ]
  },
  {
   "cell_type": "markdown",
   "metadata": {},
   "source": [
    "Options:\n",
    "\n",
    "axisoptions ‘x’ | ‘y’ | ‘z’ | ‘t’ | ‘(dimension_name)’ | 0 | 1 … | n\n",
    "\n",
    "default value = 0. You can pass the name of the dimension or index (integer value 0…n) over which you want to compute the statistic."
   ]
  },
  {
   "cell_type": "markdown",
   "metadata": {},
   "source": [
    "### linearregression\n",
    "\n",
    "Computes the linear regression of y over x or an axis. This function returns Values of the slope and intercept, and optionally, Error estimates and associated probability distributions for T-value (T-Test) and F-value (for analysis of variance f) can be returned. You can choose to return all these for either slope or intercept or both (default behaviour). For theoretical details, refer to “Statistical Methods in Atmospheric Sciences” by Daniel S. Wilks, Academic Press, 1995.\n",
    "\n",
    "Usage:"
   ]
  },
  {
   "cell_type": "markdown",
   "metadata": {},
   "source": [
    "result = linearregression(y, axis = axisoptions, x = xvalues, error = erroroptions, probability = probabilityoptions, nointercept = nointerceptoptions, noslope = noslopeoptions )"
   ]
  },
  {
   "cell_type": "markdown",
   "metadata": {},
   "source": [
    "Options:\n",
    "\n",
    "axisoptions ‘x’ | ‘y’ | ‘z’ | ‘t’ | ‘(dimension_name)’ | 0 | 1 … | n\n",
    "\n",
    "default value = 0. You can pass the name of the dimension or index (integer value 0…n) over which you want to treat the array as the dependent variable.\n",
    "\n",
    "xvalues\n",
    "\n",
    "default = None. You can pass an array of values that are to be used as the independent axis x\n",
    "\n",
    "nointerceptoptions None | 0 | 1\n",
    "\n",
    "default = None. Setting to 0 or None means intercept calculations are returned. To turn OFF the intercept computations set nointercept to 1.\n",
    "\n",
    "noslopeoptions None | 0 | 1\n",
    "\n",
    "default = None. Setting to None or 0 means slope calculations are returned. To turn OFF the slope computations set noslope to 1.\n",
    "\n",
    "erroroptions None | 0 | 1 | 2 | 3\n",
    "\n",
    "default = None. If set to 0 or None, no associated errors are returned.\n",
    "\n",
    "If set to 1, the unadjusted standard error is returned.\n",
    "\n",
    "If set to 2, standard error returned. This standard error is adjusted using the centered autocorrelation of the residual.\n",
    "\n",
    "If set to 3, standard error returned. The standard error here is adjusted using the centered autocorrelation of the raw data (y).\n",
    "\n",
    "probabilityoptions None | 0 | 1\n",
    "\n",
    "default = None. If set to 0 or None, no associated probabilities are returned. Set this to 1to compute probabilities."
   ]
  },
  {
   "cell_type": "markdown",
   "metadata": {},
   "source": [
    "Note: Probabilities are returned only if erroroptions are set to one of 1, 2, or 3. If it is set to None or 0, then setting probabilityoptions has no meaning."
   ]
  },
  {
   "cell_type": "markdown",
   "metadata": {},
   "source": [
    "What is returned?\n",
    "\n",
    "The returned values depend on the combination of options you select. If both slope and intercept are required, a tuple is returned for both Value and optionally Error (or optionally associated Probabilities), but single values (not tuples) are returned if only one set (slope OR intercept) is required. See examples below for more details.\n",
    "\n",
    "When erroroption = 1 (from description above for erroroptions you know that means unadjusted standard error) and probabilityoption = 1, then the following are returned:\n",
    "\n",
    "    pt1 : The p-value for regression coefficient t-value. (With no adjustment for standard error or critical t-value.)\n",
    "    None : There is only one p-value to be returned (pt1) but None is returned to keep the length of the returned values consistent.\n",
    "    pf1 : The p-value for regression coefficient F-value (one-tailed).\n",
    "    pf2 : The p-value for regression coefficient F-value (two-tailed).\n",
    "\n",
    "When erroroption = 2 or 3 (implying error adjustment using the residual or the raw data and probabilityoption = 1, then the following are returned:\n",
    "\n",
    "    pt1 : The p-value for regression coefficient t-value.(With Effective sample size adjustment for standard error of slope.\n",
    "    pt2 : The p-value for regression coefficient t-value.(With effective sample size adjustment for standard error of slope and critical t-value.)\n",
    "    pf1 : The p-value for regression coefficient F-value (one-tailed).\n",
    "    pf2 : The p-value for regression coefficient F-value (two-tailed).\n",
    "\n",
    "The values pt1 and pt2 are used to test the null hypothesis that b = 0 (i.e., y is independent of x). The values pf1 and pf2 are used to test the null hypothesis that the regression is linear (goodness of linear fit). For non-replicated values of y, the degrees of freedom are 1 and n-2."
   ]
  },
  {
   "cell_type": "markdown",
   "metadata": {},
   "source": [
    "## The xmgrace module\n",
    "\n",
    "Nothing emphases the fact that UV-CDAT is a collection of tools that can be extended by the user better than the xmgrace module. This module provides an interface to the popular Grace plotting utility (which you must have installed separately. Downloads and information are available from http ://plasma-gate.weizmann.ac.il/Grace ).\n",
    "\n",
    "The tutorials (see the document Ultrascale Visualization Climate Data Analysis Tools (UV-CDAT): A beginner’s Guide or the UV-CDAT home page at http://UV-CDAT.sf.net for details) include two tutorials that demonstrate the use of python in getting full use out of XmGrace."
   ]
  },
  {
   "cell_type": "markdown",
   "metadata": {},
   "source": [
    "## Additional convenience functions"
   ]
  },
  {
   "cell_type": "markdown",
   "metadata": {},
   "source": [
    "### minmax\n",
    "\n",
    "Returns the minimum and maximum of a series of arrays/lists/tuples (or a combination of these). You can combine list/tuples/… pretty much any combination is allowed.\n",
    "\n",
    "Examples:"
   ]
  },
  {
   "cell_type": "code",
   "execution_count": 14,
   "metadata": {},
   "outputs": [
    {
     "data": {
      "text/plain": [
       "(-7.0, 8.0)"
      ]
     },
     "execution_count": 14,
     "metadata": {},
     "output_type": "execute_result"
    }
   ],
   "source": [
    ">>> import genutil\n",
    ">>> s = range(7)\n",
    ">>> genutil.minmax(s)\n",
    "(0.0, 6.0)\n",
    ">>> genutil.minmax([s,s])\n",
    "(0.0, 6.0)\n",
    ">>> genutil.minmax([[s,s*2],4.,[6.,7.,s]],\\\n",
    "[5.,7.,8,(6.,1.)])\n",
    "(-7.0, 8.0)"
   ]
  },
  {
   "cell_type": "markdown",
   "metadata": {},
   "source": [
    "### grower\n",
    "\n",
    "This function takes 2 transient variables and grows them to match their axes.\n",
    "\n",
    "Usage:"
   ]
  },
  {
   "cell_type": "markdown",
   "metadata": {},
   "source": [
    "x, y = grower(x, y, singleton = singletonoption )"
   ]
  },
  {
   "cell_type": "markdown",
   "metadata": {},
   "source": [
    "Options:\n",
    "\n",
    "singletonoption 0 | 1\n",
    "\n",
    "Default = 0 If singletonoption is set to 1 then an error is raised if one of the dims is not a singleton dimension."
   ]
  },
  {
   "cell_type": "markdown",
   "metadata": {},
   "source": [
    "### rgb2str\n",
    "\n",
    "Given r,g,b values, this function returns the closest ‘name’\n",
    "\n",
    "Example:"
   ]
  },
  {
   "cell_type": "code",
   "execution_count": 15,
   "metadata": {},
   "outputs": [
    {
     "ename": "NameError",
     "evalue": "name 'rgb2str' is not defined",
     "output_type": "error",
     "traceback": [
      "\u001b[0;31m---------------------------------------------------------------------------\u001b[0m",
      "\u001b[0;31mNameError\u001b[0m                                 Traceback (most recent call last)",
      "\u001b[0;32m<ipython-input-15-698f0306b05e>\u001b[0m in \u001b[0;36m<module>\u001b[0;34m()\u001b[0m\n\u001b[0;32m----> 1\u001b[0;31m \u001b[0;32mprint\u001b[0m \u001b[0mrgb2str\u001b[0m\u001b[0;34m(\u001b[0m\u001b[0;34m[\u001b[0m\u001b[0;36m0\u001b[0m\u001b[0;34m,\u001b[0m\u001b[0;36m0\u001b[0m\u001b[0;34m,\u001b[0m\u001b[0;36m0\u001b[0m\u001b[0;34m]\u001b[0m\u001b[0;34m)\u001b[0m\u001b[0;34m\u001b[0m\u001b[0m\n\u001b[0m\u001b[1;32m      2\u001b[0m \u001b[0;34m'black'\u001b[0m\u001b[0;34m\u001b[0m\u001b[0m\n",
      "\u001b[0;31mNameError\u001b[0m: name 'rgb2str' is not defined"
     ]
    }
   ],
   "source": [
    ">>> print rgb2str([0,0,0])\n",
    "'black'"
   ]
  },
  {
   "cell_type": "markdown",
   "metadata": {},
   "source": [
    "### str2rgb\n",
    "\n",
    "Given a string representing a color name, this function the corresponding r,g,b values (between 0 and 255). If the color name is unknown, the function returns (None, None, None)\n",
    "\n",
    "This is accomplished by looking in the /usr/X11R6/lib/X11/rgb.txt file. If the file does not exist, then looks into the builtin dictionary\n",
    "\n",
    "Examples:"
   ]
  },
  {
   "cell_type": "code",
   "execution_count": 16,
   "metadata": {},
   "outputs": [
    {
     "ename": "NameError",
     "evalue": "name 'str2rgb' is not defined",
     "output_type": "error",
     "traceback": [
      "\u001b[0;31m---------------------------------------------------------------------------\u001b[0m",
      "\u001b[0;31mNameError\u001b[0m                                 Traceback (most recent call last)",
      "\u001b[0;32m<ipython-input-16-8c209055e214>\u001b[0m in \u001b[0;36m<module>\u001b[0;34m()\u001b[0m\n\u001b[1;32m      1\u001b[0m \u001b[0;34m\u001b[0m\u001b[0m\n\u001b[0;32m----> 2\u001b[0;31m \u001b[0mr\u001b[0m\u001b[0;34m,\u001b[0m \u001b[0mg\u001b[0m\u001b[0;34m,\u001b[0m \u001b[0mb\u001b[0m \u001b[0;34m=\u001b[0m \u001b[0mstr2rgb\u001b[0m\u001b[0;34m(\u001b[0m\u001b[0;34m'pink2'\u001b[0m\u001b[0;34m)\u001b[0m\u001b[0;34m\u001b[0m\u001b[0m\n\u001b[0m\u001b[1;32m      3\u001b[0m \u001b[0;31m# returns: (238, 169, 184 )\u001b[0m\u001b[0;34m\u001b[0m\u001b[0;34m\u001b[0m\u001b[0m\n\u001b[1;32m      4\u001b[0m \u001b[0mr\u001b[0m\u001b[0;34m,\u001b[0m \u001b[0mg\u001b[0m\u001b[0;34m,\u001b[0m \u001b[0mb\u001b[0m \u001b[0;34m=\u001b[0m \u001b[0mstr2rgb\u001b[0m\u001b[0;34m(\u001b[0m\u001b[0;34m'crappy'\u001b[0m\u001b[0;34m)\u001b[0m\u001b[0;34m\u001b[0m\u001b[0m\n",
      "\u001b[0;31mNameError\u001b[0m: name 'str2rgb' is not defined"
     ]
    }
   ],
   "source": [
    " \n",
    ">>> r, g, b = str2rgb('pink2')\n",
    "# returns: (238, 169, 184 )\n",
    ">>> r, g, b = str2rgb('crappy')"
   ]
  },
  {
   "cell_type": "code",
   "execution_count": null,
   "metadata": {},
   "outputs": [],
   "source": []
  }
 ],
 "metadata": {
  "kernelspec": {
   "display_name": "Python 2",
   "language": "python",
   "name": "python2"
  },
  "language_info": {
   "codemirror_mode": {
    "name": "ipython",
    "version": 2
   },
   "file_extension": ".py",
   "mimetype": "text/x-python",
   "name": "python",
   "nbconvert_exporter": "python",
   "pygments_lexer": "ipython2",
   "version": "2.7.15"
  },
  "toc": {
   "base_numbering": 1,
   "nav_menu": {},
   "number_sections": false,
   "sideBar": true,
   "skip_h1_title": true,
   "title_cell": "Table of Contents",
   "title_sidebar": "Contents",
   "toc_cell": true,
   "toc_position": {},
   "toc_section_display": true,
   "toc_window_display": false
  }
 },
 "nbformat": 4,
 "nbformat_minor": 2
}
