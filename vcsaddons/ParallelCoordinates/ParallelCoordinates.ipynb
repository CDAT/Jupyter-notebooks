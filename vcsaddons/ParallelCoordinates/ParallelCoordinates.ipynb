{
 "cells": [
  {
   "cell_type": "markdown",
   "metadata": {},
   "source": [
    "# Parallel Coordinates<a id='top' class=\"tocSkip\"> </a>\n",
    "\n",
    "\n",
    "© The CDAT software was developed by LLNL. This tutorial was written by Charles Doutriaux. This work was performed under the auspices of the U.S. Department of Energy by Lawrence Livermore National Laboratory under Contract DE-AC52-07NA27344.\n",
    "\n",
    "\n",
    "[Download the Jupyter Notebook](ParallelCoordinates.ipynb)"
   ]
  },
  {
   "cell_type": "markdown",
   "metadata": {
    "toc": true
   },
   "source": [
    "<h1>Table of Contents<span class=\"tocSkip\"></span></h1>\n",
    "<div class=\"toc\"><ul class=\"toc-item\"><li><span><a href=\"#Work-around-to-visualize-plot-in-Jupyter-Notebook\" data-toc-modified-id=\"Work-around-to-visualize-plot-in-Jupyter-Notebook-1\">Work around to visualize plot in Jupyter Notebook</a></span></li><li><span><a href=\"#Sample-Data\" data-toc-modified-id=\"Sample-Data-2\">Sample Data</a></span></li><li><span><a href=\"#Preparing-the-plot\" data-toc-modified-id=\"Preparing-the-plot-3\">Preparing the plot</a></span><ul class=\"toc-item\"><li><span><a href=\"#Data\" data-toc-modified-id=\"Data-3.1\">Data</a></span></li><li><span><a href=\"#Template\" data-toc-modified-id=\"Template-3.2\">Template</a></span></li></ul></li><li><span><a href=\"#Control-various-aspects-of-the-graphic-method\" data-toc-modified-id=\"Control-various-aspects-of-the-graphic-method-4\">Control various aspects of the graphic method</a></span></li></ul></div>"
   ]
  },
  {
   "cell_type": "markdown",
   "metadata": {},
   "source": [
    "import necessary modules"
   ]
  },
  {
   "cell_type": "code",
   "execution_count": null,
   "metadata": {},
   "outputs": [],
   "source": [
    "import vcs # For plots\n",
    "import vcsaddons # module containing pcoords\n",
    "import cdms2 # for data\n",
    "import glob # to list files in directories\n",
    "import pcmdi_metrics # for special json loader class"
   ]
  },
  {
   "cell_type": "markdown",
   "metadata": {},
   "source": [
    "# Work around to visualize plot in Jupyter Notebook\n",
    "\n",
    "[Back to Top](#top)\n",
    "\n",
    "This class allow use to use vcsaddons plots "
   ]
  },
  {
   "cell_type": "code",
   "execution_count": null,
   "metadata": {
    "scrolled": true
   },
   "outputs": [],
   "source": [
    "import tempfile\n",
    "import base64\n",
    "class VCSAddonsNotebook(object):\n",
    "    def __init__(self, x):\n",
    "        self.x = x\n",
    "    def _repr_png_(self):\n",
    "        fnm = tempfile.mktemp()+\".png\"\n",
    "        x.png(fnm)\n",
    "        encoded = base64.b64encode(open(fnm, \"rb\").read())\n",
    "        return encoded\n",
    "    def __call__(self):\n",
    "        return self\n",
    "    "
   ]
  },
  {
   "cell_type": "markdown",
   "metadata": {},
   "source": [
    "# Sample Data\n",
    "\n",
    "[Back to Top](#top)\n",
    "\n",
    "These files are in the test directory of pcmdi_metrics repo at:\n",
    "http://github.com/PCMDI/pcmdi_metrics.git"
   ]
  },
  {
   "cell_type": "code",
   "execution_count": null,
   "metadata": {},
   "outputs": [],
   "source": [
    "# Prepare list of json files\n",
    "import os\n",
    "\n",
    "# Location on your computer\n",
    "json_pth = \"/git/pcmdi_metrics/tests/graphics\"\n",
    "# Geenrate list ofjson files\n",
    "json_files = glob.glob(\n",
    "            os.path.join(\n",
    "                json_pth,\n",
    "                \"json\",\n",
    "                \"v2.0\",\n",
    "                \"*.json\"))\n",
    "json_files += glob.glob(\n",
    "            os.path.join(\n",
    "                json_pth,\n",
    "                \"json\",\n",
    "                \"v1.0\",\n",
    "                \"*.json\"))\n",
    "# Read them in via pmp special json class\n",
    "J = pcmdi_metrics.pcmdi.io.JSONs(json_files)\n",
    "\n",
    "# Retrieve data we need for plot\n",
    "# Annual mean RMS (XYT dimensions)\n",
    "# All models and all variables\n",
    "rms_xyt = J(statistic=[\"rms_xyt\"],season=[\"ann\"],region=\"global\")(squeeze=1)"
   ]
  },
  {
   "cell_type": "markdown",
   "metadata": {},
   "source": [
    "Let's take a look at the array generated\n",
    "Note the axis are strings of varialbes used and models\n",
    "The order of the axes is the order on the plot"
   ]
  },
  {
   "cell_type": "code",
   "execution_count": null,
   "metadata": {},
   "outputs": [],
   "source": [
    "rms_xyt.info()"
   ]
  },
  {
   "cell_type": "code",
   "execution_count": null,
   "metadata": {},
   "outputs": [],
   "source": [
    "# Ok now let's create a VCS pcoord graphic method\n",
    "\n",
    "# initialize a canvas\n",
    "x=vcs.init(geometry=(1200,600),bg=True)\n",
    "import vcsaddons\n",
    "gm = vcsaddons.createparallelcoordinates(x=x)"
   ]
  },
  {
   "cell_type": "markdown",
   "metadata": {},
   "source": [
    "# Preparing the plot\n",
    "\n",
    "\n",
    "[Back to Top](#top)\n",
    "\n",
    "\n",
    "## Data\n",
    "\n",
    "[Back to Top](#top)\n",
    "\n",
    "'id' is used for variable in plot the JSON class returns var as \"pmp\", here \"RMS\" is more appropriate\n",
    "\n",
    "'title' is used to draw the plot title (location/font controlled by template)\n",
    "\n",
    "## Template\n",
    "\n",
    "[Back to Top](#top)\n",
    "\n",
    "The template section prepares where data will be rendered on plot, and the fonts used\n",
    "\n",
    "fonts are controlled via textorientation and texttable VCS primary objects\n",
    "\n",
    "Here we need to angle a bit the xlabels (45 degrees)\n",
    "\n",
    "We also want to turn off the boxes around the legend and the data area."
   ]
  },
  {
   "cell_type": "code",
   "execution_count": null,
   "metadata": {},
   "outputs": [],
   "source": [
    "# Prepare the graphics\n",
    "# Set variable name\n",
    "rms_xyt.id = \"RMS\"\n",
    "# Set units of each variables on axis\n",
    "# This is a trick to have units listed on plot\n",
    "rms_xyt.getAxis(-2).units = [\"mm/day\",\"mm/day\",\"hPa\",\"W/m2\",\"W/m2\",\"W/m2\", \"K\",\"K\",\"K\",\"m/s\",\"m/s\",\"m/s\",\"m/s\",\"m\"]\n",
    "# Sets title on the variable\n",
    "rms_xyt.title = \"Annual Mean Error\"\n",
    "\n",
    "# Preprare the canvas areas\n",
    "t = vcs.createtemplate()\n",
    "# Create a text orientation object for xlabels\n",
    "to=x.createtextorientation()\n",
    "to.angle=-45\n",
    "to.halign=\"right\"\n",
    "# Tell template to use this orientation for x labels\n",
    "t.xlabel1.textorientation = to.name\n",
    "\n",
    "# Define area where plot will be drawn in x direction\n",
    "t.reset('x',0.05,0.9,t.data.x1,t.data.x2)\n",
    "ln = vcs.createline()\n",
    "\n",
    "# Turn off box around legend\n",
    "ln.color = [[0,0,0,0]]\n",
    "t.legend.line = ln\n",
    "# turn off box around data area\n",
    "t.box1.priority=0\n",
    "\n",
    "# Define box where legend will be drawn\n",
    "t.legend.x1 = .91\n",
    "t.legend.x2 = .99\n",
    "# use x/y of data drawn for legend height\n",
    "t.legend.y1 = t.data.y1\n",
    "t.legend.y2 = t.data.y2"
   ]
  },
  {
   "cell_type": "code",
   "execution_count": null,
   "metadata": {},
   "outputs": [],
   "source": [
    "# Plot with default values of graphic method\n",
    "# Bug vcsaddons need to return a display\n",
    "# as a result it does not show up in notebook\n",
    "x.clear()\n",
    "show = VCSAddonsNotebook(x)\n",
    "gm.plot(rms_xyt,template=t,bg=True)\n",
    "show()"
   ]
  },
  {
   "cell_type": "markdown",
   "metadata": {},
   "source": [
    "# Control various aspects of the graphic method\n",
    "\n",
    "[Back to Top](#top)\n",
    "\n",
    "We want the first two model to be 'blue' and 'red' and a bit thicker\n",
    "\n",
    "All other plots will be 'grey' and 'dashed'"
   ]
  },
  {
   "cell_type": "code",
   "execution_count": null,
   "metadata": {},
   "outputs": [],
   "source": [
    "x.clear()\n",
    "gm.linecolors = [\"blue\",\"red\",\"grey\"]\n",
    "gm.linestyles=[\"solid\",\"solid\",\"dot\"]\n",
    "gm.linewidths=[5.,5.,1.]\n",
    "gm.markercolors = [\"blue\",\"red\",\"grey\"]\n",
    "gm.markertypes=[\"triangle_up\",\"star\",\"dot\"]\n",
    "gm.markersizes=[1,1,2]\n",
    "gm.plot(rms_xyt,template=t,bg=True)\n",
    "show()"
   ]
  },
  {
   "cell_type": "code",
   "execution_count": null,
   "metadata": {},
   "outputs": [],
   "source": [
    "# change order and number of models and variables\n",
    "# We need to creaate a new gm\n",
    "gm = vcsaddons.createparallelcoordinates(x=x)\n",
    "axes = rms_xyt.getAxisList()\n",
    "models = ['MIROC4h', 'HadGEM2-AO', 'GFDL-ESM2M',\n",
    " 'GFDL-ESM2G', 'GFDL-CM3', 'FGOALS-g2', 'CSIRO-Mk3-6-0', 'CESM1-WACCM',\n",
    " 'CESM1-FASTCHEM', 'CESM1-CAM5', 'CESM1-BGC', 'CCSM4', 'ACCESS1-3', 'ACCESS1-0',\n",
    " '0071-0100'] # invert them\n",
    "variables = ['prw', 'psl', 'rltcre', 'rlut', 'rstcre', 'ta-200', 'ta-850', 'tas',\n",
    " 'ua-850', 'va-850', 'zg-500']\n",
    "rms_xyt = J(statistic=[\"rms_xyt\"],season=[\"ann\"],region=\"global\",model=models,variable=variables)(squeeze=1)\n",
    "x.clear()\n",
    "gm.linecolors = [\"blue\",\"red\",\"grey\"]\n",
    "gm.linestyles=[\"solid\",\"solid\",\"dot\"]\n",
    "gm.linewidths=[5.,5.,1.]\n",
    "gm.markercolors = [\"blue\",\"red\",\"grey\"]\n",
    "gm.markertypes=[\"triangle_up\",\"star\",\"dot\"]\n",
    "gm.markersizes=[1,2,2]\n",
    "gm.plot(rms_xyt,template=t,bg=True)\n",
    "show()"
   ]
  },
  {
   "cell_type": "code",
   "execution_count": null,
   "metadata": {},
   "outputs": [],
   "source": []
  }
 ],
 "metadata": {
  "anaconda-cloud": {},
  "kernelspec": {
   "display_name": "Python 2",
   "language": "python",
   "name": "python2"
  },
  "language_info": {
   "codemirror_mode": {
    "name": "ipython",
    "version": 2
   },
   "file_extension": ".py",
   "mimetype": "text/x-python",
   "name": "python",
   "nbconvert_exporter": "python",
   "pygments_lexer": "ipython2",
   "version": "2.7.15"
  },
  "toc": {
   "base_numbering": 1,
   "nav_menu": {},
   "number_sections": false,
   "sideBar": true,
   "skip_h1_title": false,
   "title_cell": "Table of Contents",
   "title_sidebar": "Contents",
   "toc_cell": true,
   "toc_position": {},
   "toc_section_display": true,
   "toc_window_display": false
  }
 },
 "nbformat": 4,
 "nbformat_minor": 1
}
