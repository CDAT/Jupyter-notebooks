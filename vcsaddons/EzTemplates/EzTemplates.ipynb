{
 "cells": [
  {
   "cell_type": "markdown",
   "metadata": {},
   "source": [
    "# Ez Templates<a id='top' class=\"tocSkip\"> </a>\n",
    "\n",
    "\n",
    "This tutorial shows how to easily create templates for [CDAT](https://cdat.llnl.gov)'s VCS\n",
    "\n",
    "© The CDAT software was developed by LLNL. This tutorial was written by Charles Doutriaux. This work was performed under the auspices of the U.S. Department of Energy by Lawrence Livermore National Laboratory under Contract DE-AC52-07NA27344.\n",
    "\n",
    "[Download the Jupyter Notebook](EzTemplates.ipynb)"
   ]
  },
  {
   "cell_type": "markdown",
   "metadata": {
    "toc": true
   },
   "source": [
    "<h1>Table of Contents<span class=\"tocSkip\"></span></h1>\n",
    "<div class=\"toc\"><ul class=\"toc-item\"><li><span><a href=\"#Introduction\" data-toc-modified-id=\"Introduction-1\">Introduction</a></span></li><li><span><a href=\"#Setting-up-the-notebook\" data-toc-modified-id=\"Setting-up-the-notebook-2\">Setting up the notebook</a></span></li><li><span><a href=\"#Creating-Templates-for-2x3-plots\" data-toc-modified-id=\"Creating-Templates-for-2x3-plots-3\">Creating Templates for 2x3 plots</a></span></li><li><span><a href=\"#Accessing-a-specific-template\" data-toc-modified-id=\"Accessing-a-specific-template-4\">Accessing a specific template</a></span></li><li><span><a href=\"#Local-legend\" data-toc-modified-id=\"Local-legend-5\">Local legend</a></span></li><li><span><a href=\"#Controling-the-subplots-aspects\" data-toc-modified-id=\"Controling-the-subplots-aspects-6\">Controling the subplots aspects</a></span><ul class=\"toc-item\"><li><span><a href=\"#Base-template\" data-toc-modified-id=\"Base-template-6.1\">Base template</a></span></li><li><span><a href=\"#Overall-plot-margins\" data-toc-modified-id=\"Overall-plot-margins-6.2\">Overall plot margins</a></span></li><li><span><a href=\"#Spacing-between-plots\" data-toc-modified-id=\"Spacing-between-plots-6.3\">Spacing between plots</a></span></li><li><span><a href=\"#Controlling-the-legend\" data-toc-modified-id=\"Controlling-the-legend-6.4\">Controlling the legend</a></span><ul class=\"toc-item\"><li><span><a href=\"#Legend-direction\" data-toc-modified-id=\"Legend-direction-6.4.1\">Legend direction</a></span></li><li><span><a href=\"#Thickness\" data-toc-modified-id=\"Thickness-6.4.2\">Thickness</a></span></li></ul></li><li><span><a href=\"#Stretching-the-legend\" data-toc-modified-id=\"Stretching-the-legend-6.5\">Stretching the legend</a></span><ul class=\"toc-item\"><li><span><a href=\"#Fonts\" data-toc-modified-id=\"Fonts-6.5.1\">Fonts</a></span></li></ul></li></ul></li></ul></div>"
   ]
  },
  {
   "cell_type": "markdown",
   "metadata": {},
   "source": [
    "# Introduction\n",
    "\n",
    "[Back to Top](#top)"
   ]
  },
  {
   "cell_type": "markdown",
   "metadata": {},
   "source": [
    "More often than not one would like to have mutliple plots on a single page (or vcs canvas in our case).\n",
    "\n",
    "This can be achieved via VCS's templates objects. Tweaking the templates can be tidious, this is where the EzTemplate comes handy, it helps creating vcs template object for most common plot copnfigurations.\n"
   ]
  },
  {
   "cell_type": "markdown",
   "metadata": {},
   "source": [
    "# Setting up the notebook\n",
    "\n",
    "[Back to Top](#top)"
   ]
  },
  {
   "cell_type": "markdown",
   "metadata": {},
   "source": [
    "from __future__ import print_function, division\n",
    "from vcsaddons import EzTemplate\n",
    "from IPython.display import Image\n",
    "import vcs\n",
    "import cdms2\n",
    "\n",
    "vcs.download_sample_data_files()\n",
    "canvas = vcs.init(bg=True)\n",
    "f = cdms2.open(vcs.sample_data+\"/clt.nc\")\n",
    "clt = f(\"clt\")\n",
    "gm = vcs.createisofill()\n",
    "levels = range(0,110,25)\n",
    "gm.levels = levels\n",
    "gm.fillareacolors = vcs.getcolors(levels)\n",
    "\n",
    "box = vcs.createline()\n",
    "box.x = [0.001, .999, .999, .001, .001]\n",
    "box.y = [0.001, .001, .999, .999, .001]\n",
    "\n",
    "def plot_all(M):\n",
    "    canvas.clear()\n",
    "    for i in range(M.rows * M.columns):\n",
    "        template = M.get(column = i % M.columns, row = i // M.columns)  # This is vcs template object you could further edit\n",
    "        display = canvas.plot(clt[i*2], template, gm)\n",
    "    return canvas.plot(box)"
   ]
  },
  {
   "cell_type": "markdown",
   "metadata": {},
   "source": [
    "# Creating Templates for 2x3 plots\n",
    "\n",
    "[Back to Top](#top)\n",
    "\n",
    "Let's say we want have 6 plots, split on 3 rows of 2. Notice the canvas automatically switch to portrait orientation."
   ]
  },
  {
   "cell_type": "code",
   "execution_count": 1,
   "metadata": {},
   "outputs": [
    {
     "ename": "NameError",
     "evalue": "name 'EzTemplate' is not defined",
     "output_type": "error",
     "traceback": [
      "\u001b[0;31m---------------------------------------------------------------------------\u001b[0m",
      "\u001b[0;31mNameError\u001b[0m                                 Traceback (most recent call last)",
      "\u001b[0;32m<ipython-input-1-182e97a92df2>\u001b[0m in \u001b[0;36m<module>\u001b[0;34m()\u001b[0m\n\u001b[0;32m----> 1\u001b[0;31m \u001b[0mMultiple\u001b[0m \u001b[0;34m=\u001b[0m \u001b[0mEzTemplate\u001b[0m\u001b[0;34m.\u001b[0m\u001b[0mMulti\u001b[0m\u001b[0;34m(\u001b[0m\u001b[0mrows\u001b[0m\u001b[0;34m=\u001b[0m\u001b[0;36m3\u001b[0m\u001b[0;34m,\u001b[0m \u001b[0mcolumns\u001b[0m\u001b[0;34m=\u001b[0m\u001b[0;36m2\u001b[0m\u001b[0;34m,\u001b[0m \u001b[0mx\u001b[0m\u001b[0;34m=\u001b[0m\u001b[0mcanvas\u001b[0m\u001b[0;34m)\u001b[0m\u001b[0;34m\u001b[0m\u001b[0m\n\u001b[0m\u001b[1;32m      2\u001b[0m \u001b[0;32mfor\u001b[0m \u001b[0mi\u001b[0m \u001b[0;32min\u001b[0m \u001b[0mrange\u001b[0m\u001b[0;34m(\u001b[0m\u001b[0;36m6\u001b[0m\u001b[0;34m)\u001b[0m\u001b[0;34m:\u001b[0m\u001b[0;34m\u001b[0m\u001b[0m\n\u001b[1;32m      3\u001b[0m     \u001b[0mtemplate\u001b[0m \u001b[0;34m=\u001b[0m \u001b[0mMultiple\u001b[0m\u001b[0;34m.\u001b[0m\u001b[0mget\u001b[0m\u001b[0;34m(\u001b[0m\u001b[0;34m)\u001b[0m  \u001b[0;31m# This is vcs template object you could further edit\u001b[0m\u001b[0;34m\u001b[0m\u001b[0m\n\u001b[1;32m      4\u001b[0m     \u001b[0mdisplay\u001b[0m \u001b[0;34m=\u001b[0m \u001b[0mcanvas\u001b[0m\u001b[0;34m.\u001b[0m\u001b[0mplot\u001b[0m\u001b[0;34m(\u001b[0m\u001b[0mclt\u001b[0m\u001b[0;34m[\u001b[0m\u001b[0mi\u001b[0m\u001b[0;34m*\u001b[0m\u001b[0;36m2\u001b[0m\u001b[0;34m]\u001b[0m\u001b[0;34m,\u001b[0m \u001b[0mtemplate\u001b[0m\u001b[0;34m,\u001b[0m \u001b[0mgm\u001b[0m\u001b[0;34m)\u001b[0m\u001b[0;34m\u001b[0m\u001b[0m\n\u001b[1;32m      5\u001b[0m \u001b[0mdisplay\u001b[0m  \u001b[0;31m# for notebook to render final picture\u001b[0m\u001b[0;34m\u001b[0m\u001b[0m\n",
      "\u001b[0;31mNameError\u001b[0m: name 'EzTemplate' is not defined"
     ]
    }
   ],
   "source": [
    "Multiple = EzTemplate.Multi(rows=3, columns=2, x=canvas)\n",
    "for i in range(6):\n",
    "    template = Multiple.get()  # This is vcs template object you could further edit\n",
    "    display = canvas.plot(clt[i*2], template, gm)\n",
    "display  # for notebook to render final picture"
   ]
  },
  {
   "cell_type": "markdown",
   "metadata": {},
   "source": [
    "# Accessing a specific template\n",
    "\n",
    "[Back to Top](#top)\n",
    "\n",
    "Rather than accessing templates in order, you can retrieve directly a specific object"
   ]
  },
  {
   "cell_type": "code",
   "execution_count": 2,
   "metadata": {},
   "outputs": [
    {
     "ename": "NameError",
     "evalue": "name 'canvas' is not defined",
     "output_type": "error",
     "traceback": [
      "\u001b[0;31m---------------------------------------------------------------------------\u001b[0m",
      "\u001b[0;31mNameError\u001b[0m                                 Traceback (most recent call last)",
      "\u001b[0;32m<ipython-input-2-3cff4afcfcfb>\u001b[0m in \u001b[0;36m<module>\u001b[0;34m()\u001b[0m\n\u001b[0;32m----> 1\u001b[0;31m \u001b[0mcanvas\u001b[0m\u001b[0;34m.\u001b[0m\u001b[0mclear\u001b[0m\u001b[0;34m(\u001b[0m\u001b[0;34m)\u001b[0m\u001b[0;34m\u001b[0m\u001b[0m\n\u001b[0m\u001b[1;32m      2\u001b[0m \u001b[0mtemplate\u001b[0m \u001b[0;34m=\u001b[0m \u001b[0mMultiple\u001b[0m\u001b[0;34m.\u001b[0m\u001b[0mget\u001b[0m\u001b[0;34m(\u001b[0m\u001b[0mrow\u001b[0m\u001b[0;34m=\u001b[0m\u001b[0;36m0\u001b[0m\u001b[0;34m,\u001b[0m \u001b[0mcolumn\u001b[0m\u001b[0;34m=\u001b[0m\u001b[0;36m0\u001b[0m\u001b[0;34m)\u001b[0m  \u001b[0;31m# This is vcs template object you could further edit\u001b[0m\u001b[0;34m\u001b[0m\u001b[0m\n\u001b[1;32m      3\u001b[0m \u001b[0mcanvas\u001b[0m\u001b[0;34m.\u001b[0m\u001b[0mplot\u001b[0m\u001b[0;34m(\u001b[0m\u001b[0mclt\u001b[0m\u001b[0;34m[\u001b[0m\u001b[0;36m0\u001b[0m\u001b[0;34m]\u001b[0m\u001b[0;34m,\u001b[0m \u001b[0mtemplate\u001b[0m\u001b[0;34m,\u001b[0m \u001b[0mgm\u001b[0m\u001b[0;34m)\u001b[0m\u001b[0;34m\u001b[0m\u001b[0m\n\u001b[1;32m      4\u001b[0m \u001b[0mtemplate\u001b[0m \u001b[0;34m=\u001b[0m \u001b[0mMultiple\u001b[0m\u001b[0;34m.\u001b[0m\u001b[0mget\u001b[0m\u001b[0;34m(\u001b[0m\u001b[0mrow\u001b[0m\u001b[0;34m=\u001b[0m\u001b[0;36m1\u001b[0m\u001b[0;34m,\u001b[0m \u001b[0mcolumn\u001b[0m\u001b[0;34m=\u001b[0m\u001b[0;36m1\u001b[0m\u001b[0;34m)\u001b[0m  \u001b[0;31m# This is vcs template object you could further edit\u001b[0m\u001b[0;34m\u001b[0m\u001b[0m\n\u001b[1;32m      5\u001b[0m \u001b[0mcanvas\u001b[0m\u001b[0;34m.\u001b[0m\u001b[0mplot\u001b[0m\u001b[0;34m(\u001b[0m\u001b[0mclt\u001b[0m\u001b[0;34m[\u001b[0m\u001b[0;36m6\u001b[0m\u001b[0;34m]\u001b[0m\u001b[0;34m,\u001b[0m \u001b[0mtemplate\u001b[0m\u001b[0;34m,\u001b[0m \u001b[0mgm\u001b[0m\u001b[0;34m)\u001b[0m\u001b[0;34m\u001b[0m\u001b[0m\n",
      "\u001b[0;31mNameError\u001b[0m: name 'canvas' is not defined"
     ]
    }
   ],
   "source": [
    "canvas.clear()\n",
    "template = Multiple.get(row=0, column=0)  # This is vcs template object you could further edit\n",
    "canvas.plot(clt[0], template, gm)\n",
    "template = Multiple.get(row=1, column=1)  # This is vcs template object you could further edit\n",
    "canvas.plot(clt[6], template, gm)\n",
    "template = Multiple.get(row=2, column=0)  # This is vcs template object you could further edit\n",
    "canvas.plot(clt[12], template, gm)"
   ]
  },
  {
   "cell_type": "markdown",
   "metadata": {},
   "source": [
    "# Local legend\n",
    "\n",
    "[Back to Top](#top)\n",
    "\n",
    "You probably noticed that only one legend is plotted, sometimes you might want a separate legend for a specific subplot. This can be achieved when you get the template"
   ]
  },
  {
   "cell_type": "code",
   "execution_count": 3,
   "metadata": {},
   "outputs": [
    {
     "ename": "NameError",
     "evalue": "name 'canvas' is not defined",
     "output_type": "error",
     "traceback": [
      "\u001b[0;31m---------------------------------------------------------------------------\u001b[0m",
      "\u001b[0;31mNameError\u001b[0m                                 Traceback (most recent call last)",
      "\u001b[0;32m<ipython-input-3-e1be2dde0ed6>\u001b[0m in \u001b[0;36m<module>\u001b[0;34m()\u001b[0m\n\u001b[0;32m----> 1\u001b[0;31m \u001b[0mcanvas\u001b[0m\u001b[0;34m.\u001b[0m\u001b[0mclear\u001b[0m\u001b[0;34m(\u001b[0m\u001b[0;34m)\u001b[0m\u001b[0;34m\u001b[0m\u001b[0m\n\u001b[0m\u001b[1;32m      2\u001b[0m \u001b[0mcanvas\u001b[0m\u001b[0;34m.\u001b[0m\u001b[0mclear\u001b[0m\u001b[0;34m(\u001b[0m\u001b[0;34m)\u001b[0m\u001b[0;34m\u001b[0m\u001b[0m\n\u001b[1;32m      3\u001b[0m \u001b[0mtemplate\u001b[0m \u001b[0;34m=\u001b[0m \u001b[0mMultiple\u001b[0m\u001b[0;34m.\u001b[0m\u001b[0mget\u001b[0m\u001b[0;34m(\u001b[0m\u001b[0mrow\u001b[0m\u001b[0;34m=\u001b[0m\u001b[0;36m0\u001b[0m\u001b[0;34m,\u001b[0m \u001b[0mcolumn\u001b[0m\u001b[0;34m=\u001b[0m\u001b[0;36m0\u001b[0m\u001b[0;34m)\u001b[0m  \u001b[0;31m# This is vcs template object you could further edit\u001b[0m\u001b[0;34m\u001b[0m\u001b[0m\n\u001b[1;32m      4\u001b[0m \u001b[0mcanvas\u001b[0m\u001b[0;34m.\u001b[0m\u001b[0mplot\u001b[0m\u001b[0;34m(\u001b[0m\u001b[0mclt\u001b[0m\u001b[0;34m[\u001b[0m\u001b[0;36m0\u001b[0m\u001b[0;34m]\u001b[0m\u001b[0;34m,\u001b[0m \u001b[0mtemplate\u001b[0m\u001b[0;34m,\u001b[0m \u001b[0mgm\u001b[0m\u001b[0;34m)\u001b[0m\u001b[0;34m\u001b[0m\u001b[0m\n\u001b[1;32m      5\u001b[0m \u001b[0mtemplate\u001b[0m \u001b[0;34m=\u001b[0m \u001b[0mMultiple\u001b[0m\u001b[0;34m.\u001b[0m\u001b[0mget\u001b[0m\u001b[0;34m(\u001b[0m\u001b[0mrow\u001b[0m\u001b[0;34m=\u001b[0m\u001b[0;36m1\u001b[0m\u001b[0;34m,\u001b[0m \u001b[0mcolumn\u001b[0m\u001b[0;34m=\u001b[0m\u001b[0;36m1\u001b[0m\u001b[0;34m,\u001b[0m \u001b[0mlegend\u001b[0m\u001b[0;34m=\u001b[0m\u001b[0;34m\"local\"\u001b[0m\u001b[0;34m)\u001b[0m  \u001b[0;31m# This is vcs template object you could further edit\u001b[0m\u001b[0;34m\u001b[0m\u001b[0m\n",
      "\u001b[0;31mNameError\u001b[0m: name 'canvas' is not defined"
     ]
    }
   ],
   "source": [
    "canvas.clear()\n",
    "canvas.clear()\n",
    "template = Multiple.get(row=0, column=0)  # This is vcs template object you could further edit\n",
    "canvas.plot(clt[0], template, gm)\n",
    "template = Multiple.get(row=1, column=1, legend=\"local\")  # This is vcs template object you could further edit\n",
    "canvas.plot(clt[6], template, gm)\n",
    "template = Multiple.get(row=2, column=0)  # This is vcs template object you could further edit\n",
    "canvas.plot(clt[12], template, gm)"
   ]
  },
  {
   "cell_type": "markdown",
   "metadata": {},
   "source": [
    "# Controling the subplots aspects\n",
    "\n",
    "[Back to Top](#top)\n",
    "\n",
    "Many general aspect of the plot cna be controlled via the `Multi` object. Al ist of controllable aspect and their current values can be accessed vi the `list()` function"
   ]
  },
  {
   "cell_type": "code",
   "execution_count": 4,
   "metadata": {},
   "outputs": [
    {
     "ename": "NameError",
     "evalue": "name 'Multiple' is not defined",
     "output_type": "error",
     "traceback": [
      "\u001b[0;31m---------------------------------------------------------------------------\u001b[0m",
      "\u001b[0;31mNameError\u001b[0m                                 Traceback (most recent call last)",
      "\u001b[0;32m<ipython-input-4-0da65d22a03f>\u001b[0m in \u001b[0;36m<module>\u001b[0;34m()\u001b[0m\n\u001b[0;32m----> 1\u001b[0;31m \u001b[0mMultiple\u001b[0m\u001b[0;34m.\u001b[0m\u001b[0mlist\u001b[0m\u001b[0;34m(\u001b[0m\u001b[0;34m)\u001b[0m\u001b[0;34m\u001b[0m\u001b[0m\n\u001b[0m",
      "\u001b[0;31mNameError\u001b[0m: name 'Multiple' is not defined"
     ]
    }
   ],
   "source": [
    "Multiple.list()"
   ]
  },
  {
   "cell_type": "markdown",
   "metadata": {},
   "source": [
    "## Base template\n",
    "\n",
    "[Back to Top](#top)\n",
    "\n",
    "By default each individual template is generated based on the `default` vcs template. But you can pass it the base template you would like to be used."
   ]
  },
  {
   "cell_type": "code",
   "execution_count": 5,
   "metadata": {},
   "outputs": [
    {
     "ename": "NameError",
     "evalue": "name 'vcs' is not defined",
     "output_type": "error",
     "traceback": [
      "\u001b[0;31m---------------------------------------------------------------------------\u001b[0m",
      "\u001b[0;31mNameError\u001b[0m                                 Traceback (most recent call last)",
      "\u001b[0;32m<ipython-input-5-d5b7c4badd58>\u001b[0m in \u001b[0;36m<module>\u001b[0;34m()\u001b[0m\n\u001b[0;32m----> 1\u001b[0;31m \u001b[0mbase_template\u001b[0m \u001b[0;34m=\u001b[0m \u001b[0mvcs\u001b[0m\u001b[0;34m.\u001b[0m\u001b[0mcreatetemplate\u001b[0m\u001b[0;34m(\u001b[0m\u001b[0;34m)\u001b[0m\u001b[0;34m\u001b[0m\u001b[0m\n\u001b[0m\u001b[1;32m      2\u001b[0m base_template.blank([\"title\",\"crtime\",\"crdate\",\n\u001b[1;32m      3\u001b[0m                      \u001b[0;34m\"source\"\u001b[0m\u001b[0;34m,\u001b[0m\u001b[0;34m\"dataname\"\u001b[0m\u001b[0;34m,\u001b[0m \u001b[0;34m\"units\"\u001b[0m\u001b[0;34m,\u001b[0m\u001b[0;34m\u001b[0m\u001b[0m\n\u001b[1;32m      4\u001b[0m                      \u001b[0;34m\"tname\"\u001b[0m\u001b[0;34m,\u001b[0m \u001b[0;34m\"tvalue\"\u001b[0m\u001b[0;34m,\u001b[0m \u001b[0;34m\"zvalue\"\u001b[0m\u001b[0;34m,\u001b[0m\u001b[0;34m\u001b[0m\u001b[0m\n\u001b[1;32m      5\u001b[0m                      \u001b[0;34m\"min\"\u001b[0m\u001b[0;34m,\u001b[0m \u001b[0;34m\"max\"\u001b[0m\u001b[0;34m,\u001b[0m\u001b[0;34m\u001b[0m\u001b[0m\n",
      "\u001b[0;31mNameError\u001b[0m: name 'vcs' is not defined"
     ]
    }
   ],
   "source": [
    "base_template = vcs.createtemplate()\n",
    "base_template.blank([\"title\",\"crtime\",\"crdate\",\n",
    "                     \"source\",\"dataname\", \"units\",\n",
    "                     \"tname\", \"tvalue\", \"zvalue\",\n",
    "                     \"min\", \"max\",\n",
    "                     \"xname\", \"xlabel1\"])\n",
    "canvas.clear()\n",
    "canvas.plot(clt,base_template, gm)"
   ]
  },
  {
   "cell_type": "code",
   "execution_count": 6,
   "metadata": {},
   "outputs": [
    {
     "ename": "NameError",
     "evalue": "name 'EzTemplate' is not defined",
     "output_type": "error",
     "traceback": [
      "\u001b[0;31m---------------------------------------------------------------------------\u001b[0m",
      "\u001b[0;31mNameError\u001b[0m                                 Traceback (most recent call last)",
      "\u001b[0;32m<ipython-input-6-c76dc902875b>\u001b[0m in \u001b[0;36m<module>\u001b[0;34m()\u001b[0m\n\u001b[0;32m----> 1\u001b[0;31m \u001b[0mMultiple\u001b[0m \u001b[0;34m=\u001b[0m \u001b[0mEzTemplate\u001b[0m\u001b[0;34m.\u001b[0m\u001b[0mMulti\u001b[0m\u001b[0;34m(\u001b[0m\u001b[0mrows\u001b[0m\u001b[0;34m=\u001b[0m\u001b[0;36m3\u001b[0m\u001b[0;34m,\u001b[0m \u001b[0mcolumns\u001b[0m\u001b[0;34m=\u001b[0m\u001b[0;36m2\u001b[0m\u001b[0;34m,\u001b[0m \u001b[0mtemplate\u001b[0m\u001b[0;34m=\u001b[0m\u001b[0mbase_template\u001b[0m\u001b[0;34m)\u001b[0m\u001b[0;34m\u001b[0m\u001b[0m\n\u001b[0m\u001b[1;32m      2\u001b[0m \u001b[0mcanvas\u001b[0m\u001b[0;34m.\u001b[0m\u001b[0mclear\u001b[0m\u001b[0;34m(\u001b[0m\u001b[0;34m)\u001b[0m\u001b[0;34m\u001b[0m\u001b[0m\n\u001b[1;32m      3\u001b[0m \u001b[0;32mfor\u001b[0m \u001b[0mi\u001b[0m \u001b[0;32min\u001b[0m \u001b[0mrange\u001b[0m\u001b[0;34m(\u001b[0m\u001b[0;36m6\u001b[0m\u001b[0;34m)\u001b[0m\u001b[0;34m:\u001b[0m\u001b[0;34m\u001b[0m\u001b[0m\n\u001b[1;32m      4\u001b[0m     \u001b[0mtemplate\u001b[0m \u001b[0;34m=\u001b[0m \u001b[0mMultiple\u001b[0m\u001b[0;34m.\u001b[0m\u001b[0mget\u001b[0m\u001b[0;34m(\u001b[0m\u001b[0;34m)\u001b[0m  \u001b[0;31m# This is vcs template object you could further edit\u001b[0m\u001b[0;34m\u001b[0m\u001b[0m\n\u001b[1;32m      5\u001b[0m     \u001b[0mdisplay\u001b[0m \u001b[0;34m=\u001b[0m \u001b[0mcanvas\u001b[0m\u001b[0;34m.\u001b[0m\u001b[0mplot\u001b[0m\u001b[0;34m(\u001b[0m\u001b[0mclt\u001b[0m\u001b[0;34m[\u001b[0m\u001b[0mi\u001b[0m\u001b[0;34m*\u001b[0m\u001b[0;36m2\u001b[0m\u001b[0;34m]\u001b[0m\u001b[0;34m,\u001b[0m \u001b[0mtemplate\u001b[0m\u001b[0;34m,\u001b[0m \u001b[0mgm\u001b[0m\u001b[0;34m)\u001b[0m\u001b[0;34m\u001b[0m\u001b[0m\n",
      "\u001b[0;31mNameError\u001b[0m: name 'EzTemplate' is not defined"
     ]
    }
   ],
   "source": [
    "Multiple = EzTemplate.Multi(rows=3, columns=2, template=base_template)\n",
    "canvas.clear()\n",
    "for i in range(6):\n",
    "    template = Multiple.get()  # This is vcs template object you could further edit\n",
    "    display = canvas.plot(clt[i*2], template, gm)\n",
    "display  # for notebook to render final picture"
   ]
  },
  {
   "cell_type": "markdown",
   "metadata": {},
   "source": [
    "## Overall plot margins\n",
    "\n",
    "[Back to Top](#top)\n",
    "\n",
    "EzTemplate lets you control around the plot, for this use the `margins` section to the Multi object.\n",
    "\n",
    "Bellow we use drastic value to for educational purpose.\n",
    "\n",
    "Notice the legend thickness increased due to more space available from the bottom margin"
   ]
  },
  {
   "cell_type": "code",
   "execution_count": 7,
   "metadata": {},
   "outputs": [
    {
     "ename": "NameError",
     "evalue": "name 'Multiple' is not defined",
     "output_type": "error",
     "traceback": [
      "\u001b[0;31m---------------------------------------------------------------------------\u001b[0m",
      "\u001b[0;31mNameError\u001b[0m                                 Traceback (most recent call last)",
      "\u001b[0;32m<ipython-input-7-07609c068602>\u001b[0m in \u001b[0;36m<module>\u001b[0;34m()\u001b[0m\n\u001b[0;32m----> 1\u001b[0;31m \u001b[0mMultiple\u001b[0m\u001b[0;34m.\u001b[0m\u001b[0mmargins\u001b[0m\u001b[0;34m.\u001b[0m\u001b[0mtop\u001b[0m \u001b[0;34m=\u001b[0m \u001b[0;36m.2\u001b[0m  \u001b[0;31m# 20% margin at the top\u001b[0m\u001b[0;34m\u001b[0m\u001b[0m\n\u001b[0m\u001b[1;32m      2\u001b[0m \u001b[0mMultiple\u001b[0m\u001b[0;34m.\u001b[0m\u001b[0mmargins\u001b[0m\u001b[0;34m.\u001b[0m\u001b[0mbottom\u001b[0m \u001b[0;34m=\u001b[0m \u001b[0;36m.3\u001b[0m \u001b[0;31m# 30% margin from the bottom\u001b[0m\u001b[0;34m\u001b[0m\u001b[0m\n\u001b[1;32m      3\u001b[0m \u001b[0mMultiple\u001b[0m\u001b[0;34m.\u001b[0m\u001b[0mmargins\u001b[0m\u001b[0;34m.\u001b[0m\u001b[0mleft\u001b[0m \u001b[0;34m=\u001b[0m \u001b[0;36m.2\u001b[0m  \u001b[0;31m# 20% from left\u001b[0m\u001b[0;34m\u001b[0m\u001b[0m\n\u001b[1;32m      4\u001b[0m \u001b[0mMultiple\u001b[0m\u001b[0;34m.\u001b[0m\u001b[0mmargins\u001b[0m\u001b[0;34m.\u001b[0m\u001b[0mright\u001b[0m \u001b[0;34m=\u001b[0m \u001b[0;36m.3\u001b[0m  \u001b[0;31m# 30% from right\u001b[0m\u001b[0;34m\u001b[0m\u001b[0m\n\u001b[1;32m      5\u001b[0m \u001b[0mplot_all\u001b[0m\u001b[0;34m(\u001b[0m\u001b[0mMultiple\u001b[0m\u001b[0;34m)\u001b[0m\u001b[0;34m\u001b[0m\u001b[0m\n",
      "\u001b[0;31mNameError\u001b[0m: name 'Multiple' is not defined"
     ]
    }
   ],
   "source": [
    "Multiple.margins.top = .2  # 20% margin at the top\n",
    "Multiple.margins.bottom = .3 # 30% margin from the bottom\n",
    "Multiple.margins.left = .2  # 20% from left\n",
    "Multiple.margins.right = .3  # 30% from right\n",
    "plot_all(Multiple)"
   ]
  },
  {
   "cell_type": "markdown",
   "metadata": {},
   "source": [
    "## Spacing between plots\n",
    "\n",
    "[Back to Top](#top)\n",
    "\n",
    "One can also control how much spacing should be set between plots, for this use the `spacing` section.\n",
    "\n",
    "Here again we use drastic values for educational purposes."
   ]
  },
  {
   "cell_type": "code",
   "execution_count": 8,
   "metadata": {},
   "outputs": [
    {
     "ename": "NameError",
     "evalue": "name 'Multiple' is not defined",
     "output_type": "error",
     "traceback": [
      "\u001b[0;31m---------------------------------------------------------------------------\u001b[0m",
      "\u001b[0;31mNameError\u001b[0m                                 Traceback (most recent call last)",
      "\u001b[0;32m<ipython-input-8-3ae6ba8bfce3>\u001b[0m in \u001b[0;36m<module>\u001b[0;34m()\u001b[0m\n\u001b[0;32m----> 1\u001b[0;31m \u001b[0mMultiple\u001b[0m\u001b[0;34m.\u001b[0m\u001b[0mspacing\u001b[0m\u001b[0;34m.\u001b[0m\u001b[0mvertical\u001b[0m \u001b[0;34m=\u001b[0m \u001b[0;36m.1\u001b[0m  \u001b[0;31m# 10 % of total page height\u001b[0m\u001b[0;34m\u001b[0m\u001b[0m\n\u001b[0m\u001b[1;32m      2\u001b[0m \u001b[0mMultiple\u001b[0m\u001b[0;34m.\u001b[0m\u001b[0mspacing\u001b[0m\u001b[0;34m.\u001b[0m\u001b[0mhorizontal\u001b[0m \u001b[0;34m=\u001b[0m \u001b[0;36m.2\u001b[0m  \u001b[0;31m# 20 % of total page width\u001b[0m\u001b[0;34m\u001b[0m\u001b[0m\n\u001b[1;32m      3\u001b[0m \u001b[0mplot_all\u001b[0m\u001b[0;34m(\u001b[0m\u001b[0mMultiple\u001b[0m\u001b[0;34m)\u001b[0m\u001b[0;34m\u001b[0m\u001b[0m\n",
      "\u001b[0;31mNameError\u001b[0m: name 'Multiple' is not defined"
     ]
    }
   ],
   "source": [
    "Multiple.spacing.vertical = .1  # 10 % of total page height\n",
    "Multiple.spacing.horizontal = .2  # 20 % of total page width\n",
    "plot_all(Multiple)"
   ]
  },
  {
   "cell_type": "markdown",
   "metadata": {},
   "source": [
    "## Controlling the legend\n",
    "\n",
    "[Back to Top](#top)\n",
    "\n",
    "As we mentioned earlier, EzTemplate try to make the best possible use of the free space to plot the overall legend (set on template at row=0, column=0)\n",
    "\n",
    "### Legend direction\n",
    "\n",
    "[Back to Top](#top)\n",
    "\n",
    "By default we use the bottom margin to draw an horizontal legend, but we can opt for a vertical legend in which case the right margin space will be used"
   ]
  },
  {
   "cell_type": "code",
   "execution_count": 9,
   "metadata": {},
   "outputs": [
    {
     "ename": "NameError",
     "evalue": "name 'Multiple' is not defined",
     "output_type": "error",
     "traceback": [
      "\u001b[0;31m---------------------------------------------------------------------------\u001b[0m",
      "\u001b[0;31mNameError\u001b[0m                                 Traceback (most recent call last)",
      "\u001b[0;32m<ipython-input-9-58e371bc0533>\u001b[0m in \u001b[0;36m<module>\u001b[0;34m()\u001b[0m\n\u001b[0;32m----> 1\u001b[0;31m \u001b[0mMultiple\u001b[0m\u001b[0;34m.\u001b[0m\u001b[0mlegend\u001b[0m\u001b[0;34m.\u001b[0m\u001b[0mdirection\u001b[0m \u001b[0;34m=\u001b[0m \u001b[0;34m\"vertical\"\u001b[0m\u001b[0;34m\u001b[0m\u001b[0m\n\u001b[0m\u001b[1;32m      2\u001b[0m \u001b[0mplot_all\u001b[0m\u001b[0;34m(\u001b[0m\u001b[0mMultiple\u001b[0m\u001b[0;34m)\u001b[0m\u001b[0;34m\u001b[0m\u001b[0m\n",
      "\u001b[0;31mNameError\u001b[0m: name 'Multiple' is not defined"
     ]
    }
   ],
   "source": [
    "Multiple.legend.direction = \"vertical\"\n",
    "plot_all(Multiple)"
   ]
  },
  {
   "cell_type": "markdown",
   "metadata": {},
   "source": [
    "### Thickness\n",
    "\n",
    "[Back to Top](#top)\n",
    "\n",
    "The legend bar thickness can also be controlled "
   ]
  },
  {
   "cell_type": "code",
   "execution_count": 10,
   "metadata": {},
   "outputs": [
    {
     "ename": "NameError",
     "evalue": "name 'Multiple' is not defined",
     "output_type": "error",
     "traceback": [
      "\u001b[0;31m---------------------------------------------------------------------------\u001b[0m",
      "\u001b[0;31mNameError\u001b[0m                                 Traceback (most recent call last)",
      "\u001b[0;32m<ipython-input-10-6e943dd28de9>\u001b[0m in \u001b[0;36m<module>\u001b[0;34m()\u001b[0m\n\u001b[0;32m----> 1\u001b[0;31m \u001b[0mMultiple\u001b[0m\u001b[0;34m.\u001b[0m\u001b[0mlegend\u001b[0m\u001b[0;34m.\u001b[0m\u001b[0mthickness\u001b[0m \u001b[0;34m=\u001b[0m \u001b[0;36m.15\u001b[0m \u001b[0;31m# 15% of available space\u001b[0m\u001b[0;34m\u001b[0m\u001b[0m\n\u001b[0m\u001b[1;32m      2\u001b[0m \u001b[0mplot_all\u001b[0m\u001b[0;34m(\u001b[0m\u001b[0mMultiple\u001b[0m\u001b[0;34m)\u001b[0m\u001b[0;34m\u001b[0m\u001b[0m\n",
      "\u001b[0;31mNameError\u001b[0m: name 'Multiple' is not defined"
     ]
    }
   ],
   "source": [
    "Multiple.legend.thickness = .15 # 15% of available space\n",
    "plot_all(Multiple)"
   ]
  },
  {
   "cell_type": "markdown",
   "metadata": {},
   "source": [
    "## Stretching the legend \n",
    "\n",
    "[Back to Top](#top)\n",
    "\n",
    "The amount of space to stretch the legend to is controleld via the `stretch` attribute"
   ]
  },
  {
   "cell_type": "code",
   "execution_count": 11,
   "metadata": {},
   "outputs": [
    {
     "ename": "NameError",
     "evalue": "name 'Multiple' is not defined",
     "output_type": "error",
     "traceback": [
      "\u001b[0;31m---------------------------------------------------------------------------\u001b[0m",
      "\u001b[0;31mNameError\u001b[0m                                 Traceback (most recent call last)",
      "\u001b[0;32m<ipython-input-11-0d2108a56668>\u001b[0m in \u001b[0;36m<module>\u001b[0;34m()\u001b[0m\n\u001b[0;32m----> 1\u001b[0;31m \u001b[0mMultiple\u001b[0m\u001b[0;34m.\u001b[0m\u001b[0mlegend\u001b[0m\u001b[0;34m.\u001b[0m\u001b[0mstretch\u001b[0m \u001b[0;34m=\u001b[0m \u001b[0;36m.55\u001b[0m \u001b[0;31m# 55% of available space\u001b[0m\u001b[0;34m\u001b[0m\u001b[0m\n\u001b[0m\u001b[1;32m      2\u001b[0m \u001b[0mplot_all\u001b[0m\u001b[0;34m(\u001b[0m\u001b[0mMultiple\u001b[0m\u001b[0;34m)\u001b[0m\u001b[0;34m\u001b[0m\u001b[0m\n",
      "\u001b[0;31mNameError\u001b[0m: name 'Multiple' is not defined"
     ]
    }
   ],
   "source": [
    "Multiple.legend.stretch = .55 # 55% of available space\n",
    "plot_all(Multiple)"
   ]
  },
  {
   "cell_type": "markdown",
   "metadata": {},
   "source": [
    "### Fonts\n",
    "\n",
    "[Back to Top](#top)\n",
    "\n",
    "Sometimes if you have too many plots the font scaling can get too drastic and you end up not seeing anything, so by default the fonts will not be scaled less than 80%, but you can limit the font scaling at the `get` time via the `fontlimit` argument"
   ]
  },
  {
   "cell_type": "code",
   "execution_count": 12,
   "metadata": {},
   "outputs": [
    {
     "ename": "NameError",
     "evalue": "name 'canvas' is not defined",
     "output_type": "error",
     "traceback": [
      "\u001b[0;31m---------------------------------------------------------------------------\u001b[0m",
      "\u001b[0;31mNameError\u001b[0m                                 Traceback (most recent call last)",
      "\u001b[0;32m<ipython-input-12-2c8bfc2b1a71>\u001b[0m in \u001b[0;36m<module>\u001b[0;34m()\u001b[0m\n\u001b[0;32m----> 1\u001b[0;31m \u001b[0mcanvas\u001b[0m\u001b[0;34m.\u001b[0m\u001b[0mclear\u001b[0m\u001b[0;34m(\u001b[0m\u001b[0;34m)\u001b[0m\u001b[0;34m\u001b[0m\u001b[0m\n\u001b[0m\u001b[1;32m      2\u001b[0m \u001b[0mMultiple\u001b[0m \u001b[0;34m=\u001b[0m \u001b[0mEzTemplate\u001b[0m\u001b[0;34m.\u001b[0m\u001b[0mMulti\u001b[0m\u001b[0;34m(\u001b[0m\u001b[0mrows\u001b[0m\u001b[0;34m=\u001b[0m\u001b[0;36m5\u001b[0m\u001b[0;34m,\u001b[0m \u001b[0mcolumns\u001b[0m\u001b[0;34m=\u001b[0m\u001b[0;36m5\u001b[0m\u001b[0;34m)\u001b[0m\u001b[0;34m\u001b[0m\u001b[0m\n\u001b[1;32m      3\u001b[0m \u001b[0;32mfor\u001b[0m \u001b[0mi\u001b[0m \u001b[0;32min\u001b[0m \u001b[0mrange\u001b[0m\u001b[0;34m(\u001b[0m\u001b[0mMultiple\u001b[0m\u001b[0;34m.\u001b[0m\u001b[0mrows\u001b[0m \u001b[0;34m*\u001b[0m \u001b[0mMultiple\u001b[0m\u001b[0;34m.\u001b[0m\u001b[0mcolumns\u001b[0m\u001b[0;34m)\u001b[0m\u001b[0;34m:\u001b[0m\u001b[0;34m\u001b[0m\u001b[0m\n\u001b[1;32m      4\u001b[0m     \u001b[0mtemplate\u001b[0m \u001b[0;34m=\u001b[0m \u001b[0mMultiple\u001b[0m\u001b[0;34m.\u001b[0m\u001b[0mget\u001b[0m\u001b[0;34m(\u001b[0m\u001b[0mcolumn\u001b[0m \u001b[0;34m=\u001b[0m \u001b[0mi\u001b[0m \u001b[0;34m%\u001b[0m \u001b[0mMultiple\u001b[0m\u001b[0;34m.\u001b[0m\u001b[0mcolumns\u001b[0m\u001b[0;34m,\u001b[0m \u001b[0mrow\u001b[0m \u001b[0;34m=\u001b[0m \u001b[0mi\u001b[0m \u001b[0;34m//\u001b[0m \u001b[0mMultiple\u001b[0m\u001b[0;34m.\u001b[0m\u001b[0mcolumns\u001b[0m\u001b[0;34m,\u001b[0m \u001b[0mfontlimit\u001b[0m\u001b[0;34m=\u001b[0m\u001b[0;36m.1\u001b[0m\u001b[0;34m)\u001b[0m  \u001b[0;31m# This is vcs template object you could further edit\u001b[0m\u001b[0;34m\u001b[0m\u001b[0m\n\u001b[1;32m      5\u001b[0m     \u001b[0mdisplay\u001b[0m \u001b[0;34m=\u001b[0m \u001b[0mcanvas\u001b[0m\u001b[0;34m.\u001b[0m\u001b[0mplot\u001b[0m\u001b[0;34m(\u001b[0m\u001b[0mclt\u001b[0m\u001b[0;34m[\u001b[0m\u001b[0mi\u001b[0m\u001b[0;34m*\u001b[0m\u001b[0;36m2\u001b[0m\u001b[0;34m]\u001b[0m\u001b[0;34m,\u001b[0m \u001b[0mtemplate\u001b[0m\u001b[0;34m,\u001b[0m \u001b[0mgm\u001b[0m\u001b[0;34m)\u001b[0m\u001b[0;34m\u001b[0m\u001b[0m\n",
      "\u001b[0;31mNameError\u001b[0m: name 'canvas' is not defined"
     ]
    }
   ],
   "source": [
    "canvas.clear()\n",
    "Multiple = EzTemplate.Multi(rows=5, columns=5)\n",
    "for i in range(Multiple.rows * Multiple.columns):\n",
    "    template = Multiple.get(column = i % Multiple.columns, row = i // Multiple.columns, fontlimit=.1)  # This is vcs template object you could further edit\n",
    "    display = canvas.plot(clt[i*2], template, gm)\n",
    "canvas.plot(box)"
   ]
  }
 ],
 "metadata": {
  "kernelspec": {
   "display_name": "Python 2",
   "language": "python",
   "name": "python2"
  },
  "language_info": {
   "codemirror_mode": {
    "name": "ipython",
    "version": 2
   },
   "file_extension": ".py",
   "mimetype": "text/x-python",
   "name": "python",
   "nbconvert_exporter": "python",
   "pygments_lexer": "ipython2",
   "version": "2.7.15"
  },
  "toc": {
   "base_numbering": 1,
   "nav_menu": {},
   "number_sections": false,
   "sideBar": true,
   "skip_h1_title": false,
   "title_cell": "Table of Contents",
   "title_sidebar": "Contents",
   "toc_cell": true,
   "toc_position": {},
   "toc_section_display": true,
   "toc_window_display": false
  }
 },
 "nbformat": 4,
 "nbformat_minor": 2
}
