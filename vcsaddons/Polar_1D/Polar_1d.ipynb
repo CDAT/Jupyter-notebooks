{
 "cells": [
  {
   "cell_type": "markdown",
   "metadata": {},
   "source": [
    "# Polar 1D<a id='top' class=\"tocSkip\"> </a>\n",
    "\n",
    "This notebook shows the different options available for polar 1-d plots.\n",
    "\n",
    "[Download this Jupyter Notebook](Polar_1d.ipynb)"
   ]
  },
  {
   "cell_type": "markdown",
   "metadata": {
    "toc": true
   },
   "source": [
    "<h1>Table of Contents<span class=\"tocSkip\"></span></h1>\n",
    "<div class=\"toc\"><ul class=\"toc-item\"><li><span><a href=\"#Plotting-Data\" data-toc-modified-id=\"Plotting-Data-1\">Plotting Data</a></span><ul class=\"toc-item\"><li><span><a href=\"#datawc_x1-and-datawc_x2\" data-toc-modified-id=\"datawc_x1-and-datawc_x2-1.1\"><code>datawc_x1</code> and <code>datawc_x2</code></a></span></li><li><span><a href=\"#datawc_y1-and-datawc_y2\" data-toc-modified-id=\"datawc_y1-and-datawc_y2-1.2\"><code>datawc_y1</code> and <code>datawc_y2</code></a></span></li><li><span><a href=\"#clockwise\" data-toc-modified-id=\"clockwise-1.3\"><code>clockwise</code></a></span></li><li><span><a href=\"#colormap\" data-toc-modified-id=\"colormap-1.4\"><code>colormap</code></a></span></li><li><span><a href=\"#draw_lines\" data-toc-modified-id=\"draw_lines-1.5\"><code>draw_lines</code></a></span></li><li><span><a href=\"#connect_groups,-group_names\" data-toc-modified-id=\"connect_groups,-group_names-1.6\"><code>connect_groups</code>, <code>group_names</code></a></span></li></ul></li><li><span><a href=\"#Other-Line-Attributes\" data-toc-modified-id=\"Other-Line-Attributes-2\">Other Line Attributes</a></span><ul class=\"toc-item\"><li><span><a href=\"#Magnitude-Attributes\" data-toc-modified-id=\"Magnitude-Attributes-2.1\">Magnitude Attributes</a></span></li><li><span><a href=\"#magnitude_mintics\" data-toc-modified-id=\"magnitude_mintics-2.2\"><code>magnitude_mintics</code></a></span></li><li><span><a href=\"#magnitude_tick_angle\" data-toc-modified-id=\"magnitude_tick_angle-2.3\"><code>magnitude_tick_angle</code></a></span></li><li><span><a href=\"#magnitude_ticks\" data-toc-modified-id=\"magnitude_ticks-2.4\"><code>magnitude_ticks</code></a></span></li><li><span><a href=\"#markerpriority\" data-toc-modified-id=\"markerpriority-2.5\"><code>markerpriority</code></a></span></li><li><span><a href=\"#markers\" data-toc-modified-id=\"markers-2.6\"><code>markers</code></a></span></li><li><span><a href=\"#markersizes\" data-toc-modified-id=\"markersizes-2.7\"><code>markersizes</code></a></span></li><li><span><a href=\"#theta_offset\" data-toc-modified-id=\"theta_offset-2.8\"><code>theta_offset</code></a></span></li><li><span><a href=\"#theta_tick_count\" data-toc-modified-id=\"theta_tick_count-2.9\"><code>theta_tick_count</code></a></span></li></ul></li></ul></div>"
   ]
  },
  {
   "cell_type": "code",
   "execution_count": null,
   "metadata": {},
   "outputs": [],
   "source": [
    "import vcs, cdms2, vcsaddons # Standard imports"
   ]
  },
  {
   "cell_type": "code",
   "execution_count": null,
   "metadata": {},
   "outputs": [],
   "source": [
    "import os # Pick up the sample data\n",
    "if not os.path.exists(vcs.sample_data):\n",
    "    vcs.download_sample_data_files()"
   ]
  },
  {
   "cell_type": "code",
   "execution_count": null,
   "metadata": {},
   "outputs": [],
   "source": [
    "# Load a 3-hourly variable\n",
    "f2 = cdms2.open(os.path.join(vcs.sample_data, \"thermo.nc\"))\n",
    "# We need it to be one dimension (time)\n",
    "t = f2(\"t\", level=993.0, squeeze=True)\n",
    "f2.close()"
   ]
  },
  {
   "cell_type": "code",
   "execution_count": null,
   "metadata": {},
   "outputs": [],
   "source": [
    "import cdtime\n",
    "# Extract the time of day for each value in the time axis of t\n",
    "# so we can plot the diurnal cycle\n",
    "time_t = []\n",
    "time_axis = t.getTime()\n",
    "for time in time_axis:\n",
    "    tval = cdtime.reltime(time, time_axis.units)\n",
    "    time_t.append(tval.tocomponent().hour)"
   ]
  },
  {
   "cell_type": "markdown",
   "metadata": {},
   "source": [
    "# Plotting Data\n",
    "\n",
    "\n",
    "[Back to Top](#top)\n",
    "\n",
    "There are seven preconfigured polar one-d plots provided with VCSAddons:\n",
    "  \n",
    "  - `default`: Plots magnitudes against angles in radians.\n",
    "  - `degrees`: Uses degrees instead of radians.\n",
    "  - `diurnal`: Uses hours of the day instead of radians.\n",
    "  - `diurnal_12_hour`: Uses hours of the day and AM/PM labels\n",
    "  - `semidiurnal`: Clock-face plot\n",
    "  - `annual_cycle`: Plots data based on month\n",
    "  - `seasonal`: Same as `annual_cycle` but just shows seasons.\n",
    "\n",
    "We're going to make a diurnal plot using the `t` variable from above."
   ]
  },
  {
   "cell_type": "code",
   "execution_count": null,
   "metadata": {},
   "outputs": [],
   "source": [
    "# This code is just here to make the image show up. The plot should work fine on your computer.\n",
    "def display(x):\n",
    "    from IPython.display import Image\n",
    "    x.open()\n",
    "    x.png(\"/tmp/out.png\")\n",
    "    return Image(filename=\"/tmp/out.png\")\n"
   ]
  },
  {
   "cell_type": "code",
   "execution_count": null,
   "metadata": {},
   "outputs": [],
   "source": [
    "polar = vcsaddons.getpolar(\"diurnal\")\n",
    "display(polar.plot(t, time_t))"
   ]
  },
  {
   "cell_type": "markdown",
   "metadata": {},
   "source": [
    "As you can see, that's a little tough to parse, visually. Let's dive into some of the attributes you can tweak to improve this visualization.\n",
    "\n",
    "## `datawc_x1` and `datawc_x2`\n",
    "\n",
    "[Back to Top](#top)\n",
    "\n",
    "These control the period of the circle. By default, they use radians and 2pi. The `diurnal` graphics method sets them to 0 and 24 (handles the wrap around correctly).\n",
    "\n",
    "\n",
    "## `datawc_y1` and `datawc_y2`\n",
    "\n",
    "[Back to Top](#top)\n",
    "\n",
    "These control the minimum and maximum magnitude of the circle, respectively. By default, it just uses the minimum and maximum values of your data. If you wanted to start at 0 instead of the minimum, you would just set `polar.datawc_y1 = 0`. Here, we'll set it to 0&deg;C and set the maximum up to 320."
   ]
  },
  {
   "cell_type": "code",
   "execution_count": null,
   "metadata": {},
   "outputs": [],
   "source": [
    "polar.datawc_y1 = 273\n",
    "polar.datawc_y2 = 320\n",
    "polar.x.clear() # Clear out the previous plot\n",
    "display(polar.plot(t, time_t))"
   ]
  },
  {
   "cell_type": "markdown",
   "metadata": {},
   "source": [
    "## `clockwise`\n",
    "\n",
    "[Back to Top](#top)\n",
    "\n",
    "This attribute controls which direction the period increases in (clockwise or counter clockwise). Radians & degrees increase counterclockwise, but time goes clockwise, so you can handle either spin direction.\n",
    "\n",
    "## `colormap`\n",
    "\n",
    "[Back to Top](#top)\n",
    "\n",
    "This lets you set which colormap to use for the plot.\n",
    "\n",
    "## `draw_lines`\n",
    "\n",
    "[Back to Top](#top)\n",
    "\n",
    "\n",
    "Setting this attribute to `True` will draw a line from point to point in your plot.\n"
   ]
  },
  {
   "cell_type": "code",
   "execution_count": null,
   "metadata": {},
   "outputs": [],
   "source": [
    "#polar.draw_lines = True\n",
    "polar.x.clear()\n",
    "display(polar.plot(t, time_t))"
   ]
  },
  {
   "cell_type": "markdown",
   "metadata": {},
   "source": [
    "## `connect_groups`, `group_names`\n",
    "\n",
    "[Back to Top](#top)\n",
    "\n",
    "\n",
    "If you want to display multiple arrays in the same plot, you can reformat your data to \"group\" relevant pieces. Doing so gives you access to a few more options, like drawing lines between groups or having a different marker color for each group."
   ]
  },
  {
   "cell_type": "code",
   "execution_count": null,
   "metadata": {},
   "outputs": [],
   "source": [
    "days = [t[i * 8:(i+1)*8] for i in range(3)] # We'll extract 3 days worth of data from t\n",
    "days_time = [time_t[i*8:(i+1) * 8] for i in range(3)]\n",
    "polar.group_names = [\"Day 1\", \"Day 2\", \"Day 3\"]\n",
    "polar.x.clear()\n",
    "display(polar.plot(days, days_time))"
   ]
  },
  {
   "cell_type": "markdown",
   "metadata": {},
   "source": [
    "As you can see, the lines break off at the day boundary (since the data only goes up to that point for each group).\n",
    "\n",
    "We can then use `markercolors` to set the colors for each group:"
   ]
  },
  {
   "cell_type": "code",
   "execution_count": null,
   "metadata": {},
   "outputs": [],
   "source": [
    "polar.markercolors = [0, 100, 180]\n",
    "polar.x.clear()\n",
    "display(polar.plot(days, days_time))"
   ]
  },
  {
   "cell_type": "markdown",
   "metadata": {},
   "source": [
    "If `connect_groups` is `True`, the line will just be a single color; let's use `linecolors` to choose what color that should be."
   ]
  },
  {
   "cell_type": "code",
   "execution_count": null,
   "metadata": {},
   "outputs": [],
   "source": [
    "polar.connect_groups = True\n",
    "polar.linecolors = [(50, 50, 50)]\n",
    "polar.x.clear()\n",
    "display(polar.plot(days, days_time))"
   ]
  },
  {
   "cell_type": "markdown",
   "metadata": {},
   "source": [
    "# Other Line Attributes\n",
    "\n",
    "[Back to Top](#top)\n",
    "\n",
    "\n",
    "- `line`: The type of line to use (solid, dash, dot, etc)\n",
    "- `linewidths`: The width of line to use\n",
    "- `linepriority`: What z-index to draw the lines at\n",
    "\n",
    "## Magnitude Attributes\n",
    "\n",
    "[Back to Top](#top)\n",
    "\n",
    "\n",
    "## `magnitude_mintics`\n",
    "\n",
    "[Back to Top](#top)\n",
    "\n",
    "\n",
    "These add additional layers to the plot of unlabeled tickmarks."
   ]
  },
  {
   "cell_type": "code",
   "execution_count": null,
   "metadata": {},
   "outputs": [],
   "source": [
    "polar.magnitude_mintics = [302]\n",
    "# You also need to enable the ymintic1 element in the template\n",
    "polar.template.ymintic1.priority = 1\n",
    "polar.x.clear()\n",
    "display(polar.plot(days, days_time))"
   ]
  },
  {
   "cell_type": "markdown",
   "metadata": {},
   "source": [
    "## `magnitude_tick_angle`\n",
    "\n",
    "[Back to Top](#top)\n",
    "\n",
    "\n",
    "The angle at which the magnitude labels will be drawn. Provided in radians, not the units of the plot (sorry!)."
   ]
  },
  {
   "cell_type": "code",
   "execution_count": null,
   "metadata": {},
   "outputs": [],
   "source": [
    "polar.magnitude_tick_angle = 3.1415 / 8\n",
    "polar.x.clear()\n",
    "display(polar.plot(days, days_time))"
   ]
  },
  {
   "cell_type": "markdown",
   "metadata": {},
   "source": [
    "## `magnitude_ticks`\n",
    "\n",
    "[Back to Top](#top)\n",
    "\n",
    "\n",
    "Where to draw the magnitude tickmarks. Only works if `datawc_y1` and `datawc_y2` are both `1e20`."
   ]
  },
  {
   "cell_type": "code",
   "execution_count": null,
   "metadata": {},
   "outputs": [],
   "source": [
    "polar.datawc_y1 = 1e20\n",
    "polar.datawc_y2 = 1e20\n",
    "polar.magnitude_ticks = [276, 284, 292, 300, 308, 316]\n",
    "polar.x.clear()\n",
    "display(polar.plot(days, days_time))"
   ]
  },
  {
   "cell_type": "markdown",
   "metadata": {},
   "source": [
    "## `markerpriority`\n",
    "\n",
    "[Back to Top](#top)\n",
    "\n",
    "\n",
    "What z-index to draw the markers at.\n",
    "\n",
    "## `markers`\n",
    "\n",
    "[Back to Top](#top)\n",
    "\n",
    "\n",
    "What shape of marker to use.\n",
    "\n",
    "## `markersizes`\n",
    "\n",
    "[Back to Top](#top)\n",
    "\n",
    "\n",
    "What size of marker to draw.\n",
    "\n",
    "## `theta_offset`\n",
    "\n",
    "[Back to Top](#top)\n",
    "\n",
    "\n",
    "Controls where the minimum angle will be (given in units, so this one uses -6 (to rotate midnight 25% of the way (the top) up the circle rather than the right side of the circle)\n",
    "\n",
    "## `theta_tick_count`\n",
    "\n",
    "[Back to Top](#top)\n",
    "\n",
    "\n",
    "How far to space the ticks from eachother."
   ]
  },
  {
   "cell_type": "markdown",
   "metadata": {},
   "source": [
    "--------------\n",
    "\n",
    "The CDAT software was developed by LLNL. This tutorial was written by Charles Doutriaux. This work was performed under the auspices of the U.S. Department of Energy by Lawrence Livermore National Laboratory under Contract DE-AC52-07NA27344."
   ]
  }
 ],
 "metadata": {
  "kernelspec": {
   "display_name": "Python [conda env:cdat81-mesa] *",
   "language": "python",
   "name": "conda-env-cdat81-mesa-py"
  },
  "language_info": {
   "codemirror_mode": {
    "name": "ipython",
    "version": 3
   },
   "file_extension": ".py",
   "mimetype": "text/x-python",
   "name": "python",
   "nbconvert_exporter": "python",
   "pygments_lexer": "ipython3",
   "version": "3.6.7"
  },
  "toc": {
   "base_numbering": 1,
   "nav_menu": {},
   "number_sections": false,
   "sideBar": true,
   "skip_h1_title": false,
   "title_cell": "Table of Contents",
   "title_sidebar": "Contents",
   "toc_cell": true,
   "toc_position": {},
   "toc_section_display": true,
   "toc_window_display": false
  }
 },
 "nbformat": 4,
 "nbformat_minor": 2
}
