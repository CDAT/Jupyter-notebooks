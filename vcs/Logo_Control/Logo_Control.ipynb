{
 "cells": [
  {
   "cell_type": "markdown",
   "metadata": {},
   "source": [
    "# Logo Control on the VCS Canvas<a id='top' class=\"tocSkip\"> </a>\n",
    "\n",
    "\n",
    "If desired, the default CDAT logo, located at the bottom right of a plot, can be turned off. \n",
    "\n",
    "An additional logo can also be displayed.\n",
    "\n",
    "\n",
    "To [download this Jupyter Notebook](Logo_Control.ipynb), right click on the link and choose \"Download Linked File As...\" or \"Save Link as...\". Remember where you saved the downloaded file, which should have an .ipynb extension. (You'll need to launch the Jupyter notebook or JupyterLab instance from the location where you store the notebook file.)"
   ]
  },
  {
   "cell_type": "markdown",
   "metadata": {
    "toc": true
   },
   "source": [
    "<h1>Table of Contents<span class=\"tocSkip\"></span></h1>\n",
    "<div class=\"toc\"><ul class=\"toc-item\"><li><span><a href=\"#Prepare-a-Sample-Plot\" data-toc-modified-id=\"Prepare-a-Sample-Plot-1\">Prepare a Sample Plot</a></span></li><li><span><a href=\"#Turn-OFF-the-Default-CDAT-Logo\" data-toc-modified-id=\"Turn-OFF-the-Default-CDAT-Logo-2\">Turn OFF the Default CDAT Logo</a></span></li><li><span><a href=\"#Turn-ON-the-Default-CDAT-Logo\" data-toc-modified-id=\"Turn-ON-the-Default-CDAT-Logo-3\">Turn ON the Default CDAT Logo</a></span></li><li><span><a href=\"#Insert-an-Additional-Logo\" data-toc-modified-id=\"Insert-an-Additional-Logo-4\">Insert an Additional Logo</a></span></li><li><span><a href=\"#Control-Logo-Location\" data-toc-modified-id=\"Control-Logo-Location-5\">Control Logo Location</a></span></li><li><span><a href=\"#Control-Logo-Size\" data-toc-modified-id=\"Control-Logo-Size-6\">Control Logo Size</a></span></li><li><span><a href=\"#Hide-Unwanted-Information-Above-the-Plot\" data-toc-modified-id=\"Hide-Unwanted-Information-Above-the-Plot-7\">Hide Unwanted Information Above the Plot</a></span><ul class=\"toc-item\"><li><span><a href=\"#Additional-Template-Controls\" data-toc-modified-id=\"Additional-Template-Controls-7.1\">Additional Template Controls</a></span></li></ul></li></ul></div>"
   ]
  },
  {
   "cell_type": "markdown",
   "metadata": {},
   "source": [
    "# Prepare a Sample Plot\n",
    "[Back to Top](#top)\n",
    "\n",
    "Let's prepare a sample VCS plot to test the logo control. The VCS canvas is designated as `x` in this notebook."
   ]
  },
  {
   "cell_type": "code",
   "execution_count": null,
   "metadata": {},
   "outputs": [],
   "source": [
    "# Sample data\n",
    "import requests\n",
    "r = requests.get(\"https://cdat.llnl.gov/cdat/sample_data/clt.nc\",stream=True)\n",
    "with open(\"clt.nc\",\"wb\") as f:\n",
    "    for chunk in r.iter_content(chunk_size=1024):\n",
    "        if chunk:  # filter local_filename keep-alive new chunks\n",
    "            f.write(chunk)"
   ]
  },
  {
   "cell_type": "code",
   "execution_count": null,
   "metadata": {},
   "outputs": [],
   "source": [
    "import cdms2, vcs\n",
    "f = cdms2.open('clt.nc')\n",
    "d = f('clt')\n",
    "x = vcs.init()\n",
    "x.plot(d)"
   ]
  },
  {
   "cell_type": "markdown",
   "metadata": {},
   "source": [
    "# Turn OFF the Default CDAT Logo\n",
    "[Back to Top](#top)\n",
    "\n",
    "To hide the default CDAT logo located at the bottom right use `.drawlogooff()`.\n",
    "\n",
    "Note: if runing the code in the cell below does not remove the logo, run the cell a second time."
   ]
  },
  {
   "cell_type": "code",
   "execution_count": null,
   "metadata": {},
   "outputs": [],
   "source": [
    "x.drawlogooff()\n",
    "x.clear()\n",
    "x.plot(d)"
   ]
  },
  {
   "cell_type": "markdown",
   "metadata": {},
   "source": [
    "# Turn ON the Default CDAT Logo\n",
    "[Back to Top](#top)\n",
    "\n",
    "You can bring back the default CDAT logo by using `.drawlogoon()`."
   ]
  },
  {
   "cell_type": "code",
   "execution_count": null,
   "metadata": {},
   "outputs": [],
   "source": [
    "x.drawlogoon()\n",
    "x.clear()\n",
    "x.plot(d)"
   ]
  },
  {
   "cell_type": "markdown",
   "metadata": {},
   "source": [
    "# Insert an Additional Logo\n",
    "\n",
    "[Back to Top](#top)\n",
    "\n",
    "\n",
    "Place the image file for the logo you want to add to the plot in the same directory as this notebook. In this example, we use an LLNL logo file called \"logo.png\" which can be downloaded from this notebook's GitHub repository: https://github.com/CDAT/Jupyter-notebooks/tree/master/vcs/Logo_Control.\n",
    "\n",
    "The `vcs.utils.Logo()` method allows you to plot the additional logo. \n",
    "\n",
    "The default location of the new logo is at the top right."
   ]
  },
  {
   "cell_type": "code",
   "execution_count": null,
   "metadata": {},
   "outputs": [],
   "source": [
    "x.clear()\n",
    "logo2 = vcs.utils.Logo('./logo.png')\n",
    "logo2.plot(x)\n",
    "x.plot(d)"
   ]
  },
  {
   "cell_type": "markdown",
   "metadata": {},
   "source": [
    "# Control Logo Location\n",
    "[Back to Top](#top)\n",
    "\n",
    "You can adjust the position of the logo by using the `.x` and `.y` methods.\n",
    "\n",
    "The value of `.x` and `.y` should be between 0 and 1 since they represent a ratio of the relative position on the canvas. (`logo2.x = 0.5` would be 50% of the way across the canvas in the x direction.)"
   ]
  },
  {
   "cell_type": "code",
   "execution_count": null,
   "metadata": {},
   "outputs": [],
   "source": [
    "x.clear()\n",
    "logo2 = vcs.utils.Logo('./logo.png')\n",
    "logo2.x = .05\n",
    "logo2.y = .05\n",
    "logo2.plot(x)\n",
    "x.plot(d)"
   ]
  },
  {
   "cell_type": "markdown",
   "metadata": {},
   "source": [
    "# Control Logo Size\n",
    "\n",
    "[Back to Top](#top)\n",
    "\n",
    "You can adjust size of the logo by using `.source_width` and `.source_height`. \n",
    "\n",
    "The example below increases the logo size to 3 times its original size.\n"
   ]
  },
  {
   "cell_type": "code",
   "execution_count": null,
   "metadata": {},
   "outputs": [],
   "source": [
    "x.clear()\n",
    "logo2 = vcs.utils.Logo('./logo.png')\n",
    "logo2.x = .05\n",
    "logo2.y = .05\n",
    "logo2.width = logo2.source_width * 3\n",
    "logo2.height = logo2.source_height * 3\n",
    "logo2.plot(x)\n",
    "x.plot(d)"
   ]
  },
  {
   "cell_type": "markdown",
   "metadata": {},
   "source": [
    "This next example reduces the logo size to half of its original size."
   ]
  },
  {
   "cell_type": "code",
   "execution_count": null,
   "metadata": {
    "scrolled": false
   },
   "outputs": [],
   "source": [
    "x.clear()\n",
    "logo2 = vcs.utils.Logo('./logo.png')\n",
    "logo2.x = .05\n",
    "logo2.y = .05\n",
    "logo2.width = logo2.source_width * .5\n",
    "logo2.height = logo2.source_height * .5\n",
    "logo2.plot(x)\n",
    "x.plot(d)"
   ]
  },
  {
   "cell_type": "markdown",
   "metadata": {},
   "source": [
    "# Hide Unwanted Information Above the Plot\n",
    "\n",
    "[Back to Top](#top)\n",
    "\n",
    "If your new logo conflicts with the information above the plot, you can hide unwanted items.\n",
    "\n",
    "The result of the first code block below shows the new logo overlapping some of the existing text."
   ]
  },
  {
   "cell_type": "code",
   "execution_count": null,
   "metadata": {},
   "outputs": [],
   "source": [
    "x.clear()\n",
    "logo2 = vcs.utils.Logo('./logo.png')\n",
    "logo2.x = .1\n",
    "logo2.y = .9\n",
    "logo2.plot(x)\n",
    "x.plot(d)"
   ]
  },
  {
   "cell_type": "markdown",
   "metadata": {},
   "source": [
    "The following code hides the text above the plot."
   ]
  },
  {
   "cell_type": "code",
   "execution_count": null,
   "metadata": {},
   "outputs": [],
   "source": [
    "my_template = vcs.createtemplate()\n",
    "# Turn off unnecessary information to prevent overlap\n",
    "my_template.blank(['title','dataname','crdate','crtime','mean','min','max',\n",
    "           'units','zvalue','tvalue','xunits','yunits','xname','yname'])\n",
    "x.clear()\n",
    "logo2.plot(x)\n",
    "x.plot(d,my_template)"
   ]
  },
  {
   "cell_type": "markdown",
   "metadata": {},
   "source": [
    "Please see the image below to identify the text elements you would like to hide.\n",
    "\n",
    "![controllable_parameters](https://user-images.githubusercontent.com/2781425/29979739-8f2acb66-8efb-11e7-8d34-0cb769194dfc.jpg)"
   ]
  },
  {
   "cell_type": "markdown",
   "metadata": {},
   "source": [
    "## Additional Template Controls\n",
    "\n",
    "For more information on additional VCS template controls, please see the [VCS Templates Notebook](https://cdat.llnl.gov/Jupyter-notebooks/vcs/VCS_Templates/VCS_Templates.html).\n"
   ]
  },
  {
   "cell_type": "markdown",
   "metadata": {},
   "source": [
    "The CDAT software was developed by LLNL. This tutorial was written by Charles Doutriaux and Jiwoo Lee (Sep 2017) and updated by Holly Davis (Jan 2020). This work was performed under the auspices of the U.S. Department of Energy by Lawrence Livermore National Laboratory under Contract DE-AC52-07NA27344.\n",
    "\n",
    "If you have questions about this notebook, please email our [CDAT Support](cdat-support@llnl.gov) address, cdat-support@llnl.gov."
   ]
  }
 ],
 "metadata": {
  "kernelspec": {
   "display_name": "Python 3",
   "language": "python",
   "name": "python3"
  },
  "language_info": {
   "codemirror_mode": {
    "name": "ipython",
    "version": 3
   },
   "file_extension": ".py",
   "mimetype": "text/x-python",
   "name": "python",
   "nbconvert_exporter": "python",
   "pygments_lexer": "ipython3",
   "version": "3.6.7"
  },
  "toc": {
   "base_numbering": 1,
   "nav_menu": {},
   "number_sections": false,
   "sideBar": true,
   "skip_h1_title": false,
   "title_cell": "Table of Contents",
   "title_sidebar": "Contents",
   "toc_cell": true,
   "toc_position": {},
   "toc_section_display": true,
   "toc_window_display": false
  }
 },
 "nbformat": 4,
 "nbformat_minor": 2
}
