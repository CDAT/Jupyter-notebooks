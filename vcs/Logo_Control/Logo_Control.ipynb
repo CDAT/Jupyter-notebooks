{
 "cells": [
  {
   "cell_type": "markdown",
   "metadata": {},
   "source": [
    "# Logo control on VCS canvas<a id='top' class=\"tocSkip\"> </a>\n",
    "\n",
    "\n",
    "You can trun on/off showing the default UV-CDAT logo, which is originally located at bottom right. You can add additional logo.\n",
    "\n",
    "© The CDAT software was developed by LLNL. This tutorial was written by Charles Doutriaux and Jiwoo Lee (Sep 2017). This work was performed under the auspices of the U.S. Department of Energy by Lawrence Livermore National Laboratory under Contract DE-AC52-07NA27344.\n",
    "\n",
    "[Download the Jupyter Notebook](Logo_Control.ipynb)"
   ]
  },
  {
   "cell_type": "markdown",
   "metadata": {
    "toc": true
   },
   "source": [
    "<h1>Table of Contents<span class=\"tocSkip\"></span></h1>\n",
    "<div class=\"toc\"><ul class=\"toc-item\"><li><span><a href=\"#Prepare-a-sample-plot\" data-toc-modified-id=\"Prepare-a-sample-plot-1\">Prepare a sample plot</a></span></li><li><span><a href=\"#Trun-OFF-the-default-UV-CDAT-logo\" data-toc-modified-id=\"Trun-OFF-the-default-UV-CDAT-logo-2\">Trun OFF the default UV-CDAT logo</a></span></li><li><span><a href=\"#Turn-ON-the-default-UV-CDAT-logo\" data-toc-modified-id=\"Turn-ON-the-default-UV-CDAT-logo-3\">Turn ON the default UV-CDAT logo</a></span></li><li><span><a href=\"#Insert-additional-logo<\" data-toc-modified-id=\"Insert-additional-logo<-4\">Insert additional logo&lt;</a></span></li><li><span><a href=\"#Control-logo-location\" data-toc-modified-id=\"Control-logo-location-5\">Control logo location</a></span></li><li><span><a href=\"#Control-logo-size\" data-toc-modified-id=\"Control-logo-size-6\">Control logo size</a></span></li><li><span><a href=\"#Hide-unwanted-information-above-the-plot\" data-toc-modified-id=\"Hide-unwanted-information-above-the-plot-7\">Hide unwanted information above the plot</a></span></li></ul></div>"
   ]
  },
  {
   "cell_type": "markdown",
   "metadata": {},
   "source": [
    "# Prepare a sample plot\n",
    "[Back to Top](#top)\n",
    "\n",
    "Let's prepare a sample VCS plot to test logo control. "
   ]
  },
  {
   "cell_type": "code",
   "execution_count": null,
   "metadata": {},
   "outputs": [],
   "source": [
    "# Sample data\n",
    "import requests\n",
    "r = requests.get(\"https://cdat.llnl.gov/cdat/sample_data/clt.nc\",stream=True)\n",
    "with open(\"clt.nc\",\"wb\") as f:\n",
    "    for chunk in r.iter_content(chunk_size=1024):\n",
    "        if chunk:  # filter local_filename keep-alive new chunks\n",
    "            f.write(chunk)"
   ]
  },
  {
   "cell_type": "code",
   "execution_count": null,
   "metadata": {},
   "outputs": [],
   "source": [
    "import cdms2, vcs\n",
    "f = cdms2.open('clt.nc')\n",
    "d = f('clt')\n",
    "x = vcs.init()\n",
    "x.plot(d)"
   ]
  },
  {
   "cell_type": "markdown",
   "metadata": {},
   "source": [
    "# Trun OFF the default UV-CDAT logo\n",
    "[Back to Top](#top)\n",
    "- You can hide the default UV-CDAT logo, which is originally located at bottom right.\n",
    "- Use \"drawlogooff\""
   ]
  },
  {
   "cell_type": "code",
   "execution_count": null,
   "metadata": {},
   "outputs": [],
   "source": [
    "x.drawlogooff()\n",
    "x.clear()\n",
    "x.plot(d)"
   ]
  },
  {
   "cell_type": "markdown",
   "metadata": {},
   "source": [
    "# Turn ON the default UV-CDAT logo\n",
    "[Back to Top](#top)\n",
    "- You can bring back the default UV-CDAT logo, which is originally located at bottom right.\n",
    "- Use \"drawlogoon\""
   ]
  },
  {
   "cell_type": "code",
   "execution_count": null,
   "metadata": {},
   "outputs": [],
   "source": [
    "x.drawlogoon()\n",
    "x.clear()\n",
    "x.plot(d)"
   ]
  },
  {
   "cell_type": "markdown",
   "metadata": {},
   "source": [
    "# Insert additional logo<\n",
    "[Back to Top](#top)\n",
    "\n",
    "\n",
    "- Prepare image file of logo you want to add to your directory.\n",
    "- \"vcs.utils.Logo\" allows you to have additional logo.\n",
    "- Default location of new logo is top right."
   ]
  },
  {
   "cell_type": "code",
   "execution_count": null,
   "metadata": {},
   "outputs": [],
   "source": [
    "x.clear()\n",
    "logo2 = vcs.utils.Logo('./logo.png')\n",
    "logo2.plot(x)\n",
    "x.plot(d)"
   ]
  },
  {
   "cell_type": "markdown",
   "metadata": {},
   "source": [
    "# Control logo location\n",
    "[Back to Top](#top)\n",
    "- You can adjust position of the logo by using \".x\" and \".y\" \n",
    "- Given number should be in range of 0 to 1. It is ratio, relative position on canvas."
   ]
  },
  {
   "cell_type": "code",
   "execution_count": null,
   "metadata": {},
   "outputs": [],
   "source": [
    "x.clear()\n",
    "logo2 = vcs.utils.Logo('./logo.png')\n",
    "logo2.x = .05\n",
    "logo2.y = .05\n",
    "logo2.plot(x)\n",
    "x.plot(d)"
   ]
  },
  {
   "cell_type": "markdown",
   "metadata": {},
   "source": [
    "# Control logo size\n",
    "[Back to Top](#top)\n",
    "- You can adjust size of the logo by using \".source_width\" and \".source_height\" \n",
    "- Below example increases logo size by 3 times."
   ]
  },
  {
   "cell_type": "code",
   "execution_count": null,
   "metadata": {},
   "outputs": [],
   "source": [
    "x.clear()\n",
    "logo2 = vcs.utils.Logo('./logo.png')\n",
    "logo2.x = .05\n",
    "logo2.y = .05\n",
    "logo2.width = logo2.source_width * 3\n",
    "logo2.height = logo2.source_height * 3\n",
    "logo2.plot(x)\n",
    "x.plot(d)"
   ]
  },
  {
   "cell_type": "markdown",
   "metadata": {},
   "source": [
    "- Below example reduces logo size to half."
   ]
  },
  {
   "cell_type": "code",
   "execution_count": null,
   "metadata": {
    "scrolled": false
   },
   "outputs": [],
   "source": [
    "x.clear()\n",
    "logo2 = vcs.utils.Logo('./logo.png')\n",
    "logo2.x = .05\n",
    "logo2.y = .05\n",
    "logo2.width = logo2.source_width * .5\n",
    "logo2.height = logo2.source_height * .5\n",
    "logo2.plot(x)\n",
    "x.plot(d)"
   ]
  },
  {
   "cell_type": "markdown",
   "metadata": {},
   "source": [
    "# Hide unwanted information above the plot\n",
    "[Back to Top](#top)\n",
    "- If your new logo is conflict with text information above the plot, you can hide unwanted items.\n",
    "- Below, some of text are overlapped with the new logo."
   ]
  },
  {
   "cell_type": "code",
   "execution_count": null,
   "metadata": {},
   "outputs": [],
   "source": [
    "x.clear()\n",
    "logo2 = vcs.utils.Logo('./logo.png')\n",
    "logo2.x = .1\n",
    "logo2.y = .9\n",
    "logo2.plot(x)\n",
    "x.plot(d)"
   ]
  },
  {
   "cell_type": "markdown",
   "metadata": {},
   "source": [
    "- Let's hide those text above the plot."
   ]
  },
  {
   "cell_type": "code",
   "execution_count": null,
   "metadata": {},
   "outputs": [],
   "source": [
    "my_template = vcs.createtemplate()\n",
    "# Turn off no-needed information -- prevent overlap\n",
    "my_template.blank(['title','dataname','crdate','crtime','mean','min','max',\n",
    "           'units','zvalue','tvalue','xunits','yunits','xname','yname'])\n",
    "x.clear()\n",
    "logo2.plot(x)\n",
    "x.plot(d,my_template)"
   ]
  },
  {
   "cell_type": "markdown",
   "metadata": {},
   "source": [
    "- To identify text you want to hide, please see below.\n",
    "\n",
    "![controllable_parameters](https://user-images.githubusercontent.com/2781425/29979739-8f2acb66-8efb-11e7-8d34-0cb769194dfc.jpg)"
   ]
  }
 ],
 "metadata": {
  "kernelspec": {
   "display_name": "Python 2",
   "language": "python",
   "name": "python2"
  },
  "language_info": {
   "codemirror_mode": {
    "name": "ipython",
    "version": 2
   },
   "file_extension": ".py",
   "mimetype": "text/x-python",
   "name": "python",
   "nbconvert_exporter": "python",
   "pygments_lexer": "ipython2",
   "version": "2.7.15"
  },
  "toc": {
   "base_numbering": 1,
   "nav_menu": {},
   "number_sections": false,
   "sideBar": true,
   "skip_h1_title": false,
   "title_cell": "Table of Contents",
   "title_sidebar": "Contents",
   "toc_cell": true,
   "toc_position": {},
   "toc_section_display": true,
   "toc_window_display": false
  }
 },
 "nbformat": 4,
 "nbformat_minor": 2
}
