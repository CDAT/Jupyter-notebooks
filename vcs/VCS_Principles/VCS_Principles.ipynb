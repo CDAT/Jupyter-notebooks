{
 "cells": [
  {
   "cell_type": "markdown",
   "metadata": {},
   "source": [
    "# Visualization Control System Principles<a id='top' class=\"tocSkip\"> </a>\n",
    "\n",
    "VCS Allows scientists to produce highly customized plots. Everything can be precisely and logically controlled, without any guessing game\n",
    "\n",
    "\n",
    "\n",
    "© The CDAT software was developed by LLNL. This tutorial was written by Charles Doutriaux. This work was performed under the auspices of the U.S. Department of Energy by Lawrence Livermore National Laboratory under Contract DE-AC52-07NA27344.\n",
    "\n",
    "[Download the Jupyter Notebook](VCS_Principles.ipynb)"
   ]
  },
  {
   "cell_type": "markdown",
   "metadata": {
    "toc": true
   },
   "source": [
    "<h1>Table of Contents<span class=\"tocSkip\"></span></h1>\n",
    "<div class=\"toc\"><ul class=\"toc-item\"><li><span><a href=\"#Introduction\" data-toc-modified-id=\"Introduction-1\">Introduction<a href=\"intro\" target=\"_blank\"></a></a></span></li><li><span><a href=\"#What\" data-toc-modified-id=\"What-2\">What<a href=\"what\" target=\"_blank\"></a></a></span></li><li><span><a href=\"#How\" data-toc-modified-id=\"How-3\">How<a href=\"how\" target=\"_blank\"></a></a></span><ul class=\"toc-item\"><li><span><a href=\"#Boxfill\" data-toc-modified-id=\"Boxfill-3.1\">Boxfill<a href=\"box\" target=\"_blank\"></a></a></span></li><li><span><a href=\"#Isoline\" data-toc-modified-id=\"Isoline-3.2\">Isoline<a href=\"isol\" target=\"_blank\"></a></a></span></li><li><span><a href=\"#Isofill\" data-toc-modified-id=\"Isofill-3.3\">Isofill<a href=\"isof\" target=\"_blank\"></a></a></span></li><li><span><a href=\"#Meshfill\" data-toc-modified-id=\"Meshfill-3.4\">Meshfill<a href=\"mesh\" target=\"_blank\"></a></a></span></li><li><span><a href=\"#Streamlines\" data-toc-modified-id=\"Streamlines-3.5\">Streamlines<a href=\"stream\" target=\"_blank\"></a></a></span></li><li><span><a href=\"#Vector-Plots\" data-toc-modified-id=\"Vector-Plots-3.6\">Vector Plots</a></span></li><li><span><a href=\"#Line(1D)-Plots\" data-toc-modified-id=\"Line(1D)-Plots-3.7\">Line(1D) Plots<a href=\"1d\" target=\"_blank\"></a></a></span></li><li><span><a href=\"#Taylor-Diagrams\" data-toc-modified-id=\"Taylor-Diagrams-3.8\">Taylor Diagrams<a href=\"taylor\" target=\"_blank\"></a></a></span></li></ul></li><li><span><a href=\"#Where\" data-toc-modified-id=\"Where-4\">Where<a href=\"where\" target=\"_blank\"></a></a></span></li><li><span><a href=\"#Bringing-it-all-together\" data-toc-modified-id=\"Bringing-it-all-together-5\">Bringing it all together</a></span></li><li><span><a href=\"#Secondary--Objects\" data-toc-modified-id=\"Secondary--Objects-6\">Secondary  Objects<a id=\"secondary\"></a></a></span><ul class=\"toc-item\"><li><span><a href=\"#Positioning-Secondary-objects\" data-toc-modified-id=\"Positioning-Secondary-objects-6.1\">Positioning Secondary objects<a id=\"position\"></a></a></span></li><li><span><a href=\"#Text-Objects\" data-toc-modified-id=\"Text-Objects-6.2\">Text Objects<a id=\"text\"></a></a></span></li><li><span><a href=\"#Line/Polygon-Objects\" data-toc-modified-id=\"Line/Polygon-Objects-6.3\">Line/Polygon Objects<a id=\"line\"></a></a></span></li><li><span><a href=\"#Filled-Polygons-Objects\" data-toc-modified-id=\"Filled-Polygons-Objects-6.4\">Filled Polygons Objects<a id=\"fillarea\"></a></a></span></li><li><span><a href=\"#Marker-Objects\" data-toc-modified-id=\"Marker-Objects-6.5\">Marker Objects<a id=\"marker\"></a></a></span></li><li><span><a href=\"#Colormap-Objects\" data-toc-modified-id=\"Colormap-Objects-6.6\">Colormap Objects<a id=\"colormap\"></a></a></span></li><li><span><a href=\"#Projection-Objects\" data-toc-modified-id=\"Projection-Objects-6.7\">Projection Objects<a id=\"projection\"></a></a></span></li></ul></li></ul></div>"
   ]
  },
  {
   "cell_type": "code",
   "execution_count": null,
   "metadata": {},
   "outputs": [],
   "source": [
    "# VCS Objects definitions\n",
    "import vcs\n",
    "import cdms2\n",
    "import os\n",
    "vcs.download_sample_data_files()\n",
    "with cdms2.open(os.path.join(vcs.sample_data,\"clt.nc\")) as f:\n",
    "    clt = f(\"clt\")\n",
    "    u = f(\"u\")\n",
    "    v = f(\"v\")\n",
    "with cdms2.open(os.path.join(vcs.sample_data,\"sampleCurveGrid4.nc\")) as f:\n",
    "    curv = f(\"sample\")\n",
    "with cdms2.open(os.path.join(vcs.sample_data,\"sampleGenGrid3.nc\")) as f:\n",
    "    gen = f(\"sample\")\n",
    "\n",
    "x = vcs.init(geometry=(600,400),bg=True)\n",
    "\n",
    "# Styling for notebook\n",
    "from IPython.core.display import HTML\n",
    "HTML(\"\"\"\n",
    "<style>\n",
    ".output_png {\n",
    "    display: table-cell;\n",
    "    text-align: center;\n",
    "    vertical-align: middle;\n",
    "}\n",
    "</style>\n",
    "\"\"\")"
   ]
  },
  {
   "cell_type": "markdown",
   "metadata": {},
   "source": [
    "## Introduction<a href=\"intro\"></a>\n",
    "\n",
    "VCS Allows scientists to produce highly customized plots. Everything can be precisely and logically controlled, without any *guessing* game\n",
    "\n",
    "Essentially a vcs plot can be broken down into three parts\n",
    "\n",
    "**WHAT** is plotted (e.g data and labels) **HOW** it is rendered (isolines, boxfill, isofill, vectors, etc...) and **WHERE** (location on the page each elements is to be plotted)\n",
    "\n",
    "## What<a href=\"what\"></a>\n",
    "\n",
    "This is the scientific piece of information that the user is trying to represent for others (or self) to understand. It can be as raw as a simple numpy object. But it is recommended to use [CDMS](https://github.com/uv-cdat/cdms)'s transient variables. CDNS transient variables contain metadata such as name, units, geospatial information, that can be used by VCS to represent data better.\n",
    "\n",
    "The [tutorials] section has many documents for CDMS. The CDMS documentation can be found [here](http://readthedocs.org/projects/cdms/)\n",
    "\n",
    "## How<a href=\"how\"></a>\n",
    "\n",
    "This describe the data representation, at the highest level it is a `graphics method` i.e *boxfill*, *isofill*, *vectors*, *streamlines*, *line plot*, etc... But it also contains information to further control these plot types, e.g which colors to use, which levels, lines thickness, etc... \n",
    "\n",
    "Graphic methods also describe how axes and labels show be represented (e.g which axes values to show and which text to use for it, the user might want to show the `-20.` longitude represented as `20S` or the date `2020-01-15` shown as `Jan 2020` \n",
    "\n",
    "Currently VCS supports the following graphic methods:\n",
    "\n",
    "### Boxfill<a href=\"box\"></a>\n",
    "\n",
    "Boxfill is used to represent 2 dimensional arrays, filling each array cell with a color representing its value. In the case of rectilinear grids (x and y axes can be representing by a 1 dimension array) represented via CDMS, we use the axes **bounds** to determine the extends of each cell. This is especially useful if an axis is not increasing constantly (e.g, gaussian grid, pressure levels)\n",
    "\n",
    "For more information on boxfill please see the [dedicated tutorial](https://cdat.llnl.gov/Jupyter/boxfill/boxfill.html)."
   ]
  },
  {
   "cell_type": "code",
   "execution_count": null,
   "metadata": {},
   "outputs": [],
   "source": [
    "gm = vcs.createboxfill()\n",
    "x.plot(clt, gm)"
   ]
  },
  {
   "cell_type": "markdown",
   "metadata": {},
   "source": [
    "### Isoline<a href=\"isol\"></a>\n",
    "\n",
    "Isoline is a line on a map, chart, or graph connecting points of equal value.\n",
    "\n",
    "For more information on isolines please see the [dedicated tutorial]()."
   ]
  },
  {
   "cell_type": "code",
   "execution_count": null,
   "metadata": {},
   "outputs": [],
   "source": [
    "gm = vcs.createisoline()\n",
    "x.clear()\n",
    "x.plot(clt,gm)"
   ]
  },
  {
   "cell_type": "markdown",
   "metadata": {},
   "source": [
    "### Isofill<a href=\"isof\"></a>\n",
    "\n",
    "Isofill is similar to isolines (and usually plotted in conjounction with it) except that the are between two consecutive isoline is filled with a color representing the range of values in this area.\n",
    "\n",
    "For more information on boxfill please see the [dedicated tutorial]()."
   ]
  },
  {
   "cell_type": "code",
   "execution_count": null,
   "metadata": {},
   "outputs": [],
   "source": [
    "x.clear()\n",
    "gm = vcs.createisofill()\n",
    "x.plot(clt,gm)"
   ]
  },
  {
   "cell_type": "markdown",
   "metadata": {},
   "source": [
    "### Meshfill<a href=\"mesh\"></a>\n",
    "\n",
    "Meshfill is very similar to boxfill, but is used to represent data on generic grids (a.k.a native representation). Based on the input data and a *mesh*\n",
    "\n",
    "For more information on meshfill please see the [dedicated tutorial]()."
   ]
  },
  {
   "cell_type": "code",
   "execution_count": null,
   "metadata": {},
   "outputs": [],
   "source": [
    "x.clear()\n",
    "gm = x.createmeshfill()\n",
    "gm.mesh = True\n",
    "x.plot(gen, gm)"
   ]
  },
  {
   "cell_type": "markdown",
   "metadata": {},
   "source": [
    "### Streamlines<a href=\"stream\"></a>\n",
    "\n",
    "For more information on streamlines please see the [dedicated tutorial](https://cdat.llnl.gov/Jupyter/streamlines/streamlines.html)."
   ]
  },
  {
   "cell_type": "code",
   "execution_count": null,
   "metadata": {},
   "outputs": [],
   "source": [
    "x.clear()\n",
    "gm = vcs.createstreamline()\n",
    "x.plot(u,v,gm)"
   ]
  },
  {
   "cell_type": "markdown",
   "metadata": {},
   "source": [
    "### Vector Plots\n",
    "\n",
    "Vector plot are a collection of arrows with a given magnitude and direction, each attached to a point in the plane.\n",
    "\n",
    "For more information on streamlines please see the [dedicated tutorial]()."
   ]
  },
  {
   "cell_type": "code",
   "execution_count": null,
   "metadata": {},
   "outputs": [],
   "source": [
    "x.clear()\n",
    "gm = vcs.createvector()\n",
    "x.plot(u,v, gm)"
   ]
  },
  {
   "cell_type": "markdown",
   "metadata": {},
   "source": [
    "### Line(1D) Plots<a href=\"1d\"></a>\n",
    "\n",
    "A graph that shows frequency of data along a number line.\n",
    "\n",
    "For more information on 1D please see the [dedicated tutorial](). \n",
    "\n",
    "Also of interest are the [EzPlot Addons](https://github.com/CDAT/vcsaddons/blob/master/EzPlot/Doc/Jupyter/EzPlot%20Spaghetti%20Example.ipynb). "
   ]
  },
  {
   "cell_type": "code",
   "execution_count": null,
   "metadata": {},
   "outputs": [],
   "source": [
    "x.clear()\n",
    "gm = vcs.create1d()\n",
    "x.plot(clt[:,34,23])  # extract time serie at one point and plot in 1D"
   ]
  },
  {
   "cell_type": "markdown",
   "metadata": {},
   "source": [
    "### Taylor Diagrams<a href=\"taylor\"></a>\n",
    "\n",
    "Taylor diagrams are mathematical diagrams designed to graphically indicate which of several approximate representations (or models) of a system, process, or phenomenon is most realistic. This diagram, invented by Karl E. Taylor in 1994 (published in 2001) facilitates the comparative assessment of different models. It is used to quantify the degree of correspondence between the modeled and observed behavior in terms of three statistics: the Pearson correlation coefficient, the root-mean-square error (RMSE) error, and the standard deviation. Taylor diagrams have widely been used to evaluate models designed to study climate and other aspects of Earth’s environment. [See [Wiki](https://en.wikipedia.org/wiki/Taylor_diagram#cite_note-8) and [Taylor (2001)](http://onlinelibrary.wiley.com/doi/10.1029/2000JD900719/abstract) for details]\n",
    "\n",
    "Reference: [Taylor, K. E. 2001: Summarizing multiple aspects of model performance in a single diagram. Journal of Geophysical Research, 106(D7): 7183-7192](http://onlinelibrary.wiley.com/doi/10.1029/2000JD900719/abstract)\n",
    "\n",
    "\n",
    "For more detailed information on Taylor Diagrams see this [dedicated tutorial](https://cdat.llnl.gov/Jupyter/Taylor_Diagrams/Taylor_Diagrams.html)."
   ]
  },
  {
   "cell_type": "code",
   "execution_count": null,
   "metadata": {},
   "outputs": [],
   "source": [
    "corr = [.2, .5, .7, .85, .9, .95, .99]\n",
    "std = [1.6, 1.7, 1.5, 1.2 , .8, .9, .98]\n",
    "data = cdms2.MV2.array(zip(std, corr))\n",
    "gm = vcs.createtaylordiagram()\n",
    "x.clear()\n",
    "x.plot(data,gm)"
   ]
  },
  {
   "cell_type": "markdown",
   "metadata": {},
   "source": [
    "## Where<a href=\"where\"></a>\n",
    "\n",
    "This is the most complicated part of VCS but also one of the most powerful. This controls precisely the location of every component on the plot, these *control* objects are called `templates`. Templates also contain one exception to the WHAT/HOW./WHERE rule as they control texts information, albeit via [primary](#primary) objects.\n",
    "\n",
    "## Bringing it all together\n",
    "\n",
    "## Secondary  Objects<a id=\"secondary\"></a>\n",
    "\n",
    "\n",
    "### Positioning Secondary objects<a id=\"position\"></a>\n",
    "\n",
    "Secondary object positioning is based on a double system.\n",
    "\n",
    "The most basic is called **world coordinate** by changing a secondary object's `worldcoordinate` attribute you can control the coordinates of the rectangle arrea within which the object will be plottted.\n",
    "\n",
    "All coordinate (`.x` and `.y`) are relative to the worldcoordinate attribute (defautling to 0->1)\n",
    "\n",
    "Any coordinate/segment extending beyond the `viewport` rectangle is cropped\n",
    "\n",
    "See figure bellow for a visual explanation, along with the [vcs script](viewport_and_worldcoordinate.py) to generate it:\n",
    "\n",
    "<img src=\"./vp_and_wc.png\" border=1px>"
   ]
  },
  {
   "cell_type": "markdown",
   "metadata": {},
   "source": [
    "### Text Objects<a id=\"text\"></a>\n",
    "\n",
    "Text object allow you insert text anywhere on the plot\n",
    "Text object are made by combining two different secondary object: text orientation objects and text table objects\n",
    "\n",
    "For more details on text in vcs see this [dedicated tutorial]()."
   ]
  },
  {
   "cell_type": "code",
   "execution_count": null,
   "metadata": {},
   "outputs": [],
   "source": [
    "x.clear()\n",
    "txt = vcs.createtext()\n",
    "txt.string=\"A Text Object\"\n",
    "txt.height=25\n",
    "txt.x = [.5]\n",
    "txt.y=[.5]\n",
    "txt.list()\n",
    "x.plot(txt)"
   ]
  },
  {
   "cell_type": "markdown",
   "metadata": {},
   "source": [
    "### Line/Polygon Objects<a id=\"line\"></a>\n",
    "\n",
    "Line object allow you to draw lines on the plot. By closing the line you can draw a polygon\n",
    "\n",
    "For more details on line in vcs see this [dedicated tutorial]()."
   ]
  },
  {
   "cell_type": "code",
   "execution_count": null,
   "metadata": {},
   "outputs": [],
   "source": [
    "x.clear()\n",
    "line = vcs.createline()\n",
    "line.x = [0.1, .5,  0.9]\n",
    "line.y = [0.1, .2, 0.9]\n",
    "x.plot(line)"
   ]
  },
  {
   "cell_type": "markdown",
   "metadata": {},
   "source": [
    "### Filled Polygons Objects<a id=\"fillarea\"></a>\n",
    "Allows you to draw a filled polygon on the plot\n",
    "\n",
    "For more details on filled polygons in vcs see this [dedicated tutorial]()."
   ]
  },
  {
   "cell_type": "code",
   "execution_count": null,
   "metadata": {},
   "outputs": [],
   "source": [
    "x.clear()\n",
    "filled = vcs.createfillarea()\n",
    "filled.x = [0.1, .5,  0.9]\n",
    "filled.y = [0.1, .2, 0.9]\n",
    "x.plot(filled)"
   ]
  },
  {
   "cell_type": "markdown",
   "metadata": {},
   "source": [
    "### Marker Objects<a id=\"marker\"></a>\n",
    "\n",
    "Allows you to draw a/many markers on a plot"
   ]
  },
  {
   "cell_type": "code",
   "execution_count": null,
   "metadata": {},
   "outputs": [],
   "source": [
    "x.clear()\n",
    "mrk = vcs.createmarker()\n",
    "mrk.type = \"hurricane\"\n",
    "mrk.x = [.5]\n",
    "mrk.y = [.5]\n",
    "mrk.size = 15\n",
    "x.plot(mrk)"
   ]
  },
  {
   "cell_type": "markdown",
   "metadata": {},
   "source": [
    "### Colormap Objects<a id=\"colormap\"></a>\n",
    "colormap object objects are used to control the colors on vcs plots, they can be attached to secondary object, graphic methods or canvases.\n",
    "Values are in red, green, blue, opacity percents (0 to 100)\n",
    "\n",
    "For more detail see this [dedicated tutorial](https://cdat.llnl.gov/Jupyter/Colormap_Create/Color_map_create_own.html)."
   ]
  },
  {
   "cell_type": "code",
   "execution_count": null,
   "metadata": {},
   "outputs": [],
   "source": [
    "cmap = vcs.createcolormap()\n",
    "cmap.setcolorcell(0,100,0,0,50)  # 50% transparent red color"
   ]
  },
  {
   "cell_type": "markdown",
   "metadata": {},
   "source": [
    "### Projection Objects<a id=\"projection\"></a>\n",
    "\n",
    "when plotting lat/lon plots (2d graphic methods) you can specifiy and control the projection associated with it. Projection object are then attached to the graphic method\n",
    "\n",
    "For more detail see this [dedicated tutorial]()."
   ]
  },
  {
   "cell_type": "code",
   "execution_count": null,
   "metadata": {},
   "outputs": [],
   "source": [
    "x.clear()\n",
    "gm = vcs.createisofill()\n",
    "proj = vcs.createprojection()\n",
    "proj.type=\"lambert\"\n",
    "proj.list()\n",
    "proj.originlatitude=30.\n",
    "gm.projection = proj\n",
    "x.plot(clt(latitude=(10,50),longitude=(-130,-70)), gm)"
   ]
  }
 ],
 "metadata": {
  "kernelspec": {
   "display_name": "Python 2",
   "language": "python",
   "name": "python2"
  },
  "language_info": {
   "codemirror_mode": {
    "name": "ipython",
    "version": 2
   },
   "file_extension": ".py",
   "mimetype": "text/x-python",
   "name": "python",
   "nbconvert_exporter": "python",
   "pygments_lexer": "ipython2",
   "version": "2.7.15"
  },
  "toc": {
   "base_numbering": 1,
   "nav_menu": {},
   "number_sections": false,
   "sideBar": true,
   "skip_h1_title": false,
   "title_cell": "Table of Contents",
   "title_sidebar": "Contents",
   "toc_cell": true,
   "toc_position": {},
   "toc_section_display": true,
   "toc_window_display": false
  }
 },
 "nbformat": 4,
 "nbformat_minor": 2
}
