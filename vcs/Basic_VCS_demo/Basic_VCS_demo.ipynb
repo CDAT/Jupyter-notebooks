{
 "cells": [
  {
   "cell_type": "markdown",
   "metadata": {},
   "source": [
    "# Basic VCS Tutorial<a id='top' class=\"tocSkip\"> </a>\n",
    "\n",
    "The CDAT software was developed by LLNL. This tutorial was written by Charles Doutriaux. This work was performed under the auspices of the U.S. Department of Energy by Lawrence Livermore National Laboratory under Contract DE-AC52-07NA27344.\n",
    "\n",
    "\n",
    "\n",
    "[Download the Jupyter Notebook](Basic_VCS_demo.ipynb)"
   ]
  },
  {
   "cell_type": "markdown",
   "metadata": {
    "toc": true
   },
   "source": [
    "<h1>Table of Contents<span class=\"tocSkip\"></span></h1>\n",
    "<div class=\"toc\"><ul class=\"toc-item\"><li><span><a href=\"#Sample-Data\" data-toc-modified-id=\"Sample-Data-1\">Sample Data</a></span></li></ul></div>"
   ]
  },
  {
   "cell_type": "code",
   "execution_count": null,
   "metadata": {
    "scrolled": true
   },
   "outputs": [],
   "source": [
    "import vcs\n",
    "import cdms2"
   ]
  },
  {
   "cell_type": "markdown",
   "metadata": {},
   "source": [
    "## Sample Data\n",
    "[Back to Top](#top)"
   ]
  },
  {
   "cell_type": "code",
   "execution_count": null,
   "metadata": {},
   "outputs": [],
   "source": [
    "# MAke sure sample data is here\n",
    "vcs.download_sample_data_files()"
   ]
  },
  {
   "cell_type": "code",
   "execution_count": null,
   "metadata": {},
   "outputs": [],
   "source": [
    "f=cdms2.open(vcs.sample_data+\"/clt.nc\")"
   ]
  },
  {
   "cell_type": "code",
   "execution_count": null,
   "metadata": {},
   "outputs": [],
   "source": [
    "# LOAS SAMPLE DATA\n",
    "s=f(\"clt\")"
   ]
  },
  {
   "cell_type": "code",
   "execution_count": null,
   "metadata": {},
   "outputs": [],
   "source": [
    "# Create vcs canvas (basically X window to draw in)\n",
    "x=vcs.init(bg=True)"
   ]
  },
  {
   "cell_type": "code",
   "execution_count": null,
   "metadata": {},
   "outputs": [],
   "source": [
    "# plot data as is"
   ]
  },
  {
   "cell_type": "code",
   "execution_count": null,
   "metadata": {},
   "outputs": [],
   "source": [
    "#because we are in jupyter using bg=True to plot thing in background (no flashing on your screen)\n",
    "bg=True\n",
    "x.plot(s)"
   ]
  },
  {
   "cell_type": "code",
   "execution_count": null,
   "metadata": {},
   "outputs": [],
   "source": [
    "# Now let's explore some graphics methods available\n",
    "print vcs.listelements()"
   ]
  },
  {
   "cell_type": "code",
   "execution_count": null,
   "metadata": {},
   "outputs": [],
   "source": [
    "# Let's create a isofill\n",
    "gm = vcs.createisofill()"
   ]
  },
  {
   "cell_type": "code",
   "execution_count": null,
   "metadata": {},
   "outputs": [],
   "source": [
    "# Let's see what we can set/do with this\n",
    "gm.list()"
   ]
  },
  {
   "cell_type": "markdown",
   "metadata": {},
   "source": [
    "The Graphic Method Controls How Things are Drawn\n",
    "datawc stands for **dataw**orld**c**oordinates\n",
    "x/yticlabels are the labels to useon x/y axes (python dictionaries {location_value:\"string\"}\n",
    "x/ymtics are the ticks w/o strings\n",
    "missing is color to use for misssing values (index in colormap, (r,g,b,o) or \"string\")\n",
    "fillarea are the contour properties"
   ]
  },
  {
   "cell_type": "code",
   "execution_count": null,
   "metadata": {},
   "outputs": [],
   "source": [
    "gm.datawc_x1 = -10\n",
    "gm.datawc_x2 = 60\n",
    "gm.datawc_y1= 15\n",
    "gm.datawc_y2 = 65\n",
    "\n",
    "gm.xticlabels1 = {0:\"Greenwich\", 20:\"20E\"}\n",
    "gm.yticlabels2 = {0:\"Equator\",60:\"Arctic Circle\", 45:\"45N\"}\n",
    "\n",
    "levels = range(0,101,5) # iso contours to use\n",
    "colors = vcs.getcolors(levels) # automatically picks colors spread accross your color map\n",
    "gm.levels = levels\n",
    "gm.fillareacolors = colors\n",
    "\n",
    "x.clear()\n",
    "x.plot(s,gm,bg=bg)"
   ]
  },
  {
   "cell_type": "code",
   "execution_count": null,
   "metadata": {},
   "outputs": [],
   "source": [
    "# now to control the LOCATION of elements we use a *template*\n",
    "t = vcs.createtemplate()"
   ]
  },
  {
   "cell_type": "code",
   "execution_count": null,
   "metadata": {},
   "outputs": [],
   "source": [
    "# t.list() would list all properties we can set\n",
    "t.list()"
   ]
  },
  {
   "cell_type": "markdown",
   "metadata": {},
   "source": [
    "x/y coordinate are in % of page\n",
    "priority is the *layer* higher means on top of other objects, 0 means turn off\n",
    "\n",
    "important eleements are dataname, title, mean, max, min, units\n",
    "values come from data plotted\n",
    "\n",
    "data is the area where to plot the data\n",
    "legend is the area used by the legend/colorbar\n",
    "\n",
    "see bellow for more info on text objects, but they are basically contrlled via textorientation and texttable objects properties\n",
    "\n"
   ]
  },
  {
   "cell_type": "code",
   "execution_count": null,
   "metadata": {},
   "outputs": [],
   "source": [
    "t.min.priority =0 # turn off min\n",
    "s.id = \"I AM LEARNING\" # change dataname\n",
    "s.title = \"THSI IS MY TITLE\"\n",
    "s.units= \"SOME WEIRD UNIT\"\n",
    "\n",
    "t.reset('x',.2,.5,t.data.x1,t.data.x2) # reset template to go from 20% to %0% of page (left essentially)\n",
    "\n",
    "x.clear()\n",
    "x.plot(s,gm,t)"
   ]
  },
  {
   "cell_type": "code",
   "execution_count": null,
   "metadata": {},
   "outputs": [],
   "source": [
    "#Let's preserve the aspect ratio\n",
    "x.clear()\n",
    "x.plot(s,gm,t,ratio=\"autot\")"
   ]
  }
 ],
 "metadata": {
  "anaconda-cloud": {},
  "kernelspec": {
   "display_name": "Python 3",
   "language": "python",
   "name": "python3"
  },
  "language_info": {
   "codemirror_mode": {
    "name": "ipython",
    "version": 3
   },
   "file_extension": ".py",
   "mimetype": "text/x-python",
   "name": "python",
   "nbconvert_exporter": "python",
   "pygments_lexer": "ipython3",
   "version": "3.7.3"
  },
  "toc": {
   "base_numbering": 1,
   "nav_menu": {},
   "number_sections": false,
   "sideBar": true,
   "skip_h1_title": false,
   "title_cell": "Table of Contents",
   "title_sidebar": "Contents",
   "toc_cell": true,
   "toc_position": {},
   "toc_section_display": true,
   "toc_window_display": false
  }
 },
 "nbformat": 4,
 "nbformat_minor": 1
}
