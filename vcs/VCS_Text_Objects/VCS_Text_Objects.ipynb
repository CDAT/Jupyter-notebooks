{
 "cells": [
  {
   "cell_type": "markdown",
   "metadata": {},
   "source": [
    "# VCS Text Objects<a id='top' class=\"tocSkip\"> </a>\n",
    "\n",
    "\n",
    "VCS let you plot text objects on a plot.\n",
    "\n",
    "© The CDAT software was developed by LLNL. This tutorial was written by Charles Doutriaux. This work was performed under the auspices of the U.S. Department of Energy by Lawrence Livermore National Laboratory under Contract DE-AC52-07NA27344.\n",
    "\n",
    "[Download the Jupyter Notebook](VCS_Text_Objects.ipynb)"
   ]
  },
  {
   "cell_type": "markdown",
   "metadata": {
    "toc": true
   },
   "source": [
    "<h1>Table of Contents<span class=\"tocSkip\"></span></h1>\n",
    "<div class=\"toc\"><ul class=\"toc-item\"><li><span><a href=\"#Introduction\" data-toc-modified-id=\"Introduction-1\">Introduction</a></span></li><li><span><a href=\"#Controling-Placements-of-Text-Objects\" data-toc-modified-id=\"Controling-Placements-of-Text-Objects-2\">Controling Placements of Text Objects</a></span></li><li><span><a href=\"#Text-Table\" data-toc-modified-id=\"Text-Table-3\">Text Table</a></span><ul class=\"toc-item\"><li><span><a href=\"#Fonts\" data-toc-modified-id=\"Fonts-3.1\">Fonts</a></span><ul class=\"toc-item\"><li><span><a href=\"#Changing-the-font\" data-toc-modified-id=\"Changing-the-font-3.1.1\">Changing the font</a></span></li></ul></li><li><span><a href=\"#Default-font\" data-toc-modified-id=\"Default-font-3.2\">Default font</a></span><ul class=\"toc-item\"><li><span><a href=\"#Adding-fonts\" data-toc-modified-id=\"Adding-fonts-3.2.1\">Adding fonts</a></span></li></ul></li><li><span><a href=\"#Color\" data-toc-modified-id=\"Color-3.3\">Color</a></span></li><li><span><a href=\"#Projection\" data-toc-modified-id=\"Projection-3.4\">Projection</a></span></li><li><span><a href=\"#Ordering-in-the-plot\" data-toc-modified-id=\"Ordering-in-the-plot-3.5\">Ordering in the plot</a></span></li><li><span><a href=\"#Deprecated-attributes\" data-toc-modified-id=\"Deprecated-attributes-3.6\">Deprecated attributes</a></span></li></ul></li><li><span><a href=\"#Text-Orientation\" data-toc-modified-id=\"Text-Orientation-4\">Text Orientation</a></span><ul class=\"toc-item\"><li><span><a href=\"#Size\" data-toc-modified-id=\"Size-4.1\">Size</a></span></li><li><span><a href=\"#Angle\" data-toc-modified-id=\"Angle-4.2\">Angle</a></span></li><li><span><a href=\"#Alignement\" data-toc-modified-id=\"Alignement-4.3\">Alignement</a></span><ul class=\"toc-item\"><li><span><a href=\"#Horizontal-Alignement\" data-toc-modified-id=\"Horizontal-Alignement-4.3.1\">Horizontal Alignement</a></span></li><li><span><a href=\"#Vertical-Alignement\" data-toc-modified-id=\"Vertical-Alignement-4.3.2\">Vertical Alignement</a></span></li></ul></li></ul></li><li><span><a href=\"#Mathematical-Expressions-and-Symbols\" data-toc-modified-id=\"Mathematical-Expressions-and-Symbols-5\">Mathematical Expressions and Symbols</a></span></li><li><span><a href=\"#Example:-Bringing-it-all-together\" data-toc-modified-id=\"Example:-Bringing-it-all-together-6\">Example: Bringing it all together</a></span></li></ul></div>"
   ]
  },
  {
   "cell_type": "markdown",
   "metadata": {},
   "source": [
    "\n",
    "## Introduction\n",
    "\n",
    "[Back to Top](#top)\n",
    "\n",
    "\n",
    "VCS let you plot text objects on a plot."
   ]
  },
  {
   "cell_type": "code",
   "execution_count": null,
   "metadata": {},
   "outputs": [],
   "source": [
    "# Styling for notebook\n",
    "from __future__ import print_function\n",
    "from IPython.core.display import HTML\n",
    "HTML(\"\"\"\n",
    "<style>\n",
    ".output_png {\n",
    "    display: table-cell;\n",
    "    text-align: center;\n",
    "    vertical-align: middle;\n",
    "}\n",
    "</style>\n",
    "\"\"\")\n",
    "import vcs\n",
    "canvas=vcs.init(geometry=(800,600),bg=True)\n",
    "txt = vcs.createtext()\n",
    "txt.list()"
   ]
  },
  {
   "cell_type": "markdown",
   "metadata": {},
   "source": [
    "As you can see VCS text pbjects are composed of two part the [texttable](#Tt) and the [textorientation](#To)\n",
    "\n",
    "Text Table controls the font, color, actual text (string), and location options\n",
    "Text Orientation control the text font, size and alignements\n",
    "\n",
    "## Controling Placements of Text Objects\n",
    "\n",
    "[Back to Top](#top)\n",
    "\n",
    "Please refer to the [VCS Principles](VCS_Principles.ipynb#secondary) for details on `viewport` and `worldcoordinates`.\n",
    "\n",
    "Essentially the viewport describe the area on the canvas where to draw, and the world coordinates are used within this area. Both are initialized at `[0,1,0,1]`"
   ]
  },
  {
   "cell_type": "code",
   "execution_count": null,
   "metadata": {},
   "outputs": [],
   "source": [
    "txt.string = 'Hello VCS User'  # Or list of strings\n",
    "txt.x = .5  # Or list of coordinates\n",
    "txt.y = .5\n",
    "canvas.plot(txt)"
   ]
  },
  {
   "cell_type": "markdown",
   "metadata": {},
   "source": [
    "## Text Table\n",
    "\n",
    "[Back to Top](#top)\n",
    "\n",
    "### Fonts\n",
    "\n",
    "[Back to Top](#top)\n",
    "\n",
    "#### Changing the font\n",
    "\n",
    "[Back to Top](#top)\n",
    "\n",
    "You can control the fonts via the `font` attribute\n",
    "\n",
    "Available fonts a are available via the `vcs.getlistelements(\"font\")` option\n",
    "\n",
    "Default fonts are:"
   ]
  },
  {
   "cell_type": "code",
   "execution_count": null,
   "metadata": {},
   "outputs": [],
   "source": [
    "print(vcs.listelements(\"font\"))"
   ]
  },
  {
   "cell_type": "markdown",
   "metadata": {},
   "source": [
    "You can also access font by their number, you can get a font name based on its number or vice-versa get a font number based on its name"
   ]
  },
  {
   "cell_type": "code",
   "execution_count": null,
   "metadata": {},
   "outputs": [],
   "source": [
    "print(\"The 'Times' font number is:\",vcs.getfontnumber(\"Times\"))\n",
    "print(\"The name of number 5 is:\", vcs.getfont(5))"
   ]
  },
  {
   "cell_type": "markdown",
   "metadata": {},
   "source": [
    "### Default font\n",
    "\n",
    "[Back to Top](#top)\n",
    "\n",
    "If you wish to change vcs default font (will affect every object using font 1) you can use `setdefaultfont`"
   ]
  },
  {
   "cell_type": "code",
   "execution_count": null,
   "metadata": {},
   "outputs": [],
   "source": [
    "canvas.clear()\n",
    "t = canvas.createtext()\n",
    "t.string = \"Default as default font\"\n",
    "t.x = .3\n",
    "t.halign = \"center\"\n",
    "t.y = .5\n",
    "canvas.plot(t)\n",
    "vcs.setdefaultfont(\"DejaVuSans-Bold\")\n",
    "t = canvas.createtext()\n",
    "t.string = \"DejaVuSans-Bold as default font\"\n",
    "t.x = .7\n",
    "t.halign = \"center\"\n",
    "t.y = .5\n",
    "canvas.plot(t)"
   ]
  },
  {
   "cell_type": "markdown",
   "metadata": {},
   "source": [
    "Example:"
   ]
  },
  {
   "cell_type": "code",
   "execution_count": null,
   "metadata": {},
   "outputs": [],
   "source": [
    "# rest to default font: AvantGarde\n",
    "vcs.setdefaultfont(\"AvantGarde\")\n",
    "fonts = vcs.listelements(\"font\")\n",
    "N = len(fonts)\n",
    "grid = 5. # 5x5 grid\n",
    "delta = 1./6.\n",
    "canvas.clear()\n",
    "for i, font in enumerate(fonts):\n",
    "    print(\"I,f:\",i,font)\n",
    "    txt.font = font\n",
    "    txt.string = font\n",
    "    yindx = i % grid\n",
    "    xindx = int(i/grid)\n",
    "    txt.x = delta + xindx*delta\n",
    "    txt.y = delta + yindx*delta\n",
    "    dsp = canvas.plot(txt)\n",
    "# Resets\n",
    "txt.x = [.5]\n",
    "txt.y = [.5]\n",
    "txt.string = \"A VCS Text Object\"\n",
    "dsp"
   ]
  },
  {
   "cell_type": "markdown",
   "metadata": {},
   "source": [
    "#### Adding fonts\n",
    "\n",
    "[Back to Top](#top)\n",
    "\n",
    "You can add TrueType fonts to vcs by using the `canvas.addfont` function"
   ]
  },
  {
   "cell_type": "code",
   "execution_count": null,
   "metadata": {},
   "outputs": [],
   "source": [
    "canvas.clear()\n",
    "vcs.addfont(\"FFF_Tusj.ttf\", name=\"Myfont\")\n",
    "txt.font = \"Myfont\"\n",
    "canvas.plot(txt)"
   ]
  },
  {
   "cell_type": "markdown",
   "metadata": {},
   "source": [
    "### Color\n",
    "\n",
    "[Back to Top](#top)\n",
    "\n",
    "You can control the font `color` via the color attribute, you can send a string representing the color name, an index in the text object colormap.\n",
    "\n",
    "You can change the colormap via the `colormap` attribute"
   ]
  },
  {
   "cell_type": "code",
   "execution_count": null,
   "metadata": {},
   "outputs": [],
   "source": [
    "canvas.clear()\n",
    "txt.font = \"default\"\n",
    "txt.color = \"Red\"\n",
    "canvas.plot(txt)\n",
    "txt.x[0] += .2\n",
    "txt.color = 5\n",
    "canvas.plot(txt)\n",
    "txt.colormap = \"AMIP\"  # Changing the colormap chjange the color of index 5\n",
    "txt.x[0] -= .4\n",
    "canvas.plot(txt)"
   ]
  },
  {
   "cell_type": "markdown",
   "metadata": {},
   "source": [
    "### Projection\n",
    "\n",
    "[Back to Top](#top)\n",
    "\n",
    "IF your worldcoordinates are representing lat/lon, you can use the `projection` attribute to apply a projection (and its settings) to your text location."
   ]
  },
  {
   "cell_type": "code",
   "execution_count": null,
   "metadata": {},
   "outputs": [],
   "source": [
    "canvas.clear()\n",
    "import cdms2, os\n",
    "f=cdms2.open(os.path.join(vcs.sample_data,\"clt.nc\"))\n",
    "bot = canvas.gettemplate(\"bot_of2\")\n",
    "top = canvas.gettemplate(\"top_of2\")\n",
    "gm = canvas.createisoline()\n",
    "gm.datawc_x1 = -180\n",
    "gm.datawc_x2 = 180\n",
    "gm.datawc_y1 = -90\n",
    "gm.datawc_y2 = 90\n",
    "canvas.plot(f(\"clt\", slice(0,1)),gm,top)\n",
    "proj = \"polar\"\n",
    "gm.projection = proj\n",
    "canvas.plot(f(\"clt\",slice(0,1),longitude=(-180,181)),gm,bot)\n",
    "txt = canvas.createtext()\n",
    "txt.string = \"Non proj\"\n",
    "txt.worldcoordinate = [-180,180,-90,90]\n",
    "txt.x = -30\n",
    "txt.y = 80\n",
    "txt.color=\"blue\"\n",
    "txt.height = 15\n",
    "txt.halign = \"center\"\n",
    "txt.viewport = top.data.x1, top.data.x2, top.data.y1, top.data.y2\n",
    "canvas.plot(txt)\n",
    "txt.projection = proj\n",
    "txt.color = \"red\"\n",
    "txt.string = \"PROJECTED\"\n",
    "txt.viewport = bot.data.x1, bot.data.x2, bot.data.y1, bot.data.y2\n",
    "canvas.plot(txt)# canvas.plot(txt)"
   ]
  },
  {
   "cell_type": "markdown",
   "metadata": {},
   "source": [
    "### Ordering in the plot\n",
    "\n",
    "[Back to Top](#top)\n",
    "\n",
    "you can control the `layer` on which the object will be drawn via the `priority` attribute. Higher `priority` object are drawn on top of lower `priority` ones."
   ]
  },
  {
   "cell_type": "code",
   "execution_count": null,
   "metadata": {},
   "outputs": [],
   "source": [
    "txt.priority = 0  # Turn off\n",
    "txt.priority = 2  # move to a layer on top of \"default\" layer (1)"
   ]
  },
  {
   "cell_type": "markdown",
   "metadata": {},
   "source": [
    "### Deprecated attributes\n",
    "\n",
    "[Back to Top](#top)\n",
    "\n",
    "The following attribute are left over from XGKS and are not use anymore:\n",
    "\n",
    "`spacing`, `fillingcolor`, `expansion`\n",
    "\n",
    "## Text Orientation\n",
    "\n",
    "[Back to Top](#top)\n",
    "\n",
    "### Size\n",
    "\n",
    "[Back to Top](#top)\n",
    "\n",
    "You can control the size (or **height**) of text objects as follow:\n",
    "    "
   ]
  },
  {
   "cell_type": "code",
   "execution_count": null,
   "metadata": {},
   "outputs": [],
   "source": [
    "canvas.clear()\n",
    "txt = vcs.createtext()\n",
    "txt.string = \"Example of BIG Text\"\n",
    "txt.x = .5\n",
    "txt.y = .5\n",
    "txt.height = 30\n",
    "canvas.plot(txt)"
   ]
  },
  {
   "cell_type": "markdown",
   "metadata": {},
   "source": [
    "### Angle\n",
    "\n",
    "[Back to Top](#top)\n",
    "\n",
    "You can control the **clockwise** rotation of a text object as shown bellow:"
   ]
  },
  {
   "cell_type": "code",
   "execution_count": null,
   "metadata": {},
   "outputs": [],
   "source": [
    "canvas.clear()\n",
    "txt.angle = 45 \n",
    "txt.height =20.\n",
    "txt.string = \"A Rotated Text\"\n",
    "canvas.plot(txt)"
   ]
  },
  {
   "cell_type": "markdown",
   "metadata": {},
   "source": [
    "### Alignement\n",
    "\n",
    "[Back to Top](#top)\n",
    "\n",
    "You can control how to align the text relatively to to its coordinates\n",
    "\n",
    "#### Horizontal Alignement\n",
    "\n",
    "[Back to Top](#top)\n",
    "\n",
    "You can control the horizontal alignement via the **halign** attribute, possible values are: *('left', 'center', 'right') or (0, 1, 2)*"
   ]
  },
  {
   "cell_type": "code",
   "execution_count": null,
   "metadata": {},
   "outputs": [],
   "source": [
    "canvas.clear()\n",
    "line = vcs.createline()\n",
    "line.x = [.5,.5]\n",
    "line.y = [0.,1.]\n",
    "line.type =\"dot\"\n",
    "line.color=[\"grey\"]\n",
    "center = vcs.createtext()\n",
    "center.x = .5\n",
    "center.y = .5\n",
    "center.string = \"Centered Text\"\n",
    "center.halign = \"center\"\n",
    "right = vcs.createtext()\n",
    "right.x = .5\n",
    "right.y = .25\n",
    "right.string = \"Right Aligned Text\"\n",
    "right.halign = \"right\"\n",
    "left = vcs.createtext()\n",
    "left.x = .5\n",
    "left.y = .75\n",
    "left.string = \"Left Aligned Text\"\n",
    "left.halign = \"left\"\n",
    "canvas.plot(center)\n",
    "canvas.plot(right)\n",
    "canvas.plot(left)\n",
    "canvas.plot(line)"
   ]
  },
  {
   "cell_type": "markdown",
   "metadata": {},
   "source": [
    "#### Vertical Alignement\n",
    "\n",
    "[Back to Top](#top)\n",
    "\n",
    "You can control the vertical alignement via the **valign** attribute, possible values are: *('top', 'cap', 'half', 'base', 'bottom') or (0, 1, 2, 3, 4)*\n",
    "\n",
    "Note that **cap** is the same as **top** at the moment"
   ]
  },
  {
   "cell_type": "code",
   "execution_count": null,
   "metadata": {},
   "outputs": [],
   "source": [
    "canvas.clear()\n",
    "line = vcs.createline()\n",
    "line.y = [.5,.5]\n",
    "line.x = [0.,1.]\n",
    "line.type =\"dot\"\n",
    "line.color=[\"grey\"]\n",
    "half = vcs.createtext()\n",
    "half.height = 20\n",
    "half.halign = \"center\"\n",
    "half.x = .5\n",
    "half.y = .5\n",
    "half.string = \"Half Aligned Text\"\n",
    "half.valign = \"Half\"\n",
    "bottom = vcs.createtext()\n",
    "bottom.halign='center'\n",
    "bottom.height=20\n",
    "bottom.x = .25\n",
    "bottom.y = .5\n",
    "bottom.string = \"Bottom Aligned Text\"\n",
    "bottom.valign = \"bottom\"\n",
    "top = vcs.createtext()\n",
    "top.halign='center'\n",
    "top.height=20\n",
    "top.x = .75\n",
    "top.y = .5\n",
    "top.string = \"Top Aligned Text\"\n",
    "top.valign = \"top\"\n",
    "cap = vcs.createtext()\n",
    "cap.x = .75\n",
    "cap.y = .75\n",
    "cap.string = \"Cap Aligned Text\"\n",
    "cap.valign = \"cap\"\n",
    "canvas.plot(half)\n",
    "canvas.plot(bottom)\n",
    "canvas.plot(top)\n",
    "canvas.plot(line)"
   ]
  },
  {
   "cell_type": "markdown",
   "metadata": {},
   "source": [
    "## Mathematical Expressions and Symbols\n",
    "\n",
    "[Back to Top](#top)\n",
    "\n",
    "See [dedicated notebook](http://localhost:8888/view/vcs/Mathematical_Expressions_and_Symbols/Mathematical_Expressions_and_Symbols.html) \n",
    "\n",
    "\n",
    "## Example: Bringing it all together\n",
    "\n",
    "[Back to Top](#top)\n",
    "\n",
    "We are plotting a world coordinate locate rotated and colored text object on top of a map.\n"
   ]
  },
  {
   "cell_type": "code",
   "execution_count": null,
   "metadata": {},
   "outputs": [],
   "source": [
    "canvas.clear()\n",
    "import cdms2, os\n",
    "f=cdms2.open(os.path.join(vcs.sample_data,\"clt.nc\"))\n",
    "\n",
    "# Continental U.S.A. region\n",
    "lat1 = 15.\n",
    "lat2 = 70.\n",
    "lon1 = -140.\n",
    "lon2 = -60.\n",
    "proj = \"lambert\"\n",
    "\n",
    "# Read data in\n",
    "clt = f(\"clt\",time=slice(0,1),latitude=(lat1,lat2),longitude=(lon1,lon2),squeeze=1)\n",
    "\n",
    "# Isofill method\n",
    "gm = vcs.createisofill()\n",
    "gm.datawc_x1 = lon1\n",
    "gm.datawc_x2 = lon2\n",
    "gm.datawc_y1 = lat1\n",
    "gm.datawc_y2 = lat2\n",
    "gm.projection = proj\n",
    "\n",
    "# Template (not modified)\n",
    "templ = vcs.createtemplate()\n",
    "\n",
    "# Text object\n",
    "txt = vcs.createtext()\n",
    "txt.string = [\"Washington D.C.\", \"New York\", \"Los Angeles\"]\n",
    "txt.halign = \"center\"\n",
    "txt.valign = \"half\"\n",
    "txt.color = \"red\"\n",
    "txt.font = \"Myfont\"\n",
    "txt.height = 15\n",
    "txt.priority = 2\n",
    "txt.angle = -5\n",
    "txt.y = [38.9072, 40.7128, 34.0522]\n",
    "txt.x = [-77.0369, -74.0060, -118.2437]\n",
    "txt.worldcoordinate = [lon1, lon2, lat1, lat2]\n",
    "txt.viewport = [templ.data.x1, templ.data.x2, templ.data.y1, templ.data.y2]\n",
    "txt.projection = proj\n",
    "\n",
    "# Plot text first to show priority\n",
    "canvas.plot(txt)\n",
    "\n",
    "# Now data plotted \"bellow\" text\n",
    "canvas.plot(clt,gm)"
   ]
  },
  {
   "cell_type": "code",
   "execution_count": null,
   "metadata": {},
   "outputs": [],
   "source": []
  }
 ],
 "metadata": {
  "kernelspec": {
   "display_name": "Python 2",
   "language": "python",
   "name": "python2"
  },
  "language_info": {
   "codemirror_mode": {
    "name": "ipython",
    "version": 2
   },
   "file_extension": ".py",
   "mimetype": "text/x-python",
   "name": "python",
   "nbconvert_exporter": "python",
   "pygments_lexer": "ipython2",
   "version": "2.7.15"
  },
  "toc": {
   "base_numbering": 1,
   "nav_menu": {},
   "number_sections": false,
   "sideBar": true,
   "skip_h1_title": false,
   "title_cell": "Table of Contents",
   "title_sidebar": "Contents",
   "toc_cell": true,
   "toc_position": {},
   "toc_section_display": true,
   "toc_window_display": false
  }
 },
 "nbformat": 4,
 "nbformat_minor": 2
}
