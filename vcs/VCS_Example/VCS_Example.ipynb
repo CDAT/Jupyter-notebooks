{
 "cells": [
  {
   "cell_type": "markdown",
   "metadata": {},
   "source": [
    "# Basic VCS Tutorial<a id='top' class=\"tocSkip\"> </a>\n",
    "\n",
    "The CDAT software was developed by LLNL. This tutorial was written by Charles Doutriaux. This work was performed under the auspices of the U.S. Department of Energy by Lawrence Livermore National Laboratory under Contract DE-AC52-07NA27344.\n",
    "\n",
    "\n",
    "\n",
    "[Download the Jupyter Notebook](Basic_VCS_demo.ipynb)"
   ]
  },
  {
   "cell_type": "markdown",
   "metadata": {
    "toc": true
   },
   "source": [
    "<h1>Table of Contents<span class=\"tocSkip\"></span></h1>\n",
    "<div class=\"toc\"><ul class=\"toc-item\"><li><span><a href=\"#Download-Data\" data-toc-modified-id=\"Download-Data-1\">Download Data</a></span></li><li><span><a href=\"#Open-Data-File\" data-toc-modified-id=\"Open-Data-File-2\">Open Data File</a></span></li><li><span><a href=\"#Load-Data-into-a-Variable\" data-toc-modified-id=\"Load-Data-into-a-Variable-3\">Load Data into a Variable</a></span></li><li><span><a href=\"#Set-Up-VCS-for-Plotting\" data-toc-modified-id=\"Set-Up-VCS-for-Plotting-4\">Set Up VCS for Plotting</a></span></li><li><span><a href=\"#Plot-the-Data\" data-toc-modified-id=\"Plot-the-Data-5\">Plot the Data</a></span><ul class=\"toc-item\"><li><span><a href=\"#Explore-Other-Graphic-Methods\" data-toc-modified-id=\"Explore-Other-Graphic-Methods-5.1\">Explore Other Graphic Methods</a></span><ul class=\"toc-item\"><li><span><a href=\"#Isofill\" data-toc-modified-id=\"Isofill-5.1.1\">Isofill</a></span></li></ul></li></ul></li><li><span><a href=\"#Control-Location-of-Plot-Elements\" data-toc-modified-id=\"Control-Location-of-Plot-Elements-6\">Control Location of Plot Elements</a></span></li></ul></div>"
   ]
  },
  {
   "cell_type": "code",
   "execution_count": null,
   "metadata": {
    "scrolled": true
   },
   "outputs": [],
   "source": [
    "import vcs\n",
    "import cdms2"
   ]
  },
  {
   "cell_type": "markdown",
   "metadata": {},
   "source": [
    "# Download Data\n",
    "[Back to Top](#top)"
   ]
  },
  {
   "cell_type": "markdown",
   "metadata": {},
   "source": [
    "Download some sample data"
   ]
  },
  {
   "cell_type": "code",
   "execution_count": null,
   "metadata": {},
   "outputs": [],
   "source": [
    "vcs.download_sample_data_files()"
   ]
  },
  {
   "cell_type": "markdown",
   "metadata": {},
   "source": [
    "# Open Data File\n",
    "Open the clt.nc NetCDF file which contains total cloudiness data and assign that open file to the variable `f`. The file contains three types of data:\n",
    "\n",
    "- clt: total cloudiness on a monthly basis for 10 years from January 1979 up to and including December 1988.\n",
    "- u: eastward component of wind speed (i.e. wind blowing from west to east)\n",
    "- v: northward component of wind speed (i.e. wind blowing from south to north)"
   ]
  },
  {
   "cell_type": "code",
   "execution_count": null,
   "metadata": {},
   "outputs": [],
   "source": [
    "f=cdms2.open(vcs.sample_data+\"/clt.nc\")"
   ]
  },
  {
   "cell_type": "markdown",
   "metadata": {},
   "source": [
    "# Load Data into a Variable\n",
    "We'll load the total cloudiness data, `clt`, into the `s` variable (for sample data)."
   ]
  },
  {
   "cell_type": "code",
   "execution_count": null,
   "metadata": {},
   "outputs": [],
   "source": [
    "s=f(\"clt\")"
   ]
  },
  {
   "cell_type": "markdown",
   "metadata": {},
   "source": [
    "# Set Up VCS for Plotting\n",
    "Next we'll create a vcs canvas called `x` which is basically a window in which to display the data. \n",
    "\n",
    "Setting `bg=True` means the data will be plotted in the background (bg) meaning the data will plot in this notebook and not in a separate window on your computer."
   ]
  },
  {
   "cell_type": "code",
   "execution_count": null,
   "metadata": {},
   "outputs": [],
   "source": [
    "x=vcs.init(bg=True)"
   ]
  },
  {
   "cell_type": "markdown",
   "metadata": {},
   "source": [
    "# Plot the Data\n",
    "First we'll plot the data just as it is using the default settings in VCS, which in this case creates a boxfill plot (the default plotting style if two dimensional or higher data is present)."
   ]
  },
  {
   "cell_type": "code",
   "execution_count": null,
   "metadata": {},
   "outputs": [],
   "source": [
    "x.plot(s)"
   ]
  },
  {
   "cell_type": "markdown",
   "metadata": {},
   "source": [
    "## Explore Other Graphic Methods\n",
    "First we'll list all the graphic methods available."
   ]
  },
  {
   "cell_type": "code",
   "execution_count": null,
   "metadata": {},
   "outputs": [],
   "source": [
    "vcs.listelements()"
   ]
  },
  {
   "cell_type": "markdown",
   "metadata": {},
   "source": [
    "### Isofill\n",
    "Let's create an isofill object called `gm` (for graphic method) using the `createisofill` method."
   ]
  },
  {
   "cell_type": "code",
   "execution_count": null,
   "metadata": {},
   "outputs": [],
   "source": [
    "gm = vcs.createisofill()"
   ]
  },
  {
   "cell_type": "markdown",
   "metadata": {},
   "source": [
    "Let's see what options available for manipulating the `gm` object that uses the isofill graphics method."
   ]
  },
  {
   "cell_type": "code",
   "execution_count": null,
   "metadata": {},
   "outputs": [],
   "source": [
    "gm.list()"
   ]
  },
  {
   "cell_type": "markdown",
   "metadata": {},
   "source": [
    "The graphic method controls how things are drawn:\n",
    "\n",
    "- `datawc` stands for **dataw**orld**c**oordinates.\n",
    "- `x/yticlabels` are the labels to use on the x/y axes (python dictionaries {location_value:\"string\"}.\n",
    "- `x/ymtics` are the ticks that do not have strings/labels attached.\n",
    "- `missing` is color to use for misssing values (index in colormap, (r,g,b,o) or \"string\").\n",
    "- `fillarea` are the contour properties."
   ]
  },
  {
   "cell_type": "code",
   "execution_count": null,
   "metadata": {},
   "outputs": [],
   "source": [
    "gm.datawc_x1 = -10\n",
    "gm.datawc_x2 = 60\n",
    "gm.datawc_y1= 15\n",
    "gm.datawc_y2 = 65\n",
    "\n",
    "gm.xticlabels1 = {0:\"Greenwich\", 20:\"20E\"}\n",
    "gm.yticlabels2 = {0:\"Equator\",60:\"Arctic Circle\", 45:\"45N\"}\n",
    "\n",
    "levels = list(range(0,101,5)) # specify the iso contours to use\n",
    "colors = vcs.getcolors(levels) # automatically picks colors that will be spread across the range of your data.\n",
    "gm.levels = levels \n",
    "gm.fillareacolors = colors\n",
    "\n",
    "x.clear()\n",
    "x.plot(s,gm,bg=True)"
   ]
  },
  {
   "cell_type": "markdown",
   "metadata": {},
   "source": [
    "# Control Location of Plot Elements\n",
    "To control the location of elements, like the plot title, we use a *template*."
   ]
  },
  {
   "cell_type": "code",
   "execution_count": null,
   "metadata": {},
   "outputs": [],
   "source": [
    "t = vcs.createtemplate()"
   ]
  },
  {
   "cell_type": "markdown",
   "metadata": {},
   "source": [
    "`t.list()` lists all the properties that can be set."
   ]
  },
  {
   "cell_type": "code",
   "execution_count": null,
   "metadata": {},
   "outputs": [],
   "source": [
    "t.list()"
   ]
  },
  {
   "cell_type": "markdown",
   "metadata": {},
   "source": [
    "The most commonly used elements/members are: dataname, title, mean, max, min, units, data, and legend.\n",
    "-`data` controls the area where to plot the data.\n",
    "-`legend` is the area used by the legend/colorbar.\n",
    "\n",
    "The values come from the data plotted.\n",
    "\n",
    "Most common attributes are:\n",
    "-x/y coordinate are in % of page.\n",
    "-`priority` is the order of drawing with 2 drawing above 1 and 3 drawing above 2. A value of 0 turns the priority value off.\n",
    "\n",
    "\n",
    "See below for more information on [text objects](../VCS_Text_Objects/VCS_Text_Objects.ipynb), but they are basically controlled via `textorientation` and `texttable` objects properties.\n"
   ]
  },
  {
   "cell_type": "code",
   "execution_count": null,
   "metadata": {},
   "outputs": [],
   "source": [
    "t.min.priority =0 # turn off min\n",
    "s.id = \"I AM LEARNING\" # change dataname\n",
    "s.title = \"THIS IS MY TITLE\"\n",
    "s.units= \"SOME WEIRD UNIT\"\n",
    "\n",
    "t.reset('x',.2,.5,t.data.x1,t.data.x2) # reset template to go from 20% to %0% of page (left essentially)\n",
    "\n",
    "x.clear()\n",
    "x.plot(s,gm,t)"
   ]
  },
  {
   "cell_type": "markdown",
   "metadata": {},
   "source": [
    "Let's preserve the aspect ratio"
   ]
  },
  {
   "cell_type": "code",
   "execution_count": null,
   "metadata": {},
   "outputs": [],
   "source": [
    "x.clear()\n",
    "x.plot(s,gm,t,ratio=\"autot\")"
   ]
  }
 ],
 "metadata": {
  "anaconda-cloud": {},
  "kernelspec": {
   "display_name": "Python [conda env:nightly_mesa] *",
   "language": "python",
   "name": "conda-env-nightly_mesa-py"
  },
  "language_info": {
   "codemirror_mode": {
    "name": "ipython",
    "version": 3
   },
   "file_extension": ".py",
   "mimetype": "text/x-python",
   "name": "python",
   "nbconvert_exporter": "python",
   "pygments_lexer": "ipython3",
   "version": "3.6.7"
  },
  "toc": {
   "base_numbering": 1,
   "nav_menu": {},
   "number_sections": false,
   "sideBar": true,
   "skip_h1_title": false,
   "title_cell": "Table of Contents",
   "title_sidebar": "Contents",
   "toc_cell": true,
   "toc_position": {},
   "toc_section_display": true,
   "toc_window_display": false
  }
 },
 "nbformat": 4,
 "nbformat_minor": 1
}
