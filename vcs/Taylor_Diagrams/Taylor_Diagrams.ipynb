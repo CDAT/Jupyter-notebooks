{
 "cells": [
  {
   "cell_type": "markdown",
   "metadata": {},
   "source": [
    "# Taylor Diagram Tutorial<a id='top' class=\"tocSkip\"> </a>\n",
    "\n",
    "This tutorial is for creating a Taylor Diagram using [CDAT](https://cdat.llnl.gov)'s VCS package.\n",
    "\n",
    "Taylor diagrams are mathematical diagrams designed to graphically indicate which of several approximate representations (or models) of a system, process, or phenomenon is most realistic. This diagram, invented by Karl E. Taylor in 1994 (published in 2001), facilitates the comparative assessment of different models - for example, to summarize the relative merits of a collection of different models or to track changes in performance of a single model as it is modified. The diagram can also be used to quantify the degree of correspondence between modeled and observed behavior. In general, the diagram uses three statistics: the Pearson correlation coefficient, the root-mean-square error (RMSE), and the standard deviation. Taylor diagrams have been used widely to evaluate models designed to study climate and other aspects of Earth’s environment. (See [Wikipedia's page](https://en.wikipedia.org/wiki/Taylor_diagram) and [Taylor (2001)](http://onlinelibrary.wiley.com/doi/10.1029/2000JD900719/abstract) for details.)\n",
    "\n",
    "Reference: [Taylor, K. E. 2001: Summarizing multiple aspects of model performance in a single diagram. Journal of Geophysical Research, doi: 10.1029/2000JD900719, 106(D7): 7183-7192](http://onlinelibrary.wiley.com/doi/10.1029/2000JD900719/abstract)\n",
    "\n",
    "\n",
    "Environment version used in this tutorial:\n",
    "- cdat 8.1\n",
    "\n",
    "To [download this Jupyter Notebook](Taylor_Diagrams.ipynb), right click on the link and choose \"Download Linked File As...\" or \"Save Link as...\". Remember where you saved the downloaded file which should have an .ipynb extension. (You'll need to launch the Jupyter notebook or JupyterLab instance from the location where you store the notebook file.)"
   ]
  },
  {
   "cell_type": "markdown",
   "metadata": {
    "toc": true
   },
   "source": [
    "<h1>Table of Contents<span class=\"tocSkip\"></span></h1>\n",
    "<div class=\"toc\"><ul class=\"toc-item\"><li><span><a href=\"#Create-VCS-canvas\" data-toc-modified-id=\"Create-VCS-canvas-1\">Create VCS canvas<a id=\"vcs\"></a></a></span></li><li><span><a href=\"#Prepare-Input-Data\" data-toc-modified-id=\"Prepare-Input-Data-2\">Prepare Input Data<a id=\"input\"></a></a></span></li><li><span><a href=\"#Reference-Line\" data-toc-modified-id=\"Reference-Line-3\">Reference Line<a id=\"ref_line\"></a></a></span></li><li><span><a href=\"#Markers\" data-toc-modified-id=\"Markers-4\">Markers<a id=\"markers\"></a></a></span></li><li><span><a href=\"#An-Alternative-Way-of-Setting-Makers\" data-toc-modified-id=\"An-Alternative-Way-of-Setting-Makers-5\">An Alternative Way of Setting Makers<a id=\"markers2\"></a></a></span></li><li><span><a href=\"#Create-a-Connecting-Line-Between-Dots\" data-toc-modified-id=\"Create-a-Connecting-Line-Between-Dots-6\">Create a Connecting Line Between Dots<a id=\"lines\"></a></a></span></li><li><span><a href=\"#Grouping-by-Splitting-Lines\" data-toc-modified-id=\"Grouping-by-Splitting-Lines-7\">Grouping by Splitting Lines<a id=\"lines2\"></a></a></span></li><li><span><a href=\"#Legend\" data-toc-modified-id=\"Legend-8\">Legend<a id=\"legend\"></a></a></span></li><li><span><a href=\"#Additional-Axes\" data-toc-modified-id=\"Additional-Axes-9\">Additional Axes<a id=\"axes\"></a></a></span></li><li><span><a href=\"#Two-Quadrants-Taylor-Diagram\" data-toc-modified-id=\"Two-Quadrants-Taylor-Diagram-10\">Two-Quadrants Taylor Diagram<a id=\"2quad\"></a></a></span></li><li><span><a href=\"#Controllable-Components\" data-toc-modified-id=\"Controllable-Components-11\">Controllable Components<a id=\"comp\"></a></a></span></li></ul></div>"
   ]
  },
  {
   "cell_type": "markdown",
   "metadata": {},
   "source": [
    "# Create VCS canvas<a id='vcs'></a>\n",
    "([Back to Top](#top))"
   ]
  },
  {
   "cell_type": "code",
   "execution_count": null,
   "metadata": {},
   "outputs": [],
   "source": [
    "from __future__ import print_function\n",
    "\n",
    "import vcs\n",
    "x = vcs.init()"
   ]
  },
  {
   "cell_type": "markdown",
   "metadata": {},
   "source": [
    "# Prepare Input Data<a id='input'></a>\n",
    "([Back to Top](#top))\n",
    "\n",
    "Standard deviation and correlation values are required. The following creates hypothetical input named \"data\" for testing."
   ]
  },
  {
   "cell_type": "code",
   "execution_count": null,
   "metadata": {},
   "outputs": [],
   "source": [
    "# Create 7 dummy data points representing 6 different models and 1 reference (observational) data point.\n",
    "import MV2\n",
    "corr = [.2, .5, .7, .85, .9, .95, .99]\n",
    "std = [1.6, 1.7, 1.5, 1.2 , .8, .9, .98]\n",
    "\n",
    "data_tmp1 = list(zip(std, corr))\n",
    "data_tmp2 = list(data_tmp1)"
   ]
  },
  {
   "cell_type": "code",
   "execution_count": null,
   "metadata": {},
   "outputs": [],
   "source": [
    "data = MV2.array(data_tmp2)\n",
    "data.id = \"My Taylor Diagram Data\"\n",
    "\n",
    "print('data:\\n', data)\n",
    "print('data shape:', data.shape)"
   ]
  },
  {
   "cell_type": "markdown",
   "metadata": {},
   "source": [
    "Plot the initial version using VCS module. \"vcs.createtaylordiagram\" is for creating the template. "
   ]
  },
  {
   "cell_type": "code",
   "execution_count": null,
   "metadata": {},
   "outputs": [],
   "source": [
    "taylor = vcs.createtaylordiagram()\n",
    "x.plot(data,taylor)"
   ]
  },
  {
   "cell_type": "markdown",
   "metadata": {},
   "source": [
    "# Reference Line<a id='ref_line'></a>\n",
    "([Back to Top](#top))\n",
    "\n",
    "The dotted curved line in the plot indicates a reference line. Let's say your reference data (i.e. your observations) has a standard deviation of 1.2. You may want to move the `reference` line to cross at 1.2, as shown below."
   ]
  },
  {
   "cell_type": "code",
   "execution_count": null,
   "metadata": {},
   "outputs": [],
   "source": [
    "# Reference point\n",
    "taylor.referencevalue=1.2\n",
    "x.clear()\n",
    "x.plot(data,taylor)"
   ]
  },
  {
   "cell_type": "markdown",
   "metadata": {},
   "source": [
    "# Markers<a id='markers'></a>\n",
    "([Back to Top](#top))\n",
    "\n",
    "You may want to distinguish the data points from each other and label them. You can adjust the marker as a shape and/or string, and create a legend. "
   ]
  },
  {
   "cell_type": "code",
   "execution_count": null,
   "metadata": {},
   "outputs": [],
   "source": [
    "# Marker attributes\n",
    "ids = [\"A1\",\"A2\",\"A3\",\"B1\",\"C1\",\"C2\",\"C3\"]\n",
    "id_sizes = [20., 15., 15., 15., 15., 15., 15.,]\n",
    "id_colors = [\"red\",\"orange\",\"green\",\"cyan\",\"blue\",\"purple\",\"black\"]\n",
    "symbols = [\"square\",\"dot\",\"circle\",\"triangle_right\",\"triangle_left\",\"triangle_up\",\"triangle_down\"]\n",
    "colors = [\"red\",\"orange\",\"green\",\"cyan\",\"blue\",\"purple\",\"black\"]\n",
    "sizes = [2., .5, 2., 2., 2., 2., 2.,]"
   ]
  },
  {
   "cell_type": "markdown",
   "metadata": {},
   "source": [
    "For text strings:\n",
    "- ids: Data id text strings. It could be model or dataset names.\n",
    "- id_sizes: Sizes of text id strings.\n",
    "- id_colors: Colors of text id strings.\n",
    "\n",
    "For symbols:\n",
    "- symbols: Shapes of markers.\n",
    "- colors: Colors of markers.\n",
    "- sizes: Sizes of markers symbols.\n",
    "\n",
    "\"id_colors\" and \"colors\" are not required to be identical, but it is a good idea in most cases to use the same color for a given text string and its corresponding symbol."
   ]
  },
  {
   "cell_type": "code",
   "execution_count": null,
   "metadata": {},
   "outputs": [],
   "source": [
    "taylor = vcs.createtaylordiagram()\n",
    "taylor.referencevalue=1.2\n",
    "for i in range(len(data)):\n",
    "    taylor.addMarker(id=ids[i],\n",
    "                     id_size=id_sizes[i],\n",
    "                     id_color=id_colors[i],\n",
    "                     symbol=symbols[i],\n",
    "                     color=colors[i],\n",
    "                     size=sizes[i])\n",
    "x.clear()\n",
    "x.plot(data,taylor)"
   ]
  },
  {
   "cell_type": "markdown",
   "metadata": {},
   "source": [
    "To adjust the position of text strings to avoid overlapping the symbol, use \"xoffset\" and \"yoffset\", which give the relative position from each of the (x, y) points. (The offsets can be positive or negative depending on where you want to position the text string labels.)"
   ]
  },
  {
   "cell_type": "code",
   "execution_count": null,
   "metadata": {},
   "outputs": [],
   "source": [
    "taylor = vcs.createtaylordiagram()\n",
    "taylor.referencevalue=1.2\n",
    "for i in range(len(data)):\n",
    "    taylor.addMarker(id=ids[i],\n",
    "                     id_size=id_sizes[i],\n",
    "                     id_color=id_colors[i],\n",
    "                     symbol=symbols[i],\n",
    "                     color=colors[i],\n",
    "                     size=sizes[i],\n",
    "                     xoffset=-2.5,\n",
    "                     yoffset=-5.5)\n",
    "x.clear()\n",
    "x.plot(data,taylor)"
   ]
  },
  {
   "cell_type": "markdown",
   "metadata": {},
   "source": [
    "# An Alternative Way of Setting Makers<a id='markers2'></a>\n",
    "([Back to Top](#top))\n",
    "\n",
    "Instead of using a \"for\" loop and the \"taylor.addMarker\" function, you can store those pre-defined values in the Taylor diagram template directly.\n",
    "\n",
    "For more information on templates, see the [VCS Templates Tutorial](https://cdat.llnl.gov/Jupyter-notebooks/vcs/VCS_Templates/VCS_Templates.html)."
   ]
  },
  {
   "cell_type": "code",
   "execution_count": null,
   "metadata": {},
   "outputs": [],
   "source": [
    "# The other way to set marker attributes\n",
    "taylor = vcs.createtaylordiagram()\n",
    "taylor.Marker.id = ids\n",
    "taylor.Marker.id_size = id_sizes\n",
    "taylor.Marker.id_color = id_colors\n",
    "taylor.Marker.symbol = symbols\n",
    "taylor.Marker.color = colors\n",
    "taylor.Marker.size = sizes\n",
    "taylor.Marker.xoffset = [-2.5,]*len(data)\n",
    "taylor.Marker.yoffset = [-5.5]*len(data)\n",
    "taylor.referencevalue=1.2\n",
    "x.clear()\n",
    "x.plot(data,taylor)"
   ]
  },
  {
   "cell_type": "markdown",
   "metadata": {},
   "source": [
    "# Create a Connecting Line Between Dots<a id='lines'></a>\n",
    "([Back to Top](#top))\n",
    "\n",
    "If needed, you can draw connecting lines between individual data points. In the example below, the line connects all the data dots in the order they occur in the data."
   ]
  },
  {
   "cell_type": "code",
   "execution_count": null,
   "metadata": {},
   "outputs": [],
   "source": [
    "taylor.Marker.line = [\"tail\",\"line\",\"line\",\"line\",\"line\",\"line\",\"head\"]\n",
    "taylor.Marker.line_type = [\"solid\",]*len(data)\n",
    "taylor.Marker.line_color = [\"dark grey\",]*len(data)\n",
    "taylor.Marker.line_size = [5.,5.,5.,5.,5.,5.,5.]\n",
    "x.clear()\n",
    "x.plot(data,taylor)"
   ]
  },
  {
   "cell_type": "markdown",
   "metadata": {},
   "source": [
    "# Grouping by Splitting Lines<a id='lines2'></a>\n",
    "([Back to Top](#top))\n",
    "\n",
    "Let's assume that you want to group your data. You can split a line in two by giving \"None\" for one of data points."
   ]
  },
  {
   "cell_type": "code",
   "execution_count": null,
   "metadata": {},
   "outputs": [],
   "source": [
    "# Let's split the line into 2 sets of lines with an empty marker in between.\n",
    "# The first line is dashed.\n",
    "taylor.Marker.line =  ['tail', 'line', 'head', None, 'tail', 'line', 'head']\n",
    "taylor.Marker.line_type = [\"dash\",\"dash\",\"dash\",\"solid\",\"solid\",\"solid\",\"solid\"]\n",
    "x.clear()\n",
    "x.plot(data,taylor)"
   ]
  },
  {
   "cell_type": "markdown",
   "metadata": {},
   "source": [
    "# Legend<a id='legend'></a>\n",
    "([Back to Top](#top))\n",
    "\n",
    "Instead of the legend at the bottom (the default position), you can move it where you want. \n",
    "- x1, x2, y1, y2 mark the four corners of the legend box and their values are a decimal fraction of the full page width (x) and length/height (y) which is 1.  "
   ]
  },
  {
   "cell_type": "code",
   "execution_count": null,
   "metadata": {},
   "outputs": [],
   "source": [
    "# Legend positioning for quadrant 1\n",
    "x.clear()\n",
    "template = vcs.createtemplate(source=\"deftaylor\")\n",
    "template.legend.x1 = .5\n",
    "template.legend.x2 = .6\n",
    "template.legend.y1 = .2\n",
    "template.legend.y2 = .65\n",
    "template.legend.line = \"black\"\n",
    "x.plot(data,taylor,template)"
   ]
  },
  {
   "cell_type": "markdown",
   "metadata": {},
   "source": [
    "# Additional Axes<a id='axes'></a>\n",
    "([Back to Top](#top))\n",
    "\n",
    "- You can add isolines to show an additional measure of skill. \n",
    "- See Figure 10 and 11 of \"[Taylor 2001: Summarizing multiple aspects of model performance in a single diagram, Journal of Geophysical Research, 106(D7): 7183-7192](http://onlinelibrary.wiley.com/doi/10.1029/2000JD900719/abstract)\", for details. "
   ]
  },
  {
   "cell_type": "markdown",
   "metadata": {},
   "source": [
    "This first example uses the default skill function."
   ]
  },
  {
   "cell_type": "code",
   "execution_count": null,
   "metadata": {},
   "outputs": [],
   "source": [
    "# Skill scores - using the default skill function\n",
    "x.clear()\n",
    "x.plot(data,taylor,skill=taylor.defaultSkillFunction)"
   ]
  },
  {
   "cell_type": "markdown",
   "metadata": {},
   "source": [
    "This second example uses a custom skill function."
   ]
  },
  {
   "cell_type": "code",
   "execution_count": null,
   "metadata": {},
   "outputs": [],
   "source": [
    "# Skill scores - using a custom skill function\n",
    "import numpy\n",
    "def mySkill(s,r):\n",
    "    return (4*numpy.ma.power(1+r,4))/(numpy.power(s+1./s,2)*numpy.power(1+r*2.,4))\n",
    "x.clear()\n",
    "x.plot(data,taylor,skill=mySkill)"
   ]
  },
  {
   "cell_type": "markdown",
   "metadata": {},
   "source": [
    "This third example uses the default skill function from the first example, but uses the template defined above to move the legend to the side."
   ]
  },
  {
   "cell_type": "code",
   "execution_count": null,
   "metadata": {},
   "outputs": [],
   "source": [
    "# Skill scores - using the default skill function + the template to move the legend.\n",
    "x.clear()\n",
    "x.plot(data,taylor,template,skill=taylor.defaultSkillFunction)"
   ]
  },
  {
   "cell_type": "markdown",
   "metadata": {},
   "source": [
    "# Two-Quadrants Taylor Diagram<a id='2quad'></a>\n",
    "([Back to Top](#top))\n",
    "\n",
    "- When you have a negative value for a correlation you may want to expand your plot to the negative correlation quadrant. \n",
    "- See Figure 2 of \"[Taylor 2001: Summarizing multiple aspects of model performance in a single diagram, Journal of Geophysical Research, 106(D7): 7183-7192](http://onlinelibrary.wiley.com/doi/10.1029/2000JD900719/abstract)\", for details. "
   ]
  },
  {
   "cell_type": "code",
   "execution_count": null,
   "metadata": {},
   "outputs": [],
   "source": [
    "# Negative correlation: Two quadrants\n",
    "taylor.quadrans = 2 # default: 1\n",
    "\n",
    "# Tweak input data to have negative number\n",
    "data2 = data.copy()\n",
    "data2[0,1] = -data2[0,1]\n",
    "\n",
    "# Plot\n",
    "x.clear()\n",
    "x.plot(data2,taylor)"
   ]
  },
  {
   "cell_type": "markdown",
   "metadata": {},
   "source": [
    "# Controllable Components<a id='comp'></a>\n",
    "([Back to Top](#top))\n",
    "\n",
    "`taylor.list()` allows you to check all the components that you can control."
   ]
  },
  {
   "cell_type": "code",
   "execution_count": null,
   "metadata": {},
   "outputs": [],
   "source": [
    "taylor = vcs.createtaylordiagram()\n",
    "taylor.list()"
   ]
  },
  {
   "cell_type": "markdown",
   "metadata": {},
   "source": [
    "![Taylor Diagram](https://cdat.llnl.gov/cdat/vcdat/images/Taylor_diagram_details.jpg)"
   ]
  },
  {
   "cell_type": "markdown",
   "metadata": {},
   "source": [
    "--------\n",
    "The CDAT software was developed by LLNL. This tutorial was written by Charles Doutriaux and Jiwoo Lee (18 Sep. 2017), with clarifying edits by Holly Davis (30 Sep. 2019). This work was performed under the auspices of the U.S. Department of Energy by Lawrence Livermore National Laboratory under Contract DE-AC52-07NA27344.\n",
    "\n",
    "If you have questions about this notebook, please email our [CDAT Support](cdat-support@llnl.gov) address, cdat-support@llnl.gov."
   ]
  }
 ],
 "metadata": {
  "kernelspec": {
   "display_name": "Python 3",
   "language": "python",
   "name": "python3"
  },
  "language_info": {
   "codemirror_mode": {
    "name": "ipython",
    "version": 3
   },
   "file_extension": ".py",
   "mimetype": "text/x-python",
   "name": "python",
   "nbconvert_exporter": "python",
   "pygments_lexer": "ipython3",
   "version": "3.6.7"
  },
  "toc": {
   "base_numbering": 1,
   "nav_menu": {},
   "number_sections": false,
   "sideBar": true,
   "skip_h1_title": false,
   "title_cell": "Table of Contents",
   "title_sidebar": "Contents",
   "toc_cell": true,
   "toc_position": {},
   "toc_section_display": true,
   "toc_window_display": false
  }
 },
 "nbformat": 4,
 "nbformat_minor": 2
}
