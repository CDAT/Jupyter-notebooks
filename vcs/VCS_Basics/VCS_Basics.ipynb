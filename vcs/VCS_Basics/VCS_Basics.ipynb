{
 "cells": [
  {
   "cell_type": "markdown",
   "metadata": {},
   "source": [
    "# Visualization Control System Basic Tutorial<a id='top' class=\"tocSkip\"> </a>\n",
    "\n",
    "VCS allows scientists to produce highly customized plots. Everything can be precisely and logically controlled, without engaging in a guessing game.\n",
    "\n",
    "\n",
    "The CDAT software was developed by LLNL. This tutorial was written by Charles Doutriaux. This work was performed under the auspices of the U.S. Department of Energy by Lawrence Livermore National Laboratory under Contract DE-AC52-07NA27344.\n",
    "\n",
    "This tutorial is a high level *flight* of VCS capabilities.\n",
    "\n",
    "We encourage you to also consult the [VCS Principles Notebook](../VCS_Principles/VCS_Principles.ipynb) and the [CDMS 101](../../cdms/cdms2_101/cdms2_101.ipynb) notebook.\n",
    "\n",
    "[Download the Jupyter Notebook](VCS_Basics.ipynb)"
   ]
  },
  {
   "cell_type": "markdown",
   "metadata": {
    "toc": true
   },
   "source": [
    "<h1>Table of Contents<span class=\"tocSkip\"></span></h1>\n",
    "<div class=\"toc\"><ul class=\"toc-item\"><li><span><a href=\"#Setup-Notebook-\" data-toc-modified-id=\"Setup-Notebook--1\">Setup Notebook <a id=\"setup\"></a></a></span></li><li><span><a href=\"#Opening-Data-Files-\" data-toc-modified-id=\"Opening-Data-Files--2\">Opening Data Files <a id=\"open\"></a></a></span></li><li><span><a href=\"#Querying-File-\" data-toc-modified-id=\"Querying-File--3\">Querying File <a id=\"query\"></a></a></span></li><li><span><a href=\"#First-Plot-\" data-toc-modified-id=\"First-Plot--4\">First Plot <a id=\"first_plot\"></a></a></span></li><li><span><a href=\"#Subsetting-Data\" data-toc-modified-id=\"Subsetting-Data-5\">Subsetting Data<a id=\"subset\"></a></a></span></li><li><span><a href=\"#Using-Isolines\" data-toc-modified-id=\"Using-Isolines-6\">Using Isolines<a id=\"isolines\"></a></a></span></li><li><span><a href=\"#Cross-Sections\" data-toc-modified-id=\"Cross-Sections-7\">Cross Sections<a id=\"cross\"></a></a></span></li><li><span><a href=\"#Easy-Plot-Tweaks\" data-toc-modified-id=\"Easy-Plot-Tweaks-8\">Easy Plot Tweaks<a id=\"tweaks\"></a></a></span></li><li><span><a href=\"#Overlays\" data-toc-modified-id=\"Overlays-9\">Overlays<a id=\"overlay\"></a></a></span></li><li><span><a href=\"#Manipulating-Variables\" data-toc-modified-id=\"Manipulating-Variables-10\">Manipulating Variables<a id=\"manipulate\"></a></a></span></li><li><span><a href=\"#Averaging-\" data-toc-modified-id=\"Averaging--11\">Averaging <a id=\"average\"></a></a></span><ul class=\"toc-item\"><li><span><a href=\"#Average-Across-Time\" data-toc-modified-id=\"Average-Across-Time-11.1\">Average Across Time</a></span></li><li><span><a href=\"#Remove-Zonal-Mean\" data-toc-modified-id=\"Remove-Zonal-Mean-11.2\">Remove Zonal Mean</a></span></li><li><span><a href=\"#Time-Difference\" data-toc-modified-id=\"Time-Difference-11.3\">Time Difference</a></span></li><li><span><a href=\"#Time-Offset\" data-toc-modified-id=\"Time-Offset-11.4\">Time Offset</a></span></li></ul></li><li><span><a href=\"#Other-graphic-methods\" data-toc-modified-id=\"Other-graphic-methods-12\">Other graphic methods<a id=\"others\"></a></a></span><ul class=\"toc-item\"><li><span><a href=\"#Isofill\" data-toc-modified-id=\"Isofill-12.1\">Isofill<a id=\"isofill\"></a></a></span></li><li><span><a href=\"#Vectors-\" data-toc-modified-id=\"Vectors--12.2\">Vectors <a id=\"vectors\"></a></a></span></li><li><span><a href=\"#Streamlines-\" data-toc-modified-id=\"Streamlines--12.3\">Streamlines <a id=\"stream\"></a></a></span></li></ul></li><li><span><a href=\"#Meshfill-\" data-toc-modified-id=\"Meshfill--13\">Meshfill <a id=\"meshfill\"></a></a></span></li><li><span><a href=\"#Projections-\" data-toc-modified-id=\"Projections--14\">Projections <a id=\"proj\"></a></a></span></li><li><span><a href=\"#Going-Deeper\" data-toc-modified-id=\"Going-Deeper-15\">Going Deeper<a id=\"deeper\"></a></a></span></li></ul></div>"
   ]
  },
  {
   "cell_type": "markdown",
   "metadata": {},
   "source": [
    "# Setup Notebook <a id=\"setup\"></a> \n",
    "\n",
    "<a href=\"#toc\">Back To Top</a>\n",
    "\n",
    "First let's download some sample data, specifically the three NetCDF files: ta_ncep_87-6-88-4.nc, clt.nc, and sampleCurveGrid4.nc, which will be stored in the same directory as this notebook."
   ]
  },
  {
   "cell_type": "code",
   "execution_count": null,
   "metadata": {},
   "outputs": [],
   "source": [
    "from __future__ import print_function\n",
    "import requests\n",
    "import os\n",
    "\n",
    "for filename in ['ta_ncep_87-6-88-4.nc', 'clt.nc', 'sampleCurveGrid4.nc']:\n",
    "    if not os.path.exists(filename):\n",
    "        r = requests.get(\"https://cdat.llnl.gov/cdat/sample_data/{}\".format(filename), stream=True)\n",
    "        with open(filename,\"wb\") as f:\n",
    "            for chunk in r.iter_content(chunk_size=1024):\n",
    "                if chunk:\n",
    "                    f.write(chunk) # write this chunk to a local version of the file\n"
   ]
  },
  {
   "cell_type": "markdown",
   "metadata": {},
   "source": [
    "# Opening Data Files <a id=\"open\"></a>\n",
    "<a href=\"#toc\">Back To Top</a>\n",
    "\n",
    "First we will open one of our demo files, which is done via the `cdms2` module."
   ]
  },
  {
   "cell_type": "code",
   "execution_count": null,
   "metadata": {},
   "outputs": [],
   "source": [
    "import cdms2\n",
    "\n",
    "f = cdms2.open(\"ta_ncep_87-6-88-4.nc\")"
   ]
  },
  {
   "cell_type": "markdown",
   "metadata": {},
   "source": [
    "# Querying File <a id=\"query\"></a>\n",
    "<a href=\"#toc\">Back To Top</a>\n",
    "\n",
    "Next we will query the file to learn which variables it contains."
   ]
  },
  {
   "cell_type": "code",
   "execution_count": null,
   "metadata": {},
   "outputs": [],
   "source": [
    "f.variables.keys()"
   ]
  },
  {
   "cell_type": "markdown",
   "metadata": {},
   "source": [
    "We can obtain information on a specific variable. In the next line of code we look at the `ta` variable which is the Air Temperature in degrees Kelvin (K). The file contains 11 months of of Air Temperature data (the \"T\" axis), with 17 different atmospheric pressure levels (the Z axis), and spans the whole globe with latitude ranging from 90 to -90 and longitude from 0 to 360. The latitude axis is Y and the longitude axis is X. (If this seems backwards, think of the values of latitude increasing or decreasing along the Y axis though the actual lines of latitude - or parallels - follow the X axis)."
   ]
  },
  {
   "cell_type": "code",
   "execution_count": null,
   "metadata": {},
   "outputs": [],
   "source": [
    "f[\"ta\"].info()"
   ]
  },
  {
   "cell_type": "markdown",
   "metadata": {},
   "source": [
    "In general, with the latitude dimension having a length of 73 (meaning there are 73 temperature values from -90 to 90 degrees) and the longitude dimension having a length of 144 (or 144 temperature values from 0 to 360 degrees), a single temperature value spans a 2.5 x 2.5 degree portion of the globe. The exception is in the latitude dimension which would normally have a length of 72 if all sections of the grid were 2.5 degrees. Instead it has a length of 73 because the first and last grid elements (at -90 and 90 degrees) are 1.25 degrees tall  each not 2.5. You can see this by displaying the latitude slices in the data using the `.getBounds()` method."
   ]
  },
  {
   "cell_type": "code",
   "execution_count": null,
   "metadata": {},
   "outputs": [],
   "source": [
    "f[\"ta\"].getLatitude().getBounds()"
   ]
  },
  {
   "cell_type": "markdown",
   "metadata": {},
   "source": [
    "# First Plot <a id=\"first_plot\"></a>\n",
    "\n",
    "<a href=\"#toc\">Back To Top</a>\n",
    "\n",
    "Let's visualize the `ta` variable. For this we will need the `vcs` module.\n",
    "We will also need a vcs `canvas` upon which to plot the data."
   ]
  },
  {
   "cell_type": "code",
   "execution_count": null,
   "metadata": {},
   "outputs": [],
   "source": [
    "import vcs\n",
    "canvas = vcs.init()\n",
    "canvas.plot(f[\"ta\"]) # This plots the first time interval (1987/6/1) and the first atmospheric level (1000)."
   ]
  },
  {
   "cell_type": "markdown",
   "metadata": {},
   "source": [
    "# Subsetting Data<a id=\"subset\"></a>\n",
    "\n",
    "<a href=\"#toc\">Back To Top</a>\n",
    "\n",
    "\n",
    "In the above plot we used all the variable dimensions (time, level, latitude and longitude) and therefore got a ***boxfill***. (If the data has at least two dimensions for the variable being plotted, the default plot type is boxfill.) \n",
    "\n",
    "You can load and use a subset of the dimensions. Notice how we can use either the actual dimension value or indices (via `slice`). For this dataset the longitude values range from 0 to 360, so specifying a -90 value for longintude means 360-90 = 270."
   ]
  },
  {
   "cell_type": "code",
   "execution_count": null,
   "metadata": {},
   "outputs": [],
   "source": [
    "data = f[\"ta\"](longitude=-90, latitude=40, level=500, time=slice(0,1))\n",
    "print(data)"
   ]
  },
  {
   "cell_type": "markdown",
   "metadata": {},
   "source": [
    "In the previous example we fixed all dimensions and therefore got a single value. Let's subset longitude to a range rather than a single value and plot it.\n",
    "\n",
    "The \"squeeze\" parameter in the first line below prevents dimensions of length 1 (e.g. latitude, level, and time) from being plotted."
   ]
  },
  {
   "cell_type": "code",
   "execution_count": null,
   "metadata": {},
   "outputs": [],
   "source": [
    "data = f[\"ta\"](longitude=(0,180), latitude=40, level=500, time=slice(0,1), squeeze=1)\n",
    "canvas.clear()\n",
    "canvas.plot(data)"
   ]
  },
  {
   "cell_type": "markdown",
   "metadata": {},
   "source": [
    "# Using Isolines<a id=\"isolines\"></a>\n",
    "\n",
    "<a href=\"#toc\">Back To Top</a>\n",
    "\n",
    "Now if we want an ***isoline*** rather than the default ***boxfill***, we will need to create the associated `isoline` graphic rendering object using vcs' `createisoline` method.  "
   ]
  },
  {
   "cell_type": "code",
   "execution_count": null,
   "metadata": {},
   "outputs": [],
   "source": [
    "isoline = vcs.createisoline()\n",
    "data = f(\"ta\")\n",
    "canvas.clear()\n",
    "canvas.plot(data, isoline)"
   ]
  },
  {
   "cell_type": "markdown",
   "metadata": {},
   "source": [
    "# Cross Sections<a id=\"cross\"></a>\n",
    "\n",
    "<a href=\"#toc\">Back To Top</a>\n",
    "\n",
    "Let's plot a cross section of the data."
   ]
  },
  {
   "cell_type": "code",
   "execution_count": null,
   "metadata": {},
   "outputs": [],
   "source": [
    "canvas.clear()\n",
    "data = f[\"ta\"](longitude=-90, latitude=(-90,90), level=(1000,100), time=slice(0,1), squeeze=1)\n",
    "canvas.plot(data, isoline)"
   ]
  },
  {
   "cell_type": "markdown",
   "metadata": {},
   "source": [
    "We can also colorize the isoline if we want and turn on labels."
   ]
  },
  {
   "cell_type": "code",
   "execution_count": null,
   "metadata": {},
   "outputs": [],
   "source": [
    "levels = vcs.mkscale(*vcs.minmax(data))\n",
    "colors = vcs.getcolors(levels)\n",
    "isoline.levels = levels\n",
    "isoline.linecolors = colors\n",
    "isoline.label = True\n",
    "isoline.textcolors= colors\n",
    "canvas.clear()\n",
    "canvas.plot(data, isoline)"
   ]
  },
  {
   "cell_type": "markdown",
   "metadata": {},
   "source": [
    "# Easy Plot Tweaks<a id=\"tweaks\"></a>\n",
    "\n",
    "<a href=\"#toc\">Back To Top</a>\n",
    "\n",
    "\n",
    "We can also control the dimensions' \"range\" on the plot via the `isoline` graphic rendering object,"
   ]
  },
  {
   "cell_type": "code",
   "execution_count": null,
   "metadata": {},
   "outputs": [],
   "source": [
    "data = f[\"ta\"](longitude=-90, time=slice(0,1), squeeze=1)\n",
    "# The next two lines put the North Pole on the left of the plot\n",
    "isoline.datawc_x1 = 90\n",
    "isoline.datawc_x2 = -90\n",
    "isoline.datawc_y1 = 3  # log10(1000)\n",
    "isoline.datawc_y2 = 2.3  # log10(200)"
   ]
  },
  {
   "cell_type": "markdown",
   "metadata": {},
   "source": [
    "Or tweak the axes' scale (turn the y axis - the atmospheric pressure levels - into a base 10 logarithmic scale), "
   ]
  },
  {
   "cell_type": "code",
   "execution_count": null,
   "metadata": {},
   "outputs": [],
   "source": [
    "isoline.yaxisconvert = \"log10\""
   ]
  },
  {
   "cell_type": "markdown",
   "metadata": {},
   "source": [
    "Or change the default labels."
   ]
  },
  {
   "cell_type": "code",
   "execution_count": null,
   "metadata": {},
   "outputs": [],
   "source": [
    "isoline.yticlabels1 = {1000:\"1000\", 800:\"800\", 500: \"500\", 20:\"20\"}\n",
    "canvas.clear()\n",
    "canvas.plot(data, isoline)"
   ]
  },
  {
   "cell_type": "markdown",
   "metadata": {},
   "source": [
    "# Overlays<a id=\"overlay\"></a>\n",
    "\n",
    "<a href=\"#toc\">Back To Top</a>\n",
    "\n",
    "\n",
    "Now let's overlay another variable. Since it has different values, we will create a separate `isoline` graphic rendering object, `iso2`."
   ]
  },
  {
   "cell_type": "code",
   "execution_count": null,
   "metadata": {},
   "outputs": [],
   "source": [
    "f2 = cdms2.open(\"clt.nc\")\n",
    "u = f2(\"u\", longitude=-90., time=slice(0,1), squeeze=1)  # First time slice\n",
    "iso2 = vcs.createisoline(source=isoline)  # Essentially makes a copy\n",
    "levels = vcs.mkscale(*vcs.minmax(u))\n",
    "iso2.levels = levels\n",
    "colors = [\"blue\",]  # Blue lines\n",
    "iso2.linecolors = colors\n",
    "iso2.textcolors = colors\n",
    "canvas.clear()\n",
    "canvas.plot(data, isoline)\n",
    "canvas.plot(u, iso2)"
   ]
  },
  {
   "cell_type": "markdown",
   "metadata": {},
   "source": [
    "# Manipulating Variables<a id=\"manipulate\"></a>\n",
    "\n",
    "<a href=\"#toc\">Back To Top</a>\n",
    "\n",
    "Manipulating variables is easy. Let's plot the temperature in Fahrenheit rather than Kelvin.\n",
    "\n",
    "As the `.info()` command shows, even though we've changed the values of the `ta` variable to be in Fahrenheit, the title still says the Air Temperature is in Kelvin, the units are not specified, and everything else remains the same as before the conversion into Fahrenheit."
   ]
  },
  {
   "cell_type": "code",
   "execution_count": null,
   "metadata": {},
   "outputs": [],
   "source": [
    "ta_f = (f[\"ta\"]-273.15)*9/5+32\n",
    "ta_f.info()"
   ]
  },
  {
   "cell_type": "markdown",
   "metadata": {},
   "source": [
    "The next two lines specify that the units are Fahrenheit (for plotting purposes) and adjusts the title to match the data. `$^o$F` is the sequence of characters that is needed to properly plot the degree symbol and \"F\" on the image ($^o$F). When we type `ta_f.info()`, we can see that the units and title have been updated."
   ]
  },
  {
   "cell_type": "code",
   "execution_count": null,
   "metadata": {},
   "outputs": [],
   "source": [
    "ta_f.units = r\"$^o$F\"\n",
    "ta_f.title = r\"Air Temperature ($^o$F)\"\n",
    "ta_f.info()"
   ]
  },
  {
   "cell_type": "code",
   "execution_count": null,
   "metadata": {},
   "outputs": [],
   "source": [
    "canvas.clear()\n",
    "canvas.plot(ta_f)"
   ]
  },
  {
   "cell_type": "markdown",
   "metadata": {},
   "source": [
    "We can also combine variables together or perform other calculations."
   ]
  },
  {
   "cell_type": "code",
   "execution_count": null,
   "metadata": {},
   "outputs": [],
   "source": [
    "u = f2(\"u\")\n",
    "v = f2(\"v\")\n",
    "speed = cdms2.MV2.sqrt(u**2 + v**2)\n",
    "speed.id = \"Wind Speed\"\n",
    "speed.units = \"m/s\"\n",
    "canvas.clear()\n",
    "canvas.plot(speed)"
   ]
  },
  {
   "cell_type": "markdown",
   "metadata": {},
   "source": [
    "# Averaging <a id=\"average\"></a>\n",
    "\n",
    "<a href=\"#toc\">Back To Top</a>\n",
    "\n",
    "## Average Across Time\n",
    "Using the genutil module we can also easily average across one of the dimensions, such as `time` in the example below."
   ]
  },
  {
   "cell_type": "code",
   "execution_count": null,
   "metadata": {},
   "outputs": [],
   "source": [
    "import genutil, cdutil\n",
    "data = f(\"ta\", time=slice(0,5))\n",
    "ta_avg = genutil.averager(data, axis='t')\n",
    "canvas.clear()\n",
    "canvas.plot(ta_avg)"
   ]
  },
  {
   "cell_type": "markdown",
   "metadata": {},
   "source": [
    "## Remove Zonal Mean\n",
    "We can also remove the zonal mean by averaging over longitude. For each latitude slice in the data, the `averager` function below averages the tempeartures over all the longitudes and stores a single averaged value for that latitude. Hence, after averaging `ta_zm` no longer has longitude values."
   ]
  },
  {
   "cell_type": "code",
   "execution_count": null,
   "metadata": {},
   "outputs": [],
   "source": [
    "ta = f(\"ta\")\n",
    "ta_zm = genutil.averager(f(\"ta\"), axis=\"x\")\n",
    "ta_zm.shape"
   ]
  },
  {
   "cell_type": "markdown",
   "metadata": {},
   "source": [
    "To remove the zonal mean we need to subtract `ta_zm` from `ta`, but to do that the two need to be the same size and shape (11, 17, 73, 144). Hence we need to grow `ta_zm` in the longitudinal direction. This will take the average temperature for each latitude band and spread it across all 144 longitude values in the file to match `ta`."
   ]
  },
  {
   "cell_type": "code",
   "execution_count": null,
   "metadata": {},
   "outputs": [],
   "source": [
    "ta, ta_zm = genutil.grower(ta, ta_zm)\n",
    "ta_zm.shape"
   ]
  },
  {
   "cell_type": "code",
   "execution_count": null,
   "metadata": {
    "scrolled": true
   },
   "outputs": [],
   "source": [
    "canvas.clear()\n",
    "canvas.plot(ta-ta_zm) # the zonal mean has been removed."
   ]
  },
  {
   "cell_type": "markdown",
   "metadata": {},
   "source": [
    "## Time Difference\n",
    "We can do a simple time difference (last - first time point)."
   ]
  },
  {
   "cell_type": "code",
   "execution_count": null,
   "metadata": {},
   "outputs": [],
   "source": [
    "diff = ta[-1] - ta[0]\n",
    "diff.shape"
   ]
  },
  {
   "cell_type": "markdown",
   "metadata": {},
   "source": [
    "## Time Offset\n",
    "We can offset all points by one day."
   ]
  },
  {
   "cell_type": "code",
   "execution_count": null,
   "metadata": {},
   "outputs": [],
   "source": [
    "offset = ta[1:] - ta[:-1]\n",
    "offset.shape"
   ]
  },
  {
   "cell_type": "markdown",
   "metadata": {},
   "source": [
    "Note that the other axes are preserved."
   ]
  },
  {
   "cell_type": "code",
   "execution_count": null,
   "metadata": {},
   "outputs": [],
   "source": [
    "offset.getAxisList()"
   ]
  },
  {
   "cell_type": "markdown",
   "metadata": {},
   "source": [
    "# Other graphic methods<a id=\"others\"></a>\n",
    "\n",
    "Now we will move on to the topic of controlling the graphics output. So far, we have usually allowed VCS to chose the defaults.\n",
    "\n",
    "## Isofill<a id=\"isofill\"></a>\n",
    "\n",
    "<a href=\"#toc\">Back To Top</a>\n",
    "\n",
    "We have already seen the default `boxfill` and how to use `isoline`. Another available plot type combines these two and is called `isolfill`. In the example below the isofill object is called `gm` (for graphic method) and is generated using the `createisofill` method. The plot covers North America, Greenland and the north Atlantic at the 500 millibar level and the first time value of 1987/6/1 or June 1, 1987."
   ]
  },
  {
   "cell_type": "code",
   "execution_count": null,
   "metadata": {},
   "outputs": [],
   "source": [
    "ta = f(\"ta\", longitude=(-180, 0), latitude=(0,90), level=500, squeeze=1)\n",
    "gm = vcs.createisofill()\n",
    "canvas.clear()\n",
    "canvas.plot(ta, gm)"
   ]
  },
  {
   "cell_type": "markdown",
   "metadata": {},
   "source": [
    "## Vectors <a id=\"vectors\"></a>\n",
    "\n",
    "<a href=\"#toc\">Back To Top</a>\n",
    "\n",
    "The `vector` plot type requires 2 variables. Here they are the u and v components of the wind. The `vector` graphic rendering object (`gm`) is generated via the `createvector` method. "
   ]
  },
  {
   "cell_type": "code",
   "execution_count": null,
   "metadata": {},
   "outputs": [],
   "source": [
    "u = f2(\"u\", longitude=(-180, 0), latitude=(0,90), squeeze=1)\n",
    "v = f2(\"v\", longitude=(-180, 0), latitude=(0,90), squeeze=1)\n",
    "gm = vcs.createvector()\n",
    "canvas.clear()\n",
    "canvas.plot(u, v, gm)"
   ]
  },
  {
   "cell_type": "markdown",
   "metadata": {},
   "source": [
    "## Streamlines <a id=\"stream\"></a>\n",
    "\n",
    "<a href=\"#toc\">Back To Top</a>\n",
    "\n",
    "The `streamlines` plot type also requires 2 variables. Here we are using the u and v components of the wind, which we defined above."
   ]
  },
  {
   "cell_type": "code",
   "execution_count": null,
   "metadata": {},
   "outputs": [],
   "source": [
    "gm = vcs.createstreamline()\n",
    "canvas.clear()\n",
    "canvas.plot(u,v, gm)"
   ]
  },
  {
   "cell_type": "markdown",
   "metadata": {},
   "source": [
    "# Meshfill <a id='meshfill'></a>\n",
    "\n",
    "<a href=\"#toc\">Back to Top</a>\n",
    "\n",
    "If your NetCDF file is CF compliant, VCS can plot generic grids right out of the box. Here we are using a sample curvilinear grid. The sample variable (\"sample\") is assigned to the variable name `curv` and `m` is the meshfill graphic rendering object created via the `createmeshfill` method. "
   ]
  },
  {
   "cell_type": "code",
   "execution_count": null,
   "metadata": {},
   "outputs": [],
   "source": [
    "f3 = cdms2.open(\"sampleCurveGrid4.nc\")\n",
    "curv = f3(\"sample\")\n",
    "\n",
    "m = vcs.createmeshfill()"
   ]
  },
  {
   "cell_type": "markdown",
   "metadata": {},
   "source": [
    "The first plot we will look at is the raw data that makes up the curviliniear grid. The grid itself is 32 rows by 48 columns.\n",
    "\n",
    "The sample data that fills this grid were created to have some data to plot. The data values were generated by starting with a low value of 0.0 in the 0,0 location and increasing to a maximum value of 1535.0 in the last row and column. If we plot this data using 32 rows and 48 columns we get the following image which has the highest value of 1535.0 in the upper right-hand corner."
   ]
  },
  {
   "cell_type": "code",
   "execution_count": null,
   "metadata": {},
   "outputs": [],
   "source": [
    "canvas.clear()\n",
    "canvas.plot(curv.filled())"
   ]
  },
  {
   "cell_type": "markdown",
   "metadata": {},
   "source": [
    "The purpose of this curvilinear grid is for modeling the oceans so this grid is wrapped around the Earth in such a way that the North Pole is over land rather than over the Arctic Ocean. Hence in the plot below the \"North Pole\" of the grid - the white area where there is no data -  is over land, i.e. northern Canada."
   ]
  },
  {
   "cell_type": "code",
   "execution_count": null,
   "metadata": {},
   "outputs": [],
   "source": [
    "canvas.clear()\n",
    "canvas.plot(curv, m)"
   ]
  },
  {
   "cell_type": "markdown",
   "metadata": {},
   "source": [
    "# Projections <a id=\"proj\"></a>\n",
    "\n",
    "<a href=\"#toc\">Back To Top</a>\n",
    "\n",
    "You can also adjust the projection. First create a projection graphic rendering object (`proj`) by using the `createprojection` method. Specify the projection type and the standard parallels, then assign that projection to the `.projection` attribute of your object. Here we've created a boxfill object called `gm` and assigned it the Lambert project with the first standard parallel at 0 and the second standard parallel at 89 degrees. We are using the `ta` object from the <a href=\"#isofill\">Isofill</a> example."
   ]
  },
  {
   "cell_type": "code",
   "execution_count": null,
   "metadata": {},
   "outputs": [],
   "source": [
    "proj = vcs.createprojection()\n",
    "proj.type = \"lambert\"\n",
    "proj.standardparallel1 = 0\n",
    "proj.standardparallel2 = 89\n",
    "gm = vcs.createboxfill()\n",
    "gm.projection = proj\n",
    "canvas.clear()\n",
    "canvas.plot(ta, gm)"
   ]
  },
  {
   "cell_type": "markdown",
   "metadata": {},
   "source": [
    "# Going Deeper<a id=\"deeper\"></a>\n",
    "\n",
    "<a href=\"#toc\">Back To Top</a>\n",
    "\n",
    "\n",
    "The [Tutorials](https://cdat.llnl.gov/tutorials) page offers in-depth details for each of the graphic methods."
   ]
  }
 ],
 "metadata": {
  "kernelspec": {
   "display_name": "Python [conda env:nightly_mesa] *",
   "language": "python",
   "name": "conda-env-nightly_mesa-py"
  },
  "language_info": {
   "codemirror_mode": {
    "name": "ipython",
    "version": 3
   },
   "file_extension": ".py",
   "mimetype": "text/x-python",
   "name": "python",
   "nbconvert_exporter": "python",
   "pygments_lexer": "ipython3",
   "version": "3.6.7"
  },
  "toc": {
   "base_numbering": 1,
   "nav_menu": {},
   "number_sections": false,
   "sideBar": true,
   "skip_h1_title": false,
   "title_cell": "Table of Contents",
   "title_sidebar": "Contents",
   "toc_cell": true,
   "toc_position": {},
   "toc_section_display": true,
   "toc_window_display": false
  }
 },
 "nbformat": 4,
 "nbformat_minor": 4
}
