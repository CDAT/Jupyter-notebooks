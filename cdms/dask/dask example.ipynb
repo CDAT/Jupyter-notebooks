{
 "cells": [
  {
   "cell_type": "markdown",
   "metadata": {
    "toc": true
   },
   "source": [
    "<h1>Table of Contents<span class=\"tocSkip\"></span></h1>\n",
    "<div class=\"toc\"><ul class=\"toc-item\"><li><span><a href=\"#Import-packages\" data-toc-modified-id=\"Import-packages-1\"><span class=\"toc-item-num\">1&nbsp;&nbsp;</span>Import packages</a></span></li><li><span><a href=\"#Intialize-dataset\" data-toc-modified-id=\"Intialize-dataset-2\"><span class=\"toc-item-num\">2&nbsp;&nbsp;</span>Intialize dataset</a></span></li><li><span><a href=\"#Compute-min/max\" data-toc-modified-id=\"Compute-min/max-3\"><span class=\"toc-item-num\">3&nbsp;&nbsp;</span>Compute min/max</a></span></li><li><span><a href=\"#Create-Cluster\" data-toc-modified-id=\"Create-Cluster-4\"><span class=\"toc-item-num\">4&nbsp;&nbsp;</span>Create Cluster</a></span></li><li><span><a href=\"#Compute-Histogram-for-CLT-variable\" data-toc-modified-id=\"Compute-Histogram-for-CLT-variable-5\"><span class=\"toc-item-num\">5&nbsp;&nbsp;</span>Compute Histogram for CLT variable</a></span></li><li><span><a href=\"#Display-results-with-VCS\" data-toc-modified-id=\"Display-results-with-VCS-6\"><span class=\"toc-item-num\">6&nbsp;&nbsp;</span>Display results with VCS</a></span></li></ul></div>"
   ]
  },
  {
   "cell_type": "markdown",
   "metadata": {},
   "source": [
    "# Import packages\n",
    "\n",
    "Use conda to install distributed and dask in your environmnent.\n",
    "  * **conda install -c conda-forge distributed dask**"
   ]
  },
  {
   "cell_type": "code",
   "execution_count": null,
   "metadata": {},
   "outputs": [],
   "source": [
    "import cdms2\n",
    "import cdat_info\n",
    "import dask.array as da\n",
    "from dask.distributed import LocalCluster\n",
    "from dask.distributed  import Client\n",
    "import vcs\n",
    "import vcsaddons"
   ]
  },
  {
   "cell_type": "markdown",
   "metadata": {},
   "source": [
    "# Intialize dataset\n",
    "Convert File Varible into a Dask Array"
   ]
  },
  {
   "cell_type": "code",
   "execution_count": null,
   "metadata": {},
   "outputs": [],
   "source": [
    "f = cdms2.open(cdat_info.get_sampledata_path()+\"/clt.nc\")\n",
    "dataFV=f[\"clt\"]\n",
    "myDaskArray= da.from_array(dataFV, chunks=(1,46,72))"
   ]
  },
  {
   "cell_type": "code",
   "execution_count": null,
   "metadata": {},
   "outputs": [],
   "source": [
    "myDaskArray"
   ]
  },
  {
   "cell_type": "markdown",
   "metadata": {},
   "source": [
    "# Compute min/max"
   ]
  },
  {
   "cell_type": "code",
   "execution_count": null,
   "metadata": {},
   "outputs": [],
   "source": [
    "min = myDaskArray.min()\n",
    "max = myDaskArray.max()\n",
    "print(min.compute(), max.compute())"
   ]
  },
  {
   "cell_type": "markdown",
   "metadata": {},
   "source": [
    "# Create Cluster"
   ]
  },
  {
   "cell_type": "code",
   "execution_count": null,
   "metadata": {},
   "outputs": [],
   "source": [
    "cluster=LocalCluster(n_workers=5,threads_per_worker=2)\n",
    "display(cluster)\n",
    "c=Client(cluster)\n",
    "c"
   ]
  },
  {
   "cell_type": "markdown",
   "metadata": {},
   "source": [
    "# Compute Histogram for CLT variable"
   ]
  },
  {
   "cell_type": "code",
   "execution_count": null,
   "metadata": {},
   "outputs": [],
   "source": [
    "f = cdms2.open(cdat_info.get_sampledata_path()+\"/clt.nc\")\n",
    "dataFV=f[\"clt\"]\n",
    "myDaskArray= da.from_array(dataFV, chunks=(1,46,72))\n",
    "h,bins=da.histogram(myDaskArray,bins=100,range=[1,100])\n",
    "bins\n",
    "results = h.compute()"
   ]
  },
  {
   "cell_type": "markdown",
   "metadata": {},
   "source": [
    "# Display results with VCS"
   ]
  },
  {
   "cell_type": "code",
   "execution_count": null,
   "metadata": {},
   "outputs": [],
   "source": [
    "plt=vcs.init()\n",
    "plt.plot(bins,results)"
   ]
  }
 ],
 "metadata": {
  "kernelspec": {
   "display_name": "Python 3",
   "language": "python",
   "name": "python3"
  },
  "language_info": {
   "codemirror_mode": {
    "name": "ipython",
    "version": 3
   },
   "file_extension": ".py",
   "mimetype": "text/x-python",
   "name": "python",
   "nbconvert_exporter": "python",
   "pygments_lexer": "ipython3",
   "version": "3.6.7"
  },
  "toc": {
   "base_numbering": 1,
   "nav_menu": {},
   "number_sections": true,
   "sideBar": true,
   "skip_h1_title": false,
   "title_cell": "Table of Contents",
   "title_sidebar": "Contents",
   "toc_cell": true,
   "toc_position": {},
   "toc_section_display": true,
   "toc_window_display": true
  }
 },
 "nbformat": 4,
 "nbformat_minor": 2
}
