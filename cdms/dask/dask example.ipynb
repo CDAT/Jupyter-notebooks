{
 "cells": [
  {
   "cell_type": "markdown",
   "metadata": {
    "toc": true
   },
   "source": [
    "<h1>Table of Contents<span class=\"tocSkip\"></span></h1>\n",
    "<div class=\"toc\"><ul class=\"toc-item\"><li><span><a href=\"#Import-packages\" data-toc-modified-id=\"Import-packages-1\"><span class=\"toc-item-num\">1&nbsp;&nbsp;</span>Import packages</a></span></li><li><span><a href=\"#Intialize-dataset\" data-toc-modified-id=\"Intialize-dataset-2\"><span class=\"toc-item-num\">2&nbsp;&nbsp;</span>Intialize dataset</a></span></li><li><span><a href=\"#Compute-min/max\" data-toc-modified-id=\"Compute-min/max-3\"><span class=\"toc-item-num\">3&nbsp;&nbsp;</span>Compute min/max</a></span></li><li><span><a href=\"#Create-Cluster\" data-toc-modified-id=\"Create-Cluster-4\"><span class=\"toc-item-num\">4&nbsp;&nbsp;</span>Create Cluster</a></span></li><li><span><a href=\"#Compute-Histogram-for-CLT-variable\" data-toc-modified-id=\"Compute-Histogram-for-CLT-variable-5\"><span class=\"toc-item-num\">5&nbsp;&nbsp;</span>Compute Histogram for CLT variable</a></span></li><li><span><a href=\"#Display-results-with-VCS\" data-toc-modified-id=\"Display-results-with-VCS-6\"><span class=\"toc-item-num\">6&nbsp;&nbsp;</span>Display results with VCS</a></span></li></ul></div>"
   ]
  },
  {
   "cell_type": "markdown",
   "metadata": {},
   "source": [
    "# Import packages\n",
    "\n",
    "Use conda to install distributed and dask in your environmnent. (If you are using Jupyter Notebook or Jupyter Lab, the simplest thing to do is to open a new command line window and activate the same CDAT environment that you are using for this notebook then run the following line of code in the new command line window.)\n",
    "  * **conda install -c conda-forge distributed dask**"
   ]
  },
  {
   "cell_type": "code",
   "execution_count": 2,
   "metadata": {},
   "outputs": [
    {
     "name": "stderr",
     "output_type": "stream",
     "text": [
      "/Users/davis278/miniconda3/envs/nightly/lib/python3.6/site-packages/unidata/__init__.py:2: UserWarning: unidata package is deprecated please use genutil.udunits instead of unidata.udunits\n",
      "  warnings.warn(\"unidata package is deprecated please use genutil.udunits instead of unidata.udunits\")\n"
     ]
    }
   ],
   "source": [
    "import cdms2\n",
    "import cdat_info\n",
    "import dask.array as da\n",
    "from dask.distributed import LocalCluster\n",
    "from dask.distributed  import Client\n",
    "import vcs\n",
    "import vcsaddons"
   ]
  },
  {
   "cell_type": "markdown",
   "metadata": {},
   "source": [
    "Download some sample data."
   ]
  },
  {
   "cell_type": "code",
   "execution_count": 5,
   "metadata": {},
   "outputs": [
    {
     "name": "stdout",
     "output_type": "stream",
     "text": [
      "Downloading: 'BlueMarble.ppm' from 'https://cdat.llnl.gov/cdat/sample_data/' in: /Users/davis278/miniconda3/envs/nightly/share/cdat/sample_data/BlueMarble.ppm\n",
      "Downloading: 'clt.nc' from 'https://cdat.llnl.gov/cdat/sample_data/' in: /Users/davis278/miniconda3/envs/nightly/share/cdat/sample_data/clt.nc\n",
      "Downloading: 'geo.1deg.ctl' from 'https://cdat.llnl.gov/cdat/sample_data/' in: /Users/davis278/miniconda3/envs/nightly/share/cdat/sample_data/geo.1deg.ctl\n",
      "Downloading: 'geo.1deg.gmp' from 'https://cdat.llnl.gov/cdat/sample_data/' in: /Users/davis278/miniconda3/envs/nightly/share/cdat/sample_data/geo.1deg.gmp\n",
      "Downloading: 'geo.1deg.grb' from 'https://cdat.llnl.gov/cdat/sample_data/' in: /Users/davis278/miniconda3/envs/nightly/share/cdat/sample_data/geo.1deg.grb\n",
      "Downloading: 'meshfill.nc' from 'https://cdat.llnl.gov/cdat/sample_data/' in: /Users/davis278/miniconda3/envs/nightly/share/cdat/sample_data/meshfill.nc\n",
      "Downloading: 'navy_land.nc' from 'https://cdat.llnl.gov/cdat/sample_data/' in: /Users/davis278/miniconda3/envs/nightly/share/cdat/sample_data/navy_land.nc\n",
      "Downloading: 'rlut_CERES_000001-000012_ac.nc' from 'https://cdat.llnl.gov/cdat/sample_data/' in: /Users/davis278/miniconda3/envs/nightly/share/cdat/sample_data/rlut_CERES_000001-000012_ac.nc\n",
      "Downloading: 'sampleCurveGrid4.nc' from 'https://cdat.llnl.gov/cdat/sample_data/' in: /Users/davis278/miniconda3/envs/nightly/share/cdat/sample_data/sampleCurveGrid4.nc\n",
      "Downloading: 'sampleGenGrid3.nc' from 'https://cdat.llnl.gov/cdat/sample_data/' in: /Users/davis278/miniconda3/envs/nightly/share/cdat/sample_data/sampleGenGrid3.nc\n",
      "Downloading: 'sftbyrgn.nc' from 'https://cdat.llnl.gov/cdat/sample_data/' in: /Users/davis278/miniconda3/envs/nightly/share/cdat/sample_data/sftbyrgn.nc\n",
      "Downloading: 'sftlf_10x10.nc' from 'https://cdat.llnl.gov/cdat/sample_data/' in: /Users/davis278/miniconda3/envs/nightly/share/cdat/sample_data/sftlf_10x10.nc\n",
      "Downloading: 'sftlf_visus.nc' from 'https://cdat.llnl.gov/cdat/sample_data/' in: /Users/davis278/miniconda3/envs/nightly/share/cdat/sample_data/sftlf_visus.nc\n",
      "Downloading: 'so_Omon_ACCESS1-0_historical_r1i1p1_185001-185412_2timesteps.nc' from 'https://cdat.llnl.gov/cdat/sample_data/' in: /Users/davis278/miniconda3/envs/nightly/share/cdat/sample_data/so_Omon_ACCESS1-0_historical_r1i1p1_185001-185412_2timesteps.nc\n",
      "Downloading: 'so_Omon_GISS-E2-R_historicalNat_r5i1p1_185001-187512_2timesteps.nc' from 'https://cdat.llnl.gov/cdat/sample_data/' in: /Users/davis278/miniconda3/envs/nightly/share/cdat/sample_data/so_Omon_GISS-E2-R_historicalNat_r5i1p1_185001-187512_2timesteps.nc\n",
      "Downloading: 'so_Omon_HadGEM2-CC_historical_r1i1p1_185912-186911_2timesteps.nc' from 'https://cdat.llnl.gov/cdat/sample_data/' in: /Users/davis278/miniconda3/envs/nightly/share/cdat/sample_data/so_Omon_HadGEM2-CC_historical_r1i1p1_185912-186911_2timesteps.nc\n",
      "Downloading: 'so_Omon_MPI-ESM-LR_1pctCO2_r1i1p1_185001-185912_2timesteps.nc' from 'https://cdat.llnl.gov/cdat/sample_data/' in: /Users/davis278/miniconda3/envs/nightly/share/cdat/sample_data/so_Omon_MPI-ESM-LR_1pctCO2_r1i1p1_185001-185912_2timesteps.nc\n",
      "Downloading: 'swan.four.nc' from 'https://cdat.llnl.gov/cdat/sample_data/' in: /Users/davis278/miniconda3/envs/nightly/share/cdat/sample_data/swan.four.nc\n",
      "Downloading: 'ta_ncep_87-6-88-4.nc' from 'https://cdat.llnl.gov/cdat/sample_data/' in: /Users/davis278/miniconda3/envs/nightly/share/cdat/sample_data/ta_ncep_87-6-88-4.nc\n",
      "Downloading: 'tas_ccsr-95a.xml' from 'https://cdat.llnl.gov/cdat/sample_data/' in: /Users/davis278/miniconda3/envs/nightly/share/cdat/sample_data/tas_ccsr-95a.xml\n",
      "Downloading: 'tas_ccsr-95a_1979.01-1979.12.nc' from 'https://cdat.llnl.gov/cdat/sample_data/' in: /Users/davis278/miniconda3/envs/nightly/share/cdat/sample_data/tas_ccsr-95a_1979.01-1979.12.nc\n",
      "Downloading: 'tas_ccsr-95a_1980.01-1980.12.nc' from 'https://cdat.llnl.gov/cdat/sample_data/' in: /Users/davis278/miniconda3/envs/nightly/share/cdat/sample_data/tas_ccsr-95a_1980.01-1980.12.nc\n",
      "Downloading: 'tas_ccsr-95a_1981.01-1981.12.nc' from 'https://cdat.llnl.gov/cdat/sample_data/' in: /Users/davis278/miniconda3/envs/nightly/share/cdat/sample_data/tas_ccsr-95a_1981.01-1981.12.nc\n",
      "Downloading: 'tas_ccsr-95a_1982.01-1982.12.nc' from 'https://cdat.llnl.gov/cdat/sample_data/' in: /Users/davis278/miniconda3/envs/nightly/share/cdat/sample_data/tas_ccsr-95a_1982.01-1982.12.nc\n",
      "Downloading: 'tas_ccsr-95a_1983.01-1983.12.nc' from 'https://cdat.llnl.gov/cdat/sample_data/' in: /Users/davis278/miniconda3/envs/nightly/share/cdat/sample_data/tas_ccsr-95a_1983.01-1983.12.nc\n",
      "Downloading: 'tas_ccsr-95a_1984.01-1984.12.nc' from 'https://cdat.llnl.gov/cdat/sample_data/' in: /Users/davis278/miniconda3/envs/nightly/share/cdat/sample_data/tas_ccsr-95a_1984.01-1984.12.nc\n",
      "Downloading: 'sftlf_ccsr.nc' from 'https://cdat.llnl.gov/cdat/sample_data/' in: /Users/davis278/miniconda3/envs/nightly/share/cdat/sample_data/sftlf_ccsr.nc\n",
      "Downloading: 'tas_dnm-95a.xml' from 'https://cdat.llnl.gov/cdat/sample_data/' in: /Users/davis278/miniconda3/envs/nightly/share/cdat/sample_data/tas_dnm-95a.xml\n",
      "Downloading: 'tas_dnm-95a_1979.01-1979.12.nc' from 'https://cdat.llnl.gov/cdat/sample_data/' in: /Users/davis278/miniconda3/envs/nightly/share/cdat/sample_data/tas_dnm-95a_1979.01-1979.12.nc\n",
      "Downloading: 'tas_dnm-95a_1980.01-1980.12.nc' from 'https://cdat.llnl.gov/cdat/sample_data/' in: /Users/davis278/miniconda3/envs/nightly/share/cdat/sample_data/tas_dnm-95a_1980.01-1980.12.nc\n",
      "Downloading: 'tas_dnm-95a_1981.01-1981.12.nc' from 'https://cdat.llnl.gov/cdat/sample_data/' in: /Users/davis278/miniconda3/envs/nightly/share/cdat/sample_data/tas_dnm-95a_1981.01-1981.12.nc\n",
      "Downloading: 'tas_dnm-95a_1982.01-1982.12.nc' from 'https://cdat.llnl.gov/cdat/sample_data/' in: /Users/davis278/miniconda3/envs/nightly/share/cdat/sample_data/tas_dnm-95a_1982.01-1982.12.nc\n",
      "Downloading: 'tas_dnm-95a_1983.01-1983.12.nc' from 'https://cdat.llnl.gov/cdat/sample_data/' in: /Users/davis278/miniconda3/envs/nightly/share/cdat/sample_data/tas_dnm-95a_1983.01-1983.12.nc\n",
      "Downloading: 'tas_dnm-95a_1984.01-1984.12.nc' from 'https://cdat.llnl.gov/cdat/sample_data/' in: /Users/davis278/miniconda3/envs/nightly/share/cdat/sample_data/tas_dnm-95a_1984.01-1984.12.nc\n",
      "Downloading: 'sftlf_dnm.nc' from 'https://cdat.llnl.gov/cdat/sample_data/' in: /Users/davis278/miniconda3/envs/nightly/share/cdat/sample_data/sftlf_dnm.nc\n",
      "Downloading: 'taylor.nc' from 'https://cdat.llnl.gov/cdat/sample_data/' in: /Users/davis278/miniconda3/envs/nightly/share/cdat/sample_data/taylor.nc\n",
      "Downloading: 'test_anim.nc' from 'https://cdat.llnl.gov/cdat/sample_data/' in: /Users/davis278/miniconda3/envs/nightly/share/cdat/sample_data/test_anim.nc\n",
      "Downloading: 'test_col.asc' from 'https://cdat.llnl.gov/cdat/sample_data/' in: /Users/davis278/miniconda3/envs/nightly/share/cdat/sample_data/test_col.asc\n",
      "Downloading: 'testgrib2.ctl' from 'https://cdat.llnl.gov/cdat/sample_data/' in: /Users/davis278/miniconda3/envs/nightly/share/cdat/sample_data/testgrib2.ctl\n",
      "Downloading: 'testgrib2.grib2' from 'https://cdat.llnl.gov/cdat/sample_data/' in: /Users/davis278/miniconda3/envs/nightly/share/cdat/sample_data/testgrib2.grib2\n",
      "Downloading: 'testgrib2.idx' from 'https://cdat.llnl.gov/cdat/sample_data/' in: /Users/davis278/miniconda3/envs/nightly/share/cdat/sample_data/testgrib2.idx\n",
      "Downloading: 'testpp.pp' from 'https://cdat.llnl.gov/cdat/sample_data/' in: /Users/davis278/miniconda3/envs/nightly/share/cdat/sample_data/testpp.pp\n",
      "Downloading: 'thermo.nc' from 'https://cdat.llnl.gov/cdat/sample_data/' in: /Users/davis278/miniconda3/envs/nightly/share/cdat/sample_data/thermo.nc\n",
      "Downloading: 'vertical.nc' from 'https://cdat.llnl.gov/cdat/sample_data/' in: /Users/davis278/miniconda3/envs/nightly/share/cdat/sample_data/vertical.nc\n",
      "Downloading: 'tas_ukmo_con.nc' from 'https://cdat.llnl.gov/cdat/sample_data/' in: /Users/davis278/miniconda3/envs/nightly/share/cdat/sample_data/tas_ukmo_con.nc\n",
      "Downloading: 'tas_gavg_rnl_ecm.nc' from 'https://cdat.llnl.gov/cdat/sample_data/' in: /Users/davis278/miniconda3/envs/nightly/share/cdat/sample_data/tas_gavg_rnl_ecm.nc\n",
      "Downloading: 'tas_ecm_1979.nc' from 'https://cdat.llnl.gov/cdat/sample_data/' in: /Users/davis278/miniconda3/envs/nightly/share/cdat/sample_data/tas_ecm_1979.nc\n",
      "Downloading: 'tas_cru_1979.nc' from 'https://cdat.llnl.gov/cdat/sample_data/' in: /Users/davis278/miniconda3/envs/nightly/share/cdat/sample_data/tas_cru_1979.nc\n",
      "Downloading: 'psl_6h.nc' from 'https://cdat.llnl.gov/cdat/sample_data/' in: /Users/davis278/miniconda3/envs/nightly/share/cdat/sample_data/psl_6h.nc\n",
      "Downloading: 'ts_da.nc' from 'https://cdat.llnl.gov/cdat/sample_data/' in: /Users/davis278/miniconda3/envs/nightly/share/cdat/sample_data/ts_da.nc\n",
      "Downloading: 'tas_mo.nc' from 'https://cdat.llnl.gov/cdat/sample_data/' in: /Users/davis278/miniconda3/envs/nightly/share/cdat/sample_data/tas_mo.nc\n",
      "Downloading: 'tas_mo_clim.nc' from 'https://cdat.llnl.gov/cdat/sample_data/' in: /Users/davis278/miniconda3/envs/nightly/share/cdat/sample_data/tas_mo_clim.nc\n",
      "Downloading: 'tas_6h.nc' from 'https://cdat.llnl.gov/cdat/sample_data/' in: /Users/davis278/miniconda3/envs/nightly/share/cdat/sample_data/tas_6h.nc\n",
      "Downloading: 'th_yr.nc' from 'https://cdat.llnl.gov/cdat/sample_data/' in: /Users/davis278/miniconda3/envs/nightly/share/cdat/sample_data/th_yr.nc\n",
      "Downloading: 'th_yr.nc' from 'https://cdat.llnl.gov/cdat/sample_data/' in: /Users/davis278/miniconda3/envs/nightly/share/cdat/sample_data/th_yr.nc\n",
      "Downloading: 'th_yr.nc' from 'https://cdat.llnl.gov/cdat/sample_data/' in: /Users/davis278/miniconda3/envs/nightly/share/cdat/sample_data/th_yr.nc\n",
      "Downloading: 'geos5-sample.nc' from 'https://cdat.llnl.gov/cdat/sample_data/' in: /Users/davis278/miniconda3/envs/nightly/share/cdat/sample_data/geos5-sample.nc\n"
     ]
    }
   ],
   "source": [
    "vcs.download_sample_data_files()"
   ]
  },
  {
   "cell_type": "markdown",
   "metadata": {},
   "source": [
    "# Intialize dataset\n",
    "Convert File Varible into a Dask Array"
   ]
  },
  {
   "cell_type": "code",
   "execution_count": 6,
   "metadata": {},
   "outputs": [],
   "source": [
    "f = cdms2.open(cdat_info.get_sampledata_path()+\"/clt.nc\")\n",
    "dataFV=f[\"clt\"]\n",
    "myDaskArray= da.from_array(dataFV, chunks=(1,46,72))"
   ]
  },
  {
   "cell_type": "code",
   "execution_count": 7,
   "metadata": {},
   "outputs": [
    {
     "data": {
      "text/html": [
       "<table>\n",
       "<tr>\n",
       "<td>\n",
       "<table>\n",
       "  <thead>\n",
       "    <tr><td> </td><th> Array </th><th> Chunk </th></tr>\n",
       "  </thead>\n",
       "  <tbody>\n",
       "    <tr><th> Bytes </th><td> 1.59 MB </td> <td> 13.25 kB </td></tr>\n",
       "    <tr><th> Shape </th><td> (120, 46, 72) </td> <td> (1, 46, 72) </td></tr>\n",
       "    <tr><th> Count </th><td> 121 Tasks </td><td> 120 Chunks </td></tr>\n",
       "    <tr><th> Type </th><td> float32 </td><td> cdms2.TransientVariable </td></tr>\n",
       "  </tbody>\n",
       "</table>\n",
       "</td>\n",
       "<td>\n",
       "<svg width=\"202\" height=\"166\" style=\"stroke:rgb(0,0,0);stroke-width:1\" >\n",
       "\n",
       "  <!-- Horizontal lines -->\n",
       "  <line x1=\"10\" y1=\"0\" x2=\"80\" y2=\"70\" style=\"stroke-width:2\" />\n",
       "  <line x1=\"10\" y1=\"46\" x2=\"80\" y2=\"116\" style=\"stroke-width:2\" />\n",
       "\n",
       "  <!-- Vertical lines -->\n",
       "  <line x1=\"10\" y1=\"0\" x2=\"10\" y2=\"46\" style=\"stroke-width:2\" />\n",
       "  <line x1=\"10\" y1=\"0\" x2=\"10\" y2=\"46\" />\n",
       "  <line x1=\"11\" y1=\"1\" x2=\"11\" y2=\"47\" />\n",
       "  <line x1=\"11\" y1=\"1\" x2=\"11\" y2=\"47\" />\n",
       "  <line x1=\"12\" y1=\"2\" x2=\"12\" y2=\"48\" />\n",
       "  <line x1=\"12\" y1=\"2\" x2=\"12\" y2=\"48\" />\n",
       "  <line x1=\"13\" y1=\"3\" x2=\"13\" y2=\"49\" />\n",
       "  <line x1=\"14\" y1=\"4\" x2=\"14\" y2=\"50\" />\n",
       "  <line x1=\"14\" y1=\"4\" x2=\"14\" y2=\"50\" />\n",
       "  <line x1=\"15\" y1=\"5\" x2=\"15\" y2=\"51\" />\n",
       "  <line x1=\"15\" y1=\"5\" x2=\"15\" y2=\"51\" />\n",
       "  <line x1=\"16\" y1=\"6\" x2=\"16\" y2=\"52\" />\n",
       "  <line x1=\"17\" y1=\"7\" x2=\"17\" y2=\"53\" />\n",
       "  <line x1=\"17\" y1=\"7\" x2=\"17\" y2=\"53\" />\n",
       "  <line x1=\"18\" y1=\"8\" x2=\"18\" y2=\"54\" />\n",
       "  <line x1=\"18\" y1=\"8\" x2=\"18\" y2=\"54\" />\n",
       "  <line x1=\"19\" y1=\"9\" x2=\"19\" y2=\"55\" />\n",
       "  <line x1=\"20\" y1=\"10\" x2=\"20\" y2=\"56\" />\n",
       "  <line x1=\"20\" y1=\"10\" x2=\"20\" y2=\"56\" />\n",
       "  <line x1=\"21\" y1=\"11\" x2=\"21\" y2=\"57\" />\n",
       "  <line x1=\"21\" y1=\"11\" x2=\"21\" y2=\"57\" />\n",
       "  <line x1=\"22\" y1=\"12\" x2=\"22\" y2=\"58\" />\n",
       "  <line x1=\"22\" y1=\"12\" x2=\"22\" y2=\"58\" />\n",
       "  <line x1=\"23\" y1=\"13\" x2=\"23\" y2=\"59\" />\n",
       "  <line x1=\"24\" y1=\"14\" x2=\"24\" y2=\"60\" />\n",
       "  <line x1=\"24\" y1=\"14\" x2=\"24\" y2=\"60\" />\n",
       "  <line x1=\"25\" y1=\"15\" x2=\"25\" y2=\"61\" />\n",
       "  <line x1=\"25\" y1=\"15\" x2=\"25\" y2=\"61\" />\n",
       "  <line x1=\"26\" y1=\"16\" x2=\"26\" y2=\"62\" />\n",
       "  <line x1=\"27\" y1=\"17\" x2=\"27\" y2=\"63\" />\n",
       "  <line x1=\"27\" y1=\"17\" x2=\"27\" y2=\"63\" />\n",
       "  <line x1=\"28\" y1=\"18\" x2=\"28\" y2=\"64\" />\n",
       "  <line x1=\"28\" y1=\"18\" x2=\"28\" y2=\"64\" />\n",
       "  <line x1=\"29\" y1=\"19\" x2=\"29\" y2=\"65\" />\n",
       "  <line x1=\"30\" y1=\"20\" x2=\"30\" y2=\"66\" />\n",
       "  <line x1=\"30\" y1=\"20\" x2=\"30\" y2=\"66\" />\n",
       "  <line x1=\"31\" y1=\"21\" x2=\"31\" y2=\"67\" />\n",
       "  <line x1=\"31\" y1=\"21\" x2=\"31\" y2=\"67\" />\n",
       "  <line x1=\"32\" y1=\"22\" x2=\"32\" y2=\"68\" />\n",
       "  <line x1=\"32\" y1=\"22\" x2=\"32\" y2=\"68\" />\n",
       "  <line x1=\"33\" y1=\"23\" x2=\"33\" y2=\"69\" />\n",
       "  <line x1=\"34\" y1=\"24\" x2=\"34\" y2=\"70\" />\n",
       "  <line x1=\"34\" y1=\"24\" x2=\"34\" y2=\"70\" />\n",
       "  <line x1=\"35\" y1=\"25\" x2=\"35\" y2=\"71\" />\n",
       "  <line x1=\"35\" y1=\"25\" x2=\"35\" y2=\"71\" />\n",
       "  <line x1=\"36\" y1=\"26\" x2=\"36\" y2=\"72\" />\n",
       "  <line x1=\"37\" y1=\"27\" x2=\"37\" y2=\"73\" />\n",
       "  <line x1=\"37\" y1=\"27\" x2=\"37\" y2=\"73\" />\n",
       "  <line x1=\"38\" y1=\"28\" x2=\"38\" y2=\"74\" />\n",
       "  <line x1=\"38\" y1=\"28\" x2=\"38\" y2=\"74\" />\n",
       "  <line x1=\"39\" y1=\"29\" x2=\"39\" y2=\"75\" />\n",
       "  <line x1=\"40\" y1=\"30\" x2=\"40\" y2=\"76\" />\n",
       "  <line x1=\"40\" y1=\"30\" x2=\"40\" y2=\"76\" />\n",
       "  <line x1=\"41\" y1=\"31\" x2=\"41\" y2=\"77\" />\n",
       "  <line x1=\"41\" y1=\"31\" x2=\"41\" y2=\"77\" />\n",
       "  <line x1=\"42\" y1=\"32\" x2=\"42\" y2=\"78\" />\n",
       "  <line x1=\"42\" y1=\"32\" x2=\"42\" y2=\"78\" />\n",
       "  <line x1=\"43\" y1=\"33\" x2=\"43\" y2=\"79\" />\n",
       "  <line x1=\"44\" y1=\"34\" x2=\"44\" y2=\"80\" />\n",
       "  <line x1=\"44\" y1=\"34\" x2=\"44\" y2=\"80\" />\n",
       "  <line x1=\"45\" y1=\"35\" x2=\"45\" y2=\"81\" />\n",
       "  <line x1=\"45\" y1=\"35\" x2=\"45\" y2=\"81\" />\n",
       "  <line x1=\"46\" y1=\"36\" x2=\"46\" y2=\"82\" />\n",
       "  <line x1=\"47\" y1=\"37\" x2=\"47\" y2=\"83\" />\n",
       "  <line x1=\"47\" y1=\"37\" x2=\"47\" y2=\"83\" />\n",
       "  <line x1=\"48\" y1=\"38\" x2=\"48\" y2=\"84\" />\n",
       "  <line x1=\"48\" y1=\"38\" x2=\"48\" y2=\"84\" />\n",
       "  <line x1=\"49\" y1=\"39\" x2=\"49\" y2=\"85\" />\n",
       "  <line x1=\"50\" y1=\"40\" x2=\"50\" y2=\"86\" />\n",
       "  <line x1=\"50\" y1=\"40\" x2=\"50\" y2=\"86\" />\n",
       "  <line x1=\"51\" y1=\"41\" x2=\"51\" y2=\"87\" />\n",
       "  <line x1=\"51\" y1=\"41\" x2=\"51\" y2=\"87\" />\n",
       "  <line x1=\"52\" y1=\"42\" x2=\"52\" y2=\"88\" />\n",
       "  <line x1=\"52\" y1=\"42\" x2=\"52\" y2=\"88\" />\n",
       "  <line x1=\"53\" y1=\"43\" x2=\"53\" y2=\"89\" />\n",
       "  <line x1=\"54\" y1=\"44\" x2=\"54\" y2=\"90\" />\n",
       "  <line x1=\"54\" y1=\"44\" x2=\"54\" y2=\"90\" />\n",
       "  <line x1=\"55\" y1=\"45\" x2=\"55\" y2=\"91\" />\n",
       "  <line x1=\"55\" y1=\"45\" x2=\"55\" y2=\"91\" />\n",
       "  <line x1=\"56\" y1=\"46\" x2=\"56\" y2=\"92\" />\n",
       "  <line x1=\"57\" y1=\"47\" x2=\"57\" y2=\"93\" />\n",
       "  <line x1=\"57\" y1=\"47\" x2=\"57\" y2=\"93\" />\n",
       "  <line x1=\"58\" y1=\"48\" x2=\"58\" y2=\"94\" />\n",
       "  <line x1=\"58\" y1=\"48\" x2=\"58\" y2=\"94\" />\n",
       "  <line x1=\"59\" y1=\"49\" x2=\"59\" y2=\"95\" />\n",
       "  <line x1=\"60\" y1=\"50\" x2=\"60\" y2=\"96\" />\n",
       "  <line x1=\"60\" y1=\"50\" x2=\"60\" y2=\"96\" />\n",
       "  <line x1=\"61\" y1=\"51\" x2=\"61\" y2=\"97\" />\n",
       "  <line x1=\"61\" y1=\"51\" x2=\"61\" y2=\"97\" />\n",
       "  <line x1=\"62\" y1=\"52\" x2=\"62\" y2=\"98\" />\n",
       "  <line x1=\"62\" y1=\"52\" x2=\"62\" y2=\"98\" />\n",
       "  <line x1=\"63\" y1=\"53\" x2=\"63\" y2=\"99\" />\n",
       "  <line x1=\"64\" y1=\"54\" x2=\"64\" y2=\"100\" />\n",
       "  <line x1=\"64\" y1=\"54\" x2=\"64\" y2=\"100\" />\n",
       "  <line x1=\"65\" y1=\"55\" x2=\"65\" y2=\"101\" />\n",
       "  <line x1=\"65\" y1=\"55\" x2=\"65\" y2=\"101\" />\n",
       "  <line x1=\"66\" y1=\"56\" x2=\"66\" y2=\"102\" />\n",
       "  <line x1=\"67\" y1=\"57\" x2=\"67\" y2=\"103\" />\n",
       "  <line x1=\"67\" y1=\"57\" x2=\"67\" y2=\"103\" />\n",
       "  <line x1=\"68\" y1=\"58\" x2=\"68\" y2=\"104\" />\n",
       "  <line x1=\"68\" y1=\"58\" x2=\"68\" y2=\"104\" />\n",
       "  <line x1=\"69\" y1=\"59\" x2=\"69\" y2=\"105\" />\n",
       "  <line x1=\"70\" y1=\"60\" x2=\"70\" y2=\"106\" />\n",
       "  <line x1=\"70\" y1=\"60\" x2=\"70\" y2=\"106\" />\n",
       "  <line x1=\"71\" y1=\"61\" x2=\"71\" y2=\"107\" />\n",
       "  <line x1=\"71\" y1=\"61\" x2=\"71\" y2=\"107\" />\n",
       "  <line x1=\"72\" y1=\"62\" x2=\"72\" y2=\"108\" />\n",
       "  <line x1=\"72\" y1=\"62\" x2=\"72\" y2=\"108\" />\n",
       "  <line x1=\"73\" y1=\"63\" x2=\"73\" y2=\"109\" />\n",
       "  <line x1=\"74\" y1=\"64\" x2=\"74\" y2=\"110\" />\n",
       "  <line x1=\"74\" y1=\"64\" x2=\"74\" y2=\"110\" />\n",
       "  <line x1=\"75\" y1=\"65\" x2=\"75\" y2=\"111\" />\n",
       "  <line x1=\"75\" y1=\"65\" x2=\"75\" y2=\"111\" />\n",
       "  <line x1=\"76\" y1=\"66\" x2=\"76\" y2=\"112\" />\n",
       "  <line x1=\"77\" y1=\"67\" x2=\"77\" y2=\"113\" />\n",
       "  <line x1=\"77\" y1=\"67\" x2=\"77\" y2=\"113\" />\n",
       "  <line x1=\"78\" y1=\"68\" x2=\"78\" y2=\"114\" />\n",
       "  <line x1=\"78\" y1=\"68\" x2=\"78\" y2=\"114\" />\n",
       "  <line x1=\"79\" y1=\"69\" x2=\"79\" y2=\"115\" />\n",
       "  <line x1=\"80\" y1=\"70\" x2=\"80\" y2=\"116\" />\n",
       "  <line x1=\"80\" y1=\"70\" x2=\"80\" y2=\"116\" style=\"stroke-width:2\" />\n",
       "\n",
       "  <!-- Colored Rectangle -->\n",
       "  <polygon points=\"10.000000,0.000000 80.588235,70.588235 80.588235,116.588235 10.000000,46.000000\" style=\"fill:#ECB172A0;stroke-width:0\"/>\n",
       "\n",
       "  <!-- Horizontal lines -->\n",
       "  <line x1=\"10\" y1=\"0\" x2=\"82\" y2=\"0\" style=\"stroke-width:2\" />\n",
       "  <line x1=\"10\" y1=\"0\" x2=\"82\" y2=\"0\" />\n",
       "  <line x1=\"11\" y1=\"1\" x2=\"83\" y2=\"1\" />\n",
       "  <line x1=\"11\" y1=\"1\" x2=\"83\" y2=\"1\" />\n",
       "  <line x1=\"12\" y1=\"2\" x2=\"84\" y2=\"2\" />\n",
       "  <line x1=\"12\" y1=\"2\" x2=\"84\" y2=\"2\" />\n",
       "  <line x1=\"13\" y1=\"3\" x2=\"85\" y2=\"3\" />\n",
       "  <line x1=\"14\" y1=\"4\" x2=\"86\" y2=\"4\" />\n",
       "  <line x1=\"14\" y1=\"4\" x2=\"86\" y2=\"4\" />\n",
       "  <line x1=\"15\" y1=\"5\" x2=\"87\" y2=\"5\" />\n",
       "  <line x1=\"15\" y1=\"5\" x2=\"87\" y2=\"5\" />\n",
       "  <line x1=\"16\" y1=\"6\" x2=\"88\" y2=\"6\" />\n",
       "  <line x1=\"17\" y1=\"7\" x2=\"89\" y2=\"7\" />\n",
       "  <line x1=\"17\" y1=\"7\" x2=\"89\" y2=\"7\" />\n",
       "  <line x1=\"18\" y1=\"8\" x2=\"90\" y2=\"8\" />\n",
       "  <line x1=\"18\" y1=\"8\" x2=\"90\" y2=\"8\" />\n",
       "  <line x1=\"19\" y1=\"9\" x2=\"91\" y2=\"9\" />\n",
       "  <line x1=\"20\" y1=\"10\" x2=\"92\" y2=\"10\" />\n",
       "  <line x1=\"20\" y1=\"10\" x2=\"92\" y2=\"10\" />\n",
       "  <line x1=\"21\" y1=\"11\" x2=\"93\" y2=\"11\" />\n",
       "  <line x1=\"21\" y1=\"11\" x2=\"93\" y2=\"11\" />\n",
       "  <line x1=\"22\" y1=\"12\" x2=\"94\" y2=\"12\" />\n",
       "  <line x1=\"22\" y1=\"12\" x2=\"94\" y2=\"12\" />\n",
       "  <line x1=\"23\" y1=\"13\" x2=\"95\" y2=\"13\" />\n",
       "  <line x1=\"24\" y1=\"14\" x2=\"96\" y2=\"14\" />\n",
       "  <line x1=\"24\" y1=\"14\" x2=\"96\" y2=\"14\" />\n",
       "  <line x1=\"25\" y1=\"15\" x2=\"97\" y2=\"15\" />\n",
       "  <line x1=\"25\" y1=\"15\" x2=\"97\" y2=\"15\" />\n",
       "  <line x1=\"26\" y1=\"16\" x2=\"98\" y2=\"16\" />\n",
       "  <line x1=\"27\" y1=\"17\" x2=\"99\" y2=\"17\" />\n",
       "  <line x1=\"27\" y1=\"17\" x2=\"99\" y2=\"17\" />\n",
       "  <line x1=\"28\" y1=\"18\" x2=\"100\" y2=\"18\" />\n",
       "  <line x1=\"28\" y1=\"18\" x2=\"100\" y2=\"18\" />\n",
       "  <line x1=\"29\" y1=\"19\" x2=\"101\" y2=\"19\" />\n",
       "  <line x1=\"30\" y1=\"20\" x2=\"102\" y2=\"20\" />\n",
       "  <line x1=\"30\" y1=\"20\" x2=\"102\" y2=\"20\" />\n",
       "  <line x1=\"31\" y1=\"21\" x2=\"103\" y2=\"21\" />\n",
       "  <line x1=\"31\" y1=\"21\" x2=\"103\" y2=\"21\" />\n",
       "  <line x1=\"32\" y1=\"22\" x2=\"104\" y2=\"22\" />\n",
       "  <line x1=\"32\" y1=\"22\" x2=\"104\" y2=\"22\" />\n",
       "  <line x1=\"33\" y1=\"23\" x2=\"105\" y2=\"23\" />\n",
       "  <line x1=\"34\" y1=\"24\" x2=\"106\" y2=\"24\" />\n",
       "  <line x1=\"34\" y1=\"24\" x2=\"106\" y2=\"24\" />\n",
       "  <line x1=\"35\" y1=\"25\" x2=\"107\" y2=\"25\" />\n",
       "  <line x1=\"35\" y1=\"25\" x2=\"107\" y2=\"25\" />\n",
       "  <line x1=\"36\" y1=\"26\" x2=\"108\" y2=\"26\" />\n",
       "  <line x1=\"37\" y1=\"27\" x2=\"109\" y2=\"27\" />\n",
       "  <line x1=\"37\" y1=\"27\" x2=\"109\" y2=\"27\" />\n",
       "  <line x1=\"38\" y1=\"28\" x2=\"110\" y2=\"28\" />\n",
       "  <line x1=\"38\" y1=\"28\" x2=\"110\" y2=\"28\" />\n",
       "  <line x1=\"39\" y1=\"29\" x2=\"111\" y2=\"29\" />\n",
       "  <line x1=\"40\" y1=\"30\" x2=\"112\" y2=\"30\" />\n",
       "  <line x1=\"40\" y1=\"30\" x2=\"112\" y2=\"30\" />\n",
       "  <line x1=\"41\" y1=\"31\" x2=\"113\" y2=\"31\" />\n",
       "  <line x1=\"41\" y1=\"31\" x2=\"113\" y2=\"31\" />\n",
       "  <line x1=\"42\" y1=\"32\" x2=\"114\" y2=\"32\" />\n",
       "  <line x1=\"42\" y1=\"32\" x2=\"114\" y2=\"32\" />\n",
       "  <line x1=\"43\" y1=\"33\" x2=\"115\" y2=\"33\" />\n",
       "  <line x1=\"44\" y1=\"34\" x2=\"116\" y2=\"34\" />\n",
       "  <line x1=\"44\" y1=\"34\" x2=\"116\" y2=\"34\" />\n",
       "  <line x1=\"45\" y1=\"35\" x2=\"117\" y2=\"35\" />\n",
       "  <line x1=\"45\" y1=\"35\" x2=\"117\" y2=\"35\" />\n",
       "  <line x1=\"46\" y1=\"36\" x2=\"118\" y2=\"36\" />\n",
       "  <line x1=\"47\" y1=\"37\" x2=\"119\" y2=\"37\" />\n",
       "  <line x1=\"47\" y1=\"37\" x2=\"119\" y2=\"37\" />\n",
       "  <line x1=\"48\" y1=\"38\" x2=\"120\" y2=\"38\" />\n",
       "  <line x1=\"48\" y1=\"38\" x2=\"120\" y2=\"38\" />\n",
       "  <line x1=\"49\" y1=\"39\" x2=\"121\" y2=\"39\" />\n",
       "  <line x1=\"50\" y1=\"40\" x2=\"122\" y2=\"40\" />\n",
       "  <line x1=\"50\" y1=\"40\" x2=\"122\" y2=\"40\" />\n",
       "  <line x1=\"51\" y1=\"41\" x2=\"123\" y2=\"41\" />\n",
       "  <line x1=\"51\" y1=\"41\" x2=\"123\" y2=\"41\" />\n",
       "  <line x1=\"52\" y1=\"42\" x2=\"124\" y2=\"42\" />\n",
       "  <line x1=\"52\" y1=\"42\" x2=\"124\" y2=\"42\" />\n",
       "  <line x1=\"53\" y1=\"43\" x2=\"125\" y2=\"43\" />\n",
       "  <line x1=\"54\" y1=\"44\" x2=\"126\" y2=\"44\" />\n",
       "  <line x1=\"54\" y1=\"44\" x2=\"126\" y2=\"44\" />\n",
       "  <line x1=\"55\" y1=\"45\" x2=\"127\" y2=\"45\" />\n",
       "  <line x1=\"55\" y1=\"45\" x2=\"127\" y2=\"45\" />\n",
       "  <line x1=\"56\" y1=\"46\" x2=\"128\" y2=\"46\" />\n",
       "  <line x1=\"57\" y1=\"47\" x2=\"129\" y2=\"47\" />\n",
       "  <line x1=\"57\" y1=\"47\" x2=\"129\" y2=\"47\" />\n",
       "  <line x1=\"58\" y1=\"48\" x2=\"130\" y2=\"48\" />\n",
       "  <line x1=\"58\" y1=\"48\" x2=\"130\" y2=\"48\" />\n",
       "  <line x1=\"59\" y1=\"49\" x2=\"131\" y2=\"49\" />\n",
       "  <line x1=\"60\" y1=\"50\" x2=\"132\" y2=\"50\" />\n",
       "  <line x1=\"60\" y1=\"50\" x2=\"132\" y2=\"50\" />\n",
       "  <line x1=\"61\" y1=\"51\" x2=\"133\" y2=\"51\" />\n",
       "  <line x1=\"61\" y1=\"51\" x2=\"133\" y2=\"51\" />\n",
       "  <line x1=\"62\" y1=\"52\" x2=\"134\" y2=\"52\" />\n",
       "  <line x1=\"62\" y1=\"52\" x2=\"134\" y2=\"52\" />\n",
       "  <line x1=\"63\" y1=\"53\" x2=\"135\" y2=\"53\" />\n",
       "  <line x1=\"64\" y1=\"54\" x2=\"136\" y2=\"54\" />\n",
       "  <line x1=\"64\" y1=\"54\" x2=\"136\" y2=\"54\" />\n",
       "  <line x1=\"65\" y1=\"55\" x2=\"137\" y2=\"55\" />\n",
       "  <line x1=\"65\" y1=\"55\" x2=\"137\" y2=\"55\" />\n",
       "  <line x1=\"66\" y1=\"56\" x2=\"138\" y2=\"56\" />\n",
       "  <line x1=\"67\" y1=\"57\" x2=\"139\" y2=\"57\" />\n",
       "  <line x1=\"67\" y1=\"57\" x2=\"139\" y2=\"57\" />\n",
       "  <line x1=\"68\" y1=\"58\" x2=\"140\" y2=\"58\" />\n",
       "  <line x1=\"68\" y1=\"58\" x2=\"140\" y2=\"58\" />\n",
       "  <line x1=\"69\" y1=\"59\" x2=\"141\" y2=\"59\" />\n",
       "  <line x1=\"70\" y1=\"60\" x2=\"142\" y2=\"60\" />\n",
       "  <line x1=\"70\" y1=\"60\" x2=\"142\" y2=\"60\" />\n",
       "  <line x1=\"71\" y1=\"61\" x2=\"143\" y2=\"61\" />\n",
       "  <line x1=\"71\" y1=\"61\" x2=\"143\" y2=\"61\" />\n",
       "  <line x1=\"72\" y1=\"62\" x2=\"144\" y2=\"62\" />\n",
       "  <line x1=\"72\" y1=\"62\" x2=\"144\" y2=\"62\" />\n",
       "  <line x1=\"73\" y1=\"63\" x2=\"145\" y2=\"63\" />\n",
       "  <line x1=\"74\" y1=\"64\" x2=\"146\" y2=\"64\" />\n",
       "  <line x1=\"74\" y1=\"64\" x2=\"146\" y2=\"64\" />\n",
       "  <line x1=\"75\" y1=\"65\" x2=\"147\" y2=\"65\" />\n",
       "  <line x1=\"75\" y1=\"65\" x2=\"147\" y2=\"65\" />\n",
       "  <line x1=\"76\" y1=\"66\" x2=\"148\" y2=\"66\" />\n",
       "  <line x1=\"77\" y1=\"67\" x2=\"149\" y2=\"67\" />\n",
       "  <line x1=\"77\" y1=\"67\" x2=\"149\" y2=\"67\" />\n",
       "  <line x1=\"78\" y1=\"68\" x2=\"150\" y2=\"68\" />\n",
       "  <line x1=\"78\" y1=\"68\" x2=\"150\" y2=\"68\" />\n",
       "  <line x1=\"79\" y1=\"69\" x2=\"151\" y2=\"69\" />\n",
       "  <line x1=\"80\" y1=\"70\" x2=\"152\" y2=\"70\" />\n",
       "  <line x1=\"80\" y1=\"70\" x2=\"152\" y2=\"70\" style=\"stroke-width:2\" />\n",
       "\n",
       "  <!-- Vertical lines -->\n",
       "  <line x1=\"10\" y1=\"0\" x2=\"80\" y2=\"70\" style=\"stroke-width:2\" />\n",
       "  <line x1=\"82\" y1=\"0\" x2=\"152\" y2=\"70\" style=\"stroke-width:2\" />\n",
       "\n",
       "  <!-- Colored Rectangle -->\n",
       "  <polygon points=\"10.000000,0.000000 82.000000,0.000000 152.588235,70.588235 80.588235,70.588235\" style=\"fill:#ECB172A0;stroke-width:0\"/>\n",
       "\n",
       "  <!-- Horizontal lines -->\n",
       "  <line x1=\"80\" y1=\"70\" x2=\"152\" y2=\"70\" style=\"stroke-width:2\" />\n",
       "  <line x1=\"80\" y1=\"116\" x2=\"152\" y2=\"116\" style=\"stroke-width:2\" />\n",
       "\n",
       "  <!-- Vertical lines -->\n",
       "  <line x1=\"80\" y1=\"70\" x2=\"80\" y2=\"116\" style=\"stroke-width:2\" />\n",
       "  <line x1=\"152\" y1=\"70\" x2=\"152\" y2=\"116\" style=\"stroke-width:2\" />\n",
       "\n",
       "  <!-- Colored Rectangle -->\n",
       "  <polygon points=\"80.588235,70.588235 152.588235,70.588235 152.588235,116.588235 80.588235,116.588235\" style=\"fill:#ECB172A0;stroke-width:0\"/>\n",
       "\n",
       "  <!-- Text -->\n",
       "  <text x=\"116.588235\" y=\"136.588235\" font-size=\"1.0rem\" font-weight=\"100\" text-anchor=\"middle\" >72</text>\n",
       "  <text x=\"172.588235\" y=\"93.588235\" font-size=\"1.0rem\" font-weight=\"100\" text-anchor=\"middle\" transform=\"rotate(0,172.588235,93.588235)\">46</text>\n",
       "  <text x=\"35.294118\" y=\"101.294118\" font-size=\"1.0rem\" font-weight=\"100\" text-anchor=\"middle\" transform=\"rotate(45,35.294118,101.294118)\">120</text>\n",
       "</svg>\n",
       "</td>\n",
       "</tr>\n",
       "</table>"
      ],
      "text/plain": [
       "dask.array<array, shape=(120, 46, 72), dtype=float32, chunksize=(1, 46, 72)>"
      ]
     },
     "execution_count": 7,
     "metadata": {},
     "output_type": "execute_result"
    }
   ],
   "source": [
    "myDaskArray"
   ]
  },
  {
   "cell_type": "markdown",
   "metadata": {},
   "source": [
    "# Compute min/max"
   ]
  },
  {
   "cell_type": "code",
   "execution_count": 8,
   "metadata": {},
   "outputs": [
    {
     "name": "stdout",
     "output_type": "stream",
     "text": [
      "0.0 100.0\n"
     ]
    }
   ],
   "source": [
    "min = myDaskArray.min()\n",
    "max = myDaskArray.max()\n",
    "print(min.compute(), max.compute())"
   ]
  },
  {
   "cell_type": "markdown",
   "metadata": {},
   "source": [
    "# Create Cluster"
   ]
  },
  {
   "cell_type": "code",
   "execution_count": 9,
   "metadata": {},
   "outputs": [
    {
     "data": {
      "application/vnd.jupyter.widget-view+json": {
       "model_id": "49cb5e6c5e294181b923b3f8972c5552",
       "version_major": 2,
       "version_minor": 0
      },
      "text/plain": [
       "VBox(children=(HTML(value='<h2>LocalCluster</h2>'), HBox(children=(HTML(value='\\n<div>\\n  <style scoped>\\n    …"
      ]
     },
     "metadata": {},
     "output_type": "display_data"
    },
    {
     "data": {
      "text/html": [
       "<table style=\"border: 2px solid white;\">\n",
       "<tr>\n",
       "<td style=\"vertical-align: top; border: 0px solid white\">\n",
       "<h3 style=\"text-align: left;\">Client</h3>\n",
       "<ul style=\"text-align: left; list-style: none; margin: 0; padding: 0;\">\n",
       "  <li><b>Scheduler: </b>tcp://127.0.0.1:59924</li>\n",
       "  <li><b>Dashboard: </b><a href='http://127.0.0.1:8787/status' target='_blank'>http://127.0.0.1:8787/status</a>\n",
       "</ul>\n",
       "</td>\n",
       "<td style=\"vertical-align: top; border: 0px solid white\">\n",
       "<h3 style=\"text-align: left;\">Cluster</h3>\n",
       "<ul style=\"text-align: left; list-style:none; margin: 0; padding: 0;\">\n",
       "  <li><b>Workers: </b>5</li>\n",
       "  <li><b>Cores: </b>10</li>\n",
       "  <li><b>Memory: </b>17.18 GB</li>\n",
       "</ul>\n",
       "</td>\n",
       "</tr>\n",
       "</table>"
      ],
      "text/plain": [
       "<Client: scheduler='tcp://127.0.0.1:59924' processes=5 cores=10>"
      ]
     },
     "execution_count": 9,
     "metadata": {},
     "output_type": "execute_result"
    }
   ],
   "source": [
    "cluster=LocalCluster(n_workers=5,threads_per_worker=2)\n",
    "display(cluster)\n",
    "c=Client(cluster)\n",
    "c"
   ]
  },
  {
   "cell_type": "markdown",
   "metadata": {},
   "source": [
    "# Compute Histogram for CLT variable"
   ]
  },
  {
   "cell_type": "code",
   "execution_count": 10,
   "metadata": {},
   "outputs": [],
   "source": [
    "f = cdms2.open(cdat_info.get_sampledata_path()+\"/clt.nc\")\n",
    "dataFV=f[\"clt\"]\n",
    "myDaskArray= da.from_array(dataFV, chunks=(1,46,72))\n",
    "h,bins=da.histogram(myDaskArray,bins=100,range=[1,100])\n",
    "bins\n",
    "results = h.compute()"
   ]
  },
  {
   "cell_type": "markdown",
   "metadata": {},
   "source": [
    "# Display results with VCS"
   ]
  },
  {
   "cell_type": "code",
   "execution_count": 11,
   "metadata": {},
   "outputs": [
    {
     "data": {
      "application/vnd.jupyter.widget-view+json": {
       "model_id": "6cb4db8b61a94cb5b0fb4eaa1a3fb4cb",
       "version_major": 2,
       "version_minor": 0
      },
      "text/plain": [
       "VBox(children=(Image(value=b''),))"
      ]
     },
     "metadata": {},
     "output_type": "display_data"
    },
    {
     "data": {
      "text/plain": [
       "<vcs.displayplot.Dp at 0x1253645f8>"
      ]
     },
     "execution_count": 11,
     "metadata": {},
     "output_type": "execute_result"
    }
   ],
   "source": [
    "plt=vcs.init()\n",
    "plt.plot(bins,results)"
   ]
  },
  {
   "cell_type": "code",
   "execution_count": null,
   "metadata": {},
   "outputs": [],
   "source": []
  }
 ],
 "metadata": {
  "kernelspec": {
   "display_name": "Python [conda env:nightly] *",
   "language": "python",
   "name": "conda-env-nightly-py"
  },
  "language_info": {
   "codemirror_mode": {
    "name": "ipython",
    "version": 3
   },
   "file_extension": ".py",
   "mimetype": "text/x-python",
   "name": "python",
   "nbconvert_exporter": "python",
   "pygments_lexer": "ipython3",
   "version": "3.6.7"
  },
  "toc": {
   "base_numbering": 1,
   "nav_menu": {},
   "number_sections": true,
   "sideBar": true,
   "skip_h1_title": false,
   "title_cell": "Table of Contents",
   "title_sidebar": "Contents",
   "toc_cell": true,
   "toc_position": {},
   "toc_section_display": true,
   "toc_window_display": true
  }
 },
 "nbformat": 4,
 "nbformat_minor": 4
}
