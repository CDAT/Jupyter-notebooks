{
 "cells": [
  {
   "cell_type": "markdown",
   "metadata": {},
   "source": [
    "# Using NetCDF4 Compression with CDMS<a id=\"top\"></a>\n",
    "\n",
    "\n",
    "CDMS2 writes out data using the [NetCDF library](https://www.unidata.ucar.edu/software/netcdf/)\n",
    "\n",
    "NetCDF4 allows for file compression, a good blog about NetCDF4 and compression can be found [here](http://www.unidata.ucar.edu/blogs/developer/entry/netcdf_compression)\n",
    "\n",
    "From this blog:\n",
    "\n",
    "*\"The netCDF-4 libraries inherit the capability for data compression from the HDF5 storage layer underneath the netCDF-4 interface. Linking a program that uses netCDF to a netCDF-4 library allows the program to read compressed data without changing a single line of the program source code.\"*\n",
    "\n",
    "and\n",
    "\n",
    "*\"Also, we're only dealing with lossless compression\"*\n",
    "\n",
    "This Notebook shows how to control NetCDF4 compression (shuffling/deflating) capabilities via cdms2.\n",
    "\n",
    "You can download the Notebook [here](NetCDF4_Compression.ipynb)\n",
    "\n",
    "# Table Of Contents\n",
    "\n",
    "- [Preparing The Notebook](#prepare)\n",
    "- [Defaults Setting](#defaults)\n",
    "- [Turning Off Compression](#nocompress)\n",
    "- [Pure NetCDF3](#netcdf3)\n",
    "- [Netcdf4 non classic format](#nc4_no_classic)\n",
    "- [Shuffling](#shuffle)\n",
    "- [Deflate](#deflate)\n",
    "- [Summarizing most options](#summary)\n",
    "\n",
    "\n",
    "\n",
    "[Back To Top](#top)"
   ]
  },
  {
   "cell_type": "markdown",
   "metadata": {},
   "source": [
    "# Preparing The Notebook<a id=\"prepare\"></a>\n",
    "\n",
    "In order to look at a NetCDF content the easiest way is to use [ncdump](https://www.unidata.ucar.edu/software/netcdf/netcdf-4/newdocs/netcdf/ncdump.html). The following function helps us do a line call within Python, for Notebook clarity.\n",
    "\n",
    "We also prepare some random data\n",
    "\n",
    "[Back To Top](#top)"
   ]
  },
  {
   "cell_type": "code",
   "execution_count": 1,
   "metadata": {},
   "outputs": [],
   "source": [
    "from __future__ import print_function\n",
    "import subprocess\n",
    "import shlex\n",
    "import numpy\n",
    "import os\n",
    "import io\n",
    "import time\n",
    "\n",
    "# Get file size\n",
    "def size_it(filename):\n",
    "    statinfo = os.stat(filename)\n",
    "    return statinfo.st_size\n",
    "\n",
    "# Write and return time\n",
    "def dump(data,filename=\"example.nc\"):\n",
    "    start = time.time()\n",
    "    f = cdms2.open(filename,\"w\")\n",
    "    f.write(data,id=\"data\")\n",
    "    f.close()\n",
    "    return time.time()-start,size_it(filename)\n",
    "\n",
    "class HTML(object):\n",
    "    def __init__(self,html):\n",
    "        self.html = html\n",
    "    def _repr_html_(self):\n",
    "        return self.html\n",
    "\n",
    "\n",
    "# Nice html output for ncdump\n",
    "class NCINFO(object):\n",
    "    def __init__(self, filename, variable=None, options=\"\"):\n",
    "        self.filename = filename\n",
    "        self.variable = variable\n",
    "        self.options = options\n",
    "    def _repr_html_(self):\n",
    "        out = self.nc_info()\n",
    "        lines = []\n",
    "        for l in out.split(\"\\n\"):\n",
    "            for kw in [\"chunk\",\"deflate\",\"classic\",\"netcdf4\",\"netcdf-4\"]:\n",
    "                if l.lower().find(kw)>-1:\n",
    "                    l = \"<b>{0}</b>\".format(l)\n",
    "            lines.append(l.replace(\"\\t\",\"&emsp;&emsp;\"))\n",
    "        return \"{0}\".format(\"<br>\".join(lines))\n",
    "    def nc_info(self):\n",
    "        \"\"\"calls ncdump on file\n",
    "    Can opass a variable or optional ncdump arguments\n",
    "    Default call `ncdump -hs filename`\"\"\"\n",
    "        with io.BytesIO() as out:\n",
    "            ncdumpOptions = \"-hs {options}\".format(options=self.options)\n",
    "            if self.variable is not None:\n",
    "                ncdumpOptions += \"-v {variable}\".format(self.variable)\n",
    "            cmd = \"ncdump {options} {file}\".format(options=ncdumpOptions, file=self.filename)\n",
    "            print(\"Runnning {0}\".format(cmd),file=out)\n",
    "            cmd = shlex.split(cmd)\n",
    "            p = subprocess.Popen(cmd,stdout=subprocess.PIPE,stderr=subprocess.PIPE)\n",
    "            o, e = p.communicate()\n",
    "            print(\"-------\",file=out)\n",
    "            print(o,file=out)\n",
    "            print(\"-------\",file=out)\n",
    "            print(\"File Size {0} bytes\".format(size_it(self.filename)),file=out)\n",
    "            return out.getvalue()\n",
    "        \n",
    "import requests\n",
    "def download(fnm):\n",
    "    r = requests.get(\"https://uvcdat.llnl.gov/cdat/sample_data/%s\" % fnm,stream=True)\n",
    "    with open(fnm,\"wb\") as f:\n",
    "        for chunk in r.iter_content(chunk_size=1024):\n",
    "            if chunk:  # filter local_filename keep-alive new chunks\n",
    "                f.write(chunk)\n",
    "\n",
    "download(\"clt.nc\")\n",
    "data = numpy.random.random((120,180,360))\n",
    "# Random data do not compress well at all, switching to 0/1\n",
    "data = numpy.greater(data,.5).astype(numpy.float)"
   ]
  },
  {
   "cell_type": "markdown",
   "metadata": {},
   "source": [
    "# Default Settings<a id=\"defaults\"></a>\n",
    "\n",
    "By default cdms writes out data in NetCDF4 ***classic*** with no ***shuffling*** and a ***deflate*** level of 1\n",
    "\n",
    "[Back To Top](#top)\n",
    "\n",
    "To access the netcdf value used to write data out use the following commands:"
   ]
  },
  {
   "cell_type": "code",
   "execution_count": 2,
   "metadata": {},
   "outputs": [
    {
     "name": "stdout",
     "output_type": "stream",
     "text": [
      "NetCDF4?  1\n",
      "NetCDF Classic? 1\n",
      "NetCDF4 Shuffling 0\n",
      "NetCDF4 Deflate? 1\n",
      "NetCDF4 Deflate Level? 1\n"
     ]
    }
   ],
   "source": [
    "import cdms2\n",
    "print(\"NetCDF4? \",cdms2.getNetcdf4Flag())\n",
    "print(\"NetCDF Classic?\",cdms2.getNetcdfClassicFlag())\n",
    "print(\"NetCDF4 Shuffling\",cdms2.getNetcdfShuffleFlag())\n",
    "print(\"NetCDF4 Deflate?\",cdms2.getNetcdfDeflateFlag())\n",
    "print(\"NetCDF4 Deflate Level?\",cdms2.getNetcdfDeflateLevelFlag())"
   ]
  },
  {
   "cell_type": "markdown",
   "metadata": {},
   "source": [
    "These values are read in at the time you **open** the file for writing\n",
    "\n",
    "Note the **BOLD** lines"
   ]
  },
  {
   "cell_type": "code",
   "execution_count": 3,
   "metadata": {},
   "outputs": [
    {
     "name": "stderr",
     "output_type": "stream",
     "text": [
      "/Users/doutriaux1/anaconda2/envs/2.12/lib/python2.7/site-packages/cdms2/dataset.py:1967: Warning: Files are written with compression and shuffling\n",
      "You can query different values of compression using the functions:\n",
      "cdms2.getNetcdfShuffleFlag() returning 1 if shuffling is enabled, 0 otherwise\n",
      "cdms2.getNetcdfDeflateFlag() returning 1 if deflate is used, 0 otherwise\n",
      "cdms2.getNetcdfDeflateLevelFlag() returning the level of compression for the deflate method\n",
      "\n",
      "If you want to turn that off or set different values of compression use the functions:\n",
      "value = 0\n",
      "cdms2.setNetcdfShuffleFlag(value) ## where value is either 0 or 1\n",
      "cdms2.setNetcdfDeflateFlag(value) ## where value is either 0 or 1\n",
      "cdms2.setNetcdfDeflateLevelFlag(value) ## where value is a integer between 0 and 9 included\n",
      "\n",
      "Turning all values to 0 will produce NetCDF3 Classic files\n",
      "To Force NetCDF4 output with classic format and no compressing use:\n",
      "cdms2.setNetcdf4Flag(1)\n",
      "NetCDF4 file with no shuffling or deflate and noclassic will be open for parallel i/o\n",
      "  \"for parallel i/o\", Warning)\n"
     ]
    },
    {
     "data": {
      "text/html": [
       "Runnning ncdump -hs  example.nc<br>-------<br>netcdf example {<br>dimensions:<br>&emsp;&emsp;axis_0 = 120 ;<br>&emsp;&emsp;axis_1 = 180 ;<br>&emsp;&emsp;axis_2 = 360 ;<br>variables:<br>&emsp;&emsp;double axis_0(axis_0) ;<br><b>&emsp;&emsp;&emsp;&emsp;axis_0:_Storage = \"chunked\" ;</b><br><b>&emsp;&emsp;&emsp;&emsp;axis_0:_ChunkSizes = 120 ;</b><br><b>&emsp;&emsp;&emsp;&emsp;axis_0:_DeflateLevel = 1 ;</b><br>&emsp;&emsp;&emsp;&emsp;axis_0:_Endianness = \"little\" ;<br>&emsp;&emsp;double axis_1(axis_1) ;<br><b>&emsp;&emsp;&emsp;&emsp;axis_1:_Storage = \"chunked\" ;</b><br><b>&emsp;&emsp;&emsp;&emsp;axis_1:_ChunkSizes = 180 ;</b><br><b>&emsp;&emsp;&emsp;&emsp;axis_1:_DeflateLevel = 1 ;</b><br>&emsp;&emsp;&emsp;&emsp;axis_1:_Endianness = \"little\" ;<br>&emsp;&emsp;double axis_2(axis_2) ;<br><b>&emsp;&emsp;&emsp;&emsp;axis_2:_Storage = \"chunked\" ;</b><br><b>&emsp;&emsp;&emsp;&emsp;axis_2:_ChunkSizes = 360 ;</b><br><b>&emsp;&emsp;&emsp;&emsp;axis_2:_DeflateLevel = 1 ;</b><br>&emsp;&emsp;&emsp;&emsp;axis_2:_Endianness = \"little\" ;<br>&emsp;&emsp;double data(axis_0, axis_1, axis_2) ;<br>&emsp;&emsp;&emsp;&emsp;data :missing_value = 1.e+20 ;<br>&emsp;&emsp;&emsp;&emsp;data :_FillValue = 1.e+20 ;<br><b>&emsp;&emsp;&emsp;&emsp;data:_Storage = \"chunked\" ;</b><br><b>&emsp;&emsp;&emsp;&emsp;data:_ChunkSizes = 40, 60, 120 ;</b><br><b>&emsp;&emsp;&emsp;&emsp;data:_DeflateLevel = 1 ;</b><br>&emsp;&emsp;&emsp;&emsp;data:_Endianness = \"little\" ;<br><br>// global attributes:<br>&emsp;&emsp;&emsp;&emsp;:Conventions = \"CF-1.0\" ;<br>&emsp;&emsp;&emsp;&emsp;:_NCProperties = \"version=1|netcdflibversion=4.4.1.1|hdf5libversion=1.8.18\" ;<br>&emsp;&emsp;&emsp;&emsp;:_SuperblockVersion = 0 ;<br><b>&emsp;&emsp;&emsp;&emsp;:_IsNetcdf4 = 1 ;</b><br><b><b>&emsp;&emsp;&emsp;&emsp;:_Format = \"netCDF-4 classic model\" ;</b></b><br>}<br><br>-------<br>File Size 4145241 bytes<br>"
      ],
      "text/plain": [
       "<__main__.NCINFO at 0x10854a950>"
      ]
     },
     "execution_count": 3,
     "metadata": {},
     "output_type": "execute_result"
    }
   ],
   "source": [
    "dump(data)\n",
    "NCINFO(\"example.nc\")"
   ]
  },
  {
   "cell_type": "markdown",
   "metadata": {},
   "source": [
    "# Turning Off Compression<a id=\"nocompress\"></a>\n",
    "\n",
    "[Back to Top](#top)\n",
    "\n",
    "We can use no compression by runnnig"
   ]
  },
  {
   "cell_type": "code",
   "execution_count": 4,
   "metadata": {},
   "outputs": [
    {
     "data": {
      "text/html": [
       "Runnning ncdump -hs  example.nc<br>-------<br>netcdf example {<br>dimensions:<br>&emsp;&emsp;axis_0 = 120 ;<br>&emsp;&emsp;axis_1 = 180 ;<br>&emsp;&emsp;axis_2 = 360 ;<br>variables:<br>&emsp;&emsp;double axis_0(axis_0) ;<br>&emsp;&emsp;&emsp;&emsp;axis_0:_Storage = \"contiguous\" ;<br>&emsp;&emsp;&emsp;&emsp;axis_0:_Endianness = \"little\" ;<br>&emsp;&emsp;double axis_1(axis_1) ;<br>&emsp;&emsp;&emsp;&emsp;axis_1:_Storage = \"contiguous\" ;<br>&emsp;&emsp;&emsp;&emsp;axis_1:_Endianness = \"little\" ;<br>&emsp;&emsp;double axis_2(axis_2) ;<br>&emsp;&emsp;&emsp;&emsp;axis_2:_Storage = \"contiguous\" ;<br>&emsp;&emsp;&emsp;&emsp;axis_2:_Endianness = \"little\" ;<br>&emsp;&emsp;double data(axis_0, axis_1, axis_2) ;<br>&emsp;&emsp;&emsp;&emsp;data :missing_value = 1.e+20 ;<br>&emsp;&emsp;&emsp;&emsp;data :_FillValue = 1.e+20 ;<br>&emsp;&emsp;&emsp;&emsp;data:_Storage = \"contiguous\" ;<br>&emsp;&emsp;&emsp;&emsp;data:_Endianness = \"little\" ;<br><br>// global attributes:<br>&emsp;&emsp;&emsp;&emsp;:Conventions = \"CF-1.0\" ;<br>&emsp;&emsp;&emsp;&emsp;:_NCProperties = \"version=1|netcdflibversion=4.4.1.1|hdf5libversion=1.8.18\" ;<br>&emsp;&emsp;&emsp;&emsp;:_SuperblockVersion = 0 ;<br><b>&emsp;&emsp;&emsp;&emsp;:_IsNetcdf4 = 1 ;</b><br><b><b>&emsp;&emsp;&emsp;&emsp;:_Format = \"netCDF-4 classic model\" ;</b></b><br>}<br><br>-------<br>File Size 62222804 bytes<br>"
      ],
      "text/plain": [
       "<__main__.NCINFO at 0x12107e210>"
      ]
     },
     "execution_count": 4,
     "metadata": {},
     "output_type": "execute_result"
    }
   ],
   "source": [
    "value = 0\n",
    "cdms2.setNetcdfShuffleFlag(value) ## where value is either 0 or 1\n",
    "cdms2.setNetcdfDeflateFlag(value) ## where value is either 0 or 1\n",
    "cdms2.setNetcdfDeflateLevelFlag(value) ## where value is a integer between 0 and 9 included\n",
    "dump(data)\n",
    "NCINFO(\"example.nc\")"
   ]
  },
  {
   "cell_type": "markdown",
   "metadata": {},
   "source": [
    "# Pure NetCDF3<a id=\"netcdf3\"></a>\n",
    "\n",
    "[Back To Top](#top)\n",
    "\n",
    "All these option can either be turned to 0 to enable NetCDF3 (as the warning above shows). One can also use the single command:"
   ]
  },
  {
   "cell_type": "code",
   "execution_count": 5,
   "metadata": {},
   "outputs": [
    {
     "data": {
      "text/html": [
       "Runnning ncdump -hs  example.nc<br>-------<br>netcdf example {<br>dimensions:<br>&emsp;&emsp;axis_0 = 120 ;<br>&emsp;&emsp;axis_1 = 180 ;<br>&emsp;&emsp;axis_2 = 360 ;<br>variables:<br>&emsp;&emsp;double axis_0(axis_0) ;<br>&emsp;&emsp;double axis_1(axis_1) ;<br>&emsp;&emsp;double axis_2(axis_2) ;<br>&emsp;&emsp;double data(axis_0, axis_1, axis_2) ;<br>&emsp;&emsp;&emsp;&emsp;data :missing_value = 1.e+20 ;<br>&emsp;&emsp;&emsp;&emsp;data :_FillValue = 1.e+20 ;<br><br>// global attributes:<br>&emsp;&emsp;&emsp;&emsp;:Conventions = \"CF-1.0\" ;<br>&emsp;&emsp;&emsp;&emsp;:_Format = \"64-bit offset\" ;<br>}<br><br>-------<br>File Size 62213640 bytes<br>"
      ],
      "text/plain": [
       "<__main__.NCINFO at 0x10854aad0>"
      ]
     },
     "execution_count": 5,
     "metadata": {},
     "output_type": "execute_result"
    }
   ],
   "source": [
    "cdms2.useNetcdf3()\n",
    "# or for versions earlier than 2.12.2017.10.25\n",
    "value = 0\n",
    "cdms2.setNetcdfShuffleFlag(value) ## where value is either 0 or 1\n",
    "cdms2.setNetcdfDeflateFlag(value) ## where value is either 0 or 1\n",
    "cdms2.setNetcdfDeflateLevelFlag(value) ## where value is a integer between 0 and 9 included\n",
    "cdms2.setNetcdf4Flag(0)\n",
    "dump(data)\n",
    "NCINFO(\"example.nc\")"
   ]
  },
  {
   "cell_type": "markdown",
   "metadata": {},
   "source": [
    "# NetCDF4 non classic<a id=\"nc4_no_classic\"></a>\n",
    "\n",
    "[Back To TOp](#top)\n",
    "\n",
    "We can also turn off the classic option for netcdf4"
   ]
  },
  {
   "cell_type": "code",
   "execution_count": 6,
   "metadata": {},
   "outputs": [
    {
     "data": {
      "text/html": [
       "Runnning ncdump -hs  example.nc<br>-------<br>netcdf example {<br>dimensions:<br>&emsp;&emsp;axis_0 = 120 ;<br>&emsp;&emsp;axis_1 = 180 ;<br>&emsp;&emsp;axis_2 = 360 ;<br>variables:<br>&emsp;&emsp;double axis_0(axis_0) ;<br>&emsp;&emsp;&emsp;&emsp;axis_0:_Storage = \"contiguous\" ;<br>&emsp;&emsp;&emsp;&emsp;axis_0:_Endianness = \"little\" ;<br>&emsp;&emsp;double axis_1(axis_1) ;<br>&emsp;&emsp;&emsp;&emsp;axis_1:_Storage = \"contiguous\" ;<br>&emsp;&emsp;&emsp;&emsp;axis_1:_Endianness = \"little\" ;<br>&emsp;&emsp;double axis_2(axis_2) ;<br>&emsp;&emsp;&emsp;&emsp;axis_2:_Storage = \"contiguous\" ;<br>&emsp;&emsp;&emsp;&emsp;axis_2:_Endianness = \"little\" ;<br>&emsp;&emsp;double data(axis_0, axis_1, axis_2) ;<br>&emsp;&emsp;&emsp;&emsp;data :missing_value = 1.e+20 ;<br>&emsp;&emsp;&emsp;&emsp;data :_FillValue = 1.e+20 ;<br>&emsp;&emsp;&emsp;&emsp;data:_Storage = \"contiguous\" ;<br>&emsp;&emsp;&emsp;&emsp;data:_Endianness = \"little\" ;<br><br>// global attributes:<br>&emsp;&emsp;&emsp;&emsp;:Conventions = \"CF-1.0\" ;<br>&emsp;&emsp;&emsp;&emsp;:_NCProperties = \"version=1|netcdflibversion=4.4.1.1|hdf5libversion=1.8.18\" ;<br>&emsp;&emsp;&emsp;&emsp;:_SuperblockVersion = 0 ;<br><b>&emsp;&emsp;&emsp;&emsp;:_IsNetcdf4 = 1 ;</b><br><b>&emsp;&emsp;&emsp;&emsp;:_Format = \"netCDF-4\" ;</b><br>}<br><br>-------<br>File Size 62222745 bytes<br>"
      ],
      "text/plain": [
       "<__main__.NCINFO at 0x10854a490>"
      ]
     },
     "execution_count": 6,
     "metadata": {},
     "output_type": "execute_result"
    }
   ],
   "source": [
    "cdms2.setNetcdf4Flag(1)\n",
    "cdms2.setNetcdfClassicFlag(0)\n",
    "dump(data)\n",
    "NCINFO(\"example.nc\")"
   ]
  },
  {
   "cell_type": "markdown",
   "metadata": {},
   "source": [
    "# Using Shuffling<a id=\"shuffle\"></a>\n",
    "\n",
    "[Back To Top](#top)\n",
    "\n",
    "We can turn on/off shuffling"
   ]
  },
  {
   "cell_type": "code",
   "execution_count": 7,
   "metadata": {},
   "outputs": [
    {
     "data": {
      "text/html": [
       "Runnning ncdump -hs  example.nc<br>-------<br>netcdf example {<br>dimensions:<br>&emsp;&emsp;axis_0 = 120 ;<br>&emsp;&emsp;axis_1 = 180 ;<br>&emsp;&emsp;axis_2 = 360 ;<br>variables:<br>&emsp;&emsp;double axis_0(axis_0) ;<br><b>&emsp;&emsp;&emsp;&emsp;axis_0:_Storage = \"chunked\" ;</b><br><b>&emsp;&emsp;&emsp;&emsp;axis_0:_ChunkSizes = 120 ;</b><br>&emsp;&emsp;&emsp;&emsp;axis_0:_Shuffle = \"true\" ;<br>&emsp;&emsp;&emsp;&emsp;axis_0:_Endianness = \"little\" ;<br>&emsp;&emsp;double axis_1(axis_1) ;<br><b>&emsp;&emsp;&emsp;&emsp;axis_1:_Storage = \"chunked\" ;</b><br><b>&emsp;&emsp;&emsp;&emsp;axis_1:_ChunkSizes = 180 ;</b><br>&emsp;&emsp;&emsp;&emsp;axis_1:_Shuffle = \"true\" ;<br>&emsp;&emsp;&emsp;&emsp;axis_1:_Endianness = \"little\" ;<br>&emsp;&emsp;double axis_2(axis_2) ;<br><b>&emsp;&emsp;&emsp;&emsp;axis_2:_Storage = \"chunked\" ;</b><br><b>&emsp;&emsp;&emsp;&emsp;axis_2:_ChunkSizes = 360 ;</b><br>&emsp;&emsp;&emsp;&emsp;axis_2:_Shuffle = \"true\" ;<br>&emsp;&emsp;&emsp;&emsp;axis_2:_Endianness = \"little\" ;<br>&emsp;&emsp;double data(axis_0, axis_1, axis_2) ;<br>&emsp;&emsp;&emsp;&emsp;data :missing_value = 1.e+20 ;<br>&emsp;&emsp;&emsp;&emsp;data :_FillValue = 1.e+20 ;<br><b>&emsp;&emsp;&emsp;&emsp;data:_Storage = \"chunked\" ;</b><br><b>&emsp;&emsp;&emsp;&emsp;data:_ChunkSizes = 40, 60, 120 ;</b><br>&emsp;&emsp;&emsp;&emsp;data:_Shuffle = \"true\" ;<br>&emsp;&emsp;&emsp;&emsp;data:_Endianness = \"little\" ;<br><br>// global attributes:<br>&emsp;&emsp;&emsp;&emsp;:Conventions = \"CF-1.0\" ;<br>&emsp;&emsp;&emsp;&emsp;:_NCProperties = \"version=1|netcdflibversion=4.4.1.1|hdf5libversion=1.8.18\" ;<br>&emsp;&emsp;&emsp;&emsp;:_SuperblockVersion = 0 ;<br><b>&emsp;&emsp;&emsp;&emsp;:_IsNetcdf4 = 1 ;</b><br><b>&emsp;&emsp;&emsp;&emsp;:_Format = \"netCDF-4\" ;</b><br>}<br><br>-------<br>File Size 62231714 bytes<br>"
      ],
      "text/plain": [
       "<__main__.NCINFO at 0x10de4bb50>"
      ]
     },
     "execution_count": 7,
     "metadata": {},
     "output_type": "execute_result"
    }
   ],
   "source": [
    "cdms2.setNetcdf4Flag(1)\n",
    "cdms2.setNetcdfClassicFlag(0)\n",
    "cdms2.setNetcdfShuffleFlag(1)\n",
    "dump(data)\n",
    "NCINFO(\"example.nc\")"
   ]
  },
  {
   "cell_type": "markdown",
   "metadata": {},
   "source": [
    "# Controling Deflate Level<a id=\"deflate\"></a>\n",
    "\n",
    "[Back To top](#top)\n",
    "\n",
    "We can choose our deflate level (at the expense of time)"
   ]
  },
  {
   "cell_type": "code",
   "execution_count": 8,
   "metadata": {},
   "outputs": [
    {
     "data": {
      "text/html": [
       "Runnning ncdump -hs  example.nc<br>-------<br>netcdf example {<br>dimensions:<br>&emsp;&emsp;axis_0 = 120 ;<br>&emsp;&emsp;axis_1 = 180 ;<br>&emsp;&emsp;axis_2 = 360 ;<br>variables:<br>&emsp;&emsp;double axis_0(axis_0) ;<br><b>&emsp;&emsp;&emsp;&emsp;axis_0:_Storage = \"chunked\" ;</b><br><b>&emsp;&emsp;&emsp;&emsp;axis_0:_ChunkSizes = 120 ;</b><br><b>&emsp;&emsp;&emsp;&emsp;axis_0:_DeflateLevel = 5 ;</b><br>&emsp;&emsp;&emsp;&emsp;axis_0:_Endianness = \"little\" ;<br>&emsp;&emsp;double axis_1(axis_1) ;<br><b>&emsp;&emsp;&emsp;&emsp;axis_1:_Storage = \"chunked\" ;</b><br><b>&emsp;&emsp;&emsp;&emsp;axis_1:_ChunkSizes = 180 ;</b><br><b>&emsp;&emsp;&emsp;&emsp;axis_1:_DeflateLevel = 5 ;</b><br>&emsp;&emsp;&emsp;&emsp;axis_1:_Endianness = \"little\" ;<br>&emsp;&emsp;double axis_2(axis_2) ;<br><b>&emsp;&emsp;&emsp;&emsp;axis_2:_Storage = \"chunked\" ;</b><br><b>&emsp;&emsp;&emsp;&emsp;axis_2:_ChunkSizes = 360 ;</b><br><b>&emsp;&emsp;&emsp;&emsp;axis_2:_DeflateLevel = 5 ;</b><br>&emsp;&emsp;&emsp;&emsp;axis_2:_Endianness = \"little\" ;<br>&emsp;&emsp;double data(axis_0, axis_1, axis_2) ;<br>&emsp;&emsp;&emsp;&emsp;data :missing_value = 1.e+20 ;<br>&emsp;&emsp;&emsp;&emsp;data :_FillValue = 1.e+20 ;<br><b>&emsp;&emsp;&emsp;&emsp;data:_Storage = \"chunked\" ;</b><br><b>&emsp;&emsp;&emsp;&emsp;data:_ChunkSizes = 40, 60, 120 ;</b><br><b>&emsp;&emsp;&emsp;&emsp;data:_DeflateLevel = 5 ;</b><br>&emsp;&emsp;&emsp;&emsp;data:_Endianness = \"little\" ;<br><br>// global attributes:<br>&emsp;&emsp;&emsp;&emsp;:Conventions = \"CF-1.0\" ;<br>&emsp;&emsp;&emsp;&emsp;:_NCProperties = \"version=1|netcdflibversion=4.4.1.1|hdf5libversion=1.8.18\" ;<br>&emsp;&emsp;&emsp;&emsp;:_SuperblockVersion = 0 ;<br><b>&emsp;&emsp;&emsp;&emsp;:_IsNetcdf4 = 1 ;</b><br><b>&emsp;&emsp;&emsp;&emsp;:_Format = \"netCDF-4\" ;</b><br>}<br><br>-------<br>File Size 2772201 bytes<br>"
      ],
      "text/plain": [
       "<__main__.NCINFO at 0x11cdeef90>"
      ]
     },
     "execution_count": 8,
     "metadata": {},
     "output_type": "execute_result"
    }
   ],
   "source": [
    "cdms2.setNetcdfShuffleFlag(0)\n",
    "cdms2.setNetcdfDeflateFlag(1)\n",
    "cdms2.setNetcdfDeflateLevelFlag(5)\n",
    "dump(data)\n",
    "NCINFO(\"example.nc\")"
   ]
  },
  {
   "cell_type": "markdown",
   "metadata": {},
   "source": [
    "# Summarizing All Options<a id=\"summary\"></a>\n",
    "\n",
    "[Back To Top](#top)\n",
    "\n",
    "Let's try with a real life example"
   ]
  },
  {
   "cell_type": "code",
   "execution_count": 9,
   "metadata": {},
   "outputs": [
    {
     "data": {
      "text/html": [
       "<table border='2'><tr><th>Deflate Level</th><th>NC3</th><th>NC4 Classic no shuffle</th><th>NC4 Classic shuffled</th><th>NC4 no shuffle</th><th>NC4 shuffled</th></tr><tr><td align='center'>0</td><td align='center'>0.02/1625421</td><td align='center'>0.01/1625480</td><td align='center'>0.02/1633154</td><td align='center'>0.01/1625421</td><td align='center'>0.02/1633095</td></tr><tr><td align='center'>1</td><td align='center'>N/A</td><td align='center'>0.09/1201207</td><td align='center'>0.07/1227851</td><td align='center'>0.09/1201148</td><td align='center'>0.07/1227792</td></tr><tr><td align='center'>2</td><td align='center'>N/A</td><td align='center'>0.08/1200573</td><td align='center'>0.07/1224007</td><td align='center'>0.09/1200514</td><td align='center'>0.07/1223948</td></tr><tr><td align='center'>3</td><td align='center'>N/A</td><td align='center'>0.09/1200473</td><td align='center'>0.07/1220387</td><td align='center'>0.09/1200414</td><td align='center'>0.08/1220328</td></tr><tr><td align='center'>4</td><td align='center'>N/A</td><td align='center'>0.10/1206454</td><td align='center'>0.08/1218271</td><td align='center'>0.10/1206395</td><td align='center'>0.07/1218212</td></tr><tr><td align='center'>5</td><td align='center'>N/A</td><td align='center'>0.10/1206194</td><td align='center'>0.09/1215442</td><td align='center'>0.10/1206135</td><td align='center'>0.09/1215383</td></tr><tr><td align='center'>6</td><td align='center'>N/A</td><td align='center'>0.10/1206063</td><td align='center'>0.08/1213465</td><td align='center'>0.11/1206004</td><td align='center'>0.08/1213406</td></tr><tr><td align='center'>7</td><td align='center'>N/A</td><td align='center'>0.10/1206007</td><td align='center'>0.09/1212825</td><td align='center'>0.10/1205948</td><td align='center'>0.09/1212766</td></tr><tr><td align='center'>8</td><td align='center'>N/A</td><td align='center'>0.11/1205990</td><td align='center'>0.15/1211920</td><td align='center'>0.11/1205931</td><td align='center'>0.15/1211861</td></tr><tr><td align='center'>9</td><td align='center'>N/A</td><td align='center'>0.11/1205990</td><td align='center'>0.19/1211561</td><td align='center'>0.12/1205931</td><td align='center'>0.19/1211502</td></tr><caption>Time To Write NetCDF File and size for various NC4 settings</caption></table>"
      ],
      "text/plain": [
       "<__main__.HTML at 0x10de4b890>"
      ]
     },
     "execution_count": 9,
     "metadata": {},
     "output_type": "execute_result"
    }
   ],
   "source": [
    "f=cdms2.open(\"clt.nc\")\n",
    "clt = f(\"clt\")\n",
    "\n",
    "html = \"<table border='2'><tr><th>Deflate Level</th><th>NC3</th><th>NC4 Classic no shuffle</th><th>NC4 Classic shuffled</th><th>NC4 no shuffle</th><th>NC4 shuffled</th></tr>\"\n",
    "\n",
    "def addCell():\n",
    "    t,s = dump(clt)\n",
    "    return \"<td align='center'>{:.2f}/{:d}</td>\".format(t,s)\n",
    "\n",
    "def nc4s():\n",
    "    out = \"\"\n",
    "    for classic in [1,0]:\n",
    "        cdms2.setNetcdfClassicFlag(classic)\n",
    "        for shuffle in [0,1]:\n",
    "            cdms2.setNetcdfShuffleFlag(shuffle)\n",
    "            out+=addCell()\n",
    "    out+=\"</tr>\"\n",
    "    return out\n",
    "\n",
    "# NetCDF3\n",
    "html+=\"<tr><td align='center'>0</td>\"\n",
    "cdms2.useNetcdf3()\n",
    "cdms2.setNetcdf4Flag(0)\n",
    "html+=addCell()\n",
    "cdms2.setNetcdf4Flag(1)\n",
    "html+=nc4s()\n",
    "cdms2.setNetcdfDeflateFlag(1)\n",
    "for i in range(1,10):\n",
    "    cdms2.setNetcdfDeflateLevelFlag(i)\n",
    "    html += \"<tr><td align='center'>{0}</td><td align='center'>N/A</td>\".format(i)\n",
    "    html += nc4s()\n",
    "html+=\"<caption>Time To Write NetCDF File and size for various NC4 settings</caption></table>\"\n",
    "HTML(html)"
   ]
  }
 ],
 "metadata": {
  "kernelspec": {
   "display_name": "Python [conda env:2.12]",
   "language": "python",
   "name": "conda-env-2.12-py"
  },
  "language_info": {
   "codemirror_mode": {
    "name": "ipython",
    "version": 2
   },
   "file_extension": ".py",
   "mimetype": "text/x-python",
   "name": "python",
   "nbconvert_exporter": "python",
   "pygments_lexer": "ipython2",
   "version": "2.7.13"
  }
 },
 "nbformat": 4,
 "nbformat_minor": 2
}
