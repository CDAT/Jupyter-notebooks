{
 "cells": [
  {
   "cell_type": "markdown",
   "metadata": {
    "toc": true
   },
   "source": [
    "<h1>Table of Contents<span class=\"tocSkip\"></span></h1>\n",
    "<div class=\"toc\"><ul class=\"toc-item\"><li><span><a href=\"#Using-NetCDF4-Compression-with-CDMS\" data-toc-modified-id=\"Using-NetCDF4-Compression-with-CDMS-1\"><span class=\"toc-item-num\">1&nbsp;&nbsp;</span>Using NetCDF4 Compression with CDMS<a id=\"top\"></a></a></span></li><li><span><a href=\"#Table-Of-Contents\" data-toc-modified-id=\"Table-Of-Contents-2\"><span class=\"toc-item-num\">2&nbsp;&nbsp;</span>Table Of Contents</a></span></li><li><span><a href=\"#Preparing-The-Notebook\" data-toc-modified-id=\"Preparing-The-Notebook-3\"><span class=\"toc-item-num\">3&nbsp;&nbsp;</span>Preparing The Notebook<a id=\"prepare\"></a></a></span></li><li><span><a href=\"#Default-Settings\" data-toc-modified-id=\"Default-Settings-4\"><span class=\"toc-item-num\">4&nbsp;&nbsp;</span>Default Settings<a id=\"defaults\"></a></a></span></li><li><span><a href=\"#Turning-Off-Compression\" data-toc-modified-id=\"Turning-Off-Compression-5\"><span class=\"toc-item-num\">5&nbsp;&nbsp;</span>Turning Off Compression<a id=\"nocompress\"></a></a></span></li><li><span><a href=\"#Pure-NetCDF3\" data-toc-modified-id=\"Pure-NetCDF3-6\"><span class=\"toc-item-num\">6&nbsp;&nbsp;</span>Pure NetCDF3<a id=\"netcdf3\"></a></a></span></li><li><span><a href=\"#NetCDF4-non-classic\" data-toc-modified-id=\"NetCDF4-non-classic-7\"><span class=\"toc-item-num\">7&nbsp;&nbsp;</span>NetCDF4 non classic<a id=\"nc4_no_classic\"></a></a></span></li><li><span><a href=\"#Using-Shuffling\" data-toc-modified-id=\"Using-Shuffling-8\"><span class=\"toc-item-num\">8&nbsp;&nbsp;</span>Using Shuffling<a id=\"shuffle\"></a></a></span></li><li><span><a href=\"#Controling-Deflate-Level\" data-toc-modified-id=\"Controling-Deflate-Level-9\"><span class=\"toc-item-num\">9&nbsp;&nbsp;</span>Controling Deflate Level<a id=\"deflate\"></a></a></span></li><li><span><a href=\"#Summarizing-All-Options\" data-toc-modified-id=\"Summarizing-All-Options-10\"><span class=\"toc-item-num\">10&nbsp;&nbsp;</span>Summarizing All Options<a id=\"summary\"></a></a></span></li></ul></div>"
   ]
  },
  {
   "cell_type": "markdown",
   "metadata": {},
   "source": [
    "# Using NetCDF4 Compression with CDMS<a id=\"top\"></a>\n",
    "\n",
    "\n",
    "CDMS2 writes out data using the [NetCDF library](https://www.unidata.ucar.edu/software/netcdf/)\n",
    "\n",
    "NetCDF4 allows for file compression, a good blog about NetCDF4 and compression can be found [here](http://www.unidata.ucar.edu/blogs/developer/entry/netcdf_compression)\n",
    "\n",
    "From this blog:\n",
    "\n",
    "*\"The netCDF-4 libraries inherit the capability for data compression from the HDF5 storage layer underneath the netCDF-4 interface. Linking a program that uses netCDF to a netCDF-4 library allows the program to read compressed data without changing a single line of the program source code.\"*\n",
    "\n",
    "and\n",
    "\n",
    "*\"Also, we're only dealing with lossless compression\"*\n",
    "\n",
    "This Notebook shows how to control NetCDF4 compression (shuffling/deflating) capabilities via cdms2.\n",
    "\n",
    "You can download the Notebook [here](NetCDF4_Compression.ipynb)\n",
    "\n",
    "# Table Of Contents\n",
    "\n",
    "- [Preparing The Notebook](#prepare)\n",
    "- [Defaults Setting](#defaults)\n",
    "- [Turning Off Compression](#nocompress)\n",
    "- [Pure NetCDF3](#netcdf3)\n",
    "- [Netcdf4 non classic format](#nc4_no_classic)\n",
    "- [Shuffling](#shuffle)\n",
    "- [Deflate](#deflate)\n",
    "- [Summarizing most options](#summary)\n",
    "\n",
    "\n",
    "\n",
    "[Back To Top](#top)"
   ]
  },
  {
   "cell_type": "markdown",
   "metadata": {},
   "source": [
    "# Preparing The Notebook<a id=\"prepare\"></a>\n",
    "\n",
    "In order to look at a NetCDF content the easiest way is to use [ncdump](https://www.unidata.ucar.edu/software/netcdf/netcdf-4/newdocs/netcdf/ncdump.html). The following function helps us do a line call within Python, for Notebook clarity.\n",
    "\n",
    "We also prepare some random data\n",
    "\n",
    "[Back To Top](#top)"
   ]
  },
  {
   "cell_type": "code",
   "execution_count": 1,
   "metadata": {},
   "outputs": [],
   "source": [
    "from __future__ import print_function\n",
    "import subprocess\n",
    "import shlex\n",
    "import numpy\n",
    "import os\n",
    "import io\n",
    "import time\n",
    "\n",
    "# Get file size\n",
    "def size_it(filename):\n",
    "    statinfo = os.stat(filename)\n",
    "    return statinfo.st_size\n",
    "\n",
    "# Write and return time\n",
    "def dump(data,filename=\"example.nc\"):\n",
    "    start = time.time()\n",
    "    f = cdms2.open(filename,\"w\")\n",
    "    f.write(data,id=\"data\")\n",
    "    f.close()\n",
    "    return time.time()-start,size_it(filename)\n",
    "\n",
    "class HTML(object):\n",
    "    def __init__(self,html):\n",
    "        self.html = html\n",
    "    def _repr_html_(self):\n",
    "        return self.html\n",
    "\n",
    "\n",
    "# Nice html output for ncdump\n",
    "class NCINFO(object):\n",
    "    def __init__(self, filename, variable=None, options=\"\"):\n",
    "        self.filename = filename\n",
    "        self.variable = variable\n",
    "        self.options = options\n",
    "    def _repr_html_(self):\n",
    "        out = self.nc_info()\n",
    "        lines = []\n",
    "        for l in out.split(\"\\n\"):\n",
    "            for kw in [\"chunk\",\"deflate\",\"classic\",\"netcdf4\",\"netcdf-4\"]:\n",
    "                if l.lower().find(kw)>-1:\n",
    "                    l = \"<b>{0}</b>\".format(l)\n",
    "            lines.append(l.replace(\"\\t\",\"&emsp;&emsp;\"))\n",
    "        return \"{0}\".format(\"<br>\".join(lines))\n",
    "    def nc_info(self):\n",
    "        \"\"\"calls ncdump on file\n",
    "    Can opass a variable or optional ncdump arguments\n",
    "    Default call `ncdump -hs filename`\"\"\"\n",
    "        with io.BytesIO() as out:\n",
    "            ncdumpOptions = \"-hs {options}\".format(options=self.options)\n",
    "            if self.variable is not None:\n",
    "                ncdumpOptions += \"-v {variable}\".format(self.variable)\n",
    "            cmd = \"ncdump {options} {file}\".format(options=ncdumpOptions, file=self.filename)\n",
    "            print(\"Runnning {0}\".format(cmd),file=out)\n",
    "            cmd = shlex.split(cmd)\n",
    "            p = subprocess.Popen(cmd,stdout=subprocess.PIPE,stderr=subprocess.PIPE)\n",
    "            o, e = p.communicate()\n",
    "            print(\"-------\",file=out)\n",
    "            print(o,file=out)\n",
    "            print(\"-------\",file=out)\n",
    "            print(\"File Size {0} bytes\".format(size_it(self.filename)),file=out)\n",
    "            return out.getvalue()\n",
    "        \n",
    "import requests\n",
    "def download(fnm):\n",
    "    r = requests.get(\"https://uvcdat.llnl.gov/cdat/sample_data/%s\" % fnm,stream=True)\n",
    "    with open(fnm,\"wb\") as f:\n",
    "        for chunk in r.iter_content(chunk_size=1024):\n",
    "            if chunk:  # filter local_filename keep-alive new chunks\n",
    "                f.write(chunk)\n",
    "\n",
    "download(\"clt.nc\")\n",
    "data = numpy.random.random((120,180,360))\n",
    "# Random data do not compress well at all, switching to 0/1\n",
    "data = numpy.greater(data,.5).astype(numpy.float)"
   ]
  },
  {
   "cell_type": "markdown",
   "metadata": {},
   "source": [
    "# Default Settings<a id=\"defaults\"></a>\n",
    "\n",
    "By default cdms writes out data in NetCDF4 ***classic*** with no ***shuffling*** and a ***deflate*** level of 1\n",
    "\n",
    "[Back To Top](#top)\n",
    "\n",
    "To access the netcdf value used to write data out use the following commands:"
   ]
  },
  {
   "cell_type": "code",
   "execution_count": 2,
   "metadata": {},
   "outputs": [
    {
     "name": "stdout",
     "output_type": "stream",
     "text": [
      "NetCDF4?  1\n",
      "NetCDF Classic? 1\n",
      "NetCDF4 Shuffling 0\n",
      "NetCDF4 Deflate? 1\n",
      "NetCDF4 Deflate Level? 1\n"
     ]
    }
   ],
   "source": [
    "import cdms2\n",
    "print(\"NetCDF4? \",cdms2.getNetcdf4Flag())\n",
    "print(\"NetCDF Classic?\",cdms2.getNetcdfClassicFlag())\n",
    "print(\"NetCDF4 Shuffling\",cdms2.getNetcdfShuffleFlag())\n",
    "print(\"NetCDF4 Deflate?\",cdms2.getNetcdfDeflateFlag())\n",
    "print(\"NetCDF4 Deflate Level?\",cdms2.getNetcdfDeflateLevelFlag())"
   ]
  },
  {
   "cell_type": "markdown",
   "metadata": {},
   "source": [
    "These values are read in at the time you **open** the file for writing\n",
    "\n",
    "Note the **BOLD** lines"
   ]
  },
  {
   "cell_type": "code",
   "execution_count": 3,
   "metadata": {},
   "outputs": [
    {
     "name": "stderr",
     "output_type": "stream",
     "text": [
      "/export/reshel3/anaconda52/envs/cdms2/lib/python2.7/site-packages/cdms2/dataset.py:2187: Warning: Files are written with compression and no shuffling\n",
      "You can query different values of compression using the functions:\n",
      "cdms2.getNetcdfShuffleFlag() returning 1 if shuffling is enabled, 0 otherwise\n",
      "cdms2.getNetcdfDeflateFlag() returning 1 if deflate is used, 0 otherwise\n",
      "cdms2.getNetcdfDeflateLevelFlag() returning the level of compression for the deflate method\n",
      "\n",
      "If you want to turn that off or set different values of compression use the functions:\n",
      "value = 0\n",
      "cdms2.setNetcdfShuffleFlag(value) ## where value is either 0 or 1\n",
      "cdms2.setNetcdfDeflateFlag(value) ## where value is either 0 or 1\n",
      "cdms2.setNetcdfDeflateLevelFlag(value) ## where value is a integer between 0 and 9 included\n",
      "\n",
      "To produce NetCDF3 Classic files use:\n",
      "cdms2.useNetCDF3()\n",
      "To Force NetCDF4 output with classic format and no compressing use:\n",
      "cdms2.setNetcdf4Flag(1)\n",
      "NetCDF4 file with no shuffling or deflate and noclassic will be open for parallel i/o\n",
      "  \"for parallel i/o\", Warning)\n"
     ]
    },
    {
     "data": {
      "text/html": [
       "Runnning ncdump -hs  example.nc<br>-------<br>netcdf example {<br>dimensions:<br>&emsp;&emsp;axis_0 = 120 ;<br>&emsp;&emsp;axis_1 = 180 ;<br>&emsp;&emsp;axis_2 = 360 ;<br>variables:<br>&emsp;&emsp;double axis_0(axis_0) ;<br><b>&emsp;&emsp;&emsp;&emsp;axis_0:_Storage = \"chunked\" ;</b><br><b>&emsp;&emsp;&emsp;&emsp;axis_0:_ChunkSizes = 120 ;</b><br><b>&emsp;&emsp;&emsp;&emsp;axis_0:_DeflateLevel = 1 ;</b><br>&emsp;&emsp;&emsp;&emsp;axis_0:_Endianness = \"little\" ;<br>&emsp;&emsp;double axis_1(axis_1) ;<br><b>&emsp;&emsp;&emsp;&emsp;axis_1:_Storage = \"chunked\" ;</b><br><b>&emsp;&emsp;&emsp;&emsp;axis_1:_ChunkSizes = 180 ;</b><br><b>&emsp;&emsp;&emsp;&emsp;axis_1:_DeflateLevel = 1 ;</b><br>&emsp;&emsp;&emsp;&emsp;axis_1:_Endianness = \"little\" ;<br>&emsp;&emsp;double axis_2(axis_2) ;<br><b>&emsp;&emsp;&emsp;&emsp;axis_2:_Storage = \"chunked\" ;</b><br><b>&emsp;&emsp;&emsp;&emsp;axis_2:_ChunkSizes = 360 ;</b><br><b>&emsp;&emsp;&emsp;&emsp;axis_2:_DeflateLevel = 1 ;</b><br>&emsp;&emsp;&emsp;&emsp;axis_2:_Endianness = \"little\" ;<br>&emsp;&emsp;double data(axis_0, axis_1, axis_2) ;<br>&emsp;&emsp;&emsp;&emsp;data :missing_value = 1.e+20 ;<br>&emsp;&emsp;&emsp;&emsp;data :_FillValue = 1.e+20 ;<br><b>&emsp;&emsp;&emsp;&emsp;data:_Storage = \"chunked\" ;</b><br><b>&emsp;&emsp;&emsp;&emsp;data:_ChunkSizes = 40, 60, 120 ;</b><br><b>&emsp;&emsp;&emsp;&emsp;data:_DeflateLevel = 1 ;</b><br>&emsp;&emsp;&emsp;&emsp;data:_Endianness = \"little\" ;<br><br>// global attributes:<br>&emsp;&emsp;&emsp;&emsp;:Conventions = \"CF-1.0\" ;<br>&emsp;&emsp;&emsp;&emsp;:_NCProperties = \"version=2,netcdf=4.6.2,hdf5=1.10.4\" ;<br>&emsp;&emsp;&emsp;&emsp;:_SuperblockVersion = 0 ;<br><b>&emsp;&emsp;&emsp;&emsp;:_IsNetcdf4 = 1 ;</b><br><b><b>&emsp;&emsp;&emsp;&emsp;:_Format = \"netCDF-4 classic model\" ;</b></b><br>}<br><br>-------<br>File Size 4144610 bytes<br>"
      ],
      "text/plain": [
       "<__main__.NCINFO at 0x7fe8bd2c6950>"
      ]
     },
     "execution_count": 3,
     "metadata": {},
     "output_type": "execute_result"
    }
   ],
   "source": [
    "dump(data)\n",
    "NCINFO(\"example.nc\")"
   ]
  },
  {
   "cell_type": "markdown",
   "metadata": {},
   "source": [
    "# Turning Off Compression<a id=\"nocompress\"></a>\n",
    "\n",
    "[Back to Top](#top)\n",
    "\n",
    "We can use no compression by runnnig"
   ]
  },
  {
   "cell_type": "code",
   "execution_count": 4,
   "metadata": {},
   "outputs": [
    {
     "data": {
      "text/html": [
       "Runnning ncdump -hs  example.nc<br>-------<br>netcdf example {<br>dimensions:<br>&emsp;&emsp;axis_0 = 120 ;<br>&emsp;&emsp;axis_1 = 180 ;<br>&emsp;&emsp;axis_2 = 360 ;<br>variables:<br>&emsp;&emsp;double axis_0(axis_0) ;<br>&emsp;&emsp;&emsp;&emsp;axis_0:_Storage = \"contiguous\" ;<br>&emsp;&emsp;&emsp;&emsp;axis_0:_Endianness = \"little\" ;<br>&emsp;&emsp;double axis_1(axis_1) ;<br>&emsp;&emsp;&emsp;&emsp;axis_1:_Storage = \"contiguous\" ;<br>&emsp;&emsp;&emsp;&emsp;axis_1:_Endianness = \"little\" ;<br>&emsp;&emsp;double axis_2(axis_2) ;<br>&emsp;&emsp;&emsp;&emsp;axis_2:_Storage = \"contiguous\" ;<br>&emsp;&emsp;&emsp;&emsp;axis_2:_Endianness = \"little\" ;<br>&emsp;&emsp;double data(axis_0, axis_1, axis_2) ;<br>&emsp;&emsp;&emsp;&emsp;data :missing_value = 1.e+20 ;<br>&emsp;&emsp;&emsp;&emsp;data :_FillValue = 1.e+20 ;<br>&emsp;&emsp;&emsp;&emsp;data:_Storage = \"contiguous\" ;<br>&emsp;&emsp;&emsp;&emsp;data:_Endianness = \"little\" ;<br><br>// global attributes:<br>&emsp;&emsp;&emsp;&emsp;:Conventions = \"CF-1.0\" ;<br>&emsp;&emsp;&emsp;&emsp;:_NCProperties = \"version=2,netcdf=4.6.2,hdf5=1.10.4\" ;<br>&emsp;&emsp;&emsp;&emsp;:_SuperblockVersion = 0 ;<br><b>&emsp;&emsp;&emsp;&emsp;:_IsNetcdf4 = 1 ;</b><br><b><b>&emsp;&emsp;&emsp;&emsp;:_Format = \"netCDF-4 classic model\" ;</b></b><br>}<br><br>-------<br>File Size 62222745 bytes<br>"
      ],
      "text/plain": [
       "<__main__.NCINFO at 0x7fe8b455d890>"
      ]
     },
     "execution_count": 4,
     "metadata": {},
     "output_type": "execute_result"
    }
   ],
   "source": [
    "value = 0\n",
    "cdms2.setNetcdfShuffleFlag(value) ## where value is either 0 or 1\n",
    "cdms2.setNetcdfDeflateFlag(value) ## where value is either 0 or 1\n",
    "cdms2.setNetcdfDeflateLevelFlag(value) ## where value is a integer between 0 and 9 included\n",
    "dump(data)\n",
    "NCINFO(\"example.nc\")"
   ]
  },
  {
   "cell_type": "markdown",
   "metadata": {},
   "source": [
    "# Pure NetCDF3<a id=\"netcdf3\"></a>\n",
    "\n",
    "[Back To Top](#top)\n",
    "\n",
    "All these option can either be turned to 0 to enable NetCDF3 (as the warning above shows). One can also use the single command:"
   ]
  },
  {
   "cell_type": "code",
   "execution_count": 5,
   "metadata": {},
   "outputs": [
    {
     "data": {
      "text/html": [
       "Runnning ncdump -hs  example.nc<br>-------<br>netcdf example {<br>dimensions:<br>&emsp;&emsp;axis_0 = 120 ;<br>&emsp;&emsp;axis_1 = 180 ;<br>&emsp;&emsp;axis_2 = 360 ;<br>variables:<br>&emsp;&emsp;double axis_0(axis_0) ;<br>&emsp;&emsp;double axis_1(axis_1) ;<br>&emsp;&emsp;double axis_2(axis_2) ;<br>&emsp;&emsp;double data(axis_0, axis_1, axis_2) ;<br>&emsp;&emsp;&emsp;&emsp;data :missing_value = 1.e+20 ;<br>&emsp;&emsp;&emsp;&emsp;data :_FillValue = 1.e+20 ;<br><br>// global attributes:<br>&emsp;&emsp;&emsp;&emsp;:Conventions = \"CF-1.0\" ;<br>&emsp;&emsp;&emsp;&emsp;:_Format = \"64-bit offset\" ;<br>}<br><br>-------<br>File Size 62213640 bytes<br>"
      ],
      "text/plain": [
       "<__main__.NCINFO at 0x7fe8ccaa7a50>"
      ]
     },
     "execution_count": 5,
     "metadata": {},
     "output_type": "execute_result"
    }
   ],
   "source": [
    "cdms2.useNetcdf3()\n",
    "# or for versions earlier than 2.12.2017.10.25\n",
    "value = 0\n",
    "cdms2.setNetcdfShuffleFlag(value) ## where value is either 0 or 1\n",
    "cdms2.setNetcdfDeflateFlag(value) ## where value is either 0 or 1\n",
    "cdms2.setNetcdfDeflateLevelFlag(value) ## where value is a integer between 0 and 9 included\n",
    "cdms2.setNetcdf4Flag(0)\n",
    "dump(data)\n",
    "NCINFO(\"example.nc\")"
   ]
  },
  {
   "cell_type": "markdown",
   "metadata": {},
   "source": [
    "# NetCDF4 non classic<a id=\"nc4_no_classic\"></a>\n",
    "\n",
    "[Back To TOp](#top)\n",
    "\n",
    "We can also turn off the classic option for netcdf4"
   ]
  },
  {
   "cell_type": "code",
   "execution_count": 6,
   "metadata": {},
   "outputs": [
    {
     "data": {
      "text/html": [
       "Runnning ncdump -hs  example.nc<br>-------<br>netcdf example {<br>dimensions:<br>&emsp;&emsp;axis_0 = 120 ;<br>&emsp;&emsp;axis_1 = 180 ;<br>&emsp;&emsp;axis_2 = 360 ;<br>variables:<br>&emsp;&emsp;double axis_0(axis_0) ;<br>&emsp;&emsp;&emsp;&emsp;axis_0:_Storage = \"contiguous\" ;<br>&emsp;&emsp;&emsp;&emsp;axis_0:_Endianness = \"little\" ;<br>&emsp;&emsp;double axis_1(axis_1) ;<br>&emsp;&emsp;&emsp;&emsp;axis_1:_Storage = \"contiguous\" ;<br>&emsp;&emsp;&emsp;&emsp;axis_1:_Endianness = \"little\" ;<br>&emsp;&emsp;double axis_2(axis_2) ;<br>&emsp;&emsp;&emsp;&emsp;axis_2:_Storage = \"contiguous\" ;<br>&emsp;&emsp;&emsp;&emsp;axis_2:_Endianness = \"little\" ;<br>&emsp;&emsp;double data(axis_0, axis_1, axis_2) ;<br>&emsp;&emsp;&emsp;&emsp;data :missing_value = 1.e+20 ;<br>&emsp;&emsp;&emsp;&emsp;data :_FillValue = 1.e+20 ;<br>&emsp;&emsp;&emsp;&emsp;data:_Storage = \"contiguous\" ;<br>&emsp;&emsp;&emsp;&emsp;data:_Endianness = \"little\" ;<br><br>// global attributes:<br>&emsp;&emsp;&emsp;&emsp;:Conventions = \"CF-1.0\" ;<br>&emsp;&emsp;&emsp;&emsp;:_NCProperties = \"version=2,netcdf=4.6.2,hdf5=1.10.4\" ;<br>&emsp;&emsp;&emsp;&emsp;:_SuperblockVersion = 0 ;<br><b>&emsp;&emsp;&emsp;&emsp;:_IsNetcdf4 = 1 ;</b><br><b>&emsp;&emsp;&emsp;&emsp;:_Format = \"netCDF-4\" ;</b><br>}<br><br>-------<br>File Size 62222611 bytes<br>"
      ],
      "text/plain": [
       "<__main__.NCINFO at 0x7fe8ccaa7950>"
      ]
     },
     "execution_count": 6,
     "metadata": {},
     "output_type": "execute_result"
    }
   ],
   "source": [
    "cdms2.setNetcdf4Flag(1)\n",
    "cdms2.setNetcdfClassicFlag(0)\n",
    "dump(data)\n",
    "NCINFO(\"example.nc\")"
   ]
  },
  {
   "cell_type": "markdown",
   "metadata": {},
   "source": [
    "# Using Shuffling<a id=\"shuffle\"></a>\n",
    "\n",
    "[Back To Top](#top)\n",
    "\n",
    "We can turn on/off shuffling"
   ]
  },
  {
   "cell_type": "code",
   "execution_count": 7,
   "metadata": {},
   "outputs": [
    {
     "data": {
      "text/html": [
       "Runnning ncdump -hs  example.nc<br>-------<br>netcdf example {<br>dimensions:<br>&emsp;&emsp;axis_0 = 120 ;<br>&emsp;&emsp;axis_1 = 180 ;<br>&emsp;&emsp;axis_2 = 360 ;<br>variables:<br>&emsp;&emsp;double axis_0(axis_0) ;<br><b>&emsp;&emsp;&emsp;&emsp;axis_0:_Storage = \"chunked\" ;</b><br><b>&emsp;&emsp;&emsp;&emsp;axis_0:_ChunkSizes = 120 ;</b><br>&emsp;&emsp;&emsp;&emsp;axis_0:_Shuffle = \"true\" ;<br>&emsp;&emsp;&emsp;&emsp;axis_0:_Endianness = \"little\" ;<br>&emsp;&emsp;double axis_1(axis_1) ;<br><b>&emsp;&emsp;&emsp;&emsp;axis_1:_Storage = \"chunked\" ;</b><br><b>&emsp;&emsp;&emsp;&emsp;axis_1:_ChunkSizes = 180 ;</b><br>&emsp;&emsp;&emsp;&emsp;axis_1:_Shuffle = \"true\" ;<br>&emsp;&emsp;&emsp;&emsp;axis_1:_Endianness = \"little\" ;<br>&emsp;&emsp;double axis_2(axis_2) ;<br><b>&emsp;&emsp;&emsp;&emsp;axis_2:_Storage = \"chunked\" ;</b><br><b>&emsp;&emsp;&emsp;&emsp;axis_2:_ChunkSizes = 360 ;</b><br>&emsp;&emsp;&emsp;&emsp;axis_2:_Shuffle = \"true\" ;<br>&emsp;&emsp;&emsp;&emsp;axis_2:_Endianness = \"little\" ;<br>&emsp;&emsp;double data(axis_0, axis_1, axis_2) ;<br>&emsp;&emsp;&emsp;&emsp;data :missing_value = 1.e+20 ;<br>&emsp;&emsp;&emsp;&emsp;data :_FillValue = 1.e+20 ;<br><b>&emsp;&emsp;&emsp;&emsp;data:_Storage = \"chunked\" ;</b><br><b>&emsp;&emsp;&emsp;&emsp;data:_ChunkSizes = 40, 60, 120 ;</b><br>&emsp;&emsp;&emsp;&emsp;data:_Shuffle = \"true\" ;<br>&emsp;&emsp;&emsp;&emsp;data:_Endianness = \"little\" ;<br><br>// global attributes:<br>&emsp;&emsp;&emsp;&emsp;:Conventions = \"CF-1.0\" ;<br>&emsp;&emsp;&emsp;&emsp;:_NCProperties = \"version=2,netcdf=4.6.2,hdf5=1.10.4\" ;<br>&emsp;&emsp;&emsp;&emsp;:_SuperblockVersion = 0 ;<br><b>&emsp;&emsp;&emsp;&emsp;:_IsNetcdf4 = 1 ;</b><br><b>&emsp;&emsp;&emsp;&emsp;:_Format = \"netCDF-4\" ;</b><br>}<br><br>-------<br>File Size 62231677 bytes<br>"
      ],
      "text/plain": [
       "<__main__.NCINFO at 0x7fe8b455de10>"
      ]
     },
     "execution_count": 7,
     "metadata": {},
     "output_type": "execute_result"
    }
   ],
   "source": [
    "cdms2.setNetcdf4Flag(1)\n",
    "cdms2.setNetcdfClassicFlag(0)\n",
    "cdms2.setNetcdfShuffleFlag(1)\n",
    "dump(data)\n",
    "NCINFO(\"example.nc\")"
   ]
  },
  {
   "cell_type": "markdown",
   "metadata": {},
   "source": [
    "# Controling Deflate Level<a id=\"deflate\"></a>\n",
    "\n",
    "[Back To top](#top)\n",
    "\n",
    "We can choose our deflate level (at the expense of time)"
   ]
  },
  {
   "cell_type": "code",
   "execution_count": 8,
   "metadata": {},
   "outputs": [
    {
     "data": {
      "text/html": [
       "Runnning ncdump -hs  example.nc<br>-------<br>netcdf example {<br>dimensions:<br>&emsp;&emsp;axis_0 = 120 ;<br>&emsp;&emsp;axis_1 = 180 ;<br>&emsp;&emsp;axis_2 = 360 ;<br>variables:<br>&emsp;&emsp;double axis_0(axis_0) ;<br><b>&emsp;&emsp;&emsp;&emsp;axis_0:_Storage = \"chunked\" ;</b><br><b>&emsp;&emsp;&emsp;&emsp;axis_0:_ChunkSizes = 120 ;</b><br><b>&emsp;&emsp;&emsp;&emsp;axis_0:_DeflateLevel = 5 ;</b><br>&emsp;&emsp;&emsp;&emsp;axis_0:_Endianness = \"little\" ;<br>&emsp;&emsp;double axis_1(axis_1) ;<br><b>&emsp;&emsp;&emsp;&emsp;axis_1:_Storage = \"chunked\" ;</b><br><b>&emsp;&emsp;&emsp;&emsp;axis_1:_ChunkSizes = 180 ;</b><br><b>&emsp;&emsp;&emsp;&emsp;axis_1:_DeflateLevel = 5 ;</b><br>&emsp;&emsp;&emsp;&emsp;axis_1:_Endianness = \"little\" ;<br>&emsp;&emsp;double axis_2(axis_2) ;<br><b>&emsp;&emsp;&emsp;&emsp;axis_2:_Storage = \"chunked\" ;</b><br><b>&emsp;&emsp;&emsp;&emsp;axis_2:_ChunkSizes = 360 ;</b><br><b>&emsp;&emsp;&emsp;&emsp;axis_2:_DeflateLevel = 5 ;</b><br>&emsp;&emsp;&emsp;&emsp;axis_2:_Endianness = \"little\" ;<br>&emsp;&emsp;double data(axis_0, axis_1, axis_2) ;<br>&emsp;&emsp;&emsp;&emsp;data :missing_value = 1.e+20 ;<br>&emsp;&emsp;&emsp;&emsp;data :_FillValue = 1.e+20 ;<br><b>&emsp;&emsp;&emsp;&emsp;data:_Storage = \"chunked\" ;</b><br><b>&emsp;&emsp;&emsp;&emsp;data:_ChunkSizes = 40, 60, 120 ;</b><br><b>&emsp;&emsp;&emsp;&emsp;data:_DeflateLevel = 5 ;</b><br>&emsp;&emsp;&emsp;&emsp;data:_Endianness = \"little\" ;<br><br>// global attributes:<br>&emsp;&emsp;&emsp;&emsp;:Conventions = \"CF-1.0\" ;<br>&emsp;&emsp;&emsp;&emsp;:_NCProperties = \"version=2,netcdf=4.6.2,hdf5=1.10.4\" ;<br>&emsp;&emsp;&emsp;&emsp;:_SuperblockVersion = 0 ;<br><b>&emsp;&emsp;&emsp;&emsp;:_IsNetcdf4 = 1 ;</b><br><b>&emsp;&emsp;&emsp;&emsp;:_Format = \"netCDF-4\" ;</b><br>}<br><br>-------<br>File Size 2771548 bytes<br>"
      ],
      "text/plain": [
       "<__main__.NCINFO at 0x7fe8b455d850>"
      ]
     },
     "execution_count": 8,
     "metadata": {},
     "output_type": "execute_result"
    }
   ],
   "source": [
    "cdms2.setNetcdfShuffleFlag(0)\n",
    "cdms2.setNetcdfDeflateFlag(1)\n",
    "cdms2.setNetcdfDeflateLevelFlag(5)\n",
    "dump(data)\n",
    "NCINFO(\"example.nc\")"
   ]
  },
  {
   "cell_type": "markdown",
   "metadata": {},
   "source": [
    "# Summarizing All Options<a id=\"summary\"></a>\n",
    "\n",
    "[Back To Top](#top)\n",
    "\n",
    "Let's try with a real life example"
   ]
  },
  {
   "cell_type": "code",
   "execution_count": 9,
   "metadata": {},
   "outputs": [
    {
     "data": {
      "text/html": [
       "<table border='2'><tr><th>Deflate Level</th><th>NC3</th><th>NC4 Classic no shuffle</th><th>NC4 Classic shuffled</th><th>NC4 no shuffle</th><th>NC4 shuffled</th></tr><tr><td align='center'>0</td><td align='center'>0.02/1625482</td><td align='center'>0.01/1625323</td><td align='center'>0.01/1633052</td><td align='center'>0.01/1625482</td><td align='center'>0.01/1633197</td></tr><tr><td align='center'>1</td><td align='center'>N/A</td><td align='center'>0.12/1201105</td><td align='center'>0.09/1227739</td><td align='center'>0.12/1201250</td><td align='center'>0.09/1227943</td></tr><tr><td align='center'>2</td><td align='center'>N/A</td><td align='center'>0.12/1200471</td><td align='center'>0.09/1223895</td><td align='center'>0.12/1200616</td><td align='center'>0.09/1224099</td></tr><tr><td align='center'>3</td><td align='center'>N/A</td><td align='center'>0.12/1200371</td><td align='center'>0.09/1220275</td><td align='center'>0.12/1200516</td><td align='center'>0.09/1220479</td></tr><tr><td align='center'>4</td><td align='center'>N/A</td><td align='center'>0.13/1206352</td><td align='center'>0.10/1218159</td><td align='center'>0.13/1206497</td><td align='center'>0.10/1218363</td></tr><tr><td align='center'>5</td><td align='center'>N/A</td><td align='center'>0.13/1206092</td><td align='center'>0.11/1215330</td><td align='center'>0.13/1206237</td><td align='center'>0.11/1215534</td></tr><tr><td align='center'>6</td><td align='center'>N/A</td><td align='center'>0.14/1205961</td><td align='center'>0.11/1213353</td><td align='center'>0.14/1206106</td><td align='center'>0.11/1213557</td></tr><tr><td align='center'>7</td><td align='center'>N/A</td><td align='center'>0.14/1205905</td><td align='center'>0.12/1212713</td><td align='center'>0.14/1206050</td><td align='center'>0.12/1212917</td></tr><tr><td align='center'>8</td><td align='center'>N/A</td><td align='center'>0.14/1205888</td><td align='center'>0.16/1211808</td><td align='center'>0.14/1206033</td><td align='center'>0.16/1212012</td></tr><tr><td align='center'>9</td><td align='center'>N/A</td><td align='center'>0.14/1205888</td><td align='center'>0.20/1211449</td><td align='center'>0.14/1206033</td><td align='center'>0.19/1211653</td></tr><caption>Time To Write NetCDF File and size for various NC4 settings</caption></table>"
      ],
      "text/plain": [
       "<__main__.HTML at 0x7fe8bd2c6590>"
      ]
     },
     "execution_count": 9,
     "metadata": {},
     "output_type": "execute_result"
    }
   ],
   "source": [
    "f=cdms2.open(\"clt.nc\")\n",
    "clt = f(\"clt\")\n",
    "\n",
    "html = \"<table border='2'><tr><th>Deflate Level</th><th>NC3</th><th>NC4 Classic no shuffle</th><th>NC4 Classic shuffled</th><th>NC4 no shuffle</th><th>NC4 shuffled</th></tr>\"\n",
    "\n",
    "def addCell():\n",
    "    t,s = dump(clt)\n",
    "    return \"<td align='center'>{:.2f}/{:d}</td>\".format(t,s)\n",
    "\n",
    "def nc4s():\n",
    "    out = \"\"\n",
    "    for classic in [1,0]:\n",
    "        cdms2.setNetcdfClassicFlag(classic)\n",
    "        for shuffle in [0,1]:\n",
    "            cdms2.setNetcdfShuffleFlag(shuffle)\n",
    "            out+=addCell()\n",
    "    out+=\"</tr>\"\n",
    "    return out\n",
    "\n",
    "# NetCDF3\n",
    "html+=\"<tr><td align='center'>0</td>\"\n",
    "cdms2.useNetcdf3()\n",
    "cdms2.setNetcdf4Flag(0)\n",
    "html+=addCell()\n",
    "cdms2.setNetcdf4Flag(1)\n",
    "html+=nc4s()\n",
    "cdms2.setNetcdfDeflateFlag(1)\n",
    "for i in range(1,10):\n",
    "    cdms2.setNetcdfDeflateLevelFlag(i)\n",
    "    html += \"<tr><td align='center'>{0}</td><td align='center'>N/A</td>\".format(i)\n",
    "    html += nc4s()\n",
    "html+=\"<caption>Time To Write NetCDF File and size for various NC4 settings</caption></table>\"\n",
    "HTML(html)"
   ]
  },
  {
   "cell_type": "code",
   "execution_count": null,
   "metadata": {},
   "outputs": [],
   "source": []
  },
  {
   "cell_type": "code",
   "execution_count": null,
   "metadata": {},
   "outputs": [],
   "source": []
  },
  {
   "cell_type": "code",
   "execution_count": null,
   "metadata": {},
   "outputs": [],
   "source": []
  },
  {
   "cell_type": "code",
   "execution_count": null,
   "metadata": {},
   "outputs": [],
   "source": []
  },
  {
   "cell_type": "code",
   "execution_count": null,
   "metadata": {},
   "outputs": [],
   "source": []
  }
 ],
 "metadata": {
  "kernelspec": {
   "display_name": "Python 2",
   "language": "python",
   "name": "python2"
  },
  "language_info": {
   "codemirror_mode": {
    "name": "ipython",
    "version": 2
   },
   "file_extension": ".py",
   "mimetype": "text/x-python",
   "name": "python",
   "nbconvert_exporter": "python",
   "pygments_lexer": "ipython2",
   "version": "2.7.15"
  },
  "toc": {
   "base_numbering": 1,
   "nav_menu": {},
   "number_sections": true,
   "sideBar": true,
   "skip_h1_title": false,
   "title_cell": "Table of Contents",
   "title_sidebar": "Contents",
   "toc_cell": true,
   "toc_position": {},
   "toc_section_display": true,
   "toc_window_display": true
  }
 },
 "nbformat": 4,
 "nbformat_minor": 2
}
