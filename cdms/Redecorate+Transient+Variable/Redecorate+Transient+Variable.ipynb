{
 "cells": [
  {
   "cell_type": "markdown",
   "metadata": {},
   "source": [
    "# Redecorate Transient Variable<a id='top' class=\"tocSkip\"> </a>\n",
    "\n",
    "This Jupyter Notebook shows how to redecorate a transient variable that became a numpy array\n",
    "\n",
    "© The CDAT software was developed by LLNL. This tutorial was written by Charles Doutriaux. This work was performed under the auspices of the U.S. Department of Energy by Lawrence Livermore National Laboratory under Contract DE-AC52-07NA27344.\n",
    "\n",
    "\n",
    "\n",
    "[Download the Jupyter Notebook](Redecorate%2BTransient%2BVariable.ipynb)"
   ]
  },
  {
   "cell_type": "markdown",
   "metadata": {
    "toc": true
   },
   "source": [
    "<h1>Table of Contents<span class=\"tocSkip\"></span></h1>\n",
    "<div class=\"toc\"><ul class=\"toc-item\"><li><span><a href=\"#Import-Modules\" data-toc-modified-id=\"Import-Modules-1\">Import Modules</a></span></li><li><span><a href=\"#Open-Data\" data-toc-modified-id=\"Open-Data-2\">Open Data</a></span></li><li><span><a href=\"#Run-Data\" data-toc-modified-id=\"Run-Data-3\">Run Data</a></span></li><li><span><a href=\"#Put-Back-Dimensions\" data-toc-modified-id=\"Put-Back-Dimensions-4\">Put Back Dimensions</a></span></li><li><span><a href=\"#Put-Attributes-On-It\" data-toc-modified-id=\"Put-Attributes-On-It-5\">Put Attributes On It</a></span></li></ul></div>"
   ]
  },
  {
   "cell_type": "markdown",
   "metadata": {},
   "source": [
    "# Import Modules\n",
    "[Back to Top](#top)"
   ]
  },
  {
   "cell_type": "code",
   "execution_count": 7,
   "metadata": {},
   "outputs": [],
   "source": [
    "# import modules\n",
    "import MV2\n",
    "import cdms2\n",
    "import numpy\n",
    "import cdat_info  # for sample data"
   ]
  },
  {
   "cell_type": "markdown",
   "metadata": {},
   "source": [
    "# Open Data\n",
    "[Back to Top](#top)"
   ]
  },
  {
   "cell_type": "code",
   "execution_count": 10,
   "metadata": {},
   "outputs": [
    {
     "name": "stdout",
     "output_type": "stream",
     "text": [
      "<class 'cdms2.tvariable.TransientVariable'>\n"
     ]
    }
   ],
   "source": [
    "# open some data\n",
    "f=cdms2.open(cdat_info.get_sampledata_path()+\"/clt.nc\")\n",
    "s=f(\"clt\")\n",
    "print type(s)"
   ]
  },
  {
   "cell_type": "markdown",
   "metadata": {},
   "source": [
    "# Run Data\n",
    "[Back to Top](#top) "
   ]
  },
  {
   "cell_type": "code",
   "execution_count": 9,
   "metadata": {},
   "outputs": [
    {
     "name": "stdout",
     "output_type": "stream",
     "text": [
      "<type 'numpy.ndarray'>\n"
     ]
    }
   ],
   "source": [
    "# Now run an operation on this MV2 that turns it to munpy array\n",
    "fft_s = numpy.fft.fft(s)\n",
    "print type(fft_s)  # numpy array"
   ]
  },
  {
   "cell_type": "markdown",
   "metadata": {},
   "source": [
    "# Put Back Dimensions\n",
    "[Back to Top](#top) "
   ]
  },
  {
   "cell_type": "code",
   "execution_count": 19,
   "metadata": {},
   "outputs": [
    {
     "name": "stdout",
     "output_type": "stream",
     "text": [
      "['time', 'latitude', 'longitude']\n"
     ]
    }
   ],
   "source": [
    "# now put back dimensions on it\n",
    "fft_s = MV2.array(fft_s)\n",
    "fft_s.setAxisList(s.getAxisList())\n",
    "\n",
    "# Dimensions are back\n",
    "print fft_s.getAxisIds()"
   ]
  },
  {
   "cell_type": "markdown",
   "metadata": {},
   "source": [
    "# Put Attributes On It\n",
    "[Back to Top](#top) "
   ]
  },
  {
   "cell_type": "code",
   "execution_count": 17,
   "metadata": {},
   "outputs": [
    {
     "name": "stdout",
     "output_type": "stream",
     "text": [
      "*** Description of Slab variable_14 ***\n",
      "id: variable_14\n",
      "shape: (120, 46, 72)\n",
      "filename: \n",
      "missing_value: (1+0j)\n",
      "comments: YONU_AMIP1\n",
      "grid_name: YONU4X5\n",
      "grid_type: gaussian\n",
      "time_statistic: average\n",
      "long_name: Total cloudiness\n",
      "units: %\n",
      "tileIndex: None\n",
      "Grid has Python id 0x7f58311cba50.\n",
      "Gridtype: generic\n",
      "Grid shape: (46, 72)\n",
      "Order: yx\n",
      "** Dimension 1 **\n",
      "   id: time\n",
      "   Designated a time axis.\n",
      "   units:  months since 1979-1-1 0\n",
      "   Length: 120\n",
      "   First:  0.0\n",
      "   Last:   119.0\n",
      "   Other axis attributes:\n",
      "      calendar: gregorian\n",
      "      axis: T\n",
      "      realtopology: linear\n",
      "   Python id:  0x7f58311cbf10\n",
      "** Dimension 2 **\n",
      "   id: latitude\n",
      "   Designated a latitude axis.\n",
      "   units:  degrees_north\n",
      "   Length: 46\n",
      "   First:  -90.0\n",
      "   Last:   90.0\n",
      "   Other axis attributes:\n",
      "      long_name: Latitude\n",
      "      axis: Y\n",
      "      realtopology: linear\n",
      "   Python id:  0x7f58311cb610\n",
      "** Dimension 3 **\n",
      "   id: longitude\n",
      "   Designated a longitude axis.\n",
      "   units:  degrees_east\n",
      "   Length: 72\n",
      "   First:  -180.0\n",
      "   Last:   175.0\n",
      "   Other axis attributes:\n",
      "      modulo: 360.0\n",
      "      realtopology: circular\n",
      "      long_name: Longitude\n",
      "      topology: circular\n",
      "      axis: X\n",
      "   Python id:  0x7f58311cbf90\n",
      "*** End of description for variable_14 ***\n"
     ]
    }
   ],
   "source": [
    "# now puts the attributes on it\n",
    "for a in s.attributes:\n",
    "    setattr(fft_s,a,getattr(s,a))\n",
    "fft_s.info()"
   ]
  }
 ],
 "metadata": {
  "anaconda-cloud": {},
  "kernelspec": {
   "display_name": "Python 2",
   "language": "python",
   "name": "python2"
  },
  "language_info": {
   "codemirror_mode": {
    "name": "ipython",
    "version": 2
   },
   "file_extension": ".py",
   "mimetype": "text/x-python",
   "name": "python",
   "nbconvert_exporter": "python",
   "pygments_lexer": "ipython2",
   "version": "2.7.15"
  },
  "toc": {
   "base_numbering": 1,
   "nav_menu": {},
   "number_sections": false,
   "sideBar": true,
   "skip_h1_title": false,
   "title_cell": "Table of Contents",
   "title_sidebar": "Contents",
   "toc_cell": true,
   "toc_position": {},
   "toc_section_display": true,
   "toc_window_display": false
  }
 },
 "nbformat": 4,
 "nbformat_minor": 1
}
