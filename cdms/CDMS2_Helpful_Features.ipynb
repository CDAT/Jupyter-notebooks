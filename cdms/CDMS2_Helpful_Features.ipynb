{
 "cells": [
  {
   "cell_type": "markdown",
   "metadata": {},
   "source": [
    "# CDMS Helpful Features<a id='top' class=\"tocSkip\"> </a>\n",
    "\n",
    "\n",
    "\n",
    "© The CDAT software was developed by LLNL. This tutorial was written by Denis Nadeau. This work was performed under the auspices of the U.S. Department of Energy by Lawrence Livermore National Laboratory under Contract DE-AC52-07NA27344.\n",
    "\n",
    "[Download the Jupyter Notebook](CDMS2 Helpful Features.ipynb)"
   ]
  },
  {
   "cell_type": "markdown",
   "metadata": {
    "toc": true
   },
   "source": [
    "<h1>Table of Contents<span class=\"tocSkip\"></span></h1>\n",
    "<div class=\"toc\"><ul class=\"toc-item\"><li><span><a href=\"#Create-a-regular-Grid\" data-toc-modified-id=\"Create-a-regular-Grid-1\">Create a regular Grid</a></span></li><li><span><a href=\"#Get--1D-weights\" data-toc-modified-id=\"Get--1D-weights-2\">Get  1D weights</a></span></li><li><span><a href=\"#Compute-the-2D-weights\" data-toc-modified-id=\"Compute-the-2D-weights-3\">Compute the 2D weights</a></span></li><li><span><a href=\"#Create-a-cdms2-variable-with-some-extra-metadata\" data-toc-modified-id=\"Create-a-cdms2-variable-with-some-extra-metadata-4\">Create a cdms2 variable with some extra metadata</a></span></li><li><span><a href=\"#Save-a-variable-to-an-nc-file\" data-toc-modified-id=\"Save-a-variable-to-an-nc-file-5\">Save a variable to an nc file</a></span></li></ul></div>"
   ]
  },
  {
   "cell_type": "markdown",
   "metadata": {},
   "source": [
    "# Create a regular Grid\n",
    "\n",
    "[Back to Top](#top)"
   ]
  },
  {
   "cell_type": "code",
   "execution_count": 1,
   "metadata": {},
   "outputs": [],
   "source": [
    "#!/usr/bin/env python\n",
    "\n",
    "# Generate the weights of a regular/uniform grid, and store the\n",
    "# variable in a netcdf file\n",
    "\n",
    "# J-Y Peterschmitt - LSCE - 05/2019\n",
    "\n",
    "import numpy as np, time, os\n",
    "import cdms2"
   ]
  },
  {
   "cell_type": "code",
   "execution_count": 2,
   "metadata": {},
   "outputs": [
    {
     "name": "stderr",
     "output_type": "stream",
     "text": [
      "/export/reshel3/anaconda52/envs/cdms2/lib/python2.7/site-packages/cdms2/axis.py:1683: UserWarning: \n",
      "Your first bounds[0,0] -180.000000000000000 will be corrected to -180.000000000000000\n",
      "Your bounds bounds[-1,1] 180.000000000000000 will be corrected to 180.000000000000000\n",
      "  warnings.warn(msg, UserWarning)\n"
     ]
    }
   ],
   "source": [
    "# Define and generate the grid. The cell bounds are automatically\n",
    "# generated and will be automatically used for computing the cell weights\n",
    "\n",
    "# inc = 0.5\n",
    "# nb_lat = 360\n",
    "inc = 1\n",
    "nb_lat = 180\n",
    "startLat, nlat, deltaLat, startLon, nlon, deltaLon = (-90 + inc/2., nb_lat, inc,\n",
    "                                                      -180 + inc/2., 2*nb_lat, inc)\n",
    "\n",
    "uniform_grid = cdms2.createUniformGrid(startLat, nlat, deltaLat, startLon, nlon, deltaLon)\n"
   ]
  },
  {
   "cell_type": "code",
   "execution_count": 3,
   "metadata": {},
   "outputs": [
    {
     "name": "stdout",
     "output_type": "stream",
     "text": [
      "Grid information:\n",
      "Grid has Python id 0x7f0c2625dd90.\n",
      "Gridtype: uniform\n",
      "Grid shape: (180, 360)\n",
      "Order: yx\n"
     ]
    }
   ],
   "source": [
    "# Check the generated grid\n",
    "print('Grid information:')\n",
    "print(uniform_grid)"
   ]
  },
  {
   "cell_type": "code",
   "execution_count": 4,
   "metadata": {},
   "outputs": [
    {
     "name": "stdout",
     "output_type": "stream",
     "text": [
      "\n",
      "Longitude information:\n",
      "   id: longitude\n",
      "   Designated a longitude axis.\n",
      "   units:  degrees_east\n",
      "   Length: 360\n",
      "   First:  -179.5\n",
      "   Last:   179.5\n",
      "   Other axis attributes:\n",
      "      axis: X\n",
      "      modulo: 360.0\n",
      "      topology: circular\n",
      "   Python id:  0x7f0c1d119450\n",
      "\n",
      "\n",
      "Longitude bounds information:\n",
      "[[-180. -179.]\n",
      " [-179. -178.]\n",
      " [-178. -177.]]\n",
      "[[177. 178.]\n",
      " [178. 179.]\n",
      " [179. 180.]]\n",
      "\n",
      "Latitude information:\n",
      "   id: latitude\n",
      "   Designated a latitude axis.\n",
      "   units:  degrees_north\n",
      "   Length: 180\n",
      "   First:  -89.5\n",
      "   Last:   89.5\n",
      "   Other axis attributes:\n",
      "      axis: Y\n",
      "   Python id:  0x7f0c1d119710\n",
      "\n",
      "\n",
      "Latitude bounds information:\n",
      "[[-90. -89.]\n",
      " [-89. -88.]\n",
      " [-88. -87.]]\n",
      "[[87. 88.]\n",
      " [88. 89.]\n",
      " [89. 90.]]\n"
     ]
    }
   ],
   "source": [
    "# Get the grid axes\n",
    "lat_axis = uniform_grid.getLatitude()\n",
    "lon_axis = uniform_grid.getLongitude()\n",
    "\n",
    "print('\\nLongitude information:')\n",
    "print(lon_axis)\n",
    "\n",
    "print('\\nLongitude bounds information:')\n",
    "print(lon_axis.getBounds()[:3, :])\n",
    "print(lon_axis.getBounds()[-3:, :])\n",
    "\n",
    "print('\\nLatitude information:')\n",
    "print(lat_axis)\n",
    "\n",
    "print('\\nLatitude bounds information:')\n",
    "print(lat_axis.getBounds()[:3, :])\n",
    "print(lat_axis.getBounds()[-3:, :])"
   ]
  },
  {
   "cell_type": "markdown",
   "metadata": {},
   "source": [
    "# Get  1D weights\n",
    "[Back to Top](#top)\n"
   ]
  },
  {
   "cell_type": "code",
   "execution_count": 5,
   "metadata": {},
   "outputs": [
    {
     "name": "stdout",
     "output_type": "stream",
     "text": [
      "\n",
      "Check that the sum of the generated weights is 1.0:\n",
      "('  lat_weights.sum() =', 1.0)\n",
      "('  lon_weights.sum() =', 1.0)\n",
      "('  grid_weights.sum() =', 1.0)\n"
     ]
    }
   ],
   "source": [
    "# Get the axes' weights and combine them into a 2D variable\n",
    "lat_weights, lon_weights = uniform_grid.getWeights()\n",
    "grid_weights = np.outer(lat_weights, lon_weights)\n",
    "\n",
    "print('\\nCheck that the sum of the generated weights is 1.0:')\n",
    "print('  lat_weights.sum() =', lat_weights.sum())\n",
    "print('  lon_weights.sum() =', lon_weights.sum())\n",
    "print('  grid_weights.sum() =', grid_weights.sum())"
   ]
  },
  {
   "cell_type": "markdown",
   "metadata": {},
   "source": [
    "# Compute the 2D weights\n",
    "[Back to Top](#top)\n"
   ]
  },
  {
   "cell_type": "code",
   "execution_count": 10,
   "metadata": {},
   "outputs": [],
   "source": [
    "# Combine the 2D weights var with the axes to create a variable\n",
    "weight_var = cdms2.createVariable(grid_weights, axes=[lat_axis,\n",
    "                                                      lon_axis] , id='cell_weight')"
   ]
  },
  {
   "cell_type": "markdown",
   "metadata": {},
   "source": [
    "# Create a cdms2 variable with some extra metadata\n",
    "[Back to Top](#top)\n"
   ]
  },
  {
   "cell_type": "code",
   "execution_count": 11,
   "metadata": {},
   "outputs": [],
   "source": [
    "# Easily add some extra metadata\n",
    "weight_var.units = '1'\n",
    "weight_var.history = 'File generated with cdms2 on ' + time.asctime()"
   ]
  },
  {
   "cell_type": "markdown",
   "metadata": {},
   "source": [
    "# Save a variable to an nc file\n",
    "[Back to Top](#top)\n"
   ]
  },
  {
   "cell_type": "code",
   "execution_count": 12,
   "metadata": {},
   "outputs": [
    {
     "name": "stdout",
     "output_type": "stream",
     "text": [
      "\n",
      "Successfully saved the weights to ./weight_file.nc\n",
      "\n",
      "Checking the header of the generated file\n",
      "\n"
     ]
    },
    {
     "data": {
      "text/plain": [
       "0"
      ]
     },
     "execution_count": 12,
     "metadata": {},
     "output_type": "execute_result"
    }
   ],
   "source": [
    "nc_out = './weight_file.nc'\n",
    "f_out = cdms2.open(nc_out, 'w')\n",
    "f_out.write(weight_var)\n",
    "f_out.close()\n",
    "\n",
    "print('\\nSuccessfully saved the weights to ' + nc_out)\n",
    "\n",
    "print('\\nChecking the header of the generated file\\n')\n",
    "os.system('ncdump -h '+ nc_out)\n"
   ]
  },
  {
   "cell_type": "code",
   "execution_count": null,
   "metadata": {},
   "outputs": [],
   "source": []
  },
  {
   "cell_type": "code",
   "execution_count": null,
   "metadata": {},
   "outputs": [],
   "source": []
  }
 ],
 "metadata": {
  "kernelspec": {
   "display_name": "Python 2",
   "language": "python",
   "name": "python2"
  },
  "language_info": {
   "codemirror_mode": {
    "name": "ipython",
    "version": 2
   },
   "file_extension": ".py",
   "mimetype": "text/x-python",
   "name": "python",
   "nbconvert_exporter": "python",
   "pygments_lexer": "ipython2",
   "version": "2.7.15"
  },
  "toc": {
   "base_numbering": 1,
   "nav_menu": {},
   "number_sections": false,
   "sideBar": true,
   "skip_h1_title": false,
   "title_cell": "Table of Contents",
   "title_sidebar": "Contents",
   "toc_cell": true,
   "toc_position": {
    "height": "855px",
    "left": "332px",
    "top": "294.133px",
    "width": "211px"
   },
   "toc_section_display": true,
   "toc_window_display": false
  }
 },
 "nbformat": 4,
 "nbformat_minor": 2
}
