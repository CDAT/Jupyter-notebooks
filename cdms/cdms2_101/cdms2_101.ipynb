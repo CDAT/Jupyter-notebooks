{
 "cells": [
  {
   "cell_type": "markdown",
   "metadata": {},
   "source": [
    "# Basic CDMS Tutorial\n",
    "\n",
    "## Preparing your environment\n",
    "\n",
    "### Installing cdms2\n",
    "\n",
    "```\n",
    "conda create -n cdms -c conda-forge cdms\n",
    "source activate cdms\n",
    "```\n",
    "\n",
    "### Bringing in some data\n"
   ]
  },
  {
   "cell_type": "code",
   "execution_count": 1,
   "metadata": {},
   "outputs": [],
   "source": [
    "from __future__ import print_function\n",
    "import cdat_info\n",
    "import os, sys\n",
    "\n",
    "data_path = cdat_info.get_sampledata_path()\n",
    "cdat_info.download_sample_data_files(os.path.join(sys.prefix,\"share\",\"cdms2\",\"test_data_files.txt\"),data_path)"
   ]
  },
  {
   "cell_type": "markdown",
   "metadata": {},
   "source": [
    "## Opening and querying a file for reading"
   ]
  },
  {
   "cell_type": "code",
   "execution_count": 2,
   "metadata": {
    "collapsed": true
   },
   "outputs": [],
   "source": [
    "# Open a sample file\n",
    "import cdms2\n",
    "\n",
    "filename = os.path.join(data_path,\"clt.nc\")\n",
    "f = cdms2.open(filename)"
   ]
  },
  {
   "cell_type": "code",
   "execution_count": 3,
   "metadata": {},
   "outputs": [
    {
     "name": "stdout",
     "output_type": "stream",
     "text": [
      "variables in the file: ['clt', 'u', 'v']\n"
     ]
    }
   ],
   "source": [
    "# Query variables in the file\n",
    "var = f.listvariable()\n",
    "print(\"variables in the file:\",var)"
   ]
  },
  {
   "cell_type": "code",
   "execution_count": 4,
   "metadata": {},
   "outputs": [
    {
     "name": "stdout",
     "output_type": "stream",
     "text": [
      "Dimensions in the file: ['plev', 'latitude1', 'latitude2', 'time1', 'longitude1', 'longitude2', 'longitude', 'time', 'latitude', 'plev1', 'time2']\n"
     ]
    }
   ],
   "source": [
    "# Query dimensions in the file\n",
    "dims = f.listdimension()\n",
    "print(\"Dimensions in the file:\",dims)"
   ]
  },
  {
   "cell_type": "code",
   "execution_count": 5,
   "metadata": {},
   "outputs": [
    {
     "name": "stdout",
     "output_type": "stream",
     "text": [
      "File attributes: ['model', 'center', 'comments', 'Conventions']\n"
     ]
    }
   ],
   "source": [
    "# Query file attributes\n",
    "attr = f.listglobal()\n",
    "print(\"File attributes:\",attr)"
   ]
  },
  {
   "cell_type": "markdown",
   "metadata": {},
   "source": [
    "## Querying Variables (in file)\n",
    "\n",
    "You can further query the variables in the file without having to read them in memory\n",
    "\n",
    "To create a `file variable` simply use square bracket: **[** and **]**"
   ]
  },
  {
   "cell_type": "code",
   "execution_count": 6,
   "metadata": {
    "collapsed": true
   },
   "outputs": [],
   "source": [
    "clt = f[\"clt\"]  # This is a file variable, not in memory"
   ]
  },
  {
   "cell_type": "code",
   "execution_count": 7,
   "metadata": {},
   "outputs": [
    {
     "name": "stdout",
     "output_type": "stream",
     "text": [
      "*** Description of Slab clt ***\n",
      "id: clt\n",
      "shape: (120, 46, 72)\n",
      "filename: /Users/doutriaux1/anaconda2/envs/2.12-nox/share/uvcdat/sample_data/clt.nc\n",
      "missing_value: None\n",
      "comments: YONU_AMIP1\n",
      "grid_name: YONU4X5\n",
      "grid_type: gaussian\n",
      "time_statistic: average\n",
      "long_name: Total cloudiness\n",
      "units: %\n",
      "Grid has Python id 0x119056c50.\n",
      "Gridtype: gaussian\n",
      "Grid shape: (46, 72)\n",
      "Order: yx\n",
      "** Dimension 1 **\n",
      "   id: time\n",
      "   Designated a time axis.\n",
      "   units:  months since 1979-1-1 0\n",
      "   Length: 120\n",
      "   First:  0.0\n",
      "   Last:   119.0\n",
      "   Python id:  0x119056750\n",
      "** Dimension 2 **\n",
      "   id: latitude\n",
      "   Designated a latitude axis.\n",
      "   units:  degrees_north\n",
      "   Length: 46\n",
      "   First:  -90.0\n",
      "   Last:   90.0\n",
      "   Other axis attributes:\n",
      "      long_name: Latitude\n",
      "   Python id:  0x119056850\n",
      "** Dimension 3 **\n",
      "   id: longitude\n",
      "   Designated a longitude axis.\n",
      "   units:  degrees_east\n",
      "   Length: 72\n",
      "   First:  -180.0\n",
      "   Last:   175.0\n",
      "   Other axis attributes:\n",
      "      long_name: Longitude\n",
      "   Python id:  0x1190a2450\n",
      "*** End of description for clt ***\n"
     ]
    }
   ],
   "source": [
    "# Print variable info to screen\n",
    "clt.info()"
   ]
  },
  {
   "cell_type": "code",
   "execution_count": 8,
   "metadata": {},
   "outputs": [
    {
     "name": "stdout",
     "output_type": "stream",
     "text": [
      "The variable shape is: (120, 46, 72)\n"
     ]
    }
   ],
   "source": [
    "# Variable shape\n",
    "sh = clt.shape\n",
    "print(\"The variable shape is:\",sh)"
   ]
  },
  {
   "cell_type": "code",
   "execution_count": 9,
   "metadata": {},
   "outputs": [
    {
     "name": "stdout",
     "output_type": "stream",
     "text": [
      "Variable id/name: clt\n"
     ]
    }
   ],
   "source": [
    "# Variable id\n",
    "name = clt.id\n",
    "print(\"Variable id/name:\",name)"
   ]
  },
  {
   "cell_type": "code",
   "execution_count": 10,
   "metadata": {},
   "outputs": [
    {
     "name": "stdout",
     "output_type": "stream",
     "text": [
      "variable dimensions: [   id: time\n",
      "   Designated a time axis.\n",
      "   units:  months since 1979-1-1 0\n",
      "   Length: 120\n",
      "   First:  0.0\n",
      "   Last:   119.0\n",
      "   Python id:  0x119056750\n",
      ",    id: latitude\n",
      "   Designated a latitude axis.\n",
      "   units:  degrees_north\n",
      "   Length: 46\n",
      "   First:  -90.0\n",
      "   Last:   90.0\n",
      "   Other axis attributes:\n",
      "      long_name: Latitude\n",
      "   Python id:  0x119056850\n",
      ",    id: longitude\n",
      "   Designated a longitude axis.\n",
      "   units:  degrees_east\n",
      "   Length: 72\n",
      "   First:  -180.0\n",
      "   Last:   175.0\n",
      "   Other axis attributes:\n",
      "      long_name: Longitude\n",
      "   Python id:  0x1190a2450\n",
      "]\n"
     ]
    }
   ],
   "source": [
    "# The variable dimensions\n",
    "axes = clt.getAxisList()\n",
    "print(\"variable dimensions:\",axes)"
   ]
  },
  {
   "cell_type": "code",
   "execution_count": 11,
   "metadata": {},
   "outputs": [
    {
     "name": "stdout",
     "output_type": "stream",
     "text": [
      "Variable attributes: ['time_statistic', 'comments', 'long_name', 'grid_name', 'units', 'missing_value', 'grid_type']\n"
     ]
    }
   ],
   "source": [
    "# Variable attributes\n",
    "attributes = clt.attributes\n",
    "print(\"Variable attributes:\",attributes.keys())"
   ]
  },
  {
   "cell_type": "markdown",
   "metadata": {},
   "source": [
    "## Dimensions"
   ]
  },
  {
   "cell_type": "code",
   "execution_count": 12,
   "metadata": {},
   "outputs": [
    {
     "name": "stdout",
     "output_type": "stream",
     "text": [
      "Axes time is a time axis\n",
      "Axes latitude is not a time axis\n",
      "Axes longitude is not a time axis\n"
     ]
    }
   ],
   "source": [
    "# Determine if an axis is time\n",
    "for a in axes:\n",
    "    if a.isTime():\n",
    "        print(\"Axes %s is a time axis\" % a.id)\n",
    "    else:\n",
    "        print(\"Axes %s is not a time axis\" % a.id)"
   ]
  },
  {
   "cell_type": "code",
   "execution_count": 13,
   "metadata": {},
   "outputs": [
    {
     "name": "stdout",
     "output_type": "stream",
     "text": [
      "False False False\n",
      "True False False\n",
      "False True False\n"
     ]
    }
   ],
   "source": [
    "# Similar functions exist for level, latitude and longitude\n",
    "for a in axes:\n",
    "    print(a.isLatitude(), a.isLongitude(), a.isLevel())"
   ]
  },
  {
   "cell_type": "code",
   "execution_count": 14,
   "metadata": {
    "collapsed": true
   },
   "outputs": [],
   "source": [
    "# Similarly we can get one of these 4 types of dimension automatically\n",
    "aTime = clt.getTime()\n",
    "lat = clt.getLatitude()\n",
    "lon = clt.getLongitude()"
   ]
  },
  {
   "cell_type": "code",
   "execution_count": 15,
   "metadata": {},
   "outputs": [
    {
     "name": "stdout",
     "output_type": "stream",
     "text": [
      "Level dim: None\n"
     ]
    }
   ],
   "source": [
    "# if such dimension does not exists None is returned\n",
    "lev = clt.getLevel()\n",
    "print(\"Level dim:\",lev)"
   ]
  },
  {
   "cell_type": "code",
   "execution_count": 16,
   "metadata": {},
   "outputs": [
    {
     "name": "stdout",
     "output_type": "stream",
     "text": [
      "The first dim name is: time\n"
     ]
    }
   ],
   "source": [
    "# Any dimension can also by retrieved by its index\n",
    "dim0 = clt.getAxis(0)\n",
    "print(\"The first dim name is:\",dim0.id)"
   ]
  },
  {
   "cell_type": "code",
   "execution_count": 17,
   "metadata": {},
   "outputs": [
    {
     "name": "stdout",
     "output_type": "stream",
     "text": [
      "   id: time\n",
      "   Designated a time axis.\n",
      "   units:  months since 1979-1-1 0\n",
      "   Length: 120\n",
      "   First:  0.0\n",
      "   Last:   119.0\n",
      "   Python id:  0x119056750\n"
     ]
    }
   ],
   "source": [
    "# Dimension information\n",
    "dim0.info()"
   ]
  },
  {
   "cell_type": "code",
   "execution_count": 18,
   "metadata": {},
   "outputs": [
    {
     "name": "stdout",
     "output_type": "stream",
     "text": [
      "Latitude values: [-90. -86. -82. -78. -74. -70. -66. -62. -58. -54. -50. -46. -42. -38. -34.\n",
      " -30. -26. -22. -18. -14. -10.  -6.  -2.   2.   6.  10.  14.  18.  22.  26.\n",
      "  30.  34.  38.  42.  46.  50.  54.  58.  62.  66.  70.  74.  78.  82.  86.\n",
      "  90.]\n"
     ]
    }
   ],
   "source": [
    "# Accessing axis values\n",
    "print(\"Latitude values:\",clt.getLatitude()[:])"
   ]
  },
  {
   "cell_type": "markdown",
   "metadata": {},
   "source": [
    "## Time dimensions\n",
    "\n",
    "cdms is really good at dealing with times (see decdicated cdtime jupyter notebook for more on time)\n"
   ]
  },
  {
   "cell_type": "code",
   "execution_count": 19,
   "metadata": {},
   "outputs": [
    {
     "name": "stdout",
     "output_type": "stream",
     "text": [
      "First 2 times are: [1979-1-1 0:0:0.0, 1979-2-1 0:0:0.0]\n",
      "first 2 times in days since 2017: [-13880.000000 days since 2017, -13849.000000 days since 2017]\n"
     ]
    }
   ],
   "source": [
    "# Rather than raw (in file) values or indices it can be usefull to show/manipulate time \n",
    "# as 'component time'\n",
    "tim = clt.getTime()\n",
    "tc = tim.asComponentTime()\n",
    "print(\"First 2 times are:\",tc[:2])\n",
    "# or 'relative times'\n",
    "tr = tim.asRelativeTime(\"days since 2017\")\n",
    "print(\"first 2 times in days since 2017:\", tr[:2])"
   ]
  },
  {
   "cell_type": "markdown",
   "metadata": {},
   "source": [
    "# Retrieving data"
   ]
  },
  {
   "cell_type": "code",
   "execution_count": 20,
   "metadata": {},
   "outputs": [
    {
     "name": "stdout",
     "output_type": "stream",
     "text": [
      "Shape: (120, 46, 72)\n"
     ]
    }
   ],
   "source": [
    "# Whole\n",
    "clt =f(\"clt\") # parentheis means read in memory\n",
    "print(\"Shape:\",clt.shape)"
   ]
  },
  {
   "cell_type": "code",
   "execution_count": 21,
   "metadata": {},
   "outputs": [
    {
     "name": "stdout",
     "output_type": "stream",
     "text": [
      "Shape: (120, 23, 73)\n"
     ]
    }
   ],
   "source": [
    "# Partial, based on values in file\n",
    "clt = f(\"clt\",latitude=(0,90),longitude=(-180,180))\n",
    "print(\"Shape:\",clt.shape)"
   ]
  },
  {
   "cell_type": "code",
   "execution_count": 22,
   "metadata": {},
   "outputs": [
    {
     "name": "stdout",
     "output_type": "stream",
     "text": [
      "Shape: (12, 46, 72)\n"
     ]
    }
   ],
   "source": [
    "# Based on indices\n",
    "clt = f(\"clt\",time=slice(0,12))\n",
    "print(\"Shape:\",clt.shape)"
   ]
  },
  {
   "cell_type": "code",
   "execution_count": 23,
   "metadata": {},
   "outputs": [
    {
     "name": "stdout",
     "output_type": "stream",
     "text": [
      "Shape: (48, 46, 72)\n"
     ]
    }
   ],
   "source": [
    "# time can be retirieved based on actual dates (provided units are good in file)\n",
    "clt = f(\"clt\",time=(\"1980\",\"1983-12-31\"))\n",
    "print(\"Shape:\",clt.shape)"
   ]
  },
  {
   "cell_type": "code",
   "execution_count": 24,
   "metadata": {},
   "outputs": [
    {
     "name": "stdout",
     "output_type": "stream",
     "text": [
      "Shape: (60, 23, 72)\n"
     ]
    }
   ],
   "source": [
    "# Data can also be read directly from a file variable\n",
    "CLT = f[\"clt\"]\n",
    "clt = CLT(time=(\"1980\",\"1984-12-31\"),latitude=(0,90),longitude=slice(0,None))\n",
    "print(\"Shape:\",clt.shape)"
   ]
  },
  {
   "cell_type": "code",
   "execution_count": 25,
   "metadata": {},
   "outputs": [
    {
     "name": "stdout",
     "output_type": "stream",
     "text": [
      "Shape: (4, 23, 72)\n"
     ]
    }
   ],
   "source": [
    "# Or from an exisitng variavle\n",
    "clt2 = clt(time=slice(0,4))\n",
    "print(\"Shape:\",clt2.shape)"
   ]
  },
  {
   "cell_type": "code",
   "execution_count": 26,
   "metadata": {},
   "outputs": [
    {
     "name": "stdout",
     "output_type": "stream",
     "text": [
      "Shape: (72, 120, 46)\n"
     ]
    }
   ],
   "source": [
    "# data can also be reordered based on dimensions\n",
    "clt = f(\"clt\",order=\"xty\")\n",
    "print(\"Shape:\",clt.shape)"
   ]
  },
  {
   "cell_type": "code",
   "execution_count": 27,
   "metadata": {},
   "outputs": [
    {
     "name": "stdout",
     "output_type": "stream",
     "text": [
      "Shape: (72, 46, 120)\n"
     ]
    }
   ],
   "source": [
    "# or use dimension indices\n",
    "clt=f(\"clt\", order=\"210\")\n",
    "print(\"Shape:\",clt.shape)"
   ]
  },
  {
   "cell_type": "code",
   "execution_count": 28,
   "metadata": {},
   "outputs": [
    {
     "name": "stdout",
     "output_type": "stream",
     "text": [
      "Shape: (72, 120, 46)\n"
     ]
    }
   ],
   "source": [
    "# or use dimension names\n",
    "clt = f(\"clt\",order=\"(longitude)(time)(latitude)\")\n",
    "print(\"Shape:\",clt.shape)"
   ]
  },
  {
   "cell_type": "markdown",
   "metadata": {},
   "source": [
    "# Manipulating Data\n",
    "\n",
    "cdms variables are subclass of numpy, so for the most part anything you can do with numpy\n",
    "can be done with cdms variables"
   ]
  },
  {
   "cell_type": "code",
   "execution_count": 29,
   "metadata": {},
   "outputs": [
    {
     "name": "stdout",
     "output_type": "stream",
     "text": [
      "Shape: (10, 46, 72)\n"
     ]
    }
   ],
   "source": [
    "# Extract same month every years (from monthly data)\n",
    "clt=f(\"clt\")\n",
    "subset = clt[::12]\n",
    "print(\"Shape:\",subset.shape)"
   ]
  },
  {
   "cell_type": "code",
   "execution_count": 30,
   "metadata": {},
   "outputs": [
    {
     "name": "stdout",
     "output_type": "stream",
     "text": [
      "<class 'cdms2.tvariable.TransientVariable'> <type 'numpy.ndarray'>\n"
     ]
    }
   ],
   "source": [
    "# cdms variable can be converted to raw numpy\n",
    "nparray = clt.filled()\n",
    "print(type(clt),type(nparray))"
   ]
  },
  {
   "cell_type": "code",
   "execution_count": 31,
   "metadata": {},
   "outputs": [
    {
     "name": "stdout",
     "output_type": "stream",
     "text": [
      "<class 'cdms2.tvariable.TransientVariable'> <class 'numpy.ma.core.MaskedArray'>\n"
     ]
    }
   ],
   "source": [
    "# or masked arrays\n",
    "maarray = clt.asma()\n",
    "print(type(clt),type(maarray))"
   ]
  },
  {
   "cell_type": "markdown",
   "metadata": {},
   "source": [
    "# Creating MV2 and storing them in files"
   ]
  },
  {
   "cell_type": "code",
   "execution_count": 32,
   "metadata": {},
   "outputs": [
    {
     "name": "stdout",
     "output_type": "stream",
     "text": [
      "*** Description of Slab newclt ***\n",
      "id: newclt\n",
      "shape: (120, 46, 72)\n",
      "filename: \n",
      "missing_value: 1e+20\n",
      "comments: \n",
      "grid_name: N/A\n",
      "grid_type: N/A\n",
      "time_statistic: \n",
      "long_name: \n",
      "units: \n",
      "tileIndex: None\n",
      "No grid present.\n",
      "** Dimension 1 **\n",
      "   id: axis_0\n",
      "   Length: 120\n",
      "   First:  0.0\n",
      "   Last:   119.0\n",
      "   Python id:  0x119056f10\n",
      "** Dimension 2 **\n",
      "   id: axis_1\n",
      "   Length: 46\n",
      "   First:  0.0\n",
      "   Last:   45.0\n",
      "   Python id:  0x119056d10\n",
      "** Dimension 3 **\n",
      "   id: axis_2\n",
      "   Length: 72\n",
      "   First:  0.0\n",
      "   Last:   71.0\n",
      "   Python id:  0x119056a50\n",
      "*** End of description for newclt ***\n"
     ]
    }
   ],
   "source": [
    "import MV2\n",
    "# Create a cdms variable from a numpy (or numpy.ma) array\n",
    "myvar = MV2.array(nparray)\n",
    "myvar.id = \"newclt\"\n",
    "myvar.info()"
   ]
  },
  {
   "cell_type": "code",
   "execution_count": 33,
   "metadata": {},
   "outputs": [
    {
     "name": "stdout",
     "output_type": "stream",
     "text": [
      "*** Description of Slab newclt ***\n",
      "id: newclt\n",
      "shape: (120, 46, 72)\n",
      "filename: \n",
      "missing_value: 1e+20\n",
      "comments: \n",
      "grid_name: <None>\n",
      "grid_type: generic\n",
      "time_statistic: \n",
      "long_name: \n",
      "units: \n",
      "tileIndex: None\n",
      "Grid has Python id 0x1190925d0.\n",
      "Gridtype: generic\n",
      "Grid shape: (46, 72)\n",
      "Order: yx\n",
      "** Dimension 1 **\n",
      "   id: time\n",
      "   Designated a time axis.\n",
      "   units:  months since 1979-1-1 0\n",
      "   Length: 120\n",
      "   First:  0.0\n",
      "   Last:   119.0\n",
      "   Other axis attributes:\n",
      "      calendar: gregorian\n",
      "      axis: T\n",
      "      realtopology: linear\n",
      "   Python id:  0x119056ed0\n",
      "** Dimension 2 **\n",
      "   id: latitude\n",
      "   Designated a latitude axis.\n",
      "   units:  degrees_north\n",
      "   Length: 46\n",
      "   First:  -90.0\n",
      "   Last:   90.0\n",
      "   Other axis attributes:\n",
      "      long_name: Latitude\n",
      "      axis: Y\n",
      "      realtopology: linear\n",
      "   Python id:  0x119056550\n",
      "** Dimension 3 **\n",
      "   id: longitude\n",
      "   Designated a longitude axis.\n",
      "   units:  degrees_east\n",
      "   Length: 72\n",
      "   First:  -180.0\n",
      "   Last:   175.0\n",
      "   Other axis attributes:\n",
      "      modulo: 360.0\n",
      "      realtopology: circular\n",
      "      long_name: Longitude\n",
      "      topology: circular\n",
      "      axis: X\n",
      "   Python id:  0x119056b90\n",
      "*** End of description for newclt ***\n"
     ]
    }
   ],
   "source": [
    "# We can . add axes from other variables\n",
    "myvar.setAxisList(clt.getAxisList())\n",
    "myvar.info()"
   ]
  },
  {
   "cell_type": "code",
   "execution_count": 34,
   "metadata": {},
   "outputs": [
    {
     "name": "stdout",
     "output_type": "stream",
     "text": [
      "Setting axis 0 to time\n",
      "Setting axis 1 to latitude\n",
      "Setting axis 2 to longitude\n",
      "*** Description of Slab newclt ***\n",
      "id: newclt\n",
      "shape: (120, 46, 72)\n",
      "filename: \n",
      "missing_value: 1e+20\n",
      "comments: \n",
      "grid_name: <None>\n",
      "grid_type: generic\n",
      "time_statistic: \n",
      "long_name: \n",
      "units: \n",
      "tileIndex: None\n",
      "Grid has Python id 0x1190925d0.\n",
      "Gridtype: generic\n",
      "Grid shape: (46, 72)\n",
      "Order: yx\n",
      "** Dimension 1 **\n",
      "   id: time\n",
      "   Designated a time axis.\n",
      "   units:  months since 1979-1-1 0\n",
      "   Length: 120\n",
      "   First:  0.0\n",
      "   Last:   119.0\n",
      "   Other axis attributes:\n",
      "      calendar: gregorian\n",
      "      axis: T\n",
      "      realtopology: linear\n",
      "   Python id:  0x119056ed0\n",
      "** Dimension 2 **\n",
      "   id: latitude\n",
      "   Designated a latitude axis.\n",
      "   units:  degrees_north\n",
      "   Length: 46\n",
      "   First:  -90.0\n",
      "   Last:   90.0\n",
      "   Other axis attributes:\n",
      "      long_name: Latitude\n",
      "      axis: Y\n",
      "      realtopology: linear\n",
      "   Python id:  0x119056550\n",
      "** Dimension 3 **\n",
      "   id: longitude\n",
      "   Designated a longitude axis.\n",
      "   units:  degrees_east\n",
      "   Length: 72\n",
      "   First:  -180.0\n",
      "   Last:   175.0\n",
      "   Other axis attributes:\n",
      "      modulo: 360.0\n",
      "      realtopology: circular\n",
      "      long_name: Longitude\n",
      "      topology: circular\n",
      "      axis: X\n",
      "   Python id:  0x119056b90\n",
      "*** End of description for newclt ***\n"
     ]
    }
   ],
   "source": [
    "# we can also add axes one at a time\n",
    "for i in range(myvar.ndim):\n",
    "    ax = clt.getAxis(i)\n",
    "    print(\"Setting axis %i to %s\" % (i,ax.id))\n",
    "    myvar.setAxis(i,ax)\n",
    "myvar.info()"
   ]
  },
  {
   "cell_type": "code",
   "execution_count": 35,
   "metadata": {},
   "outputs": [
    {
     "name": "stdout",
     "output_type": "stream",
     "text": [
      "*** Description of Slab newclt ***\n",
      "id: newclt\n",
      "shape: (120, 46, 72)\n",
      "filename: \n",
      "missing_value: 1e+20\n",
      "comments: \n",
      "grid_name: <None>\n",
      "grid_type: generic\n",
      "time_statistic: \n",
      "long_name: \n",
      "units: \n",
      "tileIndex: None\n",
      "Grid has Python id 0x1190925d0.\n",
      "Gridtype: generic\n",
      "Grid shape: (46, 72)\n",
      "Order: yx\n",
      "** Dimension 1 **\n",
      "   id: time\n",
      "   Designated a time axis.\n",
      "   units:  months since 2017\n",
      "   Length: 120\n",
      "   First:  0\n",
      "   Last:   119\n",
      "   Other axis attributes:\n",
      "      calendar: gregorian\n",
      "      axis: T\n",
      "   Python id:  0x1190a2150\n",
      "** Dimension 2 **\n",
      "   id: latitude\n",
      "   Designated a latitude axis.\n",
      "   units:  degrees_north\n",
      "   Length: 46\n",
      "   First:  -90.0\n",
      "   Last:   90.0\n",
      "   Other axis attributes:\n",
      "      long_name: Latitude\n",
      "      axis: Y\n",
      "      realtopology: linear\n",
      "   Python id:  0x119056550\n",
      "** Dimension 3 **\n",
      "   id: longitude\n",
      "   Designated a longitude axis.\n",
      "   units:  degrees_east\n",
      "   Length: 72\n",
      "   First:  -180.0\n",
      "   Last:   175.0\n",
      "   Other axis attributes:\n",
      "      modulo: 360.0\n",
      "      realtopology: circular\n",
      "      long_name: Longitude\n",
      "      topology: circular\n",
      "      axis: X\n",
      "   Python id:  0x119056b90\n",
      "*** End of description for newclt ***\n"
     ]
    }
   ],
   "source": [
    "# We can also create axes manually\n",
    "newtime = cdms2.createAxis(range(120))\n",
    "newtime.id = \"time\" # name of dimension\n",
    "newtime.designateTime()  # tell cdms to add attributes that make it time\n",
    "newtime.units = \"months since 2017\"\n",
    "myvar.setAxis(0,newtime)\n",
    "myvar.info()  # Notice tikme changed"
   ]
  },
  {
   "cell_type": "markdown",
   "metadata": {},
   "source": [
    "# Saving data"
   ]
  },
  {
   "cell_type": "code",
   "execution_count": 36,
   "metadata": {},
   "outputs": [
    {
     "name": "stdout",
     "output_type": "stream",
     "text": [
      "Default Shuffle: 0\n",
      "Default Deflate: 1\n",
      "Default Deflate Level: 1\n"
     ]
    }
   ],
   "source": [
    " # By default cdms2 will save files in NetCDF4 compressed with no shuffle by defalted at level 1\n",
    "print(\"Default Shuffle:\",cdms2.getNetcdfShuffleFlag())\n",
    "print(\"Default Deflate:\",cdms2.getNetcdfDeflateFlag())\n",
    "print(\"Default Deflate Level:\",cdms2.getNetcdfDeflateLevelFlag())"
   ]
  },
  {
   "cell_type": "code",
   "execution_count": 37,
   "metadata": {},
   "outputs": [
    {
     "name": "stdout",
     "output_type": "stream",
     "text": [
      "Shuffle: 0\n",
      "Deflate: 0\n",
      "Deflate Level: 0\n"
     ]
    }
   ],
   "source": [
    "# Let's turn it all off so we get NetCDF3 classic files\n",
    "value = 0\n",
    "cdms2.setNetcdfShuffleFlag(value) ## where value is either 0 or 1\n",
    "cdms2.setNetcdfDeflateFlag(value) ## where value is either 0 or 1\n",
    "cdms2.setNetcdfDeflateLevelFlag(value) ## where value is a integer between 0 and 9 included\n",
    "print(\"Shuffle:\",cdms2.getNetcdfShuffleFlag())\n",
    "print(\"Deflate:\",cdms2.getNetcdfDeflateFlag())\n",
    "print(\"Deflate Level:\",cdms2.getNetcdfDeflateLevelFlag())"
   ]
  },
  {
   "cell_type": "code",
   "execution_count": 38,
   "metadata": {},
   "outputs": [],
   "source": [
    "# Let's open a file for writing\n",
    "f2 = cdms2.open(\"mydata.nc\",\"w\") # \"w\" means open file for writing and erase if already here\n",
    "f2.write(myvar)\n",
    "f2.close()"
   ]
  }
 ],
 "metadata": {
  "kernelspec": {
   "display_name": "Python [conda env:2.12-nox]",
   "language": "python",
   "name": "conda-env-2.12-nox-py"
  },
  "language_info": {
   "codemirror_mode": {
    "name": "ipython",
    "version": 2
   },
   "file_extension": ".py",
   "mimetype": "text/x-python",
   "name": "python",
   "nbconvert_exporter": "python",
   "pygments_lexer": "ipython2",
   "version": "2.7.13"
  }
 },
 "nbformat": 4,
 "nbformat_minor": 2
}
