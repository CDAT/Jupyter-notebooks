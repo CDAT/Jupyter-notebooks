{
 "cells": [
  {
   "cell_type": "markdown",
   "metadata": {},
   "source": [
    "# Detrend Data<a id='top' class=\"tocSkip\"> </a>\n",
    "\n",
    "This tutorial shows how to detrend data - a commonly-used technique prior to detailed climate data analysis - using [CDAT](https://cdat.llnl.gov).\n",
    "\n",
    "[Download this Jupyter Notebook](Detrend_data.ipynb)"
   ]
  },
  {
   "cell_type": "markdown",
   "metadata": {
    "toc": true
   },
   "source": [
    "<h1>Table of Contents<span class=\"tocSkip\"></span></h1>\n",
    "<div class=\"toc\"><ul class=\"toc-item\"><li><span><a href=\"#Prepare-Notebook-and-Data\" data-toc-modified-id=\"Prepare-Notebook-and-Data-1\">Prepare Notebook and Data</a></span><ul class=\"toc-item\"><li><span><a href=\"#Download-Data\" data-toc-modified-id=\"Download-Data-1.1\">Download Data</a></span></li><li><span><a href=\"#Open-Data-File,-Extract-Variable\" data-toc-modified-id=\"Open-Data-File,-Extract-Variable-1.2\">Open Data File, Extract Variable</a></span></li></ul></li><li><span><a href=\"#Data-Exploration\" data-toc-modified-id=\"Data-Exploration-2\">Data Exploration</a></span></li><li><span><a href=\"#Order-of-Operations-Matters\" data-toc-modified-id=\"Order-of-Operations-Matters-3\">Order of Operations Matters</a></span><ul class=\"toc-item\"><li><span><a href=\"#Numerical-Example\" data-toc-modified-id=\"Numerical-Example-3.1\">Numerical Example</a></span></li><li><span><a href=\"#Climate-Data-Example\" data-toc-modified-id=\"Climate-Data-Example-3.2\">Climate Data Example</a></span><ul class=\"toc-item\"><li><span><a href=\"#Test-Case-1:-Removing-the-Annual-Cycle,-then-Creating-a-Time-Series\" data-toc-modified-id=\"Test-Case-1:-Removing-the-Annual-Cycle,-then-Creating-a-Time-Series-3.2.1\">Test Case 1: Removing the Annual Cycle, then Creating a Time Series</a></span></li><li><span><a href=\"#Test-Case-2:-Creating-the-Time-Series,-then-Removing-the-Annual-Cycle\" data-toc-modified-id=\"Test-Case-2:-Creating-the-Time-Series,-then-Removing-the-Annual-Cycle-3.2.2\">Test Case 2: Creating the Time Series, then Removing the Annual Cycle</a></span></li></ul></li></ul></li><li><span><a href=\"#Detrend-Data\" data-toc-modified-id=\"Detrend-Data-4\">Detrend Data</a></span><ul class=\"toc-item\"><li><span><a href=\"#Set-Up\" data-toc-modified-id=\"Set-Up-4.1\">Set Up</a></span></li><li><span><a href=\"#Removing-the-Trend\" data-toc-modified-id=\"Removing-the-Trend-4.2\">Removing the Trend</a></span></li></ul></li></ul></div>"
   ]
  },
  {
   "cell_type": "markdown",
   "metadata": {},
   "source": [
    "## Prepare Notebook and Data\n",
    "[Back to Top](#top)"
   ]
  },
  {
   "cell_type": "code",
   "execution_count": null,
   "metadata": {},
   "outputs": [],
   "source": [
    "from __future__ import print_function\n",
    "import cdms2\n",
    "import MV2\n",
    "import genutil\n",
    "import cdutil\n",
    "import vcs\n",
    "import os\n",
    "import requests"
   ]
  },
  {
   "cell_type": "markdown",
   "metadata": {},
   "source": [
    "### Download Data\n",
    "The following CMIP5 NetCDF file contains Near-Surface Air Temperature data in degrees Kelvin (K) over North America. It is downloaded to the directory where this notebook is stored."
   ]
  },
  {
   "cell_type": "code",
   "execution_count": null,
   "metadata": {},
   "outputs": [],
   "source": [
    "filename = 'tas_Amon_IPSL-CM5A-LR_1pctCO2_r1i1p1_185001-198912.nc'\n",
    "if not os.path.exists(filename):\n",
    "    r = requests.get(\"https://cdat.llnl.gov/cdat/sample_data/notebooks/{}\".format(filename), stream=True)\n",
    "    with open(filename,\"wb\") as f:\n",
    "        for chunk in r.iter_content(chunk_size=1024):\n",
    "            if chunk:  # filter local_filename keep-alive new chunks\n",
    "                f.write(chunk)"
   ]
  },
  {
   "cell_type": "markdown",
   "metadata": {},
   "source": [
    "### Open Data File, Extract Variable\n",
    "The following two lines of code open the file just downloaded to your local computer (`filename`), extract data for the Near-Surface Air Temperature (`tas`) and assign it to the variable `data`."
   ]
  },
  {
   "cell_type": "code",
   "execution_count": null,
   "metadata": {},
   "outputs": [],
   "source": [
    "f = cdms2.open(filename)\n",
    "\n",
    "data = f(\"tas\")"
   ]
  },
  {
   "cell_type": "markdown",
   "metadata": {},
   "source": [
    "The following line of code uses the `.info()` method to allow us to take a quick look at the structure of the temperature data stored in the ```data``` variable.  \n",
    "\n",
    "There are 1680 different time values which are measured as \"days since 1850-01-01 00:00:00\". The range of the time values is the difference between the last value (51084.5) and the first value (15.5) which equals 51069 days. If we divide this range by the number of values in the dataset (51069/1680) we get an average time duration for each data point of 30.398 days which tells us that we are working with monthly data.\n",
    "\n",
    "Since this file is a subset of the globe, the data cover 13 latitude bands and 16 longitude values. The first and last values of latitude (~25.6 to ~48.3) and longitude (-123.75 to -67.5) tell us we are looking at the continental United States."
   ]
  },
  {
   "cell_type": "code",
   "execution_count": null,
   "metadata": {},
   "outputs": [],
   "source": [
    "data.info()"
   ]
  },
  {
   "cell_type": "markdown",
   "metadata": {},
   "source": [
    "## Data Exploration\n",
    "[Back to Top](#top)"
   ]
  },
  {
   "cell_type": "markdown",
   "metadata": {},
   "source": [
    "First, to get a feel for the data, let's create a time series of the raw data that will span the entire 1680 time values in the data file. In creating this time series, the `averager` function will focus on a single time value at a time, will take the temperature data for the entire Earth for that time value and do a spatial average to yield a single global temperature value for each time value in the data set. (Note that the latitude and longitude dimensions are removed by this action, as shown with the ```.shape``` method, since we are creating a global average temperature for each time value.)"
   ]
  },
  {
   "cell_type": "code",
   "execution_count": null,
   "metadata": {},
   "outputs": [],
   "source": [
    "data_ts = genutil.averager(data, axis='xy')\n",
    "data_ts.shape"
   ]
  },
  {
   "cell_type": "markdown",
   "metadata": {},
   "source": [
    "In the next line of code, let's take a look at this time series of a single average temperature for the globe at each time value. Note the annual cycle and the warming trend over time."
   ]
  },
  {
   "cell_type": "code",
   "execution_count": null,
   "metadata": {},
   "outputs": [],
   "source": [
    "x = vcs.init(bg=True, geometry=(1200,900))\n",
    "line = vcs.create1d()\n",
    "line.markersize = .5\n",
    "x.plot(data_ts, line)"
   ]
  },
  {
   "cell_type": "markdown",
   "metadata": {},
   "source": [
    "To demonstrate `genutil`'s capabilities and highlight that the order of operations matters for data where some values are missing, we'll try two test cases: \n",
    "\n",
    "1. Removing the annual cycle from the data, then creating a time series (Test Case 1) and\n",
    "2. Creating a time series, then removing the annual cycle (Test Case 2).\n",
    "\n",
    "But first, let's look at a numerical example to illustrate that the order in which you perform operations makes a difference."
   ]
  },
  {
   "cell_type": "markdown",
   "metadata": {},
   "source": [
    "## Order of Operations Matters"
   ]
  },
  {
   "cell_type": "markdown",
   "metadata": {},
   "source": [
    "### Numerical Example\n",
    "[Back to Top](#top)\n",
    "\n",
    "If data is missing from a dataset, the order in which operations are performed matters. The following is a numerical example of averaging values two different ways. \n",
    "\n",
    "Let's say we have the following dataset where the X direction is defined as horizontal rows, and Y is vertical columns:\n",
    "\n",
    "| | Y1 | Y2 | Y3 | Y4 |\n",
    "|:---:|:---:|:---:|:---:|:---:|\n",
    "| X1 | *3* | *4* | - | *7* |\n",
    "| X2 | - | *5* | - | - |\n",
    "| X3 | *1* | *2* | *5* | *5* |\n",
    "| X4 | - | - | *6* | *4* |\n",
    "\n",
    "\n",
    "Creating this dataset using a numpy array we have:"
   ]
  },
  {
   "cell_type": "code",
   "execution_count": null,
   "metadata": {},
   "outputs": [],
   "source": [
    "import numpy\n",
    "array = numpy.array([[3,4,999,7], [999,5,999,999],[1,2,5,5],[999,999,6,4.]])\n",
    "array"
   ]
  },
  {
   "cell_type": "markdown",
   "metadata": {},
   "source": [
    "Masking the 999 values leads to the following:"
   ]
  },
  {
   "cell_type": "code",
   "execution_count": null,
   "metadata": {},
   "outputs": [],
   "source": [
    "masked = numpy.ma.masked_equal(array, 999.)\n",
    "masked"
   ]
  },
  {
   "cell_type": "markdown",
   "metadata": {},
   "source": [
    "**If we average over X first, then average over Y, we get (4.667 + 5.000 + 3.250 + 5.000) / 4 = 4.479**\n",
    "\n",
    "| | Y1 | Y2 | Y3 | Y4 | Average |\n",
    "|---|---|---|---|---|---|\n",
    "| X1 | *3* | *4* | - | *7* | **4.667**\n",
    "| X2 | - | *5* | - | - | **5.000**\n",
    "| X3 | *1* | *2* | *5* | *5* | **3.250**\n",
    "| X4 | - | - | *6* | *4* | **5.000**\n",
    "| Average |  |  |  |  | **4.479**\n",
    "\n",
    "Verifying this with code gives:"
   ]
  },
  {
   "cell_type": "code",
   "execution_count": null,
   "metadata": {},
   "outputs": [],
   "source": [
    "print(\"X, Y:\", numpy.ma.average(numpy.ma.average(masked, axis=-1)))"
   ]
  },
  {
   "cell_type": "markdown",
   "metadata": {},
   "source": [
    "**If we average over Y first, then over X, we get (2.000 + 3.667 + 5.500 + 5.333) / 4 = 4.125**\n",
    "\n",
    "| | Y1 | Y2 | Y3 | Y4 | Average |\n",
    "|---|---|---|---|---|---|\n",
    "| X1 | *3* | *4* | - | *7* | \n",
    "| X2 | - | *5* | - | - | \n",
    "| X3 | *1* | *2* | *5* | *5* | \n",
    "| X4 | - | - | *6* | *4* | \n",
    "| Average | **2.000** | **3.667** | **5.500** | **5.333** | **4.125**\n",
    "\n",
    "Verifying this with code yields:"
   ]
  },
  {
   "cell_type": "code",
   "execution_count": null,
   "metadata": {},
   "outputs": [],
   "source": [
    "print(\"Y, X:\", numpy.ma.average(numpy.ma.average(masked, axis=0)))"
   ]
  },
  {
   "cell_type": "markdown",
   "metadata": {},
   "source": [
    "**Finally if we average using all 16 cells at once, we get (3 + 4 + 7 + 5 + 1 + 2 + 5 + 5 + 6 + 4) / 10 = 4.200**"
   ]
  },
  {
   "cell_type": "code",
   "execution_count": null,
   "metadata": {},
   "outputs": [],
   "source": [
    "print(\"All:\", numpy.ma.average(masked))"
   ]
  },
  {
   "cell_type": "markdown",
   "metadata": {},
   "source": [
    "Comparing the three different averaging sequencies/methods gives 4.479, 4.125, and 4.200.\n",
    "\n",
    "**QUESTION: SHOULD WE SAY SOMETHING ABOUT HOW OFTEN TAKING THE AVERAGE OF AN AVERAGE IS NOT THE CORRECT WAY TO ANALYZE DATA AND THEREFORE SHOULD GENERALLY BE AVOIDED, HOWEVER IN THE CASE OF CLIMATE DATA IT IS OK BECAUSE ...**"
   ]
  },
  {
   "cell_type": "markdown",
   "metadata": {},
   "source": [
    "### Climate Data Example\n",
    "[Back to Top](#top)\n",
    "\n",
    "First we need to create a dataset that has missing values, so we'll mask (delete) some data and call the resulting dataset ```datamskd```.\n",
    "\n",
    "We'll delete, or mask, all data values that fall in the range between the maximum temperature of the dataset and 2 degrees less than the maximum temperature - `data.max()-2`. All temperatures are in degrees Kelvin (K)."
   ]
  },
  {
   "cell_type": "code",
   "execution_count": null,
   "metadata": {},
   "outputs": [],
   "source": [
    "datamskd = MV2.masked_greater(data, data.max()-2)"
   ]
  },
  {
   "cell_type": "markdown",
   "metadata": {},
   "source": [
    "#### Test Case 1: Removing the Annual Cycle, then Creating a Time Series\n",
    "\n",
    "First we will remove the annual cycle for these monthly data. Because the data are masked (i.e. some data are missing) the order of operation matters, as we will demonstrate."
   ]
  },
  {
   "cell_type": "markdown",
   "metadata": {},
   "source": [
    "In the next line of code, the ```ANNUALCYCLE.departures``` calculates the average monthly temperature value for each of the 12 months in a year over the complete time period for each location in the input data file and determines the departure of each temperature (at each time and location) from the average monthly value. \n",
    "\n",
    "For example, once an average January value for the entire dataset has been calculated, each January value in the dataset is subtracted from that average January value to yield a series of January departures for each year in the data set. Since there are 1680 months in the dataset, there are 1680/12 = 140 years of data, and therefore 140 January departures. Since there are 140 Februaries, 140 Marches, etc. there are 140 departures x 12 months = 1680 departures for each location in the dataset, as the ```.shape``` method shows (1680 departure values by 13 latitude bands, by 16 longitude values)."
   ]
  },
  {
   "cell_type": "code",
   "execution_count": null,
   "metadata": {},
   "outputs": [],
   "source": [
    "datamskd_departures = cdutil.times.ANNUALCYCLE.departures(datamskd) # extract the departures of the masked data."
   ]
  },
  {
   "cell_type": "code",
   "execution_count": null,
   "metadata": {},
   "outputs": [],
   "source": [
    "datamskd_departures.shape"
   ]
  },
  {
   "cell_type": "markdown",
   "metadata": {},
   "source": [
    "The following line of code creates a time series of the data departures which spatially averages all the departures to a single global temperature value for each time value in the masked dataset, as the ```.shape``` method shows (i.e. there is no more latitude or longitude information)."
   ]
  },
  {
   "cell_type": "code",
   "execution_count": null,
   "metadata": {},
   "outputs": [],
   "source": [
    "datamskd_departures_ts = genutil.averager(datamskd_departures, axis='xy') # create time series of the masked data departures."
   ]
  },
  {
   "cell_type": "code",
   "execution_count": null,
   "metadata": {},
   "outputs": [],
   "source": [
    "datamskd_departures_ts.shape"
   ]
  },
  {
   "cell_type": "markdown",
   "metadata": {},
   "source": [
    "Let's plot the resulting time series of the departures (i.e. the result of removing the annual cycle, then creating a time series). Notice how, with the annual cycle removed, it is easier to see the trend and the natural variability in the temperature values."
   ]
  },
  {
   "cell_type": "code",
   "execution_count": null,
   "metadata": {},
   "outputs": [],
   "source": [
    "x.clear()\n",
    "x.plot(datamskd_departures_ts)"
   ]
  },
  {
   "cell_type": "markdown",
   "metadata": {},
   "source": [
    "#### Test Case 2: Creating the Time Series, then Removing the Annual Cycle\n",
    "[Back to Top](#top)"
   ]
  },
  {
   "cell_type": "markdown",
   "metadata": {},
   "source": [
    "Now let's calculate the time series, then remove the annual cycle and compare with the first test case.\n",
    "\n",
    "As we did for the unmasked data above, the next line of code calculates the time series of the masked dataset by spatially averaging the temperature values at all latitude and longitude locations for each time value to give a single global temperature value for the masked dataset. (The ```.shape``` method, shows we are looking at 1680 values with no latitude or longitude, as expected.)"
   ]
  },
  {
   "cell_type": "code",
   "execution_count": null,
   "metadata": {},
   "outputs": [],
   "source": [
    "datamskd_ts = genutil.averager(datamskd, axis='xy')"
   ]
  },
  {
   "cell_type": "code",
   "execution_count": null,
   "metadata": {},
   "outputs": [],
   "source": [
    "datamskd_ts.shape"
   ]
  },
  {
   "cell_type": "markdown",
   "metadata": {},
   "source": [
    "Let's take a look at this time series of the masked data. Note the trend and the annual cycle are similar to what we saw with the unmasked data."
   ]
  },
  {
   "cell_type": "code",
   "execution_count": null,
   "metadata": {},
   "outputs": [],
   "source": [
    "x = vcs.init(bg=True, geometry=(1200,900))\n",
    "line = vcs.create1d()\n",
    "line.markersize = .5\n",
    "x.plot(datamskd_ts, line)"
   ]
  },
  {
   "cell_type": "markdown",
   "metadata": {},
   "source": [
    "Next we'll remove the annual cycle by using the ```ANNUALCYCLE.departures``` method like we did in the first test case above. Again, the method calculates an average temperature value for each month of the year and determines the departure of the temperature at each time value from the average monthly temperature, effectively removing the annual cycle from the data. "
   ]
  },
  {
   "cell_type": "code",
   "execution_count": null,
   "metadata": {},
   "outputs": [],
   "source": [
    "datamskd_ts_departures = cdutil.times.ANNUALCYCLE.departures(datamskd_ts)\n",
    "datamskd_ts_departures.shape"
   ]
  },
  {
   "cell_type": "code",
   "execution_count": null,
   "metadata": {},
   "outputs": [],
   "source": [
    "x.clear()\n",
    "x.plot(datamskd_ts_departures)"
   ]
  },
  {
   "cell_type": "markdown",
   "metadata": {},
   "source": [
    "It is difficult to see the difference between the two test cases from the individual plots, so let's plot the difference between the end results from each test case: ```datamskd_departures_ts``` (remove annual cycle (departures), then create time series (ts)) and ```datamskd_ts_departures``` (create time series (ts), then remove annual cycle (departures)).\n",
    "\n",
    "Please note the importance of the order of operation when missing data is present. The two time series are slightly different especially in the later years, where missing data occurs since more data values cross the temperature threshold to be removed (2 degrees cooler than the maximum temperature). If the order of operations did not matter, the two time series would be the same and the difference between the two would be zero for each time value."
   ]
  },
  {
   "cell_type": "code",
   "execution_count": null,
   "metadata": {},
   "outputs": [],
   "source": [
    "x.clear()\n",
    "x.plot(datamskd_departures_ts - datamskd_ts_departures)"
   ]
  },
  {
   "cell_type": "markdown",
   "metadata": {},
   "source": [
    "**NOTE: The correct order of operations is to first remove the annual cycle, then create a time series (i.e. Test Case 1).**"
   ]
  },
  {
   "cell_type": "markdown",
   "metadata": {},
   "source": [
    "## Detrend Data\n",
    "[Back to Top](#top)"
   ]
  },
  {
   "cell_type": "markdown",
   "metadata": {},
   "source": [
    "### Set Up\n",
    "First we will compute the trend over time. To do this we determine the slope (or coefficient) and intercept of the trend line where y = a*x + b and y = temperature; a = coefficent; x = time; and b = the intercept.\n",
    "\n",
    "To remind ourselves of the dimensions of the ```datamskd_departures``` variable before we calculate the coefficient and intercept, let's look at the shape of the ```datamskd_departures``` variable which is the masked temperature data across the US with the annual cycle removed."
   ]
  },
  {
   "cell_type": "code",
   "execution_count": null,
   "metadata": {},
   "outputs": [],
   "source": [
    "datamskd_departures.shape"
   ]
  },
  {
   "cell_type": "markdown",
   "metadata": {},
   "source": [
    "Now let's calculate the coefficient and the intercept of the trend as a function of latitude and longitude, which gives a single trend line over time for each grid cell. \n",
    "\n",
    "The index of time ```t``` can be expressed in any units (days, months, years, etc.) and `genutil` will determine its index.\n",
    "**QUESTION FOR CHARLES: WHAT IS MEANT BY INDEX? IS IT THE LOCATION OF THE DIMENSION AS IN \"TIME IS DIMENSION 0\"?**\n",
    "\n",
    "After computation we lose the time axis. \n",
    "\n",
    "The units for the coefficent are `K/day` since the time axis units are in `days since XXX`. **ASK KARL - DATA IS MONTHLY DATA, NOT DAILY SO SHOULDN'T THE UNITS BE K/MONTH?**\n",
    "\n",
    "The units for the intercept are `K` since y is temperature. "
   ]
  },
  {
   "cell_type": "code",
   "execution_count": null,
   "metadata": {},
   "outputs": [],
   "source": [
    "coeff, intercept = genutil.statistics.linearregression(datamskd_departures, axis=\"t\")\n",
    "print(\"Shapes: coeff {}, intercept {}\".format(coeff.shape, intercept.shape))"
   ]
  },
  {
   "cell_type": "markdown",
   "metadata": {},
   "source": [
    "Let's perform the same coefficient and intercept calculation for the time series (after we've removed the annual cycle). Again we'll remind ourselves of the dimensions of the data in the ```datamskd_departures_ts``` variable which represents a single temperature value for each time value in the dataset (after the annual cycle has been removed)."
   ]
  },
  {
   "cell_type": "code",
   "execution_count": null,
   "metadata": {},
   "outputs": [],
   "source": [
    "datamskd_departures_ts.shape"
   ]
  },
  {
   "cell_type": "markdown",
   "metadata": {},
   "source": [
    "Calculating the coefficent and intercept:"
   ]
  },
  {
   "cell_type": "code",
   "execution_count": null,
   "metadata": {},
   "outputs": [],
   "source": [
    "coeff_ts, intercept_ts = genutil.statistics.linearregression(datamskd_departures_ts, axis=\"t\")"
   ]
  },
  {
   "cell_type": "markdown",
   "metadata": {},
   "source": [
    "For this time series, since it has no latitude or longitude dimensions (each temperature value represents the whole area of the dataset, namely the US), the coefficent and intercept are for a trend line and there is no latitude or longitude dimension to the resulting coefficient and intercept. The fact that no value is displayed within the ( ) means there is no dimensional information for that value and it is a scalar (i.e. just a number)."
   ]
  },
  {
   "cell_type": "code",
   "execution_count": null,
   "metadata": {},
   "outputs": [],
   "source": [
    "print(\"Shapes: coeff_ts {}, intercept_ts {}\".format(coeff_ts.shape, intercept_ts.shape))"
   ]
  },
  {
   "cell_type": "markdown",
   "metadata": {},
   "source": [
    "### Removing the Trend\n",
    "[Back to Top](#top)\n",
    "\n",
    "Before we can remove the warming trend in the data, we need to standardize the time axis. We use the ```.getTime``` and ```.setAxis``` methods on the masked data (```datamskd```) and store the result in the variable `times`.\n",
    "\n",
    "**QUESTION FOR CHARLES: IS STANDARDIZING THE TIME AXIS A TRUE STATEMENT OF WHY WE NEED TO USE .getTime AND .setAxis? OR DO WE RUN THE NEXT TWO LINES OF CODE TO GIVE US A TIME AXIS WE CAN USE FOR GROWING THE COEFFICIENT AND INTERCEPT OF ```datamskd_departures``` (THE MASKED DATA WHERE THE ANNUAL CYCLE HAS BEEN REMOVED BUT THE TIME SERIES HAS NOT YET BEEN CREATED)? OR ARE BOTH REASONS VALID?**"
   ]
  },
  {
   "cell_type": "code",
   "execution_count": null,
   "metadata": {},
   "outputs": [],
   "source": [
    "times = MV2.array(datamskd.getTime()[:])\n",
    "times.setAxis(0, datamskd.getTime())\n",
    "times.shape"
   ]
  },
  {
   "cell_type": "code",
   "execution_count": null,
   "metadata": {},
   "outputs": [],
   "source": [
    "times.info"
   ]
  },
  {
   "cell_type": "markdown",
   "metadata": {},
   "source": [
    "**QUESTION FOR CHARLES: IS ```.info``` THE BEST WAY TO SEE WHAT THE FIRST FEW VALUES OF A VARIBLE ARE OR IS THERE A BETTER WAY?**"
   ]
  },
  {
   "cell_type": "markdown",
   "metadata": {},
   "source": [
    "Since time is not necessarily ***on index 0***, we need to use the grower function to expand the ```times``` variable to cover the entire area of the dataset which will add the latitude and longitude dimensions back in. The ```.grower``` method takes the values in the second argument (the 1-dimensional `times` variable here) and copies (or grows) the values to match the dimensions of the first argument (the 3-dimensional ```datamskd_departures``` variable here) to yield variables (```tmp``` and ```full_times```) with the same dimensions as the first argument).\n",
    "\n",
    "We use data as the first argument to ensure the same order.\n",
    "\n",
    "**QUESTIONS FOR CHARLES:**\n",
    "1. WHAT DOES \"on index 0\" mean? IS IT \"Since time is not necessarily the 0th dimension\"? AND IF SO, HOW IS THAT POSSIBLE? OR DO YOU MEAN \"Since `times` is not a 3-dimensional variable, but it needs to be for future calculations, we need to use the grower function...\"?\n",
    "\n",
    "2. WHEN YOU SAY \"We use data as the first argument to ensure the same order.\" DO YOU MEAN THE SAME ORDER OF THE DIMENSIONS (13, 16) (BUT HOW COULD THE DIMENSIONS BE IN A DIFFERENT ORDER LIKE (16, 13)? OR DO YOU MEAN SOMETHING LIKE \"We use ```datamskd_departures``` as the first argument to ensure the resulting data variable has the same dimensions as ```datamskd_departures```.\"\n",
    "\n",
    "3. WHY ARE YOU USING ```datamskd_departures``` TO CREATE full_times, BUT ```datamskd``` TO GROW ```coeff``` AND ```intercept```? COULD WE USE ```datamskd_departures``` FOR ALL THREE GROWER COMMANDS - THAT 1ST ARGUMENT IS JUST TO SUPPLY THE DIMENSIONS, CORRECT? NO ACTUAL VALUES FROM THE 1ST ARGUMENT ARE USED IN THE .grower METHOD, ARE THEY?\n",
    "\n",
    "4. WHAT IS THE ```tmp``` VARIABLE USED FOR? IT DOESN'T SEEM TO BE USED ANYWHERE AFTER IT IS CREATED."
   ]
  },
  {
   "cell_type": "code",
   "execution_count": null,
   "metadata": {},
   "outputs": [],
   "source": [
    "tmp, full_times = genutil.grower(datamskd_departures, times)\n",
    "print(\"Shapes: tmp {}, full_times {}\".format(tmp.shape, full_times.shape))"
   ]
  },
  {
   "cell_type": "code",
   "execution_count": null,
   "metadata": {},
   "outputs": [],
   "source": [
    "full_times.info"
   ]
  },
  {
   "cell_type": "markdown",
   "metadata": {},
   "source": [
    "Now apply the same \"grower\" function to the coefficient.\n",
    "As a reminder, we'll view the shape of ```coeff``` first."
   ]
  },
  {
   "cell_type": "code",
   "execution_count": null,
   "metadata": {},
   "outputs": [],
   "source": [
    "coeff.shape"
   ]
  },
  {
   "cell_type": "code",
   "execution_count": null,
   "metadata": {},
   "outputs": [],
   "source": [
    "tmp, coeff_full = genutil.grower(datamskd, coeff)\n",
    "print(\"Shapes: tmp {}, coeff_full {}\".format(tmp.shape, coeff_full.shape))"
   ]
  },
  {
   "cell_type": "markdown",
   "metadata": {},
   "source": [
    "Now grow the intercept.\n",
    "Again, as a reminder, we'll view the shape of ```intercept``` first."
   ]
  },
  {
   "cell_type": "code",
   "execution_count": null,
   "metadata": {},
   "outputs": [],
   "source": [
    "intercept.shape"
   ]
  },
  {
   "cell_type": "code",
   "execution_count": null,
   "metadata": {},
   "outputs": [],
   "source": [
    "tmp, intercept_full = genutil.grower(datamskd, intercept)\n",
    "print(\"Shapes: tmp {}, intercept_full {}\".format(tmp.shape, intercept_full.shape))"
   ]
  },
  {
   "cell_type": "markdown",
   "metadata": {},
   "source": [
    "To remove the trend from the spatially distributed data, we take the ```datamskd_departures``` (the masked data with the annual cycle removed) and subtract the trend plane which is represented by the right-hand side of the equation y = a*x + b which is ```full_times * coeff_full + intercept_full```.   (The right side of the equation becomes ```- full_times * coeff_full - intercept_full``` when you subtract it from ```datamskd_departures```.)\n",
    "\n",
    "**QUESTION FOR KARL: IS THE TREND A \"PLANE\" OR IS IT \"A SINGLE TREND LINE FOR EACH GRID CELL\" AS MENTIONED ABOVE?**\n",
    "\n",
    "**QUESTION FOR CHARLES AND/OR KARL: WHY DO THE ```coeff_full``` AND ```intercept_full``` HAVE A TIME DIMENSION? ABOVE ```coeff``` AND ```intercept``` HAD ONLY LAT AND LONG DIMENSIONS.**"
   ]
  },
  {
   "cell_type": "code",
   "execution_count": null,
   "metadata": {},
   "outputs": [],
   "source": [
    "datamskd_departures_detrend = datamskd_departures - full_times * coeff_full - intercept_full\n",
    "datamskd_departures_detrend.shape"
   ]
  },
  {
   "cell_type": "markdown",
   "metadata": {},
   "source": [
    "To remove the trend from the masked data that has had the annual cycle removed and has been converted to a time series (```datamskd_departures_ts```), we subtract the corresponding values for \"a\" (```times```), the coefficient (```coeff_ts```) and the intercept (```intercept_ts```). \n",
    "\n",
    "To remind us of the dimensions of these values, we'll take a quick look at the shapes of the values before removing the trend. As mentioned above, if no value is displayed within the ( ), that means there is no dimensional information for that value and it is a scalar (i.e. just a number)."
   ]
  },
  {
   "cell_type": "code",
   "execution_count": null,
   "metadata": {},
   "outputs": [],
   "source": [
    "datamskd_departures_ts.shape"
   ]
  },
  {
   "cell_type": "code",
   "execution_count": null,
   "metadata": {},
   "outputs": [],
   "source": [
    "times.shape"
   ]
  },
  {
   "cell_type": "code",
   "execution_count": null,
   "metadata": {},
   "outputs": [],
   "source": [
    "coeff_ts.shape"
   ]
  },
  {
   "cell_type": "code",
   "execution_count": null,
   "metadata": {},
   "outputs": [],
   "source": [
    "intercept_ts.shape"
   ]
  },
  {
   "cell_type": "code",
   "execution_count": null,
   "metadata": {},
   "outputs": [],
   "source": [
    "datamskd_departures_ts_detrend = datamskd_departures_ts - times * coeff_ts - intercept_ts\n",
    "datamskd_departures_ts_detrend.shape"
   ]
  },
  {
   "cell_type": "markdown",
   "metadata": {},
   "source": [
    "Now we'll plot the time series with the trend removed."
   ]
  },
  {
   "cell_type": "code",
   "execution_count": null,
   "metadata": {},
   "outputs": [],
   "source": [
    "x.clear()\n",
    "x.plot(datamskd_departures_ts_detrend)"
   ]
  },
  {
   "cell_type": "markdown",
   "metadata": {},
   "source": [
    "Here, again, the order matters.\n",
    "\n",
    "For comparison, we'll create a time series from the masked data with both the annual cycle and the warming trend removed and call it ```datamskd_departures_detrend_ts```."
   ]
  },
  {
   "cell_type": "code",
   "execution_count": null,
   "metadata": {},
   "outputs": [],
   "source": [
    "datamskd_departures_detrend_ts = genutil.averager(datamskd_departures_detrend, axis='xy')\n",
    "datamskd_departures_detrend_ts.shape"
   ]
  },
  {
   "cell_type": "markdown",
   "metadata": {},
   "source": [
    "Now that we have two different ways we've gotten to the end result, we'll subtract one from the other and plot the difference. \n",
    "\n",
    "(To recap: ```datamskd_departures_detrend_ts``` was created by removing the annual cycle from the masked data, then removing the trend, then creating a time series by averaging over the whole spatial area of the dataset, and ```datamskd_departures_ts_detrend``` was created by removing the annual cycle from the masked data, then creating a spatially averaged time series, then removing the warming trend.)\n",
    "\n",
    "The correct way to perform these steps is to remove the annual cycle from the masked data, then create a spatially averaged time series, then remove the warming trend (```datamskd_departures_ts_detrend```).\n",
    "\n",
    "**QUESTION: DID I ACCURATELY REPRESENT THE CORRECT WAY TO DO THINGS?**"
   ]
  },
  {
   "cell_type": "code",
   "execution_count": null,
   "metadata": {},
   "outputs": [],
   "source": [
    "x.clear()\n",
    "x.plot(datamskd_departures_detrend_ts - datamskd_departures_ts_detrend)"
   ]
  },
  {
   "cell_type": "markdown",
   "metadata": {},
   "source": [
    "**QUESTION TO RESOLVE: WHY IS THERE A TREND TO THIS DATA? THE PREVIOUS \"SUBTRACTIVE\" PLOT HAD 0 VALUES WHERE THERE WAS NO DIFFERENCE BETWEEN THE TWO METHODS OR TEST CASES.**"
   ]
  },
  {
   "cell_type": "markdown",
   "metadata": {},
   "source": [
    "[Back to Top](#top)\n",
    "\n",
    "The CDAT software was developed by LLNL. This tutorial was written by Charles Doutriaux and Holly Davis with input from Karl Taylor. This work was performed under the auspices of the U.S. Department of Energy by Lawrence Livermore National Laboratory under Contract DE-AC52-07NA27344.\n",
    "\n",
    "**KARL, I'M FINE LISTING YOU AS AN AUTHOR RATHER THAN AS JUST PROVIDING INPUT - LET ME KNOW WHAT YOU PREFER.**"
   ]
  }
 ],
 "metadata": {
  "kernelspec": {
   "display_name": "Python [conda env:cdat81-mesa] *",
   "language": "python",
   "name": "conda-env-cdat81-mesa-py"
  },
  "language_info": {
   "codemirror_mode": {
    "name": "ipython",
    "version": 3
   },
   "file_extension": ".py",
   "mimetype": "text/x-python",
   "name": "python",
   "nbconvert_exporter": "python",
   "pygments_lexer": "ipython3",
   "version": "3.6.7"
  },
  "toc": {
   "base_numbering": 1,
   "nav_menu": {},
   "number_sections": false,
   "sideBar": true,
   "skip_h1_title": false,
   "title_cell": "Table of Contents",
   "title_sidebar": "Contents",
   "toc_cell": true,
   "toc_position": {},
   "toc_section_display": true,
   "toc_window_display": false
  }
 },
 "nbformat": 4,
 "nbformat_minor": 4
}
