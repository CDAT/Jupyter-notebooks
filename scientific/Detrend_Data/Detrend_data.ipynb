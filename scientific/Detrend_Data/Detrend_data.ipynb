{
 "cells": [
  {
   "cell_type": "markdown",
   "metadata": {},
   "source": [
    "# Detrend Data<a id='top' class=\"tocSkip\"> </a>\n",
    "\n",
    "This tutorial shows how to detrend data\n",
    "\n",
    "It is a commanly used technic to *detrend* data before doing further diagnosis, this tutorials shows how to do so using [CDAT](https://cdat.llnl.gov)\n",
    "\n",
    "\n",
    "The CDAT software was developed by LLNL. This tutorial was written by Charles Doutriaux. This work was performed under the auspices of the U.S. Department of Energy by Lawrence Livermore National Laboratory under Contract DE-AC52-07NA27344.\n",
    "\n",
    "[Download the Jupyter Notebook](Detrend_data.ipynb)\n",
    "\n"
   ]
  },
  {
   "cell_type": "markdown",
   "metadata": {
    "toc": true
   },
   "source": [
    "<h1>Table of Contents<span class=\"tocSkip\"></span></h1>\n",
    "<div class=\"toc\"><ul class=\"toc-item\"><li><span><a href=\"#Prepare-Notebook-and-Data\" data-toc-modified-id=\"Prepare-Notebook-and-Data-1\">Prepare Notebook and Data</a></span></li><li><span><a href=\"#Removing-Annual-Cycle\" data-toc-modified-id=\"Removing-Annual-Cycle-2\">Removing Annual Cycle</a></span></li><li><span><a href=\"#Detrend-Data\" data-toc-modified-id=\"Detrend-Data-3\">Detrend Data</a></span></li></ul></div>"
   ]
  },
  {
   "cell_type": "markdown",
   "metadata": {},
   "source": [
    "## Prepare Notebook and Data\n",
    "[Back to Top](#top)"
   ]
  },
  {
   "cell_type": "code",
   "execution_count": null,
   "metadata": {},
   "outputs": [],
   "source": [
    "from __future__ import print_function\n",
    "import cdms2\n",
    "import MV2\n",
    "import genutil\n",
    "import cdutil\n",
    "import vcs\n",
    "import os\n",
    "import requests\n",
    "\n",
    "# This is a subset over North America\n",
    "filename = 'tas_Amon_IPSL-CM5A-LR_1pctCO2_r1i1p1_185001-198912.nc'\n",
    "if not os.path.exists(filename):\n",
    "    r = requests.get(\"https://cdat.llnl.gov/cdat/sample_data/notebooks/{}\".format(filename), stream=True)\n",
    "    with open(filename,\"wb\") as f:\n",
    "        for chunk in r.iter_content(chunk_size=1024):\n",
    "            if chunk:  # filter local_filename keep-alive new chunks\n",
    "                f.write(chunk)\n",
    "\n",
    "\n",
    "f = cdms2.open(filename)\n",
    "\n",
    "data = f(\"tas\")"
   ]
  },
  {
   "cell_type": "markdown",
   "metadata": {},
   "source": [
    "Now to demonstrate `genutil` capabilities and highlight some scientific points about operations order, let's mask some data and compute the time serie"
   ]
  },
  {
   "cell_type": "code",
   "execution_count": null,
   "metadata": {
    "scrolled": true
   },
   "outputs": [],
   "source": [
    "# Mask data where greater than maximum less 2 K\n",
    "data = MV2.masked_greater(data, data.max()-2)\n",
    "\n",
    "# Time series\n",
    "data_ts = genutil.averager(data, axis='xy')"
   ]
  },
  {
   "cell_type": "markdown",
   "metadata": {},
   "source": [
    "Let's take a look at time serie and note the trend and annual cycle"
   ]
  },
  {
   "cell_type": "code",
   "execution_count": null,
   "metadata": {},
   "outputs": [],
   "source": [
    "x = vcs.init(bg=True, geometry=(800,600))\n",
    "line = vcs.create1d()\n",
    "line.markersize = .5\n",
    "x.plot(data_ts, line)"
   ]
  },
  {
   "cell_type": "markdown",
   "metadata": {},
   "source": [
    "## Removing Annual Cycle \n",
    "[Back to Top](#top)\n",
    "\n",
    "First we will remove the annual cycle for these **monthly** data. Because it is masked order matter as we will demo."
   ]
  },
  {
   "cell_type": "code",
   "execution_count": null,
   "metadata": {},
   "outputs": [],
   "source": [
    "data_departures = cdutil.times.ANNUALCYCLE.departures(data)\n",
    "data_departures_ts = genutil.averager(data_departures, axis='xy')\n",
    "data_ts_departures = cdutil.times.ANNUALCYCLE.departures(data_ts)"
   ]
  },
  {
   "cell_type": "markdown",
   "metadata": {},
   "source": [
    "Notice how the trends shows up much nicer now!"
   ]
  },
  {
   "cell_type": "code",
   "execution_count": null,
   "metadata": {},
   "outputs": [],
   "source": [
    "x.clear()\n",
    "x.plot(data_departures_ts)"
   ]
  },
  {
   "cell_type": "markdown",
   "metadata": {},
   "source": [
    "Note please note the importance of order operation when missing data is present both time series are slightly different and the later years (where missing data occurs)"
   ]
  },
  {
   "cell_type": "code",
   "execution_count": null,
   "metadata": {},
   "outputs": [],
   "source": [
    "x.clear()\n",
    "x.plot(data_departures_ts - data_ts_departures)"
   ]
  },
  {
   "cell_type": "markdown",
   "metadata": {},
   "source": [
    "## Detrend Data\n",
    "[Back to Top](#top)\n",
    "\n",
    "First we will compute the trend, other `time` note that the index of time can be anything, `genutil` will determine its index.\n",
    "\n",
    "After computation we lose the time axis, also note the units, based on units on time axis, since units are in `days since XXX` the coeef/trend is in `K/day`"
   ]
  },
  {
   "cell_type": "code",
   "execution_count": null,
   "metadata": {},
   "outputs": [],
   "source": [
    "coeff, intercept = genutil.statistics.linearregression(data_departures, axis=\"t\")\n",
    "print(\"Shapes: coeff {}, intercept {}\".format(coeff.shape, intercept.shape))\n",
    "# Let's do the same for the time serie\n",
    "coeff_ts, intercept_ts = genutil.statistics.linearregression(data_departures_ts, axis=\"t\")"
   ]
  },
  {
   "cell_type": "markdown",
   "metadata": {},
   "source": [
    "Now let's actually remove the trend\n",
    "We will need"
   ]
  },
  {
   "cell_type": "code",
   "execution_count": null,
   "metadata": {},
   "outputs": [],
   "source": [
    "times = MV2.array(data.getTime()[:])\n",
    "times.setAxis(0, data.getTime())\n",
    "\n",
    "# since time is not necessarily on index 0 we need to use the grower function\n",
    "# we use data as first argument to ensure same order\n",
    "tmp, full_times = genutil.grower(data_departures, times)\n",
    "# same for cefficient\n",
    "tmp, coeff = genutil.grower(data, coeff)\n",
    "# same for intercept\n",
    "tmp, intercept = genutil.grower(data, intercept)\n",
    "\n",
    "data_departures_detrend = data_departures - full_times * coeff - intercept\n",
    "data_departures_ts_detrend = data_departures_ts - times * coeff_ts - intercept_ts\n",
    "x.clear()\n",
    "x.plot(data_departures_ts_detrend)"
   ]
  },
  {
   "cell_type": "markdown",
   "metadata": {},
   "source": [
    "Here again the order matters"
   ]
  },
  {
   "cell_type": "code",
   "execution_count": null,
   "metadata": {},
   "outputs": [],
   "source": [
    "data_departures_detrend_ts = genutil.averager(data_departures_detrend, axis='xy')\n",
    "\n",
    "x.clear()\n",
    "x.plot(data_departures_detrend_ts - data_departures_ts_detrend)"
   ]
  }
 ],
 "metadata": {
  "kernelspec": {
   "display_name": "Python 2",
   "language": "python",
   "name": "python2"
  },
  "language_info": {
   "codemirror_mode": {
    "name": "ipython",
    "version": 2
   },
   "file_extension": ".py",
   "mimetype": "text/x-python",
   "name": "python",
   "nbconvert_exporter": "python",
   "pygments_lexer": "ipython2",
   "version": "2.7.15"
  },
  "toc": {
   "base_numbering": 1,
   "nav_menu": {},
   "number_sections": false,
   "sideBar": true,
   "skip_h1_title": false,
   "title_cell": "Table of Contents",
   "title_sidebar": "Contents",
   "toc_cell": true,
   "toc_position": {},
   "toc_section_display": true,
   "toc_window_display": false
  }
 },
 "nbformat": 4,
 "nbformat_minor": 2
}
