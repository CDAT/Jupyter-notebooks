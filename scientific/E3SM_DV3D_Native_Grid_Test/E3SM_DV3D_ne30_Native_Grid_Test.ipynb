{
 "cells": [
  {
   "cell_type": "markdown",
   "metadata": {},
   "source": [
    "# E3SM DV3D ne30 Native Grid Test\n",
    "\n",
    "This tutorial focuses on using DV3D, a CDAT tool, to create a 3D plot of temperature data on E3SM's ne30 native grid. When the code in this notebook is run as a separate Python script (with minor modifications), DV3D allows users to interact with the 3D plot that opens in a stand-alone window on their computer.\n",
    "\n",
    "[Download the Jupyter Notebook](https://cdat.llnl.gov/Jupyter-notebooks/scientific/E3SM_DV3D_ne30_Native_Grid_Test/E3SM_DV3D_ne30_Native_Grid_Test.ipynb)\n",
    "\n",
    "[Download the Python file](https://cdat.llnl.gov/Jupyter-notebooks/scientific/E3SM_DV3D_ne30_Native_Grid_Test/E3SM_DV3D_ne30_Native_Grid_Test.py)\n",
    "\n",
    "The CDAT software was developed by LLNL and this notebook was created and the example code was updated on December 17, 2019. This work was performed under the auspices of the U.S. Department of Energy by Lawrence Livermore National Laboratory under Contract DE-AC52-07NA27344."
   ]
  },
  {
   "cell_type": "markdown",
   "metadata": {
    "toc": true
   },
   "source": [
    "<h1>Table of Contents<span class=\"tocSkip\"></span></h1>\n",
    "<div class=\"toc\"><ul class=\"toc-item\"><li><span><a href=\"#To-Interact-with-the-3D-image...\" data-toc-modified-id=\"To-Interact-with-the-3D-image...-1\">To Interact with the 3D image...</a></span></li><li><span><a href=\"#Get-the-tutorial-data\" data-toc-modified-id=\"Get-the-tutorial-data-2\">Get the tutorial data</a></span></li><li><span><a href=\"#Open-the-CMIP6-data-file\" data-toc-modified-id=\"Open-the-CMIP6-data-file-3\">Open the CMIP6 data file</a></span></li><li><span><a href=\"#Initialize-the-VCS-canvas\" data-toc-modified-id=\"Initialize-the-VCS-canvas-4\">Initialize the VCS canvas</a></span></li><li><span><a href=\"#Set-the-DV3D-settings\" data-toc-modified-id=\"Set-the-DV3D-settings-5\">Set the DV3D settings</a></span></li><li><span><a href=\"#Choose-a-variable-to-plot\" data-toc-modified-id=\"Choose-a-variable-to-plot-6\">Choose a variable to plot</a></span></li><li><span><a href=\"#Create-the-3D-plot\" data-toc-modified-id=\"Create-the-3D-plot-7\">Create the 3D plot</a></span></li><li><span><a href=\"#Save-a-2D-image-of-the-3D-plot\" data-toc-modified-id=\"Save-a-2D-image-of-the-3D-plot-8\">Save a 2D image of the 3D plot</a></span></li></ul></div>"
   ]
  },
  {
   "cell_type": "markdown",
   "metadata": {},
   "source": [
    "## To Interact with the 3D image...\n",
    "\n",
    "You will ultimately need to run the Python code in this notebook in a command line window, not within this notebook. One possible work flow is:\n",
    "\n",
    "1. Step through this notebook line by line to make sure everything works (you are running an environment with the needed packages, the code is working for you with the sample data, etc.).\n",
    "2. Once everything is working, either use the Python file we've provided above or save this notebook as a Python file by clicking on File (within the JupyterLab interface) > Export Notebook As... > Export Notebook to Executable Script.\n",
    "3. If you save/export the script from this notebook, you will need to edit the .py file to remove the \"#\" symbol infront of the x.interact() command near the bottom of the file. (If you download the python script directly, no editing is necessary.)\n",
    "4. Open a new command line window and activate your favorite CDAT environment (for testing this notebook, I used a CDAT 8.1 mesalib environment, but you could also use a [jupyter-vcdat environment after installing VCDAT](https://github.com/CDAT/jupyter-vcdat/wiki/Deploy). **(Note: When you run the Python script to create the interactive window of the 3D data, make sure you are using a \"regular\" version of the conda environment - NOT a mesalib version - since you will need to see the window that opens as the Python script runs. (Mesalib environments suppress this window.))**\n",
    "5. Navigate to where the Python script is stored and type the following at the prompt:\n",
    "```\n",
    "python -i E3SM_ne30_Native_Grid_Test.py\n",
    "```\n",
    "The generic interactive Python command is:\n",
    "```\n",
    "python -i Name_of_Your_Notebook.py\n",
    "```\n",
    "\n",
    "A separate window should open where you can adjust the sliders and click on the \"Configure\" button to access more features of the plot. Click and drag on the center of the plot to change the angle at which you are viewing the data.\n",
    "\n",
    "To exit the interactive mode, close the window and type control-D within your command line window to fully exit the interactive mode and to get your command prompt back. (If for some reason control-D does not work, try control-Z.)\n",
    "\n",
    "An alternate work flow is to accomplish all the steps above in a command line window without using JupyterLab or the Jupyter Notebook."
   ]
  },
  {
   "cell_type": "code",
   "execution_count": null,
   "metadata": {},
   "outputs": [],
   "source": [
    "import vcs, cdms2, sys"
   ]
  },
  {
   "cell_type": "markdown",
   "metadata": {},
   "source": [
    "## Get the tutorial data\n",
    "This tutorial uses the E3SM model version 1, 1 degree (standard resolution (ne30)) CMIP6 data which is available on NERSC's HPSS storage system. See the [V1 1 Deg CMIP6 Data on HPSS](https://e3sm.org/data/get-e3sm-data/released-e3sm-data/v1-1-deg-data-cmip6/v1-1-deg-cmip6-data-on-hpss/) post on the E3SM.org website to download the data.\n",
    "\n",
    "The data file for this tutorial is \"20180129.DECKv1b_piControl.ne30_oEC.edison.cam.h0.0500-01.nc\" from the CMIP6 standard resolution (ne30) piControl run. \n",
    "\n",
    "The grid file used is \"ne30np4_latlon.091226.nc\". To download this grid file, go to https://portal.nersc.gov/project/acme/hdavis/ and click on the \"ne30np4_latlon.091226.nc\" file which should automatically download via your browser. To facilitate running this notebook, the CMIP6 data file can also be downloaded from this same location.\n",
    "\n",
    "Make sure both the data file and the grid file are in the same directory as this notebook before continuing to run this notebook."
   ]
  },
  {
   "cell_type": "markdown",
   "metadata": {},
   "source": [
    "## Open the CMIP6 data file\n",
    "The variable `f` (for file) references the data file."
   ]
  },
  {
   "cell_type": "code",
   "execution_count": null,
   "metadata": {},
   "outputs": [],
   "source": [
    "f=cdms2.open(\"20180129.DECKv1b_piControl.ne30_oEC.edison.cam.h0.0500-01.nc\")"
   ]
  },
  {
   "cell_type": "markdown",
   "metadata": {},
   "source": [
    "## Initialize the VCS canvas\n",
    "In this example the variable `x` is the VCS canvas."
   ]
  },
  {
   "cell_type": "code",
   "execution_count": null,
   "metadata": {},
   "outputs": [],
   "source": [
    "x = vcs.init()"
   ]
  },
  {
   "cell_type": "markdown",
   "metadata": {},
   "source": [
    "## Set the DV3D settings\n",
    "Choose various DV3D settings for the type of plot you want to make."
   ]
  },
  {
   "cell_type": "code",
   "execution_count": null,
   "metadata": {},
   "outputs": [],
   "source": [
    "dv3d = vcs.get3d_scalar()"
   ]
  },
  {
   "cell_type": "code",
   "execution_count": null,
   "metadata": {},
   "outputs": [],
   "source": [
    "dv3d.ToggleVolumePlot = vcs.on\n",
    "dv3d.ToggleSphericalProj = vcs.on"
   ]
  },
  {
   "cell_type": "code",
   "execution_count": null,
   "metadata": {},
   "outputs": [],
   "source": [
    "dv3d.Camera={'Position': (-161, -171, 279), 'ViewUp': (.29, 0.67, 0.68), 'FocalPoint': (146.7, 8.5, -28.6)}"
   ]
  },
  {
   "cell_type": "markdown",
   "metadata": {},
   "source": [
    "## Choose a variable to plot\n",
    "The next line of code shows us all the data variables within the CMIP6 netCDF file."
   ]
  },
  {
   "cell_type": "code",
   "execution_count": null,
   "metadata": {},
   "outputs": [],
   "source": [
    "print(sorted(f.variables.keys()))"
   ]
  },
  {
   "cell_type": "markdown",
   "metadata": {},
   "source": [
    "The variable we'll plot in this tutorial is temperature, T which is in degrees Kelvin. The next line assigns the temperature data (T) to the `v` variable."
   ]
  },
  {
   "cell_type": "code",
   "execution_count": null,
   "metadata": {},
   "outputs": [],
   "source": [
    "v = f[\"T\"]"
   ]
  },
  {
   "cell_type": "markdown",
   "metadata": {},
   "source": [
    "To ensure the color scale of our plot covers the minimum and maximum values of the data, we'll first determine min and max values, then modify the colormap scale.\n",
    "\n",
    "Both VCS and Genutil have minmax functions. Here we'll use VCS's minmax function, but if you'd like to use Genutil's function instead, comment out the first line of code and un-comment the second and third lines. "
   ]
  },
  {
   "cell_type": "code",
   "execution_count": null,
   "metadata": {},
   "outputs": [],
   "source": [
    "vcs.minmax(v)\n",
    "\n",
    "#import genutil\n",
    "#genutil.minmax(v)"
   ]
  },
  {
   "cell_type": "markdown",
   "metadata": {},
   "source": [
    "Modify the ScaleColormap to cover the min and max values of the data."
   ]
  },
  {
   "cell_type": "code",
   "execution_count": null,
   "metadata": {},
   "outputs": [],
   "source": [
    "dv3d.VerticalScaling = 1.5 \n",
    "dv3d.ScaleColormap = [184.0, 308.0, 1] \n",
    "dv3d.ScaleTransferFunction =  [184.0, 308.0, 1]"
   ]
  },
  {
   "cell_type": "markdown",
   "metadata": {},
   "source": [
    "## Create the 3D plot"
   ]
  },
  {
   "cell_type": "code",
   "execution_count": null,
   "metadata": {},
   "outputs": [],
   "source": [
    "x.plot( v, dv3d, grid_file=\"ne30np4_latlon.091226.nc\")"
   ]
  },
  {
   "cell_type": "markdown",
   "metadata": {},
   "source": [
    "If you want to interact with the 3D plot, save a python script from this notebook to run outside the notebook, then edit the python script to un-comment out the following line. Use a non-mesalib conda environment when running the Python script so you can interact with the 3D image in the window that opens after running the x.plot( v, dv3d ) command."
   ]
  },
  {
   "cell_type": "code",
   "execution_count": null,
   "metadata": {},
   "outputs": [],
   "source": [
    "# x.interact()"
   ]
  },
  {
   "cell_type": "markdown",
   "metadata": {},
   "source": [
    "## Save a 2D image of the 3D plot\n",
    "When working inside a notebook, saving the above image to a separate .png file could be useful if you want to look at the image outside of the notebook. The line of code below will save the plot to a .png file in the same directory as this notebook. \n",
    "\n",
    "If running the code in this notebook from the corresponding Python script, comment out or delete the following line of code since in the direct Python interface, saving to a .png file results in an all black .png file. If you want a 2D image of a particular view you've created while interacting with the 3D image, we recommend taking a screenshot."
   ]
  },
  {
   "cell_type": "code",
   "execution_count": null,
   "metadata": {},
   "outputs": [],
   "source": [
    "x.png(\"native_T_sphere.png\")"
   ]
  },
  {
   "cell_type": "markdown",
   "metadata": {},
   "source": [
    "The CDAT software was developed by LLNL. This tutorial was written by Charles Doutriaux and Holly Davis. This work was performed under the auspices of the U.S. Department of Energy by Lawrence Livermore National Laboratory under Contract DE-AC52-07NA27344.\n",
    "\n",
    "If you have questions about this notebook, please email our [CDAT Support](cdat-support@llnl.gov) address, cdat-support@llnl.gov."
   ]
  }
 ],
 "metadata": {
  "kernelspec": {
   "display_name": "Python [conda env:cdat81-mesa] *",
   "language": "python",
   "name": "conda-env-cdat81-mesa-py"
  },
  "language_info": {
   "codemirror_mode": {
    "name": "ipython",
    "version": 3
   },
   "file_extension": ".py",
   "mimetype": "text/x-python",
   "name": "python",
   "nbconvert_exporter": "python",
   "pygments_lexer": "ipython3",
   "version": "3.6.7"
  },
  "selected_variables": [],
  "toc": {
   "base_numbering": 1,
   "nav_menu": {},
   "number_sections": false,
   "sideBar": false,
   "skip_h1_title": true,
   "title_cell": "Table of Contents",
   "title_sidebar": "Contents",
   "toc_cell": true,
   "toc_position": {},
   "toc_section_display": true,
   "toc_window_display": false
  },
  "vcdat_file_path": "",
  "vcdat_loaded_variables": [],
  "vcdat_variable_info": {}
 },
 "nbformat": 4,
 "nbformat_minor": 2
}
