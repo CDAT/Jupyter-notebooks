{
 "cells": [
  {
   "cell_type": "markdown",
   "metadata": {},
   "source": [
    "# VCS 3D Temperature Anomaly\n",
    "\n",
    "This tutorial illustrates using VCS (a CDAT tool) to plot a three-dimensional temperature anomaly.\n",
    "\n",
    "To [download this Jupyter Notebook](https://cdat.llnl.gov/Jupyter-notebooks/scientific/3D_Temperature_Anomaly/3D_Temp_Anomaly.ipynb), right click on the link and choose \"Download Linked File As...\" or \"Save Link as...\". Remember where you saved the downloaded file, which should have an .ipynb extension. (You'll need to launch the Jupyter notebook or JupyterLab instance from the location where you store the notebook file.)\n",
    "\n",
    "[Download the Python file](https://cdat.llnl.gov/Jupyter-notebooks/scientific/3D_Temperature_Anomaly/3D_Temp_Anomaly.py)\n",
    "\n",
    "The CDAT software was developed by LLNL and this notebook was created and the example code was updated on June 19, 2019. This work was performed under the auspices of the U.S. Department of Energy by Lawrence Livermore National Laboratory under Contract DE-AC52-07NA27344."
   ]
  },
  {
   "cell_type": "markdown",
   "metadata": {
    "toc": true
   },
   "source": [
    "<h1>Table of Contents<span class=\"tocSkip\"></span></h1>\n",
    "<div class=\"toc\"><ul class=\"toc-item\"><li><span><a href=\"#To-Interact-with-the-3D-image...\" data-toc-modified-id=\"To-Interact-with-the-3D-image...-1\">To Interact with the 3D image...</a></span></li><li><span><a href=\"#Get-Tutorial-Data\" data-toc-modified-id=\"Get-Tutorial-Data-2\">Get Tutorial Data</a></span></li><li><span><a href=\"#Open-the-geos5-sample.nc-data-file\" data-toc-modified-id=\"Open-the-geos5-sample.nc-data-file-3\">Open the geos5-sample.nc data file</a></span></li><li><span><a href=\"#Initialize-the-VCS-canvas\" data-toc-modified-id=\"Initialize-the-VCS-canvas-4\">Initialize the VCS canvas</a></span></li><li><span><a href=\"#Set-dv3d-settings\" data-toc-modified-id=\"Set-dv3d-settings-5\">Set dv3d settings</a></span><ul class=\"toc-item\"><li><span><a href=\"#Create-a-volume-plot\" data-toc-modified-id=\"Create-a-volume-plot-5.1\">Create a volume plot</a></span></li><li><span><a href=\"#Set-the-color-map\" data-toc-modified-id=\"Set-the-color-map-5.2\">Set the color map</a></span></li><li><span><a href=\"#Set-the-initial-camera-position\" data-toc-modified-id=\"Set-the-initial-camera-position-5.3\">Set the initial camera position</a></span></li><li><span><a href=\"#Choose-variable-to-plot\" data-toc-modified-id=\"Choose-variable-to-plot-5.4\">Choose variable to plot</a></span></li><li><span><a href=\"#Calculate-Volume-Average\" data-toc-modified-id=\"Calculate-Volume-Average-5.5\">Calculate Volume Average</a></span></li><li><span><a href=\"#Create-Volume-bounds\" data-toc-modified-id=\"Create-Volume-bounds-5.6\">Create Volume bounds</a></span></li></ul></li><li><span><a href=\"#Calculate-Final-3D-Temperature-Volume\" data-toc-modified-id=\"Calculate-Final-3D-Temperature-Volume-6\">Calculate Final 3D Temperature Volume</a></span></li><li><span><a href=\"#Create-the-3D-plot\" data-toc-modified-id=\"Create-the-3D-plot-7\">Create the 3D plot</a></span></li><li><span><a href=\"#Save-a-2D-image-of-the-3D-plot\" data-toc-modified-id=\"Save-a-2D-image-of-the-3D-plot-8\">Save a 2D image of the 3D plot</a></span></li></ul></div>"
   ]
  },
  {
   "cell_type": "markdown",
   "metadata": {},
   "source": [
    "## To Interact with the 3D image... \n",
    "You will ultimately need to run the Python code in this notebook in a command line window, not within this notebook. One possible work flow is:\n",
    "1. Step through this notebook line by line to make sure everything works (you are running an environment with the needed packages, the code is working for you with the sample data, etc.).\n",
    "2. Once everything is working, either use the Python file we've provided above or save this notebook as a Python file by clicking on File (within the JupyterLab interface) > Export Notebook As... > Export Notebook to Executable Script.\n",
    "3. Open a new command line window and activate your favorite CDAT environment (for testing this notebook, we used the [jupyter-vcdat environment after installing VCDAT](https://github.com/CDAT/jupyter-vcdat/wiki/Deploy). (Note: make sure you are using a \"regular\" version of the packages - NOT the mesalib version - since you will need to view the 3D image in a window that pops up once the Python script has been run.)\n",
    "4. Navigate to where the Python script is stored and type: \n",
    "```\n",
    "python -i 3D_Temp_Anomaly.py\n",
    "```\n",
    "at the prompt. \n",
    "\n",
    "A separate window should open where you can adjust the sliders and click on the \"Configure\" button to access more features of the plot. Click and drag on the center of the plot to change the angle at which you are viewing the data.\n",
    "\n",
    "An alternate work flow is to accomplish all the steps above in a command line window without using JupyterLab or the Jupyter Notebook."
   ]
  },
  {
   "cell_type": "code",
   "execution_count": null,
   "metadata": {},
   "outputs": [],
   "source": [
    "import vcs, cdms2, cdutil, genutil, sys"
   ]
  },
  {
   "cell_type": "markdown",
   "metadata": {},
   "source": [
    "## Get Tutorial Data\n",
    "Download many sample data files for all of our notebooks. For this exercise you need the goes5-sample.nc sample data file, the last one that is downloaded."
   ]
  },
  {
   "cell_type": "code",
   "execution_count": null,
   "metadata": {},
   "outputs": [],
   "source": [
    "vcs.download_sample_data_files()"
   ]
  },
  {
   "cell_type": "markdown",
   "metadata": {},
   "source": [
    "## Open the geos5-sample.nc data file"
   ]
  },
  {
   "cell_type": "code",
   "execution_count": null,
   "metadata": {},
   "outputs": [],
   "source": [
    "f=cdms2.open(vcs.sample_data+\"/geos5-sample.nc\")"
   ]
  },
  {
   "cell_type": "markdown",
   "metadata": {},
   "source": [
    "## Initialize the VCS canvas"
   ]
  },
  {
   "cell_type": "code",
   "execution_count": null,
   "metadata": {},
   "outputs": [],
   "source": [
    "x = vcs.init()"
   ]
  },
  {
   "cell_type": "markdown",
   "metadata": {},
   "source": [
    "## Set dv3d settings\n",
    "Choose various dv3d settings for the type of plot you want to make."
   ]
  },
  {
   "cell_type": "code",
   "execution_count": null,
   "metadata": {},
   "outputs": [],
   "source": [
    "dv3d = vcs.get3d_scalar()"
   ]
  },
  {
   "cell_type": "markdown",
   "metadata": {},
   "source": [
    "### Create a volume plot"
   ]
  },
  {
   "cell_type": "code",
   "execution_count": null,
   "metadata": {},
   "outputs": [],
   "source": [
    "dv3d.ToggleVolumePlot = vcs.on"
   ]
  },
  {
   "cell_type": "markdown",
   "metadata": {},
   "source": [
    "### Set the color map"
   ]
  },
  {
   "cell_type": "code",
   "execution_count": null,
   "metadata": {},
   "outputs": [],
   "source": [
    "dv3d.ScaleColormap = [-15.0, 15.0, 1] "
   ]
  },
  {
   "cell_type": "code",
   "execution_count": null,
   "metadata": {},
   "outputs": [],
   "source": [
    "dv3d.ScaleTransferFunction =  [ 3.64, 24, 1]"
   ]
  },
  {
   "cell_type": "code",
   "execution_count": null,
   "metadata": {},
   "outputs": [],
   "source": [
    "dv3d.VerticalScaling = 6.0 "
   ]
  },
  {
   "cell_type": "markdown",
   "metadata": {},
   "source": [
    "### Set the initial camera position\n",
    "If you run the Python code version of this notebook, you can change the camera angle manually in the interactive plot by clicking and dragging the cursor."
   ]
  },
  {
   "cell_type": "code",
   "execution_count": null,
   "metadata": {},
   "outputs": [],
   "source": [
    "dv3d.Camera={'Position': (-161, -171, 279), 'ViewUp': (.29, 0.67, 0.68), 'FocalPoint': (146.7, 8.5, -28.6)}"
   ]
  },
  {
   "cell_type": "code",
   "execution_count": null,
   "metadata": {},
   "outputs": [],
   "source": [
    "dv3d_v = vcs.get3d_scalar()   "
   ]
  },
  {
   "cell_type": "markdown",
   "metadata": {},
   "source": [
    "### Choose variable to plot\n",
    "Select the temperature (tmpu) variable from the open goes5-sample.nc file (f) and assign to the v0 variable."
   ]
  },
  {
   "cell_type": "code",
   "execution_count": null,
   "metadata": {},
   "outputs": [],
   "source": [
    "v0 = f[\"tmpu\"] "
   ]
  },
  {
   "cell_type": "markdown",
   "metadata": {},
   "source": [
    "### Calculate Volume Average\n",
    "Average the temperature of the 3D volume over the x axis (the longitude) and assign to the variable, va."
   ]
  },
  {
   "cell_type": "code",
   "execution_count": null,
   "metadata": {},
   "outputs": [],
   "source": [
    "va = cdutil.averager( v0, axis='x' )"
   ]
  },
  {
   "cell_type": "markdown",
   "metadata": {},
   "source": [
    "### Create Volume bounds\n",
    "Grow the volume from initial temperature values (v0) to the average temperature along the x axis (va) and assign the beginning and ending values as v01 and va1 respectively."
   ]
  },
  {
   "cell_type": "code",
   "execution_count": null,
   "metadata": {},
   "outputs": [],
   "source": [
    "v01,va1=genutil.grower(v0,va)"
   ]
  },
  {
   "cell_type": "markdown",
   "metadata": {},
   "source": [
    "## Calculate Final 3D Temperature Volume\n",
    "Subtract the volume bounds from each other to create the volume, v."
   ]
  },
  {
   "cell_type": "code",
   "execution_count": null,
   "metadata": {},
   "outputs": [],
   "source": [
    "v = v01 - va1"
   ]
  },
  {
   "cell_type": "markdown",
   "metadata": {},
   "source": [
    "## Create the 3D plot\n",
    "Note: when you run the following line, you can safely ignore the warning.\n",
    "You should see the 3D plot after the line runs."
   ]
  },
  {
   "cell_type": "code",
   "execution_count": null,
   "metadata": {},
   "outputs": [],
   "source": [
    "x.plot( v, dv3d )"
   ]
  },
  {
   "cell_type": "markdown",
   "metadata": {},
   "source": [
    "## Save a 2D image of the 3D plot\n",
    "The .png file will be in the same directory as this notebook, or the directory of the Python file if you ran the script direcly in a command line window."
   ]
  },
  {
   "cell_type": "code",
   "execution_count": null,
   "metadata": {},
   "outputs": [],
   "source": [
    "x.png('temp_anomaly.png')"
   ]
  }
 ],
 "metadata": {
  "kernelspec": {
   "display_name": "Python [conda env:cdat81-mesa] *",
   "language": "python",
   "name": "conda-env-cdat81-mesa-py"
  },
  "language_info": {
   "codemirror_mode": {
    "name": "ipython",
    "version": 3
   },
   "file_extension": ".py",
   "mimetype": "text/x-python",
   "name": "python",
   "nbconvert_exporter": "python",
   "pygments_lexer": "ipython3",
   "version": "3.6.7"
  },
  "toc": {
   "base_numbering": 1,
   "nav_menu": {},
   "number_sections": false,
   "sideBar": false,
   "skip_h1_title": true,
   "title_cell": "Table of Contents",
   "title_sidebar": "Contents",
   "toc_cell": true,
   "toc_position": {},
   "toc_section_display": true,
   "toc_window_display": false
  }
 },
 "nbformat": 4,
 "nbformat_minor": 2
}
