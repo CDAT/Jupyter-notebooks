{
 "cells": [
  {
   "cell_type": "markdown",
   "metadata": {},
   "source": [
    "# Mask a variable on pressure levels where data are below surface<a id='top' class=\"tocSkip\"> </a>\n",
    "\n",
    "This tutorial shows how to mask data\n",
    "\n",
    "In some case earth system model output are interpolated to som standard pressure levels, this can lead to data being generated bellow the ground\n",
    "\n",
    "This tutorial shows how to mask these erroneous data.  Data courtesy of Jerry Potter\n",
    "\n",
    "© The CDAT software was developed by LLNL. This tutorial was written by Charles Doutriaux. This work was performed under the auspices of the U.S. Department of Energy by Lawrence Livermore National Laboratory under Contract DE-AC52-07NA27344.\n",
    "\n",
    "[Download the Jupyter Notebook](Mask_variable_on_pressure_where_data_are_bellow_the_surface.ipynb)\n",
    "\n"
   ]
  },
  {
   "cell_type": "markdown",
   "metadata": {
    "toc": true
   },
   "source": [
    "<h1>Table of Contents<span class=\"tocSkip\"></span></h1>\n",
    "<div class=\"toc\"><ul class=\"toc-item\"><li><span><a href=\"#Prepare-Notebook\" data-toc-modified-id=\"Prepare-Notebook-1\">Prepare Notebook</a></span></li><li><span><a href=\"#Load-the-data\" data-toc-modified-id=\"Load-the-data-2\">Load the data</a></span></li><li><span><a href=\"#Regrid-surface-pressure-data-to-target-grid\" data-toc-modified-id=\"Regrid-surface-pressure-data-to-target-grid-3\">Regrid surface pressure data to target grid</a></span></li><li><span><a href=\"#Mask-Data-Below-Surface\" data-toc-modified-id=\"Mask-Data-Below-Surface-4\">Mask Data Below Surface</a></span></li><li><span><a href=\"#Plot-Data\" data-toc-modified-id=\"Plot-Data-5\">Plot Data</a></span></li></ul></div>"
   ]
  },
  {
   "cell_type": "markdown",
   "metadata": {},
   "source": [
    "## Prepare Notebook\n",
    "[Back to Top](#top)"
   ]
  },
  {
   "cell_type": "code",
   "execution_count": null,
   "metadata": {},
   "outputs": [],
   "source": [
    "from __future__ import print_function\n",
    "import cdms2\n",
    "import numpy\n",
    "import vcs\n",
    "import requests\n",
    "import os\n",
    "\n",
    "for filename in ['ps.nc','ta.nc']:\n",
    "    if not os.path.exists(filename):\n",
    "        r = requests.get(\"https://cdat.llnl.gov/cdat/sample_data/notebooks/{}\".format(filename), stream=True)\n",
    "        with open(filename,\"wb\") as f:\n",
    "            for chunk in r.iter_content(chunk_size=1024):\n",
    "                if chunk:  # filter local_filename keep-alive new chunks\n",
    "                    f.write(chunk)\n"
   ]
  },
  {
   "cell_type": "markdown",
   "metadata": {},
   "source": [
    "## Load the data\n",
    "[Back to Top](#top)"
   ]
  },
  {
   "cell_type": "code",
   "execution_count": null,
   "metadata": {},
   "outputs": [],
   "source": [
    "PS_file = cdms2.open(\"ps.nc\")\n",
    "TA_file = cdms2.open(\"ta.nc\")\n",
    "\n",
    "ps = PS_file(\"ps\")\n",
    "ta = TA_file(\"ta\")\n",
    "\n",
    "print(\"Shaped: ps {} and ta {}\".format(ps.shape,ta.shape))"
   ]
  },
  {
   "cell_type": "markdown",
   "metadata": {},
   "source": [
    "## Regrid surface pressure data to target grid\n",
    "[Back to Top](#top)"
   ]
  },
  {
   "cell_type": "code",
   "execution_count": null,
   "metadata": {},
   "outputs": [],
   "source": [
    "ps = ps.regrid(ta.getGrid())\n",
    "print(\"ps new shape:\",ps.shape)"
   ]
  },
  {
   "cell_type": "markdown",
   "metadata": {},
   "source": [
    "## Mask Data Below Surface\n",
    "[Back to Top](#top)"
   ]
  },
  {
   "cell_type": "code",
   "execution_count": null,
   "metadata": {},
   "outputs": [],
   "source": [
    "# Loop through levels and mask where pressure is less than ps\n",
    "\n",
    "levels = ta.getLevel()\n",
    "print(\"Levels are:\", levels[:])\n",
    "for i,level in enumerate(levels):\n",
    "    low = numpy.less(ps,level)\n",
    "    ta[:,i] = numpy.ma.masked_where(low,ta[:,i])"
   ]
  },
  {
   "cell_type": "markdown",
   "metadata": {},
   "source": [
    "## Plot Data\n",
    "[Back to Top](#top)"
   ]
  },
  {
   "cell_type": "code",
   "execution_count": null,
   "metadata": {},
   "outputs": [],
   "source": [
    "x = vcs.init(bg=True,geometry=(600,400))\n",
    "x.plot(ta[:,0])"
   ]
  }
 ],
 "metadata": {
  "kernelspec": {
   "display_name": "Python 2",
   "language": "python",
   "name": "python2"
  },
  "language_info": {
   "codemirror_mode": {
    "name": "ipython",
    "version": 2
   },
   "file_extension": ".py",
   "mimetype": "text/x-python",
   "name": "python",
   "nbconvert_exporter": "python",
   "pygments_lexer": "ipython2",
   "version": "2.7.15"
  },
  "toc": {
   "base_numbering": 1,
   "nav_menu": {},
   "number_sections": false,
   "sideBar": true,
   "skip_h1_title": false,
   "title_cell": "Table of Contents",
   "title_sidebar": "Contents",
   "toc_cell": true,
   "toc_position": {},
   "toc_section_display": true,
   "toc_window_display": false
  }
 },
 "nbformat": 4,
 "nbformat_minor": 2
}
